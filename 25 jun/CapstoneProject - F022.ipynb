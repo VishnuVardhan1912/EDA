{
 "cells": [
  {
   "cell_type": "code",
   "execution_count": 1,
   "id": "10a68925",
   "metadata": {},
   "outputs": [],
   "source": [
    "# Importing the libraries \n",
    "import pandas as pd \n",
    "import numpy as np \n",
    "import matplotlib.pyplot as plt \n",
    "\n",
    "# Ignore harmless warnings \n",
    "import warnings \n",
    "warnings.filterwarnings(\"ignore\") \n",
    "\n",
    "import pandasql as psql"
   ]
  },
  {
   "cell_type": "code",
   "execution_count": 2,
   "id": "8c737a59",
   "metadata": {},
   "outputs": [
    {
     "data": {
      "text/html": [
       "<div>\n",
       "<style scoped>\n",
       "    .dataframe tbody tr th:only-of-type {\n",
       "        vertical-align: middle;\n",
       "    }\n",
       "\n",
       "    .dataframe tbody tr th {\n",
       "        vertical-align: top;\n",
       "    }\n",
       "\n",
       "    .dataframe thead th {\n",
       "        text-align: right;\n",
       "    }\n",
       "</style>\n",
       "<table border=\"1\" class=\"dataframe\">\n",
       "  <thead>\n",
       "    <tr style=\"text-align: right;\">\n",
       "      <th></th>\n",
       "      <th>Quote_Num</th>\n",
       "      <th>Agent_Type</th>\n",
       "      <th>Q_Creation_DT</th>\n",
       "      <th>Q_Valid_DT</th>\n",
       "      <th>Policy_Bind_DT</th>\n",
       "      <th>Region</th>\n",
       "      <th>Agent_Num</th>\n",
       "      <th>Policy_Type</th>\n",
       "      <th>HH_Vehicles</th>\n",
       "      <th>HH_Drivers</th>\n",
       "      <th>...</th>\n",
       "      <th>Sal_Range1</th>\n",
       "      <th>Sal_Range2</th>\n",
       "      <th>Coverage</th>\n",
       "      <th>Veh_Usage</th>\n",
       "      <th>Annual_Miles_Range</th>\n",
       "      <th>Vehicl_Cost_Range1</th>\n",
       "      <th>Vehicl_Cost_Range2</th>\n",
       "      <th>Re_Quote</th>\n",
       "      <th>Quoted_Premium</th>\n",
       "      <th>Policy_Bind</th>\n",
       "    </tr>\n",
       "  </thead>\n",
       "  <tbody>\n",
       "    <tr>\n",
       "      <th>0</th>\n",
       "      <td>AQ-C-139212</td>\n",
       "      <td>EA</td>\n",
       "      <td>2020/04/25</td>\n",
       "      <td>2020/06/23</td>\n",
       "      <td>2020/05/23</td>\n",
       "      <td>C</td>\n",
       "      <td>2156</td>\n",
       "      <td>Car</td>\n",
       "      <td>3</td>\n",
       "      <td>3</td>\n",
       "      <td>...</td>\n",
       "      <td>&gt; $ 25 K &lt;= $ 40 K</td>\n",
       "      <td>&gt;  25 K &lt;=  40 K</td>\n",
       "      <td>Balanced</td>\n",
       "      <td>Commute</td>\n",
       "      <td>&gt; 55 K</td>\n",
       "      <td>&gt; $ 10 K &lt;= $ 20 K</td>\n",
       "      <td>&gt;  10 K &lt;=  20 K</td>\n",
       "      <td>No</td>\n",
       "      <td>693.86</td>\n",
       "      <td>Yes</td>\n",
       "    </tr>\n",
       "    <tr>\n",
       "      <th>1</th>\n",
       "      <td>AQ-F-136117</td>\n",
       "      <td>EA</td>\n",
       "      <td>2020/02/21</td>\n",
       "      <td>2020/04/20</td>\n",
       "      <td>NaN</td>\n",
       "      <td>F</td>\n",
       "      <td>2153</td>\n",
       "      <td>Van</td>\n",
       "      <td>2</td>\n",
       "      <td>2</td>\n",
       "      <td>...</td>\n",
       "      <td>&gt; $ 40 K &lt;= $ 60 K</td>\n",
       "      <td>&gt;  40 K &lt;=  60 K</td>\n",
       "      <td>Balanced</td>\n",
       "      <td>Pleasure</td>\n",
       "      <td>&gt; 7.5 K &amp; &lt;= 15 K</td>\n",
       "      <td>&lt;= $ 10 K</td>\n",
       "      <td>&lt;=  10 K</td>\n",
       "      <td>No</td>\n",
       "      <td>635.96</td>\n",
       "      <td>No</td>\n",
       "    </tr>\n",
       "    <tr>\n",
       "      <th>2</th>\n",
       "      <td>AQ-F-126801</td>\n",
       "      <td>EA</td>\n",
       "      <td>2020/06/19</td>\n",
       "      <td>2020/08/17</td>\n",
       "      <td>2020/07/12</td>\n",
       "      <td>F</td>\n",
       "      <td>2056</td>\n",
       "      <td>Truck</td>\n",
       "      <td>2</td>\n",
       "      <td>1</td>\n",
       "      <td>...</td>\n",
       "      <td>&gt; $ 40 K &lt;= $ 60 K</td>\n",
       "      <td>&gt;  40 K &lt;=  60 K</td>\n",
       "      <td>Basic</td>\n",
       "      <td>Commute</td>\n",
       "      <td>&gt; 35 K &amp; &lt;= 45 K</td>\n",
       "      <td>&gt; $ 10 K &lt;= $ 20 K</td>\n",
       "      <td>&gt;  10 K &lt;=  20 K</td>\n",
       "      <td>No</td>\n",
       "      <td>780.64</td>\n",
       "      <td>Yes</td>\n",
       "    </tr>\n",
       "    <tr>\n",
       "      <th>3</th>\n",
       "      <td>AQ-E-143467</td>\n",
       "      <td>EA</td>\n",
       "      <td>2020/05/02</td>\n",
       "      <td>2020/06/30</td>\n",
       "      <td>2020/05/24</td>\n",
       "      <td>E</td>\n",
       "      <td>2138</td>\n",
       "      <td>Car</td>\n",
       "      <td>1</td>\n",
       "      <td>2</td>\n",
       "      <td>...</td>\n",
       "      <td>&gt; $ 90 K</td>\n",
       "      <td>&gt;  90 K</td>\n",
       "      <td>Basic</td>\n",
       "      <td>Pleasure</td>\n",
       "      <td>&lt;= 7.5 K</td>\n",
       "      <td>&lt;= $ 10 K</td>\n",
       "      <td>&lt;=  10 K</td>\n",
       "      <td>No</td>\n",
       "      <td>723.15</td>\n",
       "      <td>Yes</td>\n",
       "    </tr>\n",
       "    <tr>\n",
       "      <th>4</th>\n",
       "      <td>AQ-C-143827</td>\n",
       "      <td>EA</td>\n",
       "      <td>2020/02/12</td>\n",
       "      <td>2020/04/11</td>\n",
       "      <td>2020/02/25</td>\n",
       "      <td>C</td>\n",
       "      <td>2327</td>\n",
       "      <td>Truck</td>\n",
       "      <td>3</td>\n",
       "      <td>1</td>\n",
       "      <td>...</td>\n",
       "      <td>&lt;= $ 25 K</td>\n",
       "      <td>&lt;=  25 K</td>\n",
       "      <td>Basic</td>\n",
       "      <td>Pleasure</td>\n",
       "      <td>&gt; 35 K &amp; &lt;= 45 K</td>\n",
       "      <td>&lt;= $ 10 K</td>\n",
       "      <td>&lt;=  10 K</td>\n",
       "      <td>No</td>\n",
       "      <td>738.14</td>\n",
       "      <td>Yes</td>\n",
       "    </tr>\n",
       "  </tbody>\n",
       "</table>\n",
       "<p>5 rows × 27 columns</p>\n",
       "</div>"
      ],
      "text/plain": [
       "     Quote_Num Agent_Type Q_Creation_DT  Q_Valid_DT Policy_Bind_DT Region  \\\n",
       "0  AQ-C-139212         EA    2020/04/25  2020/06/23     2020/05/23      C   \n",
       "1  AQ-F-136117         EA    2020/02/21  2020/04/20            NaN      F   \n",
       "2  AQ-F-126801         EA    2020/06/19  2020/08/17     2020/07/12      F   \n",
       "3  AQ-E-143467         EA    2020/05/02  2020/06/30     2020/05/24      E   \n",
       "4  AQ-C-143827         EA    2020/02/12  2020/04/11     2020/02/25      C   \n",
       "\n",
       "   Agent_Num Policy_Type  HH_Vehicles  HH_Drivers  ...          Sal_Range1  \\\n",
       "0       2156         Car            3           3  ...  > $ 25 K <= $ 40 K   \n",
       "1       2153         Van            2           2  ...  > $ 40 K <= $ 60 K   \n",
       "2       2056       Truck            2           1  ...  > $ 40 K <= $ 60 K   \n",
       "3       2138         Car            1           2  ...           > $ 90 K    \n",
       "4       2327       Truck            3           1  ...           <= $ 25 K   \n",
       "\n",
       "         Sal_Range2  Coverage  Veh_Usage Annual_Miles_Range  \\\n",
       "0  >  25 K <=  40 K  Balanced    Commute             > 55 K   \n",
       "1  >  40 K <=  60 K  Balanced   Pleasure  > 7.5 K & <= 15 K   \n",
       "2  >  40 K <=  60 K     Basic    Commute   > 35 K & <= 45 K   \n",
       "3          >  90 K      Basic   Pleasure           <= 7.5 K   \n",
       "4          <=  25 K     Basic   Pleasure   > 35 K & <= 45 K   \n",
       "\n",
       "   Vehicl_Cost_Range1 Vehicl_Cost_Range2 Re_Quote Quoted_Premium Policy_Bind  \n",
       "0  > $ 10 K <= $ 20 K   >  10 K <=  20 K       No         693.86         Yes  \n",
       "1           <= $ 10 K           <=  10 K       No         635.96          No  \n",
       "2  > $ 10 K <= $ 20 K   >  10 K <=  20 K       No         780.64         Yes  \n",
       "3           <= $ 10 K           <=  10 K       No         723.15         Yes  \n",
       "4           <= $ 10 K           <=  10 K       No         738.14         Yes  \n",
       "\n",
       "[5 rows x 27 columns]"
      ]
     },
     "execution_count": 2,
     "metadata": {},
     "output_type": "execute_result"
    }
   ],
   "source": [
    "AutoIns = pd.read_csv(r\"D:\\iiit notes\\Internship\\31 season 25th jun-2021\\Auto_Quote_Data_V2.0.csv\", header= 0)\n",
    "AutoIns.head()"
   ]
  },
  {
   "cell_type": "code",
   "execution_count": 3,
   "id": "6bac7e22",
   "metadata": {},
   "outputs": [
    {
     "data": {
      "text/html": [
       "<div>\n",
       "<style scoped>\n",
       "    .dataframe tbody tr th:only-of-type {\n",
       "        vertical-align: middle;\n",
       "    }\n",
       "\n",
       "    .dataframe tbody tr th {\n",
       "        vertical-align: top;\n",
       "    }\n",
       "\n",
       "    .dataframe thead th {\n",
       "        text-align: right;\n",
       "    }\n",
       "</style>\n",
       "<table border=\"1\" class=\"dataframe\">\n",
       "  <thead>\n",
       "    <tr style=\"text-align: right;\">\n",
       "      <th></th>\n",
       "      <th>Quote_Num</th>\n",
       "      <th>Agent_Type</th>\n",
       "      <th>Q_Creation_DT</th>\n",
       "      <th>Q_Valid_DT</th>\n",
       "      <th>Policy_Bind_DT</th>\n",
       "      <th>Region</th>\n",
       "      <th>Agent_Num</th>\n",
       "      <th>Policy_Type</th>\n",
       "      <th>HH_Vehicles</th>\n",
       "      <th>HH_Drivers</th>\n",
       "      <th>...</th>\n",
       "      <th>Marital_Status</th>\n",
       "      <th>Education</th>\n",
       "      <th>Sal_Range2</th>\n",
       "      <th>Coverage</th>\n",
       "      <th>Veh_Usage</th>\n",
       "      <th>Annual_Miles_Range</th>\n",
       "      <th>Vehicl_Cost_Range2</th>\n",
       "      <th>Re_Quote</th>\n",
       "      <th>Quoted_Premium</th>\n",
       "      <th>Policy_Bind</th>\n",
       "    </tr>\n",
       "  </thead>\n",
       "  <tbody>\n",
       "    <tr>\n",
       "      <th>0</th>\n",
       "      <td>AQ-C-139212</td>\n",
       "      <td>EA</td>\n",
       "      <td>2020/04/25</td>\n",
       "      <td>2020/06/23</td>\n",
       "      <td>2020/05/23</td>\n",
       "      <td>C</td>\n",
       "      <td>2156</td>\n",
       "      <td>Car</td>\n",
       "      <td>3</td>\n",
       "      <td>3</td>\n",
       "      <td>...</td>\n",
       "      <td>Widow</td>\n",
       "      <td>High School</td>\n",
       "      <td>&gt;  25 K &lt;=  40 K</td>\n",
       "      <td>Balanced</td>\n",
       "      <td>Commute</td>\n",
       "      <td>&gt; 55 K</td>\n",
       "      <td>&gt;  10 K &lt;=  20 K</td>\n",
       "      <td>No</td>\n",
       "      <td>693.86</td>\n",
       "      <td>Yes</td>\n",
       "    </tr>\n",
       "    <tr>\n",
       "      <th>1</th>\n",
       "      <td>AQ-F-136117</td>\n",
       "      <td>EA</td>\n",
       "      <td>2020/02/21</td>\n",
       "      <td>2020/04/20</td>\n",
       "      <td>NaN</td>\n",
       "      <td>F</td>\n",
       "      <td>2153</td>\n",
       "      <td>Van</td>\n",
       "      <td>2</td>\n",
       "      <td>2</td>\n",
       "      <td>...</td>\n",
       "      <td>Dirvorced</td>\n",
       "      <td>Ph.D</td>\n",
       "      <td>&gt;  40 K &lt;=  60 K</td>\n",
       "      <td>Balanced</td>\n",
       "      <td>Pleasure</td>\n",
       "      <td>&gt; 7.5 K &amp; &lt;= 15 K</td>\n",
       "      <td>&lt;=  10 K</td>\n",
       "      <td>No</td>\n",
       "      <td>635.96</td>\n",
       "      <td>No</td>\n",
       "    </tr>\n",
       "    <tr>\n",
       "      <th>2</th>\n",
       "      <td>AQ-F-126801</td>\n",
       "      <td>EA</td>\n",
       "      <td>2020/06/19</td>\n",
       "      <td>2020/08/17</td>\n",
       "      <td>2020/07/12</td>\n",
       "      <td>F</td>\n",
       "      <td>2056</td>\n",
       "      <td>Truck</td>\n",
       "      <td>2</td>\n",
       "      <td>1</td>\n",
       "      <td>...</td>\n",
       "      <td>Dirvorced</td>\n",
       "      <td>Ph.D</td>\n",
       "      <td>&gt;  40 K &lt;=  60 K</td>\n",
       "      <td>Basic</td>\n",
       "      <td>Commute</td>\n",
       "      <td>&gt; 35 K &amp; &lt;= 45 K</td>\n",
       "      <td>&gt;  10 K &lt;=  20 K</td>\n",
       "      <td>No</td>\n",
       "      <td>780.64</td>\n",
       "      <td>Yes</td>\n",
       "    </tr>\n",
       "    <tr>\n",
       "      <th>3</th>\n",
       "      <td>AQ-E-143467</td>\n",
       "      <td>EA</td>\n",
       "      <td>2020/05/02</td>\n",
       "      <td>2020/06/30</td>\n",
       "      <td>2020/05/24</td>\n",
       "      <td>E</td>\n",
       "      <td>2138</td>\n",
       "      <td>Car</td>\n",
       "      <td>1</td>\n",
       "      <td>2</td>\n",
       "      <td>...</td>\n",
       "      <td>Married</td>\n",
       "      <td>Ph.D</td>\n",
       "      <td>&gt;  90 K</td>\n",
       "      <td>Basic</td>\n",
       "      <td>Pleasure</td>\n",
       "      <td>&lt;= 7.5 K</td>\n",
       "      <td>&lt;=  10 K</td>\n",
       "      <td>No</td>\n",
       "      <td>723.15</td>\n",
       "      <td>Yes</td>\n",
       "    </tr>\n",
       "    <tr>\n",
       "      <th>4</th>\n",
       "      <td>AQ-C-143827</td>\n",
       "      <td>EA</td>\n",
       "      <td>2020/02/12</td>\n",
       "      <td>2020/04/11</td>\n",
       "      <td>2020/02/25</td>\n",
       "      <td>C</td>\n",
       "      <td>2327</td>\n",
       "      <td>Truck</td>\n",
       "      <td>3</td>\n",
       "      <td>1</td>\n",
       "      <td>...</td>\n",
       "      <td>Widow</td>\n",
       "      <td>High School</td>\n",
       "      <td>&lt;=  25 K</td>\n",
       "      <td>Basic</td>\n",
       "      <td>Pleasure</td>\n",
       "      <td>&gt; 35 K &amp; &lt;= 45 K</td>\n",
       "      <td>&lt;=  10 K</td>\n",
       "      <td>No</td>\n",
       "      <td>738.14</td>\n",
       "      <td>Yes</td>\n",
       "    </tr>\n",
       "  </tbody>\n",
       "</table>\n",
       "<p>5 rows × 25 columns</p>\n",
       "</div>"
      ],
      "text/plain": [
       "     Quote_Num Agent_Type Q_Creation_DT  Q_Valid_DT Policy_Bind_DT Region  \\\n",
       "0  AQ-C-139212         EA    2020/04/25  2020/06/23     2020/05/23      C   \n",
       "1  AQ-F-136117         EA    2020/02/21  2020/04/20            NaN      F   \n",
       "2  AQ-F-126801         EA    2020/06/19  2020/08/17     2020/07/12      F   \n",
       "3  AQ-E-143467         EA    2020/05/02  2020/06/30     2020/05/24      E   \n",
       "4  AQ-C-143827         EA    2020/02/12  2020/04/11     2020/02/25      C   \n",
       "\n",
       "   Agent_Num Policy_Type  HH_Vehicles  HH_Drivers  ...  Marital_Status  \\\n",
       "0       2156         Car            3           3  ...           Widow   \n",
       "1       2153         Van            2           2  ...       Dirvorced   \n",
       "2       2056       Truck            2           1  ...       Dirvorced   \n",
       "3       2138         Car            1           2  ...         Married   \n",
       "4       2327       Truck            3           1  ...           Widow   \n",
       "\n",
       "     Education        Sal_Range2  Coverage Veh_Usage Annual_Miles_Range  \\\n",
       "0  High School  >  25 K <=  40 K  Balanced   Commute             > 55 K   \n",
       "1         Ph.D  >  40 K <=  60 K  Balanced  Pleasure  > 7.5 K & <= 15 K   \n",
       "2         Ph.D  >  40 K <=  60 K     Basic   Commute   > 35 K & <= 45 K   \n",
       "3         Ph.D          >  90 K      Basic  Pleasure           <= 7.5 K   \n",
       "4  High School          <=  25 K     Basic  Pleasure   > 35 K & <= 45 K   \n",
       "\n",
       "  Vehicl_Cost_Range2 Re_Quote Quoted_Premium Policy_Bind  \n",
       "0   >  10 K <=  20 K       No         693.86         Yes  \n",
       "1           <=  10 K       No         635.96          No  \n",
       "2   >  10 K <=  20 K       No         780.64         Yes  \n",
       "3           <=  10 K       No         723.15         Yes  \n",
       "4           <=  10 K       No         738.14         Yes  \n",
       "\n",
       "[5 rows x 25 columns]"
      ]
     },
     "execution_count": 3,
     "metadata": {},
     "output_type": "execute_result"
    }
   ],
   "source": [
    "del AutoIns['Sal_Range1']\n",
    "del AutoIns['Vehicl_Cost_Range1']\n",
    "AutoIns.head()"
   ]
  },
  {
   "cell_type": "code",
   "execution_count": 4,
   "id": "ec785e83",
   "metadata": {},
   "outputs": [],
   "source": [
    "# Convert the target variable data type into interger \n",
    "AutoIns['Policy_Bind'] = AutoIns['Policy_Bind'].str.replace('Yes', '1') \n",
    "AutoIns['Policy_Bind'] = AutoIns['Policy_Bind'].str.replace('No', '0') \n",
    "AutoIns['Policy_Bind'] = AutoIns['Policy_Bind'].astype(int)"
   ]
  },
  {
   "cell_type": "code",
   "execution_count": 5,
   "id": "45823a1f",
   "metadata": {},
   "outputs": [
    {
     "name": "stdout",
     "output_type": "stream",
     "text": [
      "Class 0: 113757\n",
      "Class 1: 32502\n",
      "Proportion: 3.5 : 1\n",
      "Total Records: 146259\n"
     ]
    }
   ],
   "source": [
    "# Count the target or dependent variable by '0' & '1' and\n",
    "# their proportion (> 10 : 1, then the dataset is imbalance dataset)\n",
    "\n",
    "Policy_Bind_count = AutoIns.Policy_Bind.value_counts()\n",
    "print('Class 0:', Policy_Bind_count[0])\n",
    "print('Class 1:', Policy_Bind_count[1])\n",
    "print('Proportion:', round(Policy_Bind_count[0] / Policy_Bind_count[1], 2), ': 1')\n",
    "print('Total Records:', len(AutoIns))"
   ]
  },
  {
   "cell_type": "code",
   "execution_count": 6,
   "id": "9625352b",
   "metadata": {},
   "outputs": [
    {
     "name": "stdout",
     "output_type": "stream",
     "text": [
      "<class 'pandas.core.frame.DataFrame'>\n",
      "RangeIndex: 146259 entries, 0 to 146258\n",
      "Data columns (total 25 columns):\n",
      " #   Column              Non-Null Count   Dtype  \n",
      "---  ------              --------------   -----  \n",
      " 0   Quote_Num           146259 non-null  object \n",
      " 1   Agent_Type          146259 non-null  object \n",
      " 2   Q_Creation_DT       146259 non-null  object \n",
      " 3   Q_Valid_DT          146259 non-null  object \n",
      " 4   Policy_Bind_DT      32502 non-null   object \n",
      " 5   Region              146259 non-null  object \n",
      " 6   Agent_Num           146259 non-null  int64  \n",
      " 7   Policy_Type         146259 non-null  object \n",
      " 8   HH_Vehicles         146259 non-null  int64  \n",
      " 9   HH_Drivers          146259 non-null  int64  \n",
      " 10  Driver_Age          146259 non-null  int64  \n",
      " 11  Driving_Exp         146259 non-null  int64  \n",
      " 12  Prev_Accidents      146259 non-null  int64  \n",
      " 13  Prev_Citations      146259 non-null  int64  \n",
      " 14  Gender              146259 non-null  object \n",
      " 15  Marital_Status      146259 non-null  object \n",
      " 16  Education           146259 non-null  object \n",
      " 17  Sal_Range2          146259 non-null  object \n",
      " 18  Coverage            146259 non-null  object \n",
      " 19  Veh_Usage           146259 non-null  object \n",
      " 20  Annual_Miles_Range  146259 non-null  object \n",
      " 21  Vehicl_Cost_Range2  146259 non-null  object \n",
      " 22  Re_Quote            146259 non-null  object \n",
      " 23  Quoted_Premium      146259 non-null  float64\n",
      " 24  Policy_Bind         146259 non-null  int32  \n",
      "dtypes: float64(1), int32(1), int64(7), object(16)\n",
      "memory usage: 27.3+ MB\n"
     ]
    }
   ],
   "source": [
    "AutoIns.info()"
   ]
  },
  {
   "cell_type": "code",
   "execution_count": 7,
   "id": "022dfb5e",
   "metadata": {},
   "outputs": [
    {
     "data": {
      "text/html": [
       "<div>\n",
       "<style scoped>\n",
       "    .dataframe tbody tr th:only-of-type {\n",
       "        vertical-align: middle;\n",
       "    }\n",
       "\n",
       "    .dataframe tbody tr th {\n",
       "        vertical-align: top;\n",
       "    }\n",
       "\n",
       "    .dataframe thead th {\n",
       "        text-align: right;\n",
       "    }\n",
       "</style>\n",
       "<table border=\"1\" class=\"dataframe\">\n",
       "  <thead>\n",
       "    <tr style=\"text-align: right;\">\n",
       "      <th></th>\n",
       "      <th>Agent_Type</th>\n",
       "      <th>Region</th>\n",
       "      <th>Policy_Type</th>\n",
       "      <th>HH_Vehicles</th>\n",
       "      <th>HH_Drivers</th>\n",
       "      <th>Driver_Age</th>\n",
       "      <th>Driving_Exp</th>\n",
       "      <th>Prev_Accidents</th>\n",
       "      <th>Prev_Citations</th>\n",
       "      <th>Gender</th>\n",
       "      <th>Marital_Status</th>\n",
       "      <th>Education</th>\n",
       "      <th>Sal_Range2</th>\n",
       "      <th>Coverage</th>\n",
       "      <th>Veh_Usage</th>\n",
       "      <th>Annual_Miles_Range</th>\n",
       "      <th>Vehicl_Cost_Range2</th>\n",
       "      <th>Re_Quote</th>\n",
       "      <th>Quoted_Premium</th>\n",
       "      <th>Policy_Bind</th>\n",
       "    </tr>\n",
       "  </thead>\n",
       "  <tbody>\n",
       "    <tr>\n",
       "      <th>0</th>\n",
       "      <td>EA</td>\n",
       "      <td>C</td>\n",
       "      <td>Car</td>\n",
       "      <td>3</td>\n",
       "      <td>3</td>\n",
       "      <td>43</td>\n",
       "      <td>26</td>\n",
       "      <td>0</td>\n",
       "      <td>0</td>\n",
       "      <td>Female</td>\n",
       "      <td>Widow</td>\n",
       "      <td>High School</td>\n",
       "      <td>&gt;  25 K &lt;=  40 K</td>\n",
       "      <td>Balanced</td>\n",
       "      <td>Commute</td>\n",
       "      <td>&gt; 55 K</td>\n",
       "      <td>&gt;  10 K &lt;=  20 K</td>\n",
       "      <td>No</td>\n",
       "      <td>693.86</td>\n",
       "      <td>1</td>\n",
       "    </tr>\n",
       "    <tr>\n",
       "      <th>1</th>\n",
       "      <td>EA</td>\n",
       "      <td>F</td>\n",
       "      <td>Van</td>\n",
       "      <td>2</td>\n",
       "      <td>2</td>\n",
       "      <td>30</td>\n",
       "      <td>13</td>\n",
       "      <td>0</td>\n",
       "      <td>0</td>\n",
       "      <td>Female</td>\n",
       "      <td>Dirvorced</td>\n",
       "      <td>Ph.D</td>\n",
       "      <td>&gt;  40 K &lt;=  60 K</td>\n",
       "      <td>Balanced</td>\n",
       "      <td>Pleasure</td>\n",
       "      <td>&gt; 7.5 K &amp; &lt;= 15 K</td>\n",
       "      <td>&lt;=  10 K</td>\n",
       "      <td>No</td>\n",
       "      <td>635.96</td>\n",
       "      <td>0</td>\n",
       "    </tr>\n",
       "    <tr>\n",
       "      <th>2</th>\n",
       "      <td>EA</td>\n",
       "      <td>F</td>\n",
       "      <td>Truck</td>\n",
       "      <td>2</td>\n",
       "      <td>1</td>\n",
       "      <td>25</td>\n",
       "      <td>8</td>\n",
       "      <td>0</td>\n",
       "      <td>0</td>\n",
       "      <td>Female</td>\n",
       "      <td>Dirvorced</td>\n",
       "      <td>Ph.D</td>\n",
       "      <td>&gt;  40 K &lt;=  60 K</td>\n",
       "      <td>Basic</td>\n",
       "      <td>Commute</td>\n",
       "      <td>&gt; 35 K &amp; &lt;= 45 K</td>\n",
       "      <td>&gt;  10 K &lt;=  20 K</td>\n",
       "      <td>No</td>\n",
       "      <td>780.64</td>\n",
       "      <td>1</td>\n",
       "    </tr>\n",
       "    <tr>\n",
       "      <th>3</th>\n",
       "      <td>EA</td>\n",
       "      <td>E</td>\n",
       "      <td>Car</td>\n",
       "      <td>1</td>\n",
       "      <td>2</td>\n",
       "      <td>43</td>\n",
       "      <td>26</td>\n",
       "      <td>0</td>\n",
       "      <td>0</td>\n",
       "      <td>Female</td>\n",
       "      <td>Married</td>\n",
       "      <td>Ph.D</td>\n",
       "      <td>&gt;  90 K</td>\n",
       "      <td>Basic</td>\n",
       "      <td>Pleasure</td>\n",
       "      <td>&lt;= 7.5 K</td>\n",
       "      <td>&lt;=  10 K</td>\n",
       "      <td>No</td>\n",
       "      <td>723.15</td>\n",
       "      <td>1</td>\n",
       "    </tr>\n",
       "    <tr>\n",
       "      <th>4</th>\n",
       "      <td>EA</td>\n",
       "      <td>C</td>\n",
       "      <td>Truck</td>\n",
       "      <td>3</td>\n",
       "      <td>1</td>\n",
       "      <td>40</td>\n",
       "      <td>23</td>\n",
       "      <td>0</td>\n",
       "      <td>0</td>\n",
       "      <td>Female</td>\n",
       "      <td>Widow</td>\n",
       "      <td>High School</td>\n",
       "      <td>&lt;=  25 K</td>\n",
       "      <td>Basic</td>\n",
       "      <td>Pleasure</td>\n",
       "      <td>&gt; 35 K &amp; &lt;= 45 K</td>\n",
       "      <td>&lt;=  10 K</td>\n",
       "      <td>No</td>\n",
       "      <td>738.14</td>\n",
       "      <td>1</td>\n",
       "    </tr>\n",
       "  </tbody>\n",
       "</table>\n",
       "</div>"
      ],
      "text/plain": [
       "  Agent_Type Region Policy_Type  HH_Vehicles  HH_Drivers  Driver_Age  \\\n",
       "0         EA      C         Car            3           3          43   \n",
       "1         EA      F         Van            2           2          30   \n",
       "2         EA      F       Truck            2           1          25   \n",
       "3         EA      E         Car            1           2          43   \n",
       "4         EA      C       Truck            3           1          40   \n",
       "\n",
       "   Driving_Exp  Prev_Accidents  Prev_Citations  Gender Marital_Status  \\\n",
       "0           26               0               0  Female          Widow   \n",
       "1           13               0               0  Female      Dirvorced   \n",
       "2            8               0               0  Female      Dirvorced   \n",
       "3           26               0               0  Female        Married   \n",
       "4           23               0               0  Female          Widow   \n",
       "\n",
       "     Education        Sal_Range2  Coverage Veh_Usage Annual_Miles_Range  \\\n",
       "0  High School  >  25 K <=  40 K  Balanced   Commute             > 55 K   \n",
       "1         Ph.D  >  40 K <=  60 K  Balanced  Pleasure  > 7.5 K & <= 15 K   \n",
       "2         Ph.D  >  40 K <=  60 K     Basic   Commute   > 35 K & <= 45 K   \n",
       "3         Ph.D          >  90 K      Basic  Pleasure           <= 7.5 K   \n",
       "4  High School          <=  25 K     Basic  Pleasure   > 35 K & <= 45 K   \n",
       "\n",
       "  Vehicl_Cost_Range2 Re_Quote  Quoted_Premium  Policy_Bind  \n",
       "0   >  10 K <=  20 K       No          693.86            1  \n",
       "1           <=  10 K       No          635.96            0  \n",
       "2   >  10 K <=  20 K       No          780.64            1  \n",
       "3           <=  10 K       No          723.15            1  \n",
       "4           <=  10 K       No          738.14            1  "
      ]
     },
     "execution_count": 7,
     "metadata": {},
     "output_type": "execute_result"
    }
   ],
   "source": [
    "AutoIns = AutoIns.drop(['Quote_Num', 'Q_Creation_DT', 'Q_Valid_DT', 'Policy_Bind_DT', 'Agent_Num'], axis=1)\n",
    "AutoIns.head()"
   ]
  },
  {
   "cell_type": "code",
   "execution_count": 8,
   "id": "57f45111",
   "metadata": {},
   "outputs": [
    {
     "data": {
      "text/plain": [
       "EA    104004\n",
       "IA     42255\n",
       "Name: Agent_Type, dtype: int64"
      ]
     },
     "execution_count": 8,
     "metadata": {},
     "output_type": "execute_result"
    }
   ],
   "source": [
    "AutoIns['Agent_Type'].value_counts(sort=False)"
   ]
  },
  {
   "cell_type": "code",
   "execution_count": 9,
   "id": "39024cbd",
   "metadata": {},
   "outputs": [],
   "source": [
    "\n",
    "AutoIns['Agent_Type'] = AutoIns['Agent_Type'].str.replace('IA', '1') \n",
    "AutoIns['Agent_Type'] = AutoIns['Agent_Type'].str.replace('EA', '2') \n",
    "AutoIns['Agent_Type'] = AutoIns['Agent_Type'].astype(int)"
   ]
  },
  {
   "cell_type": "code",
   "execution_count": 10,
   "id": "32a22988",
   "metadata": {},
   "outputs": [
    {
     "data": {
      "text/plain": [
       "1     42255\n",
       "2    104004\n",
       "Name: Agent_Type, dtype: int64"
      ]
     },
     "execution_count": 10,
     "metadata": {},
     "output_type": "execute_result"
    }
   ],
   "source": [
    "AutoIns['Agent_Type'].value_counts(sort=False)"
   ]
  },
  {
   "cell_type": "code",
   "execution_count": 11,
   "id": "09662e9b",
   "metadata": {},
   "outputs": [
    {
     "data": {
      "text/plain": [
       "C    18137\n",
       "G    18073\n",
       "F    18320\n",
       "E    18324\n",
       "H    18474\n",
       "B    18213\n",
       "A    18329\n",
       "D    18389\n",
       "Name: Region, dtype: int64"
      ]
     },
     "execution_count": 11,
     "metadata": {},
     "output_type": "execute_result"
    }
   ],
   "source": [
    "AutoIns['Region'].value_counts(sort=False)"
   ]
  },
  {
   "cell_type": "code",
   "execution_count": 12,
   "id": "7565cc80",
   "metadata": {},
   "outputs": [],
   "source": [
    "\n",
    "AutoIns['Region'] = AutoIns['Region'].str.replace('A', '1') \n",
    "AutoIns['Region'] = AutoIns['Region'].str.replace('B', '2')\n",
    "AutoIns['Region'] = AutoIns['Region'].str.replace('C', '3') \n",
    "AutoIns['Region'] = AutoIns['Region'].str.replace('D', '4') \n",
    "AutoIns['Region'] = AutoIns['Region'].str.replace('E', '5') \n",
    "AutoIns['Region'] = AutoIns['Region'].str.replace('F', '6') \n",
    "AutoIns['Region'] = AutoIns['Region'].str.replace('G', '7') \n",
    "AutoIns['Region'] = AutoIns['Region'].str.replace('H', '8') \n",
    "AutoIns['Region'] = AutoIns['Region'].astype(int)"
   ]
  },
  {
   "cell_type": "code",
   "execution_count": 13,
   "id": "c481d4ff",
   "metadata": {},
   "outputs": [
    {
     "data": {
      "text/plain": [
       "1    18329\n",
       "2    18213\n",
       "3    18137\n",
       "4    18389\n",
       "5    18324\n",
       "6    18320\n",
       "7    18073\n",
       "8    18474\n",
       "Name: Region, dtype: int64"
      ]
     },
     "execution_count": 13,
     "metadata": {},
     "output_type": "execute_result"
    }
   ],
   "source": [
    "AutoIns['Region'].value_counts(sort=False)"
   ]
  },
  {
   "cell_type": "code",
   "execution_count": 14,
   "id": "b9154ec2",
   "metadata": {},
   "outputs": [
    {
     "data": {
      "text/plain": [
       "Car      48648\n",
       "Truck    48702\n",
       "Van      48909\n",
       "Name: Policy_Type, dtype: int64"
      ]
     },
     "execution_count": 14,
     "metadata": {},
     "output_type": "execute_result"
    }
   ],
   "source": [
    "AutoIns['Policy_Type'].value_counts(sort=False)"
   ]
  },
  {
   "cell_type": "code",
   "execution_count": 15,
   "id": "31cf3723",
   "metadata": {},
   "outputs": [],
   "source": [
    "AutoIns['Policy_Type'] = AutoIns['Policy_Type'].str.replace('Car', '1') \n",
    "AutoIns['Policy_Type'] = AutoIns['Policy_Type'].str.replace('Van', '2') \n",
    "AutoIns['Policy_Type'] = AutoIns['Policy_Type'].str.replace('Truck', '3') \n",
    "AutoIns['Policy_Type'] = AutoIns['Policy_Type'].astype(int)"
   ]
  },
  {
   "cell_type": "code",
   "execution_count": 16,
   "id": "45b115a9",
   "metadata": {},
   "outputs": [
    {
     "data": {
      "text/plain": [
       "1    48648\n",
       "2    48909\n",
       "3    48702\n",
       "Name: Policy_Type, dtype: int64"
      ]
     },
     "execution_count": 16,
     "metadata": {},
     "output_type": "execute_result"
    }
   ],
   "source": [
    "AutoIns['Policy_Type'].value_counts(sort=False)"
   ]
  },
  {
   "cell_type": "code",
   "execution_count": 17,
   "id": "25a1e45a",
   "metadata": {},
   "outputs": [
    {
     "data": {
      "text/plain": [
       "Female    73294\n",
       "Male      72965\n",
       "Name: Gender, dtype: int64"
      ]
     },
     "execution_count": 17,
     "metadata": {},
     "output_type": "execute_result"
    }
   ],
   "source": [
    "AutoIns['Gender'].value_counts(sort=False)"
   ]
  },
  {
   "cell_type": "code",
   "execution_count": 18,
   "id": "96e69526",
   "metadata": {},
   "outputs": [],
   "source": [
    "AutoIns['Gender'] = AutoIns['Gender'].str.replace('Female','1')\n",
    "AutoIns['Gender'] = AutoIns['Gender'].str.replace('Male', '2')\n",
    "AutoIns['Gender'] = AutoIns['Gender'].astype(int)"
   ]
  },
  {
   "cell_type": "code",
   "execution_count": 19,
   "id": "55ba9e23",
   "metadata": {},
   "outputs": [
    {
     "data": {
      "text/plain": [
       "1    73294\n",
       "2    72965\n",
       "Name: Gender, dtype: int64"
      ]
     },
     "execution_count": 19,
     "metadata": {},
     "output_type": "execute_result"
    }
   ],
   "source": [
    "AutoIns['Gender'].value_counts(sort = False)"
   ]
  },
  {
   "cell_type": "code",
   "execution_count": 20,
   "id": "557b201e",
   "metadata": {},
   "outputs": [
    {
     "name": "stdout",
     "output_type": "stream",
     "text": [
      "<class 'pandas.core.frame.DataFrame'>\n",
      "RangeIndex: 146259 entries, 0 to 146258\n",
      "Data columns (total 20 columns):\n",
      " #   Column              Non-Null Count   Dtype  \n",
      "---  ------              --------------   -----  \n",
      " 0   Agent_Type          146259 non-null  int32  \n",
      " 1   Region              146259 non-null  int32  \n",
      " 2   Policy_Type         146259 non-null  int32  \n",
      " 3   HH_Vehicles         146259 non-null  int64  \n",
      " 4   HH_Drivers          146259 non-null  int64  \n",
      " 5   Driver_Age          146259 non-null  int64  \n",
      " 6   Driving_Exp         146259 non-null  int64  \n",
      " 7   Prev_Accidents      146259 non-null  int64  \n",
      " 8   Prev_Citations      146259 non-null  int64  \n",
      " 9   Gender              146259 non-null  int32  \n",
      " 10  Marital_Status      146259 non-null  object \n",
      " 11  Education           146259 non-null  object \n",
      " 12  Sal_Range2          146259 non-null  object \n",
      " 13  Coverage            146259 non-null  object \n",
      " 14  Veh_Usage           146259 non-null  object \n",
      " 15  Annual_Miles_Range  146259 non-null  object \n",
      " 16  Vehicl_Cost_Range2  146259 non-null  object \n",
      " 17  Re_Quote            146259 non-null  object \n",
      " 18  Quoted_Premium      146259 non-null  float64\n",
      " 19  Policy_Bind         146259 non-null  int32  \n",
      "dtypes: float64(1), int32(5), int64(6), object(8)\n",
      "memory usage: 19.5+ MB\n"
     ]
    }
   ],
   "source": [
    "AutoIns.info()"
   ]
  },
  {
   "cell_type": "code",
   "execution_count": 21,
   "id": "157e51ca",
   "metadata": {},
   "outputs": [
    {
     "data": {
      "text/plain": [
       "Single       36711\n",
       "Dirvorced    36520\n",
       "Married      36505\n",
       "Widow        36523\n",
       "Name: Marital_Status, dtype: int64"
      ]
     },
     "execution_count": 21,
     "metadata": {},
     "output_type": "execute_result"
    }
   ],
   "source": [
    "AutoIns['Marital_Status'].value_counts(sort = False)"
   ]
  },
  {
   "cell_type": "code",
   "execution_count": 22,
   "id": "1d901d8d",
   "metadata": {},
   "outputs": [],
   "source": [
    "AutoIns['Marital_Status'] = AutoIns['Marital_Status'].str.replace('Single', '1')\n",
    "AutoIns['Marital_Status'] = AutoIns['Marital_Status'].str.replace('Dirvorced', '2')\n",
    "AutoIns['Marital_Status'] = AutoIns['Marital_Status'].str.replace('Widow', '3')\n",
    "AutoIns['Marital_Status'] = AutoIns['Marital_Status'].str.replace('Married', '4')\n",
    "AutoIns['Marital_Status'] = AutoIns['Marital_Status'].astype(int)"
   ]
  },
  {
   "cell_type": "code",
   "execution_count": 23,
   "id": "a6bac205",
   "metadata": {},
   "outputs": [
    {
     "data": {
      "text/plain": [
       "1    36711\n",
       "2    36520\n",
       "3    36523\n",
       "4    36505\n",
       "Name: Marital_Status, dtype: int64"
      ]
     },
     "execution_count": 23,
     "metadata": {},
     "output_type": "execute_result"
    }
   ],
   "source": [
    "AutoIns['Marital_Status'].value_counts(sort = False)"
   ]
  },
  {
   "cell_type": "code",
   "execution_count": 24,
   "id": "ab49827f",
   "metadata": {},
   "outputs": [
    {
     "data": {
      "text/plain": [
       "Masters        29433\n",
       "Bachelors      29232\n",
       "College        29475\n",
       "Ph.D           28970\n",
       "High School    29149\n",
       "Name: Education, dtype: int64"
      ]
     },
     "execution_count": 24,
     "metadata": {},
     "output_type": "execute_result"
    }
   ],
   "source": [
    "AutoIns['Education'].value_counts(sort = False)"
   ]
  },
  {
   "cell_type": "code",
   "execution_count": 25,
   "id": "ea832563",
   "metadata": {},
   "outputs": [],
   "source": [
    "AutoIns['Education'] = AutoIns['Education'].str.replace('High School', '1')\n",
    "AutoIns['Education'] = AutoIns['Education'].str.replace('College', '2')\n",
    "AutoIns['Education'] = AutoIns['Education'].str.replace('Bachelors', '3')\n",
    "AutoIns['Education'] = AutoIns['Education'].str.replace('Masters', '4')\n",
    "AutoIns['Education'] = AutoIns['Education'].str.replace('Ph.D', '5')\n",
    "AutoIns['Education'] = AutoIns['Education'].astype(int)"
   ]
  },
  {
   "cell_type": "code",
   "execution_count": 26,
   "id": "aed42d4d",
   "metadata": {},
   "outputs": [
    {
     "data": {
      "text/plain": [
       "1    29149\n",
       "2    29475\n",
       "3    29232\n",
       "4    29433\n",
       "5    28970\n",
       "Name: Education, dtype: int64"
      ]
     },
     "execution_count": 26,
     "metadata": {},
     "output_type": "execute_result"
    }
   ],
   "source": [
    "AutoIns['Education'].value_counts(sort = False)"
   ]
  },
  {
   "cell_type": "code",
   "execution_count": 27,
   "id": "5a931604",
   "metadata": {},
   "outputs": [
    {
     "data": {
      "text/plain": [
       "Balanced    41775\n",
       "Enhanced    41720\n",
       "Basic       62764\n",
       "Name: Coverage, dtype: int64"
      ]
     },
     "execution_count": 27,
     "metadata": {},
     "output_type": "execute_result"
    }
   ],
   "source": [
    "AutoIns['Coverage'].value_counts(sort = False)"
   ]
  },
  {
   "cell_type": "code",
   "execution_count": 28,
   "id": "9f214247",
   "metadata": {},
   "outputs": [],
   "source": [
    "AutoIns['Coverage'] = AutoIns['Coverage'].str.replace('Basic', '1')\n",
    "AutoIns['Coverage'] = AutoIns['Coverage'].str.replace('Balanced', '2')\n",
    "AutoIns['Coverage'] = AutoIns['Coverage'].str.replace('Enhanced', '3')\n",
    "AutoIns['Coverage'] = AutoIns['Coverage'].astype(int)"
   ]
  },
  {
   "cell_type": "code",
   "execution_count": 29,
   "id": "2a0f7b43",
   "metadata": {},
   "outputs": [
    {
     "data": {
      "text/plain": [
       "1    62764\n",
       "2    41775\n",
       "3    41720\n",
       "Name: Coverage, dtype: int64"
      ]
     },
     "execution_count": 29,
     "metadata": {},
     "output_type": "execute_result"
    }
   ],
   "source": [
    "AutoIns['Coverage'].value_counts(sort = False)"
   ]
  },
  {
   "cell_type": "code",
   "execution_count": 30,
   "id": "96cdd849",
   "metadata": {},
   "outputs": [
    {
     "data": {
      "text/plain": [
       "Business    20834\n",
       "Commute     41921\n",
       "Pleasure    83504\n",
       "Name: Veh_Usage, dtype: int64"
      ]
     },
     "execution_count": 30,
     "metadata": {},
     "output_type": "execute_result"
    }
   ],
   "source": [
    "AutoIns['Veh_Usage'].value_counts(sort = False)"
   ]
  },
  {
   "cell_type": "code",
   "execution_count": 31,
   "id": "f1fcc748",
   "metadata": {},
   "outputs": [],
   "source": [
    "AutoIns['Veh_Usage'] = AutoIns['Veh_Usage'].str.replace('Pleasure', '1')\n",
    "AutoIns['Veh_Usage'] = AutoIns['Veh_Usage'].str.replace('Commute', '2')\n",
    "AutoIns['Veh_Usage'] = AutoIns['Veh_Usage'].str.replace('Business', '3')\n",
    "AutoIns['Veh_Usage'] = AutoIns['Veh_Usage'].astype(int)"
   ]
  },
  {
   "cell_type": "code",
   "execution_count": 32,
   "id": "74fc988e",
   "metadata": {},
   "outputs": [
    {
     "data": {
      "text/plain": [
       "1    83504\n",
       "2    41921\n",
       "3    20834\n",
       "Name: Veh_Usage, dtype: int64"
      ]
     },
     "execution_count": 32,
     "metadata": {},
     "output_type": "execute_result"
    }
   ],
   "source": [
    "AutoIns['Veh_Usage'].value_counts(sort = False)"
   ]
  },
  {
   "cell_type": "code",
   "execution_count": 33,
   "id": "85ca896c",
   "metadata": {},
   "outputs": [
    {
     "data": {
      "text/plain": [
       "No     110005\n",
       "Yes     36254\n",
       "Name: Re_Quote, dtype: int64"
      ]
     },
     "execution_count": 33,
     "metadata": {},
     "output_type": "execute_result"
    }
   ],
   "source": [
    "AutoIns['Re_Quote'].value_counts(sort = False)"
   ]
  },
  {
   "cell_type": "code",
   "execution_count": 34,
   "id": "617e6733",
   "metadata": {},
   "outputs": [],
   "source": [
    "AutoIns['Re_Quote'] = AutoIns['Re_Quote'].str.replace('No', '0')\n",
    "AutoIns['Re_Quote'] = AutoIns['Re_Quote'].str.replace('Yes', '1')\n",
    "AutoIns['Re_Quote'] = AutoIns['Re_Quote'].astype(int)"
   ]
  },
  {
   "cell_type": "code",
   "execution_count": 35,
   "id": "975c73d4",
   "metadata": {},
   "outputs": [
    {
     "data": {
      "text/plain": [
       "0    110005\n",
       "1     36254\n",
       "Name: Re_Quote, dtype: int64"
      ]
     },
     "execution_count": 35,
     "metadata": {},
     "output_type": "execute_result"
    }
   ],
   "source": [
    "AutoIns['Re_Quote'].value_counts(sort = False)"
   ]
  },
  {
   "cell_type": "code",
   "execution_count": 36,
   "id": "c326510e",
   "metadata": {},
   "outputs": [
    {
     "name": "stdout",
     "output_type": "stream",
     "text": [
      "<class 'pandas.core.frame.DataFrame'>\n",
      "RangeIndex: 146259 entries, 0 to 146258\n",
      "Data columns (total 20 columns):\n",
      " #   Column              Non-Null Count   Dtype  \n",
      "---  ------              --------------   -----  \n",
      " 0   Agent_Type          146259 non-null  int32  \n",
      " 1   Region              146259 non-null  int32  \n",
      " 2   Policy_Type         146259 non-null  int32  \n",
      " 3   HH_Vehicles         146259 non-null  int64  \n",
      " 4   HH_Drivers          146259 non-null  int64  \n",
      " 5   Driver_Age          146259 non-null  int64  \n",
      " 6   Driving_Exp         146259 non-null  int64  \n",
      " 7   Prev_Accidents      146259 non-null  int64  \n",
      " 8   Prev_Citations      146259 non-null  int64  \n",
      " 9   Gender              146259 non-null  int32  \n",
      " 10  Marital_Status      146259 non-null  int32  \n",
      " 11  Education           146259 non-null  int32  \n",
      " 12  Sal_Range2          146259 non-null  object \n",
      " 13  Coverage            146259 non-null  int32  \n",
      " 14  Veh_Usage           146259 non-null  int32  \n",
      " 15  Annual_Miles_Range  146259 non-null  object \n",
      " 16  Vehicl_Cost_Range2  146259 non-null  object \n",
      " 17  Re_Quote            146259 non-null  int32  \n",
      " 18  Quoted_Premium      146259 non-null  float64\n",
      " 19  Policy_Bind         146259 non-null  int32  \n",
      "dtypes: float64(1), int32(10), int64(6), object(3)\n",
      "memory usage: 16.7+ MB\n"
     ]
    }
   ],
   "source": [
    "AutoIns.info()"
   ]
  },
  {
   "cell_type": "code",
   "execution_count": 37,
   "id": "415f9035",
   "metadata": {},
   "outputs": [
    {
     "data": {
      "text/plain": [
       "Index(['Agent_Type', 'Region', 'Policy_Type', 'HH_Vehicles', 'HH_Drivers',\n",
       "       'Driver_Age', 'Driving_Exp', 'Prev_Accidents', 'Prev_Citations',\n",
       "       'Gender', 'Marital_Status', 'Education', 'Sal_Range2', 'Coverage',\n",
       "       'Veh_Usage', 'Annual_Miles_Range', 'Vehicl_Cost_Range2', 'Re_Quote',\n",
       "       'Quoted_Premium', 'Policy_Bind'],\n",
       "      dtype='object')"
      ]
     },
     "execution_count": 37,
     "metadata": {},
     "output_type": "execute_result"
    }
   ],
   "source": [
    "AutoIns.columns"
   ]
  },
  {
   "cell_type": "code",
   "execution_count": 38,
   "id": "9d9a0506",
   "metadata": {},
   "outputs": [
    {
     "data": {
      "text/plain": [
       "(146259, 20)"
      ]
     },
     "execution_count": 38,
     "metadata": {},
     "output_type": "execute_result"
    }
   ],
   "source": [
    "AutoIns.shape"
   ]
  },
  {
   "cell_type": "code",
   "execution_count": 39,
   "id": "5cbde079",
   "metadata": {},
   "outputs": [
    {
     "data": {
      "text/html": [
       "<div>\n",
       "<style scoped>\n",
       "    .dataframe tbody tr th:only-of-type {\n",
       "        vertical-align: middle;\n",
       "    }\n",
       "\n",
       "    .dataframe tbody tr th {\n",
       "        vertical-align: top;\n",
       "    }\n",
       "\n",
       "    .dataframe thead th {\n",
       "        text-align: right;\n",
       "    }\n",
       "</style>\n",
       "<table border=\"1\" class=\"dataframe\">\n",
       "  <thead>\n",
       "    <tr style=\"text-align: right;\">\n",
       "      <th></th>\n",
       "      <th>0</th>\n",
       "      <th>1</th>\n",
       "      <th>2</th>\n",
       "      <th>3</th>\n",
       "      <th>4</th>\n",
       "    </tr>\n",
       "  </thead>\n",
       "  <tbody>\n",
       "    <tr>\n",
       "      <th>Agent_Type</th>\n",
       "      <td>2.00</td>\n",
       "      <td>2.00</td>\n",
       "      <td>2.00</td>\n",
       "      <td>2.00</td>\n",
       "      <td>2.00</td>\n",
       "    </tr>\n",
       "    <tr>\n",
       "      <th>Region</th>\n",
       "      <td>3.00</td>\n",
       "      <td>6.00</td>\n",
       "      <td>6.00</td>\n",
       "      <td>5.00</td>\n",
       "      <td>3.00</td>\n",
       "    </tr>\n",
       "    <tr>\n",
       "      <th>Policy_Type</th>\n",
       "      <td>1.00</td>\n",
       "      <td>2.00</td>\n",
       "      <td>3.00</td>\n",
       "      <td>1.00</td>\n",
       "      <td>3.00</td>\n",
       "    </tr>\n",
       "    <tr>\n",
       "      <th>HH_Vehicles</th>\n",
       "      <td>3.00</td>\n",
       "      <td>2.00</td>\n",
       "      <td>2.00</td>\n",
       "      <td>1.00</td>\n",
       "      <td>3.00</td>\n",
       "    </tr>\n",
       "    <tr>\n",
       "      <th>HH_Drivers</th>\n",
       "      <td>3.00</td>\n",
       "      <td>2.00</td>\n",
       "      <td>1.00</td>\n",
       "      <td>2.00</td>\n",
       "      <td>1.00</td>\n",
       "    </tr>\n",
       "    <tr>\n",
       "      <th>Driver_Age</th>\n",
       "      <td>43.00</td>\n",
       "      <td>30.00</td>\n",
       "      <td>25.00</td>\n",
       "      <td>43.00</td>\n",
       "      <td>40.00</td>\n",
       "    </tr>\n",
       "    <tr>\n",
       "      <th>Driving_Exp</th>\n",
       "      <td>26.00</td>\n",
       "      <td>13.00</td>\n",
       "      <td>8.00</td>\n",
       "      <td>26.00</td>\n",
       "      <td>23.00</td>\n",
       "    </tr>\n",
       "    <tr>\n",
       "      <th>Prev_Accidents</th>\n",
       "      <td>0.00</td>\n",
       "      <td>0.00</td>\n",
       "      <td>0.00</td>\n",
       "      <td>0.00</td>\n",
       "      <td>0.00</td>\n",
       "    </tr>\n",
       "    <tr>\n",
       "      <th>Prev_Citations</th>\n",
       "      <td>0.00</td>\n",
       "      <td>0.00</td>\n",
       "      <td>0.00</td>\n",
       "      <td>0.00</td>\n",
       "      <td>0.00</td>\n",
       "    </tr>\n",
       "    <tr>\n",
       "      <th>Gender</th>\n",
       "      <td>1.00</td>\n",
       "      <td>1.00</td>\n",
       "      <td>1.00</td>\n",
       "      <td>1.00</td>\n",
       "      <td>1.00</td>\n",
       "    </tr>\n",
       "    <tr>\n",
       "      <th>Marital_Status</th>\n",
       "      <td>3.00</td>\n",
       "      <td>2.00</td>\n",
       "      <td>2.00</td>\n",
       "      <td>4.00</td>\n",
       "      <td>3.00</td>\n",
       "    </tr>\n",
       "    <tr>\n",
       "      <th>Education</th>\n",
       "      <td>1.00</td>\n",
       "      <td>5.00</td>\n",
       "      <td>5.00</td>\n",
       "      <td>5.00</td>\n",
       "      <td>1.00</td>\n",
       "    </tr>\n",
       "    <tr>\n",
       "      <th>Coverage</th>\n",
       "      <td>2.00</td>\n",
       "      <td>2.00</td>\n",
       "      <td>1.00</td>\n",
       "      <td>1.00</td>\n",
       "      <td>1.00</td>\n",
       "    </tr>\n",
       "    <tr>\n",
       "      <th>Veh_Usage</th>\n",
       "      <td>2.00</td>\n",
       "      <td>1.00</td>\n",
       "      <td>2.00</td>\n",
       "      <td>1.00</td>\n",
       "      <td>1.00</td>\n",
       "    </tr>\n",
       "    <tr>\n",
       "      <th>Re_Quote</th>\n",
       "      <td>0.00</td>\n",
       "      <td>0.00</td>\n",
       "      <td>0.00</td>\n",
       "      <td>0.00</td>\n",
       "      <td>0.00</td>\n",
       "    </tr>\n",
       "    <tr>\n",
       "      <th>Quoted_Premium</th>\n",
       "      <td>693.86</td>\n",
       "      <td>635.96</td>\n",
       "      <td>780.64</td>\n",
       "      <td>723.15</td>\n",
       "      <td>738.14</td>\n",
       "    </tr>\n",
       "    <tr>\n",
       "      <th>Policy_Bind</th>\n",
       "      <td>1.00</td>\n",
       "      <td>0.00</td>\n",
       "      <td>1.00</td>\n",
       "      <td>1.00</td>\n",
       "      <td>1.00</td>\n",
       "    </tr>\n",
       "    <tr>\n",
       "      <th>Vehicl_Cost_Range2_&lt;=  10 K</th>\n",
       "      <td>0.00</td>\n",
       "      <td>1.00</td>\n",
       "      <td>0.00</td>\n",
       "      <td>1.00</td>\n",
       "      <td>1.00</td>\n",
       "    </tr>\n",
       "    <tr>\n",
       "      <th>Vehicl_Cost_Range2_&gt;  10 K &lt;=  20 K</th>\n",
       "      <td>1.00</td>\n",
       "      <td>0.00</td>\n",
       "      <td>1.00</td>\n",
       "      <td>0.00</td>\n",
       "      <td>0.00</td>\n",
       "    </tr>\n",
       "    <tr>\n",
       "      <th>Vehicl_Cost_Range2_&gt;  20 K &lt;=  30 K</th>\n",
       "      <td>0.00</td>\n",
       "      <td>0.00</td>\n",
       "      <td>0.00</td>\n",
       "      <td>0.00</td>\n",
       "      <td>0.00</td>\n",
       "    </tr>\n",
       "    <tr>\n",
       "      <th>Vehicl_Cost_Range2_&gt;  30 K &lt;=  40 K</th>\n",
       "      <td>0.00</td>\n",
       "      <td>0.00</td>\n",
       "      <td>0.00</td>\n",
       "      <td>0.00</td>\n",
       "      <td>0.00</td>\n",
       "    </tr>\n",
       "    <tr>\n",
       "      <th>Vehicl_Cost_Range2_&gt;  40 K</th>\n",
       "      <td>0.00</td>\n",
       "      <td>0.00</td>\n",
       "      <td>0.00</td>\n",
       "      <td>0.00</td>\n",
       "      <td>0.00</td>\n",
       "    </tr>\n",
       "    <tr>\n",
       "      <th>Sal_Range2_&lt;=  25 K</th>\n",
       "      <td>0.00</td>\n",
       "      <td>0.00</td>\n",
       "      <td>0.00</td>\n",
       "      <td>0.00</td>\n",
       "      <td>1.00</td>\n",
       "    </tr>\n",
       "    <tr>\n",
       "      <th>Sal_Range2_&gt;  25 K &lt;=  40 K</th>\n",
       "      <td>1.00</td>\n",
       "      <td>0.00</td>\n",
       "      <td>0.00</td>\n",
       "      <td>0.00</td>\n",
       "      <td>0.00</td>\n",
       "    </tr>\n",
       "    <tr>\n",
       "      <th>Sal_Range2_&gt;  40 K &lt;=  60 K</th>\n",
       "      <td>0.00</td>\n",
       "      <td>1.00</td>\n",
       "      <td>1.00</td>\n",
       "      <td>0.00</td>\n",
       "      <td>0.00</td>\n",
       "    </tr>\n",
       "    <tr>\n",
       "      <th>Sal_Range2_&gt;  60 K &lt;=  90 K</th>\n",
       "      <td>0.00</td>\n",
       "      <td>0.00</td>\n",
       "      <td>0.00</td>\n",
       "      <td>0.00</td>\n",
       "      <td>0.00</td>\n",
       "    </tr>\n",
       "    <tr>\n",
       "      <th>Sal_Range2_&gt;  90 K</th>\n",
       "      <td>0.00</td>\n",
       "      <td>0.00</td>\n",
       "      <td>0.00</td>\n",
       "      <td>1.00</td>\n",
       "      <td>0.00</td>\n",
       "    </tr>\n",
       "    <tr>\n",
       "      <th>Annual_Miles_Range_&lt;= 7.5 K</th>\n",
       "      <td>0.00</td>\n",
       "      <td>0.00</td>\n",
       "      <td>0.00</td>\n",
       "      <td>1.00</td>\n",
       "      <td>0.00</td>\n",
       "    </tr>\n",
       "    <tr>\n",
       "      <th>Annual_Miles_Range_&gt; 15 K &amp; &lt;= 25 K</th>\n",
       "      <td>0.00</td>\n",
       "      <td>0.00</td>\n",
       "      <td>0.00</td>\n",
       "      <td>0.00</td>\n",
       "      <td>0.00</td>\n",
       "    </tr>\n",
       "    <tr>\n",
       "      <th>Annual_Miles_Range_&gt; 25 K &amp; &lt;= 35 K</th>\n",
       "      <td>0.00</td>\n",
       "      <td>0.00</td>\n",
       "      <td>0.00</td>\n",
       "      <td>0.00</td>\n",
       "      <td>0.00</td>\n",
       "    </tr>\n",
       "    <tr>\n",
       "      <th>Annual_Miles_Range_&gt; 35 K &amp; &lt;= 45 K</th>\n",
       "      <td>0.00</td>\n",
       "      <td>0.00</td>\n",
       "      <td>1.00</td>\n",
       "      <td>0.00</td>\n",
       "      <td>1.00</td>\n",
       "    </tr>\n",
       "    <tr>\n",
       "      <th>Annual_Miles_Range_&gt; 45 K &amp; &lt;= 55 K</th>\n",
       "      <td>0.00</td>\n",
       "      <td>0.00</td>\n",
       "      <td>0.00</td>\n",
       "      <td>0.00</td>\n",
       "      <td>0.00</td>\n",
       "    </tr>\n",
       "    <tr>\n",
       "      <th>Annual_Miles_Range_&gt; 55 K</th>\n",
       "      <td>1.00</td>\n",
       "      <td>0.00</td>\n",
       "      <td>0.00</td>\n",
       "      <td>0.00</td>\n",
       "      <td>0.00</td>\n",
       "    </tr>\n",
       "    <tr>\n",
       "      <th>Annual_Miles_Range_&gt; 7.5 K &amp; &lt;= 15 K</th>\n",
       "      <td>0.00</td>\n",
       "      <td>1.00</td>\n",
       "      <td>0.00</td>\n",
       "      <td>0.00</td>\n",
       "      <td>0.00</td>\n",
       "    </tr>\n",
       "  </tbody>\n",
       "</table>\n",
       "</div>"
      ],
      "text/plain": [
       "                                           0       1       2       3       4\n",
       "Agent_Type                              2.00    2.00    2.00    2.00    2.00\n",
       "Region                                  3.00    6.00    6.00    5.00    3.00\n",
       "Policy_Type                             1.00    2.00    3.00    1.00    3.00\n",
       "HH_Vehicles                             3.00    2.00    2.00    1.00    3.00\n",
       "HH_Drivers                              3.00    2.00    1.00    2.00    1.00\n",
       "Driver_Age                             43.00   30.00   25.00   43.00   40.00\n",
       "Driving_Exp                            26.00   13.00    8.00   26.00   23.00\n",
       "Prev_Accidents                          0.00    0.00    0.00    0.00    0.00\n",
       "Prev_Citations                          0.00    0.00    0.00    0.00    0.00\n",
       "Gender                                  1.00    1.00    1.00    1.00    1.00\n",
       "Marital_Status                          3.00    2.00    2.00    4.00    3.00\n",
       "Education                               1.00    5.00    5.00    5.00    1.00\n",
       "Coverage                                2.00    2.00    1.00    1.00    1.00\n",
       "Veh_Usage                               2.00    1.00    2.00    1.00    1.00\n",
       "Re_Quote                                0.00    0.00    0.00    0.00    0.00\n",
       "Quoted_Premium                        693.86  635.96  780.64  723.15  738.14\n",
       "Policy_Bind                             1.00    0.00    1.00    1.00    1.00\n",
       "Vehicl_Cost_Range2_<=  10 K             0.00    1.00    0.00    1.00    1.00\n",
       "Vehicl_Cost_Range2_>  10 K <=  20 K     1.00    0.00    1.00    0.00    0.00\n",
       "Vehicl_Cost_Range2_>  20 K <=  30 K     0.00    0.00    0.00    0.00    0.00\n",
       "Vehicl_Cost_Range2_>  30 K <=  40 K     0.00    0.00    0.00    0.00    0.00\n",
       "Vehicl_Cost_Range2_>  40 K              0.00    0.00    0.00    0.00    0.00\n",
       "Sal_Range2_<=  25 K                     0.00    0.00    0.00    0.00    1.00\n",
       "Sal_Range2_>  25 K <=  40 K             1.00    0.00    0.00    0.00    0.00\n",
       "Sal_Range2_>  40 K <=  60 K             0.00    1.00    1.00    0.00    0.00\n",
       "Sal_Range2_>  60 K <=  90 K             0.00    0.00    0.00    0.00    0.00\n",
       "Sal_Range2_>  90 K                      0.00    0.00    0.00    1.00    0.00\n",
       "Annual_Miles_Range_<= 7.5 K             0.00    0.00    0.00    1.00    0.00\n",
       "Annual_Miles_Range_> 15 K & <= 25 K     0.00    0.00    0.00    0.00    0.00\n",
       "Annual_Miles_Range_> 25 K & <= 35 K     0.00    0.00    0.00    0.00    0.00\n",
       "Annual_Miles_Range_> 35 K & <= 45 K     0.00    0.00    1.00    0.00    1.00\n",
       "Annual_Miles_Range_> 45 K & <= 55 K     0.00    0.00    0.00    0.00    0.00\n",
       "Annual_Miles_Range_> 55 K               1.00    0.00    0.00    0.00    0.00\n",
       "Annual_Miles_Range_> 7.5 K & <= 15 K    0.00    1.00    0.00    0.00    0.00"
      ]
     },
     "execution_count": 39,
     "metadata": {},
     "output_type": "execute_result"
    }
   ],
   "source": [
    "AutoIns = pd.get_dummies(AutoIns, columns={'Sal_Range2', 'Annual_Miles_Range', 'Vehicl_Cost_Range2'})\n",
    "AutoIns.head().T"
   ]
  },
  {
   "cell_type": "code",
   "execution_count": 40,
   "id": "e4957236",
   "metadata": {},
   "outputs": [
    {
     "data": {
      "text/plain": [
       "(146259, 34)"
      ]
     },
     "execution_count": 40,
     "metadata": {},
     "output_type": "execute_result"
    }
   ],
   "source": [
    "AutoIns.shape"
   ]
  },
  {
   "cell_type": "code",
   "execution_count": 41,
   "id": "83c635b9",
   "metadata": {},
   "outputs": [
    {
     "name": "stdout",
     "output_type": "stream",
     "text": [
      "<class 'pandas.core.frame.DataFrame'>\n",
      "RangeIndex: 146259 entries, 0 to 146258\n",
      "Data columns (total 34 columns):\n",
      " #   Column                                Non-Null Count   Dtype  \n",
      "---  ------                                --------------   -----  \n",
      " 0   Agent_Type                            146259 non-null  int32  \n",
      " 1   Region                                146259 non-null  int32  \n",
      " 2   Policy_Type                           146259 non-null  int32  \n",
      " 3   HH_Vehicles                           146259 non-null  int64  \n",
      " 4   HH_Drivers                            146259 non-null  int64  \n",
      " 5   Driver_Age                            146259 non-null  int64  \n",
      " 6   Driving_Exp                           146259 non-null  int64  \n",
      " 7   Prev_Accidents                        146259 non-null  int64  \n",
      " 8   Prev_Citations                        146259 non-null  int64  \n",
      " 9   Gender                                146259 non-null  int32  \n",
      " 10  Marital_Status                        146259 non-null  int32  \n",
      " 11  Education                             146259 non-null  int32  \n",
      " 12  Coverage                              146259 non-null  int32  \n",
      " 13  Veh_Usage                             146259 non-null  int32  \n",
      " 14  Re_Quote                              146259 non-null  int32  \n",
      " 15  Quoted_Premium                        146259 non-null  float64\n",
      " 16  Policy_Bind                           146259 non-null  int32  \n",
      " 17  Vehicl_Cost_Range2_<=  10 K           146259 non-null  uint8  \n",
      " 18  Vehicl_Cost_Range2_>  10 K <=  20 K   146259 non-null  uint8  \n",
      " 19  Vehicl_Cost_Range2_>  20 K <=  30 K   146259 non-null  uint8  \n",
      " 20  Vehicl_Cost_Range2_>  30 K <=  40 K   146259 non-null  uint8  \n",
      " 21  Vehicl_Cost_Range2_>  40 K            146259 non-null  uint8  \n",
      " 22  Sal_Range2_<=  25 K                   146259 non-null  uint8  \n",
      " 23  Sal_Range2_>  25 K <=  40 K           146259 non-null  uint8  \n",
      " 24  Sal_Range2_>  40 K <=  60 K           146259 non-null  uint8  \n",
      " 25  Sal_Range2_>  60 K <=  90 K           146259 non-null  uint8  \n",
      " 26  Sal_Range2_>  90 K                    146259 non-null  uint8  \n",
      " 27  Annual_Miles_Range_<= 7.5 K           146259 non-null  uint8  \n",
      " 28  Annual_Miles_Range_> 15 K & <= 25 K   146259 non-null  uint8  \n",
      " 29  Annual_Miles_Range_> 25 K & <= 35 K   146259 non-null  uint8  \n",
      " 30  Annual_Miles_Range_> 35 K & <= 45 K   146259 non-null  uint8  \n",
      " 31  Annual_Miles_Range_> 45 K & <= 55 K   146259 non-null  uint8  \n",
      " 32  Annual_Miles_Range_> 55 K             146259 non-null  uint8  \n",
      " 33  Annual_Miles_Range_> 7.5 K & <= 15 K  146259 non-null  uint8  \n",
      "dtypes: float64(1), int32(10), int64(6), uint8(17)\n",
      "memory usage: 15.8 MB\n"
     ]
    }
   ],
   "source": [
    "AutoIns.info()"
   ]
  },
  {
   "cell_type": "code",
   "execution_count": 42,
   "id": "ebb1f08e",
   "metadata": {},
   "outputs": [],
   "source": [
    "# Identify the dependent and Target variables \n",
    "IndepVar = [] \n",
    "for col in AutoIns.columns: \n",
    "    if col != 'Policy_Bind': \n",
    "        IndepVar.append(col)\n",
    "        \n",
    "TargetVar = 'Policy_Bind' \n",
    "        \n",
    "x = AutoIns[IndepVar] \n",
    "y = AutoIns[TargetVar]"
   ]
  },
  {
   "cell_type": "code",
   "execution_count": 43,
   "id": "4d41b17e",
   "metadata": {},
   "outputs": [],
   "source": [
    "# Splitting the dataset into train and test \n",
    "\n",
    "from sklearn.model_selection import train_test_split \n",
    "x_train, x_test, y_train, y_test = train_test_split(x, y, test_size = 0.30, random_state = 42)"
   ]
  },
  {
   "cell_type": "code",
   "execution_count": 44,
   "id": "a6f6527a",
   "metadata": {},
   "outputs": [
    {
     "name": "stdout",
     "output_type": "stream",
     "text": [
      "(65004, 33)\n",
      "(65004,)\n"
     ]
    }
   ],
   "source": [
    "# Random undersampling to balance the class distribution\n",
    "\n",
    "from imblearn.under_sampling import RandomUnderSampler\n",
    "\n",
    "undersample = RandomUnderSampler(sampling_strategy='majority')\n",
    "x_under, y_under = undersample.fit_resample(x, y)\n",
    "print(x_under.shape)\n",
    "print(y_under.shape)"
   ]
  },
  {
   "cell_type": "code",
   "execution_count": 45,
   "id": "663e69da",
   "metadata": {},
   "outputs": [],
   "source": [
    "# To build the decision tree model with random sampling\n",
    "\n",
    "from sklearn.tree import DecisionTreeClassifier\n",
    "\n",
    "AutoInsDT = DecisionTreeClassifier(ccp_alpha=0.0, class_weight=None, criterion='entropy',\n",
    "max_depth=None, max_features=None, max_leaf_nodes=None,\n",
    "min_impurity_decrease=0.0, min_impurity_split=None,\n",
    "min_samples_leaf=1, min_samples_split=2,min_weight_fraction_leaf=0.0,\n",
    "random_state=None, splitter='best')\n",
    "\n",
    "AutoInsDT = AutoInsDT.fit(x_train,y_train)"
   ]
  },
  {
   "cell_type": "code",
   "execution_count": 46,
   "id": "972b71b0",
   "metadata": {},
   "outputs": [],
   "source": [
    "# Predict the model with test data set \n",
    "\n",
    "y_pred = AutoInsDT.predict(x_test)"
   ]
  },
  {
   "cell_type": "code",
   "execution_count": 47,
   "id": "c1ef12c8",
   "metadata": {},
   "outputs": [
    {
     "name": "stdout",
     "output_type": "stream",
     "text": [
      "Accuracy: 64.44 %\n",
      "Precision: 22.67 %\n",
      "Recall: 24.45 %\n",
      "f1-score: 23.52 %\n",
      "roc_auc_score: 0.502\n"
     ]
    }
   ],
   "source": [
    "# Evaluate the model performance by metrics \n",
    "from sklearn import metrics \n",
    "from sklearn.metrics import roc_curve, roc_auc_score \n",
    "\n",
    "# Model Accuracy: how often is the classifier correct? \n",
    "print(\"Accuracy:\", (round(metrics.accuracy_score(y_test, y_pred) * 100, 2)), \"%\") \n",
    "\n",
    "# Model Precision: what percentage of positive tuples are labeled as such?\n",
    "print(\"Precision:\", (round(metrics.precision_score(y_test, y_pred) * 100, 2)), '%')\n",
    "\n",
    "# Model Recall: what percentage of positive tuples are labelled as such? \n",
    "print(\"Recall:\", (round(metrics.recall_score(y_test, y_pred) * 100, 2)), \"%\") \n",
    "\n",
    "# Model Recall: what percentage of positive tuples are labelled as such? \n",
    "print(\"f1-score:\", (round(metrics.f1_score(y_test, y_pred) * 100, 2)), '%') \n",
    "\n",
    "# Area under ROC curve \n",
    "print('roc_auc_score:', round(roc_auc_score(y_test, y_pred), 3))"
   ]
  },
  {
   "cell_type": "code",
   "execution_count": 48,
   "id": "a34c1b5a",
   "metadata": {},
   "outputs": [
    {
     "name": "stdout",
     "output_type": "stream",
     "text": [
      "Feature: 0, Score: 0.02100\n",
      "Feature: 1, Score: 0.07674\n",
      "Feature: 2, Score: 0.03571\n",
      "Feature: 3, Score: 0.03977\n",
      "Feature: 4, Score: 0.03600\n",
      "Feature: 5, Score: 0.06341\n",
      "Feature: 6, Score: 0.06505\n",
      "Feature: 7, Score: 0.01324\n",
      "Feature: 8, Score: 0.00010\n",
      "Feature: 9, Score: 0.01541\n",
      "Feature: 10, Score: 0.04476\n",
      "Feature: 11, Score: 0.05798\n",
      "Feature: 12, Score: 0.02913\n",
      "Feature: 13, Score: 0.03320\n",
      "Feature: 14, Score: 0.02062\n",
      "Feature: 15, Score: 0.24945\n",
      "Feature: 16, Score: 0.01562\n",
      "Feature: 17, Score: 0.01351\n",
      "Feature: 18, Score: 0.01210\n",
      "Feature: 19, Score: 0.01199\n",
      "Feature: 20, Score: 0.01174\n",
      "Feature: 21, Score: 0.01391\n",
      "Feature: 22, Score: 0.01317\n",
      "Feature: 23, Score: 0.01082\n",
      "Feature: 24, Score: 0.01043\n",
      "Feature: 25, Score: 0.01003\n",
      "Feature: 26, Score: 0.01487\n",
      "Feature: 27, Score: 0.01432\n",
      "Feature: 28, Score: 0.00178\n",
      "Feature: 29, Score: 0.01152\n",
      "Feature: 30, Score: 0.00990\n",
      "Feature: 31, Score: 0.00951\n",
      "Feature: 32, Score: 0.01320\n"
     ]
    },
    {
     "data": {
      "image/png": "[encoded data removed]",
      "text/plain": [
       "<Figure size 432x288 with 1 Axes>"
      ]
     },
     "metadata": {
      "needs_background": "light"
     },
     "output_type": "display_data"
    }
   ],
   "source": [
    "# Get feature (independent variables) importance\n",
    "\n",
    "from matplotlib import pyplot\n",
    "\n",
    "importance = AutoInsDT.feature_importances_\n",
    "\n",
    "# summarize feature importance\n",
    "\n",
    "for i,j in enumerate(importance):\n",
    "    print('Feature: %0d, Score: %.5f' % (i,j))\n",
    "    \n",
    "# plot feature importance\n",
    "pyplot.bar([x for x in range(len(importance))], importance)\n",
    "pyplot.show()\n",
    "\n",
    "# The positive scores indicate a feature that predicts class 1,\n",
    "# whereas the negative scores indicate a feature that predicts class 0"
   ]
  },
  {
   "cell_type": "code",
   "execution_count": 49,
   "id": "39ee2c14",
   "metadata": {},
   "outputs": [],
   "source": [
    "# Splitting the dataset into train and test \n",
    "\n",
    "from sklearn.model_selection import train_test_split \n",
    "xu_train, xu_test, yu_train, yu_test = train_test_split(x_under, y_under, test_size = 0.30, random_state = 42)"
   ]
  },
  {
   "cell_type": "code",
   "execution_count": 50,
   "id": "89310655",
   "metadata": {},
   "outputs": [],
   "source": [
    "# To build the decision tree model with random sampling\n",
    "\n",
    "from sklearn.tree import DecisionTreeClassifier\n",
    "\n",
    "AutoInsDT = DecisionTreeClassifier(ccp_alpha=0.0, class_weight=None, criterion='entropy',\n",
    "                                max_depth=None, max_features=None, max_leaf_nodes=None,\n",
    "                                min_impurity_decrease=0.0, min_impurity_split=None,\n",
    "                                min_samples_leaf=1, min_samples_split=2,min_weight_fraction_leaf=0.0,\n",
    "                                random_state=None, splitter='best')\n",
    "\n",
    "AutoInsDT = AutoInsDT.fit(xu_train,yu_train)"
   ]
  },
  {
   "cell_type": "code",
   "execution_count": 51,
   "id": "85654d5a",
   "metadata": {},
   "outputs": [],
   "source": [
    "# Predict the model with test data set \n",
    "\n",
    "yu_pred = AutoInsDT.predict(xu_test)"
   ]
  },
  {
   "cell_type": "code",
   "execution_count": 52,
   "id": "3ffcfd01",
   "metadata": {},
   "outputs": [
    {
     "name": "stdout",
     "output_type": "stream",
     "text": [
      "[[4922 4831]\n",
      " [4782 4967]]\n",
      "              precision    recall  f1-score   support\n",
      "\n",
      "           0       0.51      0.50      0.51      9753\n",
      "           1       0.51      0.51      0.51      9749\n",
      "\n",
      "    accuracy                           0.51     19502\n",
      "   macro avg       0.51      0.51      0.51     19502\n",
      "weighted avg       0.51      0.51      0.51     19502\n",
      "\n"
     ]
    }
   ],
   "source": [
    "# Display confusion matrix and classifiction report \n",
    "\n",
    "from sklearn.metrics import classification_report, confusion_matrix \n",
    "print(confusion_matrix(yu_test, yu_pred)) \n",
    "print(classification_report(yu_test, yu_pred))"
   ]
  },
  {
   "cell_type": "code",
   "execution_count": 53,
   "id": "cb13832b",
   "metadata": {},
   "outputs": [
    {
     "name": "stdout",
     "output_type": "stream",
     "text": [
      "Accuracy: 50.71 %\n",
      "Precision: 50.69 %\n",
      "Recall: 50.95 %\n",
      "f1-score: 50.82 %\n",
      "roc_auc_score: 0.507\n"
     ]
    }
   ],
   "source": [
    "# Evaluate the model performance by metrics \n",
    "from sklearn import metrics \n",
    "from sklearn.metrics import roc_curve, roc_auc_score \n",
    "\n",
    "# Model Accuracy: how often is the classifier correct? \n",
    "print(\"Accuracy:\", (round(metrics.accuracy_score(yu_test, yu_pred) * 100, 2)), \"%\") \n",
    "\n",
    "# Model Precision: what percentage of positive tuples are labeled as such?\n",
    "print(\"Precision:\", (round(metrics.precision_score(yu_test, yu_pred) * 100, 2)), '%')\n",
    "\n",
    "# Model Recall: what percentage of positive tuples are labelled as such? \n",
    "print(\"Recall:\", (round(metrics.recall_score(yu_test, yu_pred) * 100, 2)), \"%\") \n",
    "\n",
    "# Model Recall: what percentage of positive tuples are labelled as such? \n",
    "print(\"f1-score:\", (round(metrics.f1_score(yu_test, yu_pred) * 100, 2)), '%') \n",
    "\n",
    "# Area under ROC curve \n",
    "print('roc_auc_score:', round(roc_auc_score(yu_test, yu_pred), 3))"
   ]
  },
  {
   "cell_type": "code",
   "execution_count": 54,
   "id": "f462bb60",
   "metadata": {},
   "outputs": [
    {
     "name": "stdout",
     "output_type": "stream",
     "text": [
      "Feature: 0, Score: 0.01989\n",
      "Feature: 1, Score: 0.07174\n",
      "Feature: 2, Score: 0.02417\n",
      "Feature: 3, Score: 0.03558\n",
      "Feature: 4, Score: 0.03514\n",
      "Feature: 5, Score: 0.07029\n",
      "Feature: 6, Score: 0.06789\n",
      "Feature: 7, Score: 0.01246\n",
      "Feature: 8, Score: 0.00305\n",
      "Feature: 9, Score: 0.02309\n",
      "Feature: 10, Score: 0.04762\n",
      "Feature: 11, Score: 0.05724\n",
      "Feature: 12, Score: 0.03409\n",
      "Feature: 13, Score: 0.03525\n",
      "Feature: 14, Score: 0.01656\n",
      "Feature: 15, Score: 0.22957\n",
      "Feature: 16, Score: 0.01537\n",
      "Feature: 17, Score: 0.00950\n",
      "Feature: 18, Score: 0.01383\n",
      "Feature: 19, Score: 0.01381\n",
      "Feature: 20, Score: 0.01162\n",
      "Feature: 21, Score: 0.01631\n",
      "Feature: 22, Score: 0.01461\n",
      "Feature: 23, Score: 0.00840\n",
      "Feature: 24, Score: 0.01182\n",
      "Feature: 25, Score: 0.01186\n",
      "Feature: 26, Score: 0.01699\n",
      "Feature: 27, Score: 0.01127\n",
      "Feature: 28, Score: 0.01202\n",
      "Feature: 29, Score: 0.01059\n",
      "Feature: 30, Score: 0.01115\n",
      "Feature: 31, Score: 0.01127\n",
      "Feature: 32, Score: 0.01597\n"
     ]
    },
    {
     "data": {
      "image/png": "[encoded data removed]",
      "text/plain": [
       "<Figure size 432x288 with 1 Axes>"
      ]
     },
     "metadata": {
      "needs_background": "light"
     },
     "output_type": "display_data"
    }
   ],
   "source": [
    "# Get feature (independent variables) importance\n",
    "\n",
    "from matplotlib import pyplot\n",
    "\n",
    "importance = AutoInsDT.feature_importances_\n",
    "\n",
    "# summarize feature importance\n",
    "\n",
    "for i,j in enumerate(importance):\n",
    "    print('Feature: %0d, Score: %.5f' % (i,j))\n",
    "    \n",
    "# plot feature importance\n",
    "pyplot.bar([x for x in range(len(importance))], importance)\n",
    "pyplot.show()\n",
    "\n",
    "# The positive scores indicate a feature that predicts class 1,\n",
    "# whereas the negative scores indicate a feature that predicts class 0"
   ]
  },
  {
   "cell_type": "code",
   "execution_count": null,
   "id": "5481ea9e",
   "metadata": {},
   "outputs": [],
   "source": []
  }
 ],
 "metadata": {
  "kernelspec": {
   "display_name": "Python 3",
   "language": "python",
   "name": "python3"
  },
  "language_info": {
   "codemirror_mode": {
    "name": "ipython",
    "version": 3
   },
   "file_extension": ".py",
   "mimetype": "text/x-python",
   "name": "python",
   "nbconvert_exporter": "python",
   "pygments_lexer": "ipython3",
   "version": "3.8.8"
  }
 },
 "nbformat": 4,
 "nbformat_minor": 5
}
