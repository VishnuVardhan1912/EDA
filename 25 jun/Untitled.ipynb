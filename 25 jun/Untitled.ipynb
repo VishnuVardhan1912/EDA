{
 "cells": [
  {
   "cell_type": "code",
   "execution_count": 2,
   "id": "e5df038c",
   "metadata": {},
   "outputs": [],
   "source": [
    "# Importing the laibraries\n",
    "import numpy as np\n",
    "import pandas as pd\n",
    "import matplotlib.pyplot as plt\n",
    "\n",
    "# Ingnore harmless warnings\n",
    "import warnings\n",
    "warnings.filterwarnings('ignore')\n",
    "\n",
    "import pandasql as psql"
   ]
  },
  {
   "cell_type": "code",
   "execution_count": 6,
   "id": "3de79385",
   "metadata": {},
   "outputs": [
    {
     "data": {
      "text/html": [
       "<div>\n",
       "<style scoped>\n",
       "    .dataframe tbody tr th:only-of-type {\n",
       "        vertical-align: middle;\n",
       "    }\n",
       "\n",
       "    .dataframe tbody tr th {\n",
       "        vertical-align: top;\n",
       "    }\n",
       "\n",
       "    .dataframe thead th {\n",
       "        text-align: right;\n",
       "    }\n",
       "</style>\n",
       "<table border=\"1\" class=\"dataframe\">\n",
       "  <thead>\n",
       "    <tr style=\"text-align: right;\">\n",
       "      <th></th>\n",
       "      <th>Quote_Num</th>\n",
       "      <th>Agent_Type</th>\n",
       "      <th>Q_Creation_DT</th>\n",
       "      <th>Q_Valid_DT</th>\n",
       "      <th>Policy_Bind_DT</th>\n",
       "      <th>Region</th>\n",
       "      <th>Agent_Num</th>\n",
       "      <th>Policy_Type</th>\n",
       "      <th>HH_Vehicles</th>\n",
       "      <th>HH_Drivers</th>\n",
       "      <th>...</th>\n",
       "      <th>Sal_Range1</th>\n",
       "      <th>Sal_Range2</th>\n",
       "      <th>Coverage</th>\n",
       "      <th>Veh_Usage</th>\n",
       "      <th>Annual_Miles_Range</th>\n",
       "      <th>Vehicl_Cost_Range1</th>\n",
       "      <th>Vehicl_Cost_Range2</th>\n",
       "      <th>Re_Quote</th>\n",
       "      <th>Quoted_Premium</th>\n",
       "      <th>Policy_Bind</th>\n",
       "    </tr>\n",
       "  </thead>\n",
       "  <tbody>\n",
       "    <tr>\n",
       "      <th>0</th>\n",
       "      <td>AQ-C-139212</td>\n",
       "      <td>EA</td>\n",
       "      <td>2020/04/25</td>\n",
       "      <td>2020/06/23</td>\n",
       "      <td>2020/05/23</td>\n",
       "      <td>C</td>\n",
       "      <td>2156</td>\n",
       "      <td>Car</td>\n",
       "      <td>3</td>\n",
       "      <td>3</td>\n",
       "      <td>...</td>\n",
       "      <td>&gt; $ 25 K &lt;= $ 40 K</td>\n",
       "      <td>&gt;  25 K &lt;=  40 K</td>\n",
       "      <td>Balanced</td>\n",
       "      <td>Commute</td>\n",
       "      <td>&gt; 55 K</td>\n",
       "      <td>&gt; $ 10 K &lt;= $ 20 K</td>\n",
       "      <td>&gt;  10 K &lt;=  20 K</td>\n",
       "      <td>No</td>\n",
       "      <td>693.86</td>\n",
       "      <td>Yes</td>\n",
       "    </tr>\n",
       "    <tr>\n",
       "      <th>1</th>\n",
       "      <td>AQ-F-136117</td>\n",
       "      <td>EA</td>\n",
       "      <td>2020/02/21</td>\n",
       "      <td>2020/04/20</td>\n",
       "      <td>NaN</td>\n",
       "      <td>F</td>\n",
       "      <td>2153</td>\n",
       "      <td>Van</td>\n",
       "      <td>2</td>\n",
       "      <td>2</td>\n",
       "      <td>...</td>\n",
       "      <td>&gt; $ 40 K &lt;= $ 60 K</td>\n",
       "      <td>&gt;  40 K &lt;=  60 K</td>\n",
       "      <td>Balanced</td>\n",
       "      <td>Pleasure</td>\n",
       "      <td>&gt; 7.5 K &amp; &lt;= 15 K</td>\n",
       "      <td>&lt;= $ 10 K</td>\n",
       "      <td>&lt;=  10 K</td>\n",
       "      <td>No</td>\n",
       "      <td>635.96</td>\n",
       "      <td>No</td>\n",
       "    </tr>\n",
       "    <tr>\n",
       "      <th>2</th>\n",
       "      <td>AQ-F-126801</td>\n",
       "      <td>EA</td>\n",
       "      <td>2020/06/19</td>\n",
       "      <td>2020/08/17</td>\n",
       "      <td>2020/07/12</td>\n",
       "      <td>F</td>\n",
       "      <td>2056</td>\n",
       "      <td>Truck</td>\n",
       "      <td>2</td>\n",
       "      <td>1</td>\n",
       "      <td>...</td>\n",
       "      <td>&gt; $ 40 K &lt;= $ 60 K</td>\n",
       "      <td>&gt;  40 K &lt;=  60 K</td>\n",
       "      <td>Basic</td>\n",
       "      <td>Commute</td>\n",
       "      <td>&gt; 35 K &amp; &lt;= 45 K</td>\n",
       "      <td>&gt; $ 10 K &lt;= $ 20 K</td>\n",
       "      <td>&gt;  10 K &lt;=  20 K</td>\n",
       "      <td>No</td>\n",
       "      <td>780.64</td>\n",
       "      <td>Yes</td>\n",
       "    </tr>\n",
       "    <tr>\n",
       "      <th>3</th>\n",
       "      <td>AQ-E-143467</td>\n",
       "      <td>EA</td>\n",
       "      <td>2020/05/02</td>\n",
       "      <td>2020/06/30</td>\n",
       "      <td>2020/05/24</td>\n",
       "      <td>E</td>\n",
       "      <td>2138</td>\n",
       "      <td>Car</td>\n",
       "      <td>1</td>\n",
       "      <td>2</td>\n",
       "      <td>...</td>\n",
       "      <td>&gt; $ 90 K</td>\n",
       "      <td>&gt;  90 K</td>\n",
       "      <td>Basic</td>\n",
       "      <td>Pleasure</td>\n",
       "      <td>&lt;= 7.5 K</td>\n",
       "      <td>&lt;= $ 10 K</td>\n",
       "      <td>&lt;=  10 K</td>\n",
       "      <td>No</td>\n",
       "      <td>723.15</td>\n",
       "      <td>Yes</td>\n",
       "    </tr>\n",
       "    <tr>\n",
       "      <th>4</th>\n",
       "      <td>AQ-C-143827</td>\n",
       "      <td>EA</td>\n",
       "      <td>2020/02/12</td>\n",
       "      <td>2020/04/11</td>\n",
       "      <td>2020/02/25</td>\n",
       "      <td>C</td>\n",
       "      <td>2327</td>\n",
       "      <td>Truck</td>\n",
       "      <td>3</td>\n",
       "      <td>1</td>\n",
       "      <td>...</td>\n",
       "      <td>&lt;= $ 25 K</td>\n",
       "      <td>&lt;=  25 K</td>\n",
       "      <td>Basic</td>\n",
       "      <td>Pleasure</td>\n",
       "      <td>&gt; 35 K &amp; &lt;= 45 K</td>\n",
       "      <td>&lt;= $ 10 K</td>\n",
       "      <td>&lt;=  10 K</td>\n",
       "      <td>No</td>\n",
       "      <td>738.14</td>\n",
       "      <td>Yes</td>\n",
       "    </tr>\n",
       "  </tbody>\n",
       "</table>\n",
       "<p>5 rows × 27 columns</p>\n",
       "</div>"
      ],
      "text/plain": [
       "     Quote_Num Agent_Type Q_Creation_DT  Q_Valid_DT Policy_Bind_DT Region  \\\n",
       "0  AQ-C-139212         EA    2020/04/25  2020/06/23     2020/05/23      C   \n",
       "1  AQ-F-136117         EA    2020/02/21  2020/04/20            NaN      F   \n",
       "2  AQ-F-126801         EA    2020/06/19  2020/08/17     2020/07/12      F   \n",
       "3  AQ-E-143467         EA    2020/05/02  2020/06/30     2020/05/24      E   \n",
       "4  AQ-C-143827         EA    2020/02/12  2020/04/11     2020/02/25      C   \n",
       "\n",
       "   Agent_Num Policy_Type  HH_Vehicles  HH_Drivers  ...          Sal_Range1  \\\n",
       "0       2156         Car            3           3  ...  > $ 25 K <= $ 40 K   \n",
       "1       2153         Van            2           2  ...  > $ 40 K <= $ 60 K   \n",
       "2       2056       Truck            2           1  ...  > $ 40 K <= $ 60 K   \n",
       "3       2138         Car            1           2  ...           > $ 90 K    \n",
       "4       2327       Truck            3           1  ...           <= $ 25 K   \n",
       "\n",
       "         Sal_Range2  Coverage  Veh_Usage Annual_Miles_Range  \\\n",
       "0  >  25 K <=  40 K  Balanced    Commute             > 55 K   \n",
       "1  >  40 K <=  60 K  Balanced   Pleasure  > 7.5 K & <= 15 K   \n",
       "2  >  40 K <=  60 K     Basic    Commute   > 35 K & <= 45 K   \n",
       "3          >  90 K      Basic   Pleasure           <= 7.5 K   \n",
       "4          <=  25 K     Basic   Pleasure   > 35 K & <= 45 K   \n",
       "\n",
       "   Vehicl_Cost_Range1 Vehicl_Cost_Range2 Re_Quote Quoted_Premium Policy_Bind  \n",
       "0  > $ 10 K <= $ 20 K   >  10 K <=  20 K       No         693.86         Yes  \n",
       "1           <= $ 10 K           <=  10 K       No         635.96          No  \n",
       "2  > $ 10 K <= $ 20 K   >  10 K <=  20 K       No         780.64         Yes  \n",
       "3           <= $ 10 K           <=  10 K       No         723.15         Yes  \n",
       "4           <= $ 10 K           <=  10 K       No         738.14         Yes  \n",
       "\n",
       "[5 rows x 27 columns]"
      ]
     },
     "execution_count": 6,
     "metadata": {},
     "output_type": "execute_result"
    }
   ],
   "source": [
    "AutoIns = pd.read_csv(r\"D:\\iiit notes\\Internship\\31 season 25th jun-2021\\Auto_Quote_Data_V2.0.csv\", header= 0)\n",
    "AutoIns.head()"
   ]
  },
  {
   "cell_type": "code",
   "execution_count": 7,
   "id": "3f4abe4d",
   "metadata": {},
   "outputs": [
    {
     "data": {
      "text/html": [
       "<div>\n",
       "<style scoped>\n",
       "    .dataframe tbody tr th:only-of-type {\n",
       "        vertical-align: middle;\n",
       "    }\n",
       "\n",
       "    .dataframe tbody tr th {\n",
       "        vertical-align: top;\n",
       "    }\n",
       "\n",
       "    .dataframe thead th {\n",
       "        text-align: right;\n",
       "    }\n",
       "</style>\n",
       "<table border=\"1\" class=\"dataframe\">\n",
       "  <thead>\n",
       "    <tr style=\"text-align: right;\">\n",
       "      <th></th>\n",
       "      <th>Quote_Num</th>\n",
       "      <th>Agent_Type</th>\n",
       "      <th>Q_Creation_DT</th>\n",
       "      <th>Q_Valid_DT</th>\n",
       "      <th>Policy_Bind_DT</th>\n",
       "      <th>Region</th>\n",
       "      <th>Agent_Num</th>\n",
       "      <th>Policy_Type</th>\n",
       "      <th>HH_Vehicles</th>\n",
       "      <th>HH_Drivers</th>\n",
       "      <th>...</th>\n",
       "      <th>Marital_Status</th>\n",
       "      <th>Education</th>\n",
       "      <th>Sal_Range2</th>\n",
       "      <th>Coverage</th>\n",
       "      <th>Veh_Usage</th>\n",
       "      <th>Annual_Miles_Range</th>\n",
       "      <th>Vehicl_Cost_Range2</th>\n",
       "      <th>Re_Quote</th>\n",
       "      <th>Quoted_Premium</th>\n",
       "      <th>Policy_Bind</th>\n",
       "    </tr>\n",
       "  </thead>\n",
       "  <tbody>\n",
       "    <tr>\n",
       "      <th>0</th>\n",
       "      <td>AQ-C-139212</td>\n",
       "      <td>EA</td>\n",
       "      <td>2020/04/25</td>\n",
       "      <td>2020/06/23</td>\n",
       "      <td>2020/05/23</td>\n",
       "      <td>C</td>\n",
       "      <td>2156</td>\n",
       "      <td>Car</td>\n",
       "      <td>3</td>\n",
       "      <td>3</td>\n",
       "      <td>...</td>\n",
       "      <td>Widow</td>\n",
       "      <td>High School</td>\n",
       "      <td>&gt;  25 K &lt;=  40 K</td>\n",
       "      <td>Balanced</td>\n",
       "      <td>Commute</td>\n",
       "      <td>&gt; 55 K</td>\n",
       "      <td>&gt;  10 K &lt;=  20 K</td>\n",
       "      <td>No</td>\n",
       "      <td>693.86</td>\n",
       "      <td>Yes</td>\n",
       "    </tr>\n",
       "    <tr>\n",
       "      <th>1</th>\n",
       "      <td>AQ-F-136117</td>\n",
       "      <td>EA</td>\n",
       "      <td>2020/02/21</td>\n",
       "      <td>2020/04/20</td>\n",
       "      <td>NaN</td>\n",
       "      <td>F</td>\n",
       "      <td>2153</td>\n",
       "      <td>Van</td>\n",
       "      <td>2</td>\n",
       "      <td>2</td>\n",
       "      <td>...</td>\n",
       "      <td>Dirvorced</td>\n",
       "      <td>Ph.D</td>\n",
       "      <td>&gt;  40 K &lt;=  60 K</td>\n",
       "      <td>Balanced</td>\n",
       "      <td>Pleasure</td>\n",
       "      <td>&gt; 7.5 K &amp; &lt;= 15 K</td>\n",
       "      <td>&lt;=  10 K</td>\n",
       "      <td>No</td>\n",
       "      <td>635.96</td>\n",
       "      <td>No</td>\n",
       "    </tr>\n",
       "    <tr>\n",
       "      <th>2</th>\n",
       "      <td>AQ-F-126801</td>\n",
       "      <td>EA</td>\n",
       "      <td>2020/06/19</td>\n",
       "      <td>2020/08/17</td>\n",
       "      <td>2020/07/12</td>\n",
       "      <td>F</td>\n",
       "      <td>2056</td>\n",
       "      <td>Truck</td>\n",
       "      <td>2</td>\n",
       "      <td>1</td>\n",
       "      <td>...</td>\n",
       "      <td>Dirvorced</td>\n",
       "      <td>Ph.D</td>\n",
       "      <td>&gt;  40 K &lt;=  60 K</td>\n",
       "      <td>Basic</td>\n",
       "      <td>Commute</td>\n",
       "      <td>&gt; 35 K &amp; &lt;= 45 K</td>\n",
       "      <td>&gt;  10 K &lt;=  20 K</td>\n",
       "      <td>No</td>\n",
       "      <td>780.64</td>\n",
       "      <td>Yes</td>\n",
       "    </tr>\n",
       "    <tr>\n",
       "      <th>3</th>\n",
       "      <td>AQ-E-143467</td>\n",
       "      <td>EA</td>\n",
       "      <td>2020/05/02</td>\n",
       "      <td>2020/06/30</td>\n",
       "      <td>2020/05/24</td>\n",
       "      <td>E</td>\n",
       "      <td>2138</td>\n",
       "      <td>Car</td>\n",
       "      <td>1</td>\n",
       "      <td>2</td>\n",
       "      <td>...</td>\n",
       "      <td>Married</td>\n",
       "      <td>Ph.D</td>\n",
       "      <td>&gt;  90 K</td>\n",
       "      <td>Basic</td>\n",
       "      <td>Pleasure</td>\n",
       "      <td>&lt;= 7.5 K</td>\n",
       "      <td>&lt;=  10 K</td>\n",
       "      <td>No</td>\n",
       "      <td>723.15</td>\n",
       "      <td>Yes</td>\n",
       "    </tr>\n",
       "    <tr>\n",
       "      <th>4</th>\n",
       "      <td>AQ-C-143827</td>\n",
       "      <td>EA</td>\n",
       "      <td>2020/02/12</td>\n",
       "      <td>2020/04/11</td>\n",
       "      <td>2020/02/25</td>\n",
       "      <td>C</td>\n",
       "      <td>2327</td>\n",
       "      <td>Truck</td>\n",
       "      <td>3</td>\n",
       "      <td>1</td>\n",
       "      <td>...</td>\n",
       "      <td>Widow</td>\n",
       "      <td>High School</td>\n",
       "      <td>&lt;=  25 K</td>\n",
       "      <td>Basic</td>\n",
       "      <td>Pleasure</td>\n",
       "      <td>&gt; 35 K &amp; &lt;= 45 K</td>\n",
       "      <td>&lt;=  10 K</td>\n",
       "      <td>No</td>\n",
       "      <td>738.14</td>\n",
       "      <td>Yes</td>\n",
       "    </tr>\n",
       "  </tbody>\n",
       "</table>\n",
       "<p>5 rows × 25 columns</p>\n",
       "</div>"
      ],
      "text/plain": [
       "     Quote_Num Agent_Type Q_Creation_DT  Q_Valid_DT Policy_Bind_DT Region  \\\n",
       "0  AQ-C-139212         EA    2020/04/25  2020/06/23     2020/05/23      C   \n",
       "1  AQ-F-136117         EA    2020/02/21  2020/04/20            NaN      F   \n",
       "2  AQ-F-126801         EA    2020/06/19  2020/08/17     2020/07/12      F   \n",
       "3  AQ-E-143467         EA    2020/05/02  2020/06/30     2020/05/24      E   \n",
       "4  AQ-C-143827         EA    2020/02/12  2020/04/11     2020/02/25      C   \n",
       "\n",
       "   Agent_Num Policy_Type  HH_Vehicles  HH_Drivers  ...  Marital_Status  \\\n",
       "0       2156         Car            3           3  ...           Widow   \n",
       "1       2153         Van            2           2  ...       Dirvorced   \n",
       "2       2056       Truck            2           1  ...       Dirvorced   \n",
       "3       2138         Car            1           2  ...         Married   \n",
       "4       2327       Truck            3           1  ...           Widow   \n",
       "\n",
       "     Education        Sal_Range2  Coverage Veh_Usage Annual_Miles_Range  \\\n",
       "0  High School  >  25 K <=  40 K  Balanced   Commute             > 55 K   \n",
       "1         Ph.D  >  40 K <=  60 K  Balanced  Pleasure  > 7.5 K & <= 15 K   \n",
       "2         Ph.D  >  40 K <=  60 K     Basic   Commute   > 35 K & <= 45 K   \n",
       "3         Ph.D          >  90 K      Basic  Pleasure           <= 7.5 K   \n",
       "4  High School          <=  25 K     Basic  Pleasure   > 35 K & <= 45 K   \n",
       "\n",
       "  Vehicl_Cost_Range2 Re_Quote Quoted_Premium Policy_Bind  \n",
       "0   >  10 K <=  20 K       No         693.86         Yes  \n",
       "1           <=  10 K       No         635.96          No  \n",
       "2   >  10 K <=  20 K       No         780.64         Yes  \n",
       "3           <=  10 K       No         723.15         Yes  \n",
       "4           <=  10 K       No         738.14         Yes  \n",
       "\n",
       "[5 rows x 25 columns]"
      ]
     },
     "execution_count": 7,
     "metadata": {},
     "output_type": "execute_result"
    }
   ],
   "source": [
    "del AutoIns['Sal_Range1']\n",
    "del AutoIns['Vehicl_Cost_Range1']\n",
    "AutoIns.head()"
   ]
  },
  {
   "cell_type": "code",
   "execution_count": 8,
   "id": "5873864a",
   "metadata": {},
   "outputs": [],
   "source": [
    "# Convert the target variable data type into integer\n",
    "\n",
    "AutoIns['Policy_Bind'] = AutoIns['Policy_Bind'].str.replace('Yes', '1')\n",
    "AutoIns['Policy_Bind'] = AutoIns['Policy_Bind'].str.replace('No', '0')\n",
    "AutoIns['Policy_Bind'] = AutoIns['Policy_Bind'].astype(int)"
   ]
  },
  {
   "cell_type": "code",
   "execution_count": 9,
   "id": "e4cd7ba5",
   "metadata": {},
   "outputs": [
    {
     "name": "stdout",
     "output_type": "stream",
     "text": [
      "Class 0: 113757\n",
      "Class 1: 32502\n",
      "Proportion: 3.5 : 1\n",
      "Total Records: 146259\n"
     ]
    }
   ],
   "source": [
    "# Count the Target or dependent variable by '0' & '1' and \n",
    "# their proportion (> 10:1, then the dataset is imbalance dataset)\n",
    "\n",
    "Policy_Bind_count = AutoIns.Policy_Bind.value_counts()\n",
    "print('Class 0:', Policy_Bind_count[0])\n",
    "print('Class 1:', Policy_Bind_count[1])\n",
    "print('Proportion:', round(Policy_Bind_count[0] / Policy_Bind_count[1], 2), ': 1')\n",
    "print('Total Records:', len(AutoIns))"
   ]
  },
  {
   "cell_type": "code",
   "execution_count": 10,
   "id": "66b9a864",
   "metadata": {},
   "outputs": [
    {
     "name": "stdout",
     "output_type": "stream",
     "text": [
      "<class 'pandas.core.frame.DataFrame'>\n",
      "RangeIndex: 146259 entries, 0 to 146258\n",
      "Data columns (total 25 columns):\n",
      " #   Column              Non-Null Count   Dtype  \n",
      "---  ------              --------------   -----  \n",
      " 0   Quote_Num           146259 non-null  object \n",
      " 1   Agent_Type          146259 non-null  object \n",
      " 2   Q_Creation_DT       146259 non-null  object \n",
      " 3   Q_Valid_DT          146259 non-null  object \n",
      " 4   Policy_Bind_DT      32502 non-null   object \n",
      " 5   Region              146259 non-null  object \n",
      " 6   Agent_Num           146259 non-null  int64  \n",
      " 7   Policy_Type         146259 non-null  object \n",
      " 8   HH_Vehicles         146259 non-null  int64  \n",
      " 9   HH_Drivers          146259 non-null  int64  \n",
      " 10  Driver_Age          146259 non-null  int64  \n",
      " 11  Driving_Exp         146259 non-null  int64  \n",
      " 12  Prev_Accidents      146259 non-null  int64  \n",
      " 13  Prev_Citations      146259 non-null  int64  \n",
      " 14  Gender              146259 non-null  object \n",
      " 15  Marital_Status      146259 non-null  object \n",
      " 16  Education           146259 non-null  object \n",
      " 17  Sal_Range2          146259 non-null  object \n",
      " 18  Coverage            146259 non-null  object \n",
      " 19  Veh_Usage           146259 non-null  object \n",
      " 20  Annual_Miles_Range  146259 non-null  object \n",
      " 21  Vehicl_Cost_Range2  146259 non-null  object \n",
      " 22  Re_Quote            146259 non-null  object \n",
      " 23  Quoted_Premium      146259 non-null  float64\n",
      " 24  Policy_Bind         146259 non-null  int32  \n",
      "dtypes: float64(1), int32(1), int64(7), object(16)\n",
      "memory usage: 27.3+ MB\n"
     ]
    }
   ],
   "source": [
    "AutoIns.info()"
   ]
  },
  {
   "cell_type": "code",
   "execution_count": 11,
   "id": "7a47d04d",
   "metadata": {},
   "outputs": [
    {
     "data": {
      "text/html": [
       "<div>\n",
       "<style scoped>\n",
       "    .dataframe tbody tr th:only-of-type {\n",
       "        vertical-align: middle;\n",
       "    }\n",
       "\n",
       "    .dataframe tbody tr th {\n",
       "        vertical-align: top;\n",
       "    }\n",
       "\n",
       "    .dataframe thead th {\n",
       "        text-align: right;\n",
       "    }\n",
       "</style>\n",
       "<table border=\"1\" class=\"dataframe\">\n",
       "  <thead>\n",
       "    <tr style=\"text-align: right;\">\n",
       "      <th></th>\n",
       "      <th>Agent_Type</th>\n",
       "      <th>Region</th>\n",
       "      <th>Policy_Type</th>\n",
       "      <th>HH_Vehicles</th>\n",
       "      <th>HH_Drivers</th>\n",
       "      <th>Driver_Age</th>\n",
       "      <th>Driving_Exp</th>\n",
       "      <th>Prev_Accidents</th>\n",
       "      <th>Prev_Citations</th>\n",
       "      <th>Gender</th>\n",
       "      <th>Marital_Status</th>\n",
       "      <th>Education</th>\n",
       "      <th>Sal_Range2</th>\n",
       "      <th>Coverage</th>\n",
       "      <th>Veh_Usage</th>\n",
       "      <th>Annual_Miles_Range</th>\n",
       "      <th>Vehicl_Cost_Range2</th>\n",
       "      <th>Re_Quote</th>\n",
       "      <th>Quoted_Premium</th>\n",
       "      <th>Policy_Bind</th>\n",
       "    </tr>\n",
       "  </thead>\n",
       "  <tbody>\n",
       "    <tr>\n",
       "      <th>0</th>\n",
       "      <td>EA</td>\n",
       "      <td>C</td>\n",
       "      <td>Car</td>\n",
       "      <td>3</td>\n",
       "      <td>3</td>\n",
       "      <td>43</td>\n",
       "      <td>26</td>\n",
       "      <td>0</td>\n",
       "      <td>0</td>\n",
       "      <td>Female</td>\n",
       "      <td>Widow</td>\n",
       "      <td>High School</td>\n",
       "      <td>&gt;  25 K &lt;=  40 K</td>\n",
       "      <td>Balanced</td>\n",
       "      <td>Commute</td>\n",
       "      <td>&gt; 55 K</td>\n",
       "      <td>&gt;  10 K &lt;=  20 K</td>\n",
       "      <td>No</td>\n",
       "      <td>693.86</td>\n",
       "      <td>1</td>\n",
       "    </tr>\n",
       "    <tr>\n",
       "      <th>1</th>\n",
       "      <td>EA</td>\n",
       "      <td>F</td>\n",
       "      <td>Van</td>\n",
       "      <td>2</td>\n",
       "      <td>2</td>\n",
       "      <td>30</td>\n",
       "      <td>13</td>\n",
       "      <td>0</td>\n",
       "      <td>0</td>\n",
       "      <td>Female</td>\n",
       "      <td>Dirvorced</td>\n",
       "      <td>Ph.D</td>\n",
       "      <td>&gt;  40 K &lt;=  60 K</td>\n",
       "      <td>Balanced</td>\n",
       "      <td>Pleasure</td>\n",
       "      <td>&gt; 7.5 K &amp; &lt;= 15 K</td>\n",
       "      <td>&lt;=  10 K</td>\n",
       "      <td>No</td>\n",
       "      <td>635.96</td>\n",
       "      <td>0</td>\n",
       "    </tr>\n",
       "    <tr>\n",
       "      <th>2</th>\n",
       "      <td>EA</td>\n",
       "      <td>F</td>\n",
       "      <td>Truck</td>\n",
       "      <td>2</td>\n",
       "      <td>1</td>\n",
       "      <td>25</td>\n",
       "      <td>8</td>\n",
       "      <td>0</td>\n",
       "      <td>0</td>\n",
       "      <td>Female</td>\n",
       "      <td>Dirvorced</td>\n",
       "      <td>Ph.D</td>\n",
       "      <td>&gt;  40 K &lt;=  60 K</td>\n",
       "      <td>Basic</td>\n",
       "      <td>Commute</td>\n",
       "      <td>&gt; 35 K &amp; &lt;= 45 K</td>\n",
       "      <td>&gt;  10 K &lt;=  20 K</td>\n",
       "      <td>No</td>\n",
       "      <td>780.64</td>\n",
       "      <td>1</td>\n",
       "    </tr>\n",
       "    <tr>\n",
       "      <th>3</th>\n",
       "      <td>EA</td>\n",
       "      <td>E</td>\n",
       "      <td>Car</td>\n",
       "      <td>1</td>\n",
       "      <td>2</td>\n",
       "      <td>43</td>\n",
       "      <td>26</td>\n",
       "      <td>0</td>\n",
       "      <td>0</td>\n",
       "      <td>Female</td>\n",
       "      <td>Married</td>\n",
       "      <td>Ph.D</td>\n",
       "      <td>&gt;  90 K</td>\n",
       "      <td>Basic</td>\n",
       "      <td>Pleasure</td>\n",
       "      <td>&lt;= 7.5 K</td>\n",
       "      <td>&lt;=  10 K</td>\n",
       "      <td>No</td>\n",
       "      <td>723.15</td>\n",
       "      <td>1</td>\n",
       "    </tr>\n",
       "    <tr>\n",
       "      <th>4</th>\n",
       "      <td>EA</td>\n",
       "      <td>C</td>\n",
       "      <td>Truck</td>\n",
       "      <td>3</td>\n",
       "      <td>1</td>\n",
       "      <td>40</td>\n",
       "      <td>23</td>\n",
       "      <td>0</td>\n",
       "      <td>0</td>\n",
       "      <td>Female</td>\n",
       "      <td>Widow</td>\n",
       "      <td>High School</td>\n",
       "      <td>&lt;=  25 K</td>\n",
       "      <td>Basic</td>\n",
       "      <td>Pleasure</td>\n",
       "      <td>&gt; 35 K &amp; &lt;= 45 K</td>\n",
       "      <td>&lt;=  10 K</td>\n",
       "      <td>No</td>\n",
       "      <td>738.14</td>\n",
       "      <td>1</td>\n",
       "    </tr>\n",
       "  </tbody>\n",
       "</table>\n",
       "</div>"
      ],
      "text/plain": [
       "  Agent_Type Region Policy_Type  HH_Vehicles  HH_Drivers  Driver_Age  \\\n",
       "0         EA      C         Car            3           3          43   \n",
       "1         EA      F         Van            2           2          30   \n",
       "2         EA      F       Truck            2           1          25   \n",
       "3         EA      E         Car            1           2          43   \n",
       "4         EA      C       Truck            3           1          40   \n",
       "\n",
       "   Driving_Exp  Prev_Accidents  Prev_Citations  Gender Marital_Status  \\\n",
       "0           26               0               0  Female          Widow   \n",
       "1           13               0               0  Female      Dirvorced   \n",
       "2            8               0               0  Female      Dirvorced   \n",
       "3           26               0               0  Female        Married   \n",
       "4           23               0               0  Female          Widow   \n",
       "\n",
       "     Education        Sal_Range2  Coverage Veh_Usage Annual_Miles_Range  \\\n",
       "0  High School  >  25 K <=  40 K  Balanced   Commute             > 55 K   \n",
       "1         Ph.D  >  40 K <=  60 K  Balanced  Pleasure  > 7.5 K & <= 15 K   \n",
       "2         Ph.D  >  40 K <=  60 K     Basic   Commute   > 35 K & <= 45 K   \n",
       "3         Ph.D          >  90 K      Basic  Pleasure           <= 7.5 K   \n",
       "4  High School          <=  25 K     Basic  Pleasure   > 35 K & <= 45 K   \n",
       "\n",
       "  Vehicl_Cost_Range2 Re_Quote  Quoted_Premium  Policy_Bind  \n",
       "0   >  10 K <=  20 K       No          693.86            1  \n",
       "1           <=  10 K       No          635.96            0  \n",
       "2   >  10 K <=  20 K       No          780.64            1  \n",
       "3           <=  10 K       No          723.15            1  \n",
       "4           <=  10 K       No          738.14            1  "
      ]
     },
     "execution_count": 11,
     "metadata": {},
     "output_type": "execute_result"
    }
   ],
   "source": [
    "AutoIns = AutoIns.drop(['Quote_Num', 'Q_Creation_DT', 'Q_Valid_DT', 'Policy_Bind_DT', 'Agent_Num'], axis = 1)\n",
    "AutoIns.head()"
   ]
  },
  {
   "cell_type": "code",
   "execution_count": 12,
   "id": "ca9001b0",
   "metadata": {},
   "outputs": [
    {
     "data": {
      "text/plain": [
       "EA    104004\n",
       "IA     42255\n",
       "Name: Agent_Type, dtype: int64"
      ]
     },
     "execution_count": 12,
     "metadata": {},
     "output_type": "execute_result"
    }
   ],
   "source": [
    "AutoIns['Agent_Type'].value_counts(sort = False)"
   ]
  },
  {
   "cell_type": "code",
   "execution_count": 13,
   "id": "c2fb20c2",
   "metadata": {},
   "outputs": [],
   "source": [
    "AutoIns['Agent_Type'] = AutoIns['Agent_Type'].str.replace('IA', '1')\n",
    "AutoIns['Agent_Type'] = AutoIns['Agent_Type'].str.replace('EA', '0')\n",
    "AutoIns['Agent_Type'] = AutoIns['Agent_Type'].astype(int)"
   ]
  },
  {
   "cell_type": "code",
   "execution_count": 14,
   "id": "37b6cb7f",
   "metadata": {},
   "outputs": [
    {
     "data": {
      "text/plain": [
       "0    104004\n",
       "1     42255\n",
       "Name: Agent_Type, dtype: int64"
      ]
     },
     "execution_count": 14,
     "metadata": {},
     "output_type": "execute_result"
    }
   ],
   "source": [
    "AutoIns['Agent_Type'].value_counts(sort = False)"
   ]
  },
  {
   "cell_type": "code",
   "execution_count": 15,
   "id": "31659bb7",
   "metadata": {},
   "outputs": [
    {
     "data": {
      "text/plain": [
       "H    18474\n",
       "G    18073\n",
       "C    18137\n",
       "B    18213\n",
       "A    18329\n",
       "F    18320\n",
       "E    18324\n",
       "D    18389\n",
       "Name: Region, dtype: int64"
      ]
     },
     "execution_count": 15,
     "metadata": {},
     "output_type": "execute_result"
    }
   ],
   "source": [
    "AutoIns['Region'].value_counts(sort = False)"
   ]
  },
  {
   "cell_type": "code",
   "execution_count": 16,
   "id": "f36d7e2a",
   "metadata": {},
   "outputs": [],
   "source": [
    "AutoIns['Region'] = AutoIns['Region'].str.replace('A', '1')\n",
    "AutoIns['Region'] = AutoIns['Region'].str.replace('B', '2')\n",
    "AutoIns['Region'] = AutoIns['Region'].str.replace('C', '3')\n",
    "AutoIns['Region'] = AutoIns['Region'].str.replace('D', '4')\n",
    "AutoIns['Region'] = AutoIns['Region'].str.replace('E', '5')\n",
    "AutoIns['Region'] = AutoIns['Region'].str.replace('F', '6')\n",
    "AutoIns['Region'] = AutoIns['Region'].str.replace('G', '7')\n",
    "AutoIns['Region'] = AutoIns['Region'].str.replace('H', '8')\n",
    "AutoIns['Region'] = AutoIns['Region'].astype(int)\n"
   ]
  },
  {
   "cell_type": "code",
   "execution_count": 17,
   "id": "2b1d9605",
   "metadata": {},
   "outputs": [
    {
     "data": {
      "text/plain": [
       "1    18329\n",
       "2    18213\n",
       "3    18137\n",
       "4    18389\n",
       "5    18324\n",
       "6    18320\n",
       "7    18073\n",
       "8    18474\n",
       "Name: Region, dtype: int64"
      ]
     },
     "execution_count": 17,
     "metadata": {},
     "output_type": "execute_result"
    }
   ],
   "source": [
    "AutoIns['Region'].value_counts(sort = False)"
   ]
  },
  {
   "cell_type": "code",
   "execution_count": 18,
   "id": "a442b8c6",
   "metadata": {},
   "outputs": [
    {
     "name": "stdout",
     "output_type": "stream",
     "text": [
      "<class 'pandas.core.frame.DataFrame'>\n",
      "RangeIndex: 146259 entries, 0 to 146258\n",
      "Data columns (total 20 columns):\n",
      " #   Column              Non-Null Count   Dtype  \n",
      "---  ------              --------------   -----  \n",
      " 0   Agent_Type          146259 non-null  int32  \n",
      " 1   Region              146259 non-null  int32  \n",
      " 2   Policy_Type         146259 non-null  object \n",
      " 3   HH_Vehicles         146259 non-null  int64  \n",
      " 4   HH_Drivers          146259 non-null  int64  \n",
      " 5   Driver_Age          146259 non-null  int64  \n",
      " 6   Driving_Exp         146259 non-null  int64  \n",
      " 7   Prev_Accidents      146259 non-null  int64  \n",
      " 8   Prev_Citations      146259 non-null  int64  \n",
      " 9   Gender              146259 non-null  object \n",
      " 10  Marital_Status      146259 non-null  object \n",
      " 11  Education           146259 non-null  object \n",
      " 12  Sal_Range2          146259 non-null  object \n",
      " 13  Coverage            146259 non-null  object \n",
      " 14  Veh_Usage           146259 non-null  object \n",
      " 15  Annual_Miles_Range  146259 non-null  object \n",
      " 16  Vehicl_Cost_Range2  146259 non-null  object \n",
      " 17  Re_Quote            146259 non-null  object \n",
      " 18  Quoted_Premium      146259 non-null  float64\n",
      " 19  Policy_Bind         146259 non-null  int32  \n",
      "dtypes: float64(1), int32(3), int64(6), object(10)\n",
      "memory usage: 20.6+ MB\n"
     ]
    }
   ],
   "source": [
    "AutoIns.info()"
   ]
  },
  {
   "cell_type": "code",
   "execution_count": 19,
   "id": "2e3cfaf7",
   "metadata": {},
   "outputs": [
    {
     "data": {
      "text/plain": [
       "Female    73294\n",
       "Male      72965\n",
       "Name: Gender, dtype: int64"
      ]
     },
     "execution_count": 19,
     "metadata": {},
     "output_type": "execute_result"
    }
   ],
   "source": [
    "AutoIns['Gender'].value_counts(sort = False)"
   ]
  },
  {
   "cell_type": "code",
   "execution_count": 20,
   "id": "c59790d0",
   "metadata": {},
   "outputs": [],
   "source": [
    "AutoIns['Gender'] = AutoIns['Gender'].str.replace('Female', '0')\n",
    "AutoIns['Gender'] = AutoIns['Gender'].str.replace('Male', '1')\n",
    "AutoIns['Gender'] = AutoIns['Gender'].astype(int)"
   ]
  },
  {
   "cell_type": "code",
   "execution_count": 21,
   "id": "df6fe9aa",
   "metadata": {},
   "outputs": [
    {
     "data": {
      "text/plain": [
       "0    73294\n",
       "1    72965\n",
       "Name: Gender, dtype: int64"
      ]
     },
     "execution_count": 21,
     "metadata": {},
     "output_type": "execute_result"
    }
   ],
   "source": [
    "AutoIns['Gender'].value_counts(sort = False)"
   ]
  },
  {
   "cell_type": "code",
   "execution_count": 22,
   "id": "fe191359",
   "metadata": {},
   "outputs": [
    {
     "data": {
      "text/plain": [
       "Widow        36523\n",
       "Dirvorced    36520\n",
       "Married      36505\n",
       "Single       36711\n",
       "Name: Marital_Status, dtype: int64"
      ]
     },
     "execution_count": 22,
     "metadata": {},
     "output_type": "execute_result"
    }
   ],
   "source": [
    "AutoIns['Marital_Status'].value_counts(sort = False)"
   ]
  },
  {
   "cell_type": "code",
   "execution_count": 24,
   "id": "e4bf86d5",
   "metadata": {},
   "outputs": [],
   "source": [
    "AutoIns['Marital_Status'] = AutoIns['Marital_Status'].str.replace('Single', '1')\n",
    "AutoIns['Marital_Status'] = AutoIns['Marital_Status'].str.replace('Dirvorced', '2')\n",
    "AutoIns['Marital_Status'] = AutoIns['Marital_Status'].str.replace('Widow', '3')\n",
    "AutoIns['Marital_Status'] = AutoIns['Marital_Status'].str.replace('Married', '4')\n",
    "AutoIns['Marital_Status'] = AutoIns['Marital_Status'].astype(int)\n"
   ]
  },
  {
   "cell_type": "code",
   "execution_count": 25,
   "id": "caa5ead5",
   "metadata": {},
   "outputs": [
    {
     "data": {
      "text/plain": [
       "1    36711\n",
       "2    36520\n",
       "3    36523\n",
       "4    36505\n",
       "Name: Marital_Status, dtype: int64"
      ]
     },
     "execution_count": 25,
     "metadata": {},
     "output_type": "execute_result"
    }
   ],
   "source": [
    "AutoIns['Marital_Status'].value_counts(sort = False)"
   ]
  },
  {
   "cell_type": "code",
   "execution_count": 26,
   "id": "d6adb73d",
   "metadata": {},
   "outputs": [
    {
     "data": {
      "text/plain": [
       "Ph.D           28970\n",
       "Bachelors      29232\n",
       "College        29475\n",
       "High School    29149\n",
       "Masters        29433\n",
       "Name: Education, dtype: int64"
      ]
     },
     "execution_count": 26,
     "metadata": {},
     "output_type": "execute_result"
    }
   ],
   "source": [
    "AutoIns['Education'].value_counts(sort = False)"
   ]
  },
  {
   "cell_type": "code",
   "execution_count": 27,
   "id": "4e5dfaff",
   "metadata": {},
   "outputs": [],
   "source": [
    "AutoIns['Education'] = AutoIns['Education'].str.replace('High School', '1')\n",
    "AutoIns['Education'] = AutoIns['Education'].str.replace('College', '2')\n",
    "AutoIns['Education'] = AutoIns['Education'].str.replace('Bachelors', '3')\n",
    "AutoIns['Education'] = AutoIns['Education'].str.replace('Masters', '4')\n",
    "AutoIns['Education'] = AutoIns['Education'].str.replace('Ph.D', '5')\n",
    "AutoIns['Education'] = AutoIns['Education'].astype(int)"
   ]
  },
  {
   "cell_type": "code",
   "execution_count": 28,
   "id": "56633236",
   "metadata": {},
   "outputs": [
    {
     "data": {
      "text/plain": [
       "1    29149\n",
       "2    29475\n",
       "3    29232\n",
       "4    29433\n",
       "5    28970\n",
       "Name: Education, dtype: int64"
      ]
     },
     "execution_count": 28,
     "metadata": {},
     "output_type": "execute_result"
    }
   ],
   "source": [
    "AutoIns['Education'].value_counts(sort = False)"
   ]
  },
  {
   "cell_type": "code",
   "execution_count": 30,
   "id": "bc79c832",
   "metadata": {},
   "outputs": [
    {
     "data": {
      "text/plain": [
       "Basic       62764\n",
       "Enhanced    41720\n",
       "Balanced    41775\n",
       "Name: Coverage, dtype: int64"
      ]
     },
     "execution_count": 30,
     "metadata": {},
     "output_type": "execute_result"
    }
   ],
   "source": [
    "AutoIns['Coverage'].value_counts(sort = False)"
   ]
  },
  {
   "cell_type": "code",
   "execution_count": 32,
   "id": "e5051a84",
   "metadata": {},
   "outputs": [],
   "source": [
    "AutoIns['Coverage'] = AutoIns['Coverage'].str.replace('Basic', '1')\n",
    "AutoIns['Coverage'] = AutoIns['Coverage'].str.replace('Balanced', '2')\n",
    "AutoIns['Coverage'] = AutoIns['Coverage'].str.replace('Enhanced', '3')\n",
    "AutoIns['Coverage'] = AutoIns['Coverage'].astype(int)"
   ]
  },
  {
   "cell_type": "code",
   "execution_count": 33,
   "id": "b171bc82",
   "metadata": {},
   "outputs": [
    {
     "data": {
      "text/plain": [
       "1    62764\n",
       "2    41775\n",
       "3    41720\n",
       "Name: Coverage, dtype: int64"
      ]
     },
     "execution_count": 33,
     "metadata": {},
     "output_type": "execute_result"
    }
   ],
   "source": [
    "AutoIns['Coverage'].value_counts(sort = False)"
   ]
  },
  {
   "cell_type": "code",
   "execution_count": 34,
   "id": "57a7ad9e",
   "metadata": {},
   "outputs": [
    {
     "data": {
      "text/plain": [
       "Business    20834\n",
       "Pleasure    83504\n",
       "Commute     41921\n",
       "Name: Veh_Usage, dtype: int64"
      ]
     },
     "execution_count": 34,
     "metadata": {},
     "output_type": "execute_result"
    }
   ],
   "source": [
    "AutoIns['Veh_Usage'].value_counts(sort = False)"
   ]
  },
  {
   "cell_type": "code",
   "execution_count": 37,
   "id": "805bd8e0",
   "metadata": {},
   "outputs": [],
   "source": [
    "AutoIns['Veh_Usage'] = AutoIns['Veh_Usage'].str.replace('Pleasure', '1')\n",
    "AutoIns['Veh_Usage'] = AutoIns['Veh_Usage'].str.replace('Commute', '2')\n",
    "AutoIns['Veh_Usage'] = AutoIns['Veh_Usage'].str.replace('Business', '3')\n",
    "AutoIns['Veh_Usage'] = AutoIns['Veh_Usage'].astype(int)"
   ]
  },
  {
   "cell_type": "code",
   "execution_count": 38,
   "id": "f4889a7a",
   "metadata": {},
   "outputs": [
    {
     "data": {
      "text/plain": [
       "1    83504\n",
       "2    41921\n",
       "3    20834\n",
       "Name: Veh_Usage, dtype: int64"
      ]
     },
     "execution_count": 38,
     "metadata": {},
     "output_type": "execute_result"
    }
   ],
   "source": [
    "AutoIns['Veh_Usage'].value_counts(sort = False)"
   ]
  },
  {
   "cell_type": "code",
   "execution_count": 39,
   "id": "0012b396",
   "metadata": {},
   "outputs": [
    {
     "data": {
      "text/plain": [
       "Yes     36254\n",
       "No     110005\n",
       "Name: Re_Quote, dtype: int64"
      ]
     },
     "execution_count": 39,
     "metadata": {},
     "output_type": "execute_result"
    }
   ],
   "source": [
    "AutoIns['Re_Quote'].value_counts(sort = False)"
   ]
  },
  {
   "cell_type": "code",
   "execution_count": 40,
   "id": "9d9bbc8f",
   "metadata": {},
   "outputs": [],
   "source": [
    "AutoIns['Re_Quote'] = AutoIns['Re_Quote'].str.replace('Yes', '1')\n",
    "AutoIns['Re_Quote'] = AutoIns['Re_Quote'].str.replace('No', '0')\n",
    "AutoIns['Re_Quote'] = AutoIns['Re_Quote'].astype(int)\n"
   ]
  },
  {
   "cell_type": "code",
   "execution_count": 41,
   "id": "6bdc63f0",
   "metadata": {},
   "outputs": [
    {
     "data": {
      "text/plain": [
       "0    110005\n",
       "1     36254\n",
       "Name: Re_Quote, dtype: int64"
      ]
     },
     "execution_count": 41,
     "metadata": {},
     "output_type": "execute_result"
    }
   ],
   "source": [
    "AutoIns['Re_Quote'].value_counts(sort = False)"
   ]
  },
  {
   "cell_type": "code",
   "execution_count": 42,
   "id": "5a6b8241",
   "metadata": {},
   "outputs": [
    {
     "name": "stdout",
     "output_type": "stream",
     "text": [
      "<class 'pandas.core.frame.DataFrame'>\n",
      "RangeIndex: 146259 entries, 0 to 146258\n",
      "Data columns (total 20 columns):\n",
      " #   Column              Non-Null Count   Dtype  \n",
      "---  ------              --------------   -----  \n",
      " 0   Agent_Type          146259 non-null  int32  \n",
      " 1   Region              146259 non-null  int32  \n",
      " 2   Policy_Type         146259 non-null  object \n",
      " 3   HH_Vehicles         146259 non-null  int64  \n",
      " 4   HH_Drivers          146259 non-null  int64  \n",
      " 5   Driver_Age          146259 non-null  int64  \n",
      " 6   Driving_Exp         146259 non-null  int64  \n",
      " 7   Prev_Accidents      146259 non-null  int64  \n",
      " 8   Prev_Citations      146259 non-null  int64  \n",
      " 9   Gender              146259 non-null  int32  \n",
      " 10  Marital_Status      146259 non-null  int32  \n",
      " 11  Education           146259 non-null  int32  \n",
      " 12  Sal_Range2          146259 non-null  object \n",
      " 13  Coverage            146259 non-null  int32  \n",
      " 14  Veh_Usage           146259 non-null  int32  \n",
      " 15  Annual_Miles_Range  146259 non-null  object \n",
      " 16  Vehicl_Cost_Range2  146259 non-null  object \n",
      " 17  Re_Quote            146259 non-null  int32  \n",
      " 18  Quoted_Premium      146259 non-null  float64\n",
      " 19  Policy_Bind         146259 non-null  int32  \n",
      "dtypes: float64(1), int32(9), int64(6), object(4)\n",
      "memory usage: 17.3+ MB\n"
     ]
    }
   ],
   "source": [
    "AutoIns.info()"
   ]
  },
  {
   "cell_type": "code",
   "execution_count": 43,
   "id": "8d79f264",
   "metadata": {},
   "outputs": [
    {
     "data": {
      "text/plain": [
       "Index(['Agent_Type', 'Region', 'Policy_Type', 'HH_Vehicles', 'HH_Drivers',\n",
       "       'Driver_Age', 'Driving_Exp', 'Prev_Accidents', 'Prev_Citations',\n",
       "       'Gender', 'Marital_Status', 'Education', 'Sal_Range2', 'Coverage',\n",
       "       'Veh_Usage', 'Annual_Miles_Range', 'Vehicl_Cost_Range2', 'Re_Quote',\n",
       "       'Quoted_Premium', 'Policy_Bind'],\n",
       "      dtype='object')"
      ]
     },
     "execution_count": 43,
     "metadata": {},
     "output_type": "execute_result"
    }
   ],
   "source": [
    "AutoIns.columns"
   ]
  },
  {
   "cell_type": "code",
   "execution_count": 44,
   "id": "1fa8aee4",
   "metadata": {},
   "outputs": [
    {
     "data": {
      "text/plain": [
       "(146259, 20)"
      ]
     },
     "execution_count": 44,
     "metadata": {},
     "output_type": "execute_result"
    }
   ],
   "source": [
    "AutoIns.shape"
   ]
  },
  {
   "cell_type": "code",
   "execution_count": 45,
   "id": "d3fd2211",
   "metadata": {},
   "outputs": [
    {
     "data": {
      "text/html": [
       "<div>\n",
       "<style scoped>\n",
       "    .dataframe tbody tr th:only-of-type {\n",
       "        vertical-align: middle;\n",
       "    }\n",
       "\n",
       "    .dataframe tbody tr th {\n",
       "        vertical-align: top;\n",
       "    }\n",
       "\n",
       "    .dataframe thead th {\n",
       "        text-align: right;\n",
       "    }\n",
       "</style>\n",
       "<table border=\"1\" class=\"dataframe\">\n",
       "  <thead>\n",
       "    <tr style=\"text-align: right;\">\n",
       "      <th></th>\n",
       "      <th>0</th>\n",
       "      <th>1</th>\n",
       "      <th>2</th>\n",
       "      <th>3</th>\n",
       "      <th>4</th>\n",
       "    </tr>\n",
       "  </thead>\n",
       "  <tbody>\n",
       "    <tr>\n",
       "      <th>Agent_Type</th>\n",
       "      <td>0</td>\n",
       "      <td>0</td>\n",
       "      <td>0</td>\n",
       "      <td>0</td>\n",
       "      <td>0</td>\n",
       "    </tr>\n",
       "    <tr>\n",
       "      <th>Region</th>\n",
       "      <td>3</td>\n",
       "      <td>6</td>\n",
       "      <td>6</td>\n",
       "      <td>5</td>\n",
       "      <td>3</td>\n",
       "    </tr>\n",
       "    <tr>\n",
       "      <th>Policy_Type</th>\n",
       "      <td>Car</td>\n",
       "      <td>Van</td>\n",
       "      <td>Truck</td>\n",
       "      <td>Car</td>\n",
       "      <td>Truck</td>\n",
       "    </tr>\n",
       "    <tr>\n",
       "      <th>HH_Vehicles</th>\n",
       "      <td>3</td>\n",
       "      <td>2</td>\n",
       "      <td>2</td>\n",
       "      <td>1</td>\n",
       "      <td>3</td>\n",
       "    </tr>\n",
       "    <tr>\n",
       "      <th>HH_Drivers</th>\n",
       "      <td>3</td>\n",
       "      <td>2</td>\n",
       "      <td>1</td>\n",
       "      <td>2</td>\n",
       "      <td>1</td>\n",
       "    </tr>\n",
       "    <tr>\n",
       "      <th>Driver_Age</th>\n",
       "      <td>43</td>\n",
       "      <td>30</td>\n",
       "      <td>25</td>\n",
       "      <td>43</td>\n",
       "      <td>40</td>\n",
       "    </tr>\n",
       "    <tr>\n",
       "      <th>Driving_Exp</th>\n",
       "      <td>26</td>\n",
       "      <td>13</td>\n",
       "      <td>8</td>\n",
       "      <td>26</td>\n",
       "      <td>23</td>\n",
       "    </tr>\n",
       "    <tr>\n",
       "      <th>Prev_Accidents</th>\n",
       "      <td>0</td>\n",
       "      <td>0</td>\n",
       "      <td>0</td>\n",
       "      <td>0</td>\n",
       "      <td>0</td>\n",
       "    </tr>\n",
       "    <tr>\n",
       "      <th>Prev_Citations</th>\n",
       "      <td>0</td>\n",
       "      <td>0</td>\n",
       "      <td>0</td>\n",
       "      <td>0</td>\n",
       "      <td>0</td>\n",
       "    </tr>\n",
       "    <tr>\n",
       "      <th>Gender</th>\n",
       "      <td>0</td>\n",
       "      <td>0</td>\n",
       "      <td>0</td>\n",
       "      <td>0</td>\n",
       "      <td>0</td>\n",
       "    </tr>\n",
       "    <tr>\n",
       "      <th>Marital_Status</th>\n",
       "      <td>3</td>\n",
       "      <td>2</td>\n",
       "      <td>2</td>\n",
       "      <td>4</td>\n",
       "      <td>3</td>\n",
       "    </tr>\n",
       "    <tr>\n",
       "      <th>Education</th>\n",
       "      <td>1</td>\n",
       "      <td>5</td>\n",
       "      <td>5</td>\n",
       "      <td>5</td>\n",
       "      <td>1</td>\n",
       "    </tr>\n",
       "    <tr>\n",
       "      <th>Coverage</th>\n",
       "      <td>2</td>\n",
       "      <td>2</td>\n",
       "      <td>1</td>\n",
       "      <td>1</td>\n",
       "      <td>1</td>\n",
       "    </tr>\n",
       "    <tr>\n",
       "      <th>Veh_Usage</th>\n",
       "      <td>2</td>\n",
       "      <td>1</td>\n",
       "      <td>2</td>\n",
       "      <td>1</td>\n",
       "      <td>1</td>\n",
       "    </tr>\n",
       "    <tr>\n",
       "      <th>Re_Quote</th>\n",
       "      <td>0</td>\n",
       "      <td>0</td>\n",
       "      <td>0</td>\n",
       "      <td>0</td>\n",
       "      <td>0</td>\n",
       "    </tr>\n",
       "    <tr>\n",
       "      <th>Quoted_Premium</th>\n",
       "      <td>693.86</td>\n",
       "      <td>635.96</td>\n",
       "      <td>780.64</td>\n",
       "      <td>723.15</td>\n",
       "      <td>738.14</td>\n",
       "    </tr>\n",
       "    <tr>\n",
       "      <th>Policy_Bind</th>\n",
       "      <td>1</td>\n",
       "      <td>0</td>\n",
       "      <td>1</td>\n",
       "      <td>1</td>\n",
       "      <td>1</td>\n",
       "    </tr>\n",
       "    <tr>\n",
       "      <th>Sal_Range2_&lt;=  25 K</th>\n",
       "      <td>0</td>\n",
       "      <td>0</td>\n",
       "      <td>0</td>\n",
       "      <td>0</td>\n",
       "      <td>1</td>\n",
       "    </tr>\n",
       "    <tr>\n",
       "      <th>Sal_Range2_&gt;  25 K &lt;=  40 K</th>\n",
       "      <td>1</td>\n",
       "      <td>0</td>\n",
       "      <td>0</td>\n",
       "      <td>0</td>\n",
       "      <td>0</td>\n",
       "    </tr>\n",
       "    <tr>\n",
       "      <th>Sal_Range2_&gt;  40 K &lt;=  60 K</th>\n",
       "      <td>0</td>\n",
       "      <td>1</td>\n",
       "      <td>1</td>\n",
       "      <td>0</td>\n",
       "      <td>0</td>\n",
       "    </tr>\n",
       "    <tr>\n",
       "      <th>Sal_Range2_&gt;  60 K &lt;=  90 K</th>\n",
       "      <td>0</td>\n",
       "      <td>0</td>\n",
       "      <td>0</td>\n",
       "      <td>0</td>\n",
       "      <td>0</td>\n",
       "    </tr>\n",
       "    <tr>\n",
       "      <th>Sal_Range2_&gt;  90 K</th>\n",
       "      <td>0</td>\n",
       "      <td>0</td>\n",
       "      <td>0</td>\n",
       "      <td>1</td>\n",
       "      <td>0</td>\n",
       "    </tr>\n",
       "    <tr>\n",
       "      <th>Vehicl_Cost_Range2_&lt;=  10 K</th>\n",
       "      <td>0</td>\n",
       "      <td>1</td>\n",
       "      <td>0</td>\n",
       "      <td>1</td>\n",
       "      <td>1</td>\n",
       "    </tr>\n",
       "    <tr>\n",
       "      <th>Vehicl_Cost_Range2_&gt;  10 K &lt;=  20 K</th>\n",
       "      <td>1</td>\n",
       "      <td>0</td>\n",
       "      <td>1</td>\n",
       "      <td>0</td>\n",
       "      <td>0</td>\n",
       "    </tr>\n",
       "    <tr>\n",
       "      <th>Vehicl_Cost_Range2_&gt;  20 K &lt;=  30 K</th>\n",
       "      <td>0</td>\n",
       "      <td>0</td>\n",
       "      <td>0</td>\n",
       "      <td>0</td>\n",
       "      <td>0</td>\n",
       "    </tr>\n",
       "    <tr>\n",
       "      <th>Vehicl_Cost_Range2_&gt;  30 K &lt;=  40 K</th>\n",
       "      <td>0</td>\n",
       "      <td>0</td>\n",
       "      <td>0</td>\n",
       "      <td>0</td>\n",
       "      <td>0</td>\n",
       "    </tr>\n",
       "    <tr>\n",
       "      <th>Vehicl_Cost_Range2_&gt;  40 K</th>\n",
       "      <td>0</td>\n",
       "      <td>0</td>\n",
       "      <td>0</td>\n",
       "      <td>0</td>\n",
       "      <td>0</td>\n",
       "    </tr>\n",
       "    <tr>\n",
       "      <th>Annual_Miles_Range_&lt;= 7.5 K</th>\n",
       "      <td>0</td>\n",
       "      <td>0</td>\n",
       "      <td>0</td>\n",
       "      <td>1</td>\n",
       "      <td>0</td>\n",
       "    </tr>\n",
       "    <tr>\n",
       "      <th>Annual_Miles_Range_&gt; 15 K &amp; &lt;= 25 K</th>\n",
       "      <td>0</td>\n",
       "      <td>0</td>\n",
       "      <td>0</td>\n",
       "      <td>0</td>\n",
       "      <td>0</td>\n",
       "    </tr>\n",
       "    <tr>\n",
       "      <th>Annual_Miles_Range_&gt; 25 K &amp; &lt;= 35 K</th>\n",
       "      <td>0</td>\n",
       "      <td>0</td>\n",
       "      <td>0</td>\n",
       "      <td>0</td>\n",
       "      <td>0</td>\n",
       "    </tr>\n",
       "    <tr>\n",
       "      <th>Annual_Miles_Range_&gt; 35 K &amp; &lt;= 45 K</th>\n",
       "      <td>0</td>\n",
       "      <td>0</td>\n",
       "      <td>1</td>\n",
       "      <td>0</td>\n",
       "      <td>1</td>\n",
       "    </tr>\n",
       "    <tr>\n",
       "      <th>Annual_Miles_Range_&gt; 45 K &amp; &lt;= 55 K</th>\n",
       "      <td>0</td>\n",
       "      <td>0</td>\n",
       "      <td>0</td>\n",
       "      <td>0</td>\n",
       "      <td>0</td>\n",
       "    </tr>\n",
       "    <tr>\n",
       "      <th>Annual_Miles_Range_&gt; 55 K</th>\n",
       "      <td>1</td>\n",
       "      <td>0</td>\n",
       "      <td>0</td>\n",
       "      <td>0</td>\n",
       "      <td>0</td>\n",
       "    </tr>\n",
       "    <tr>\n",
       "      <th>Annual_Miles_Range_&gt; 7.5 K &amp; &lt;= 15 K</th>\n",
       "      <td>0</td>\n",
       "      <td>1</td>\n",
       "      <td>0</td>\n",
       "      <td>0</td>\n",
       "      <td>0</td>\n",
       "    </tr>\n",
       "  </tbody>\n",
       "</table>\n",
       "</div>"
      ],
      "text/plain": [
       "                                           0       1       2       3       4\n",
       "Agent_Type                                 0       0       0       0       0\n",
       "Region                                     3       6       6       5       3\n",
       "Policy_Type                              Car     Van   Truck     Car   Truck\n",
       "HH_Vehicles                                3       2       2       1       3\n",
       "HH_Drivers                                 3       2       1       2       1\n",
       "Driver_Age                                43      30      25      43      40\n",
       "Driving_Exp                               26      13       8      26      23\n",
       "Prev_Accidents                             0       0       0       0       0\n",
       "Prev_Citations                             0       0       0       0       0\n",
       "Gender                                     0       0       0       0       0\n",
       "Marital_Status                             3       2       2       4       3\n",
       "Education                                  1       5       5       5       1\n",
       "Coverage                                   2       2       1       1       1\n",
       "Veh_Usage                                  2       1       2       1       1\n",
       "Re_Quote                                   0       0       0       0       0\n",
       "Quoted_Premium                        693.86  635.96  780.64  723.15  738.14\n",
       "Policy_Bind                                1       0       1       1       1\n",
       "Sal_Range2_<=  25 K                        0       0       0       0       1\n",
       "Sal_Range2_>  25 K <=  40 K                1       0       0       0       0\n",
       "Sal_Range2_>  40 K <=  60 K                0       1       1       0       0\n",
       "Sal_Range2_>  60 K <=  90 K                0       0       0       0       0\n",
       "Sal_Range2_>  90 K                         0       0       0       1       0\n",
       "Vehicl_Cost_Range2_<=  10 K                0       1       0       1       1\n",
       "Vehicl_Cost_Range2_>  10 K <=  20 K        1       0       1       0       0\n",
       "Vehicl_Cost_Range2_>  20 K <=  30 K        0       0       0       0       0\n",
       "Vehicl_Cost_Range2_>  30 K <=  40 K        0       0       0       0       0\n",
       "Vehicl_Cost_Range2_>  40 K                 0       0       0       0       0\n",
       "Annual_Miles_Range_<= 7.5 K                0       0       0       1       0\n",
       "Annual_Miles_Range_> 15 K & <= 25 K        0       0       0       0       0\n",
       "Annual_Miles_Range_> 25 K & <= 35 K        0       0       0       0       0\n",
       "Annual_Miles_Range_> 35 K & <= 45 K        0       0       1       0       1\n",
       "Annual_Miles_Range_> 45 K & <= 55 K        0       0       0       0       0\n",
       "Annual_Miles_Range_> 55 K                  1       0       0       0       0\n",
       "Annual_Miles_Range_> 7.5 K & <= 15 K       0       1       0       0       0"
      ]
     },
     "execution_count": 45,
     "metadata": {},
     "output_type": "execute_result"
    }
   ],
   "source": [
    "AutoIns = pd.get_dummies(AutoIns, columns ={'Sal_Range2', 'Annual_Miles_Range', 'Vehicl_Cost_Range2'})\n",
    "AutoIns.head().T"
   ]
  },
  {
   "cell_type": "code",
   "execution_count": 46,
   "id": "bc413044",
   "metadata": {},
   "outputs": [
    {
     "data": {
      "text/plain": [
       "(146259, 34)"
      ]
     },
     "execution_count": 46,
     "metadata": {},
     "output_type": "execute_result"
    }
   ],
   "source": [
    "AutoIns.shape"
   ]
  },
  {
   "cell_type": "code",
   "execution_count": 47,
   "id": "722dbbc4",
   "metadata": {},
   "outputs": [
    {
     "name": "stdout",
     "output_type": "stream",
     "text": [
      "<class 'pandas.core.frame.DataFrame'>\n",
      "RangeIndex: 146259 entries, 0 to 146258\n",
      "Data columns (total 34 columns):\n",
      " #   Column                                Non-Null Count   Dtype  \n",
      "---  ------                                --------------   -----  \n",
      " 0   Agent_Type                            146259 non-null  int32  \n",
      " 1   Region                                146259 non-null  int32  \n",
      " 2   Policy_Type                           146259 non-null  object \n",
      " 3   HH_Vehicles                           146259 non-null  int64  \n",
      " 4   HH_Drivers                            146259 non-null  int64  \n",
      " 5   Driver_Age                            146259 non-null  int64  \n",
      " 6   Driving_Exp                           146259 non-null  int64  \n",
      " 7   Prev_Accidents                        146259 non-null  int64  \n",
      " 8   Prev_Citations                        146259 non-null  int64  \n",
      " 9   Gender                                146259 non-null  int32  \n",
      " 10  Marital_Status                        146259 non-null  int32  \n",
      " 11  Education                             146259 non-null  int32  \n",
      " 12  Coverage                              146259 non-null  int32  \n",
      " 13  Veh_Usage                             146259 non-null  int32  \n",
      " 14  Re_Quote                              146259 non-null  int32  \n",
      " 15  Quoted_Premium                        146259 non-null  float64\n",
      " 16  Policy_Bind                           146259 non-null  int32  \n",
      " 17  Sal_Range2_<=  25 K                   146259 non-null  uint8  \n",
      " 18  Sal_Range2_>  25 K <=  40 K           146259 non-null  uint8  \n",
      " 19  Sal_Range2_>  40 K <=  60 K           146259 non-null  uint8  \n",
      " 20  Sal_Range2_>  60 K <=  90 K           146259 non-null  uint8  \n",
      " 21  Sal_Range2_>  90 K                    146259 non-null  uint8  \n",
      " 22  Vehicl_Cost_Range2_<=  10 K           146259 non-null  uint8  \n",
      " 23  Vehicl_Cost_Range2_>  10 K <=  20 K   146259 non-null  uint8  \n",
      " 24  Vehicl_Cost_Range2_>  20 K <=  30 K   146259 non-null  uint8  \n",
      " 25  Vehicl_Cost_Range2_>  30 K <=  40 K   146259 non-null  uint8  \n",
      " 26  Vehicl_Cost_Range2_>  40 K            146259 non-null  uint8  \n",
      " 27  Annual_Miles_Range_<= 7.5 K           146259 non-null  uint8  \n",
      " 28  Annual_Miles_Range_> 15 K & <= 25 K   146259 non-null  uint8  \n",
      " 29  Annual_Miles_Range_> 25 K & <= 35 K   146259 non-null  uint8  \n",
      " 30  Annual_Miles_Range_> 35 K & <= 45 K   146259 non-null  uint8  \n",
      " 31  Annual_Miles_Range_> 45 K & <= 55 K   146259 non-null  uint8  \n",
      " 32  Annual_Miles_Range_> 55 K             146259 non-null  uint8  \n",
      " 33  Annual_Miles_Range_> 7.5 K & <= 15 K  146259 non-null  uint8  \n",
      "dtypes: float64(1), int32(9), int64(6), object(1), uint8(17)\n",
      "memory usage: 16.3+ MB\n"
     ]
    }
   ],
   "source": [
    "AutoIns.info()"
   ]
  },
  {
   "cell_type": "code",
   "execution_count": 48,
   "id": "7c632081",
   "metadata": {},
   "outputs": [],
   "source": [
    "AutoIns['Policy_Type'] = AutoIns['Policy_Type'].str.replace('Car', '1')\n",
    "AutoIns['Policy_Type'] = AutoIns['Policy_Type'].str.replace('Van', '2')\n",
    "AutoIns['Policy_Type'] = AutoIns['Policy_Type'].str.replace('Truck', '3')\n",
    "AutoIns['Policy_Type'] = AutoIns['Policy_Type'].astype(int)"
   ]
  },
  {
   "cell_type": "code",
   "execution_count": 49,
   "id": "6691040c",
   "metadata": {},
   "outputs": [
    {
     "name": "stdout",
     "output_type": "stream",
     "text": [
      "<class 'pandas.core.frame.DataFrame'>\n",
      "RangeIndex: 146259 entries, 0 to 146258\n",
      "Data columns (total 34 columns):\n",
      " #   Column                                Non-Null Count   Dtype  \n",
      "---  ------                                --------------   -----  \n",
      " 0   Agent_Type                            146259 non-null  int32  \n",
      " 1   Region                                146259 non-null  int32  \n",
      " 2   Policy_Type                           146259 non-null  int32  \n",
      " 3   HH_Vehicles                           146259 non-null  int64  \n",
      " 4   HH_Drivers                            146259 non-null  int64  \n",
      " 5   Driver_Age                            146259 non-null  int64  \n",
      " 6   Driving_Exp                           146259 non-null  int64  \n",
      " 7   Prev_Accidents                        146259 non-null  int64  \n",
      " 8   Prev_Citations                        146259 non-null  int64  \n",
      " 9   Gender                                146259 non-null  int32  \n",
      " 10  Marital_Status                        146259 non-null  int32  \n",
      " 11  Education                             146259 non-null  int32  \n",
      " 12  Coverage                              146259 non-null  int32  \n",
      " 13  Veh_Usage                             146259 non-null  int32  \n",
      " 14  Re_Quote                              146259 non-null  int32  \n",
      " 15  Quoted_Premium                        146259 non-null  float64\n",
      " 16  Policy_Bind                           146259 non-null  int32  \n",
      " 17  Sal_Range2_<=  25 K                   146259 non-null  uint8  \n",
      " 18  Sal_Range2_>  25 K <=  40 K           146259 non-null  uint8  \n",
      " 19  Sal_Range2_>  40 K <=  60 K           146259 non-null  uint8  \n",
      " 20  Sal_Range2_>  60 K <=  90 K           146259 non-null  uint8  \n",
      " 21  Sal_Range2_>  90 K                    146259 non-null  uint8  \n",
      " 22  Vehicl_Cost_Range2_<=  10 K           146259 non-null  uint8  \n",
      " 23  Vehicl_Cost_Range2_>  10 K <=  20 K   146259 non-null  uint8  \n",
      " 24  Vehicl_Cost_Range2_>  20 K <=  30 K   146259 non-null  uint8  \n",
      " 25  Vehicl_Cost_Range2_>  30 K <=  40 K   146259 non-null  uint8  \n",
      " 26  Vehicl_Cost_Range2_>  40 K            146259 non-null  uint8  \n",
      " 27  Annual_Miles_Range_<= 7.5 K           146259 non-null  uint8  \n",
      " 28  Annual_Miles_Range_> 15 K & <= 25 K   146259 non-null  uint8  \n",
      " 29  Annual_Miles_Range_> 25 K & <= 35 K   146259 non-null  uint8  \n",
      " 30  Annual_Miles_Range_> 35 K & <= 45 K   146259 non-null  uint8  \n",
      " 31  Annual_Miles_Range_> 45 K & <= 55 K   146259 non-null  uint8  \n",
      " 32  Annual_Miles_Range_> 55 K             146259 non-null  uint8  \n",
      " 33  Annual_Miles_Range_> 7.5 K & <= 15 K  146259 non-null  uint8  \n",
      "dtypes: float64(1), int32(10), int64(6), uint8(17)\n",
      "memory usage: 15.8 MB\n"
     ]
    }
   ],
   "source": [
    "AutoIns.info()"
   ]
  },
  {
   "cell_type": "code",
   "execution_count": 50,
   "id": "cdada7d9",
   "metadata": {},
   "outputs": [],
   "source": [
    "# Identify the dependent and Target variable\n",
    "\n",
    "IndepVar = []\n",
    "\n",
    "for col in AutoIns.columns:\n",
    "    if col != 'Policy_Bind':\n",
    "        IndepVar.append(col)\n",
    "        \n",
    "TargetVar = 'Policy_Bind'\n",
    "\n",
    "x = AutoIns[IndepVar]\n",
    "y = AutoIns[TargetVar]"
   ]
  },
  {
   "cell_type": "code",
   "execution_count": 51,
   "id": "88ee101b",
   "metadata": {},
   "outputs": [],
   "source": [
    "# Splitting the dataset into train and test\n",
    "\n",
    "from sklearn.model_selection import train_test_split\n",
    "x_train, x_test, y_train, y_test = train_test_split(x, y, test_size = 0.3, random_state = 42)"
   ]
  },
  {
   "cell_type": "code",
   "execution_count": 52,
   "id": "08d95209",
   "metadata": {},
   "outputs": [
    {
     "name": "stdout",
     "output_type": "stream",
     "text": [
      "(65004, 33)\n",
      "(65004,)\n"
     ]
    }
   ],
   "source": [
    "# Random undersampling to balance the class distribution\n",
    "\n",
    "from imblearn.under_sampling import RandomUnderSampler\n",
    "\n",
    "undersample = RandomUnderSampler(sampling_strategy = 'majority')\n",
    "x_under, y_under = undersample.fit_resample(x, y)\n",
    "print(x_under.shape)\n",
    "print(y_under.shape)"
   ]
  },
  {
   "cell_type": "code",
   "execution_count": 54,
   "id": "db98c9ac",
   "metadata": {},
   "outputs": [],
   "source": [
    "# To build the decision tree model with random sampling\n",
    "\n",
    "from sklearn.tree import DecisionTreeClassifier\n",
    "\n",
    "AutoInsDT = DecisionTreeClassifier(ccp_alpha=0.0, class_weight=None, criterion='entropy',\n",
    "                                   max_depth=None, max_features=None, max_leaf_nodes=None,\n",
    "                                   min_impurity_decrease=0.0, min_impurity_split=None,\n",
    "                                   min_samples_leaf=1, min_samples_split=2,min_weight_fraction_leaf=0.0,\n",
    "                                   random_state=None, splitter='best')\n",
    "AutoInsDT = AutoInsDT.fit(x_train, y_train)"
   ]
  },
  {
   "cell_type": "code",
   "execution_count": 55,
   "id": "e927216d",
   "metadata": {},
   "outputs": [],
   "source": [
    "# Predict the model with test data set\n",
    "\n",
    "y_pred = AutoInsDT.predict(x_test)"
   ]
  },
  {
   "cell_type": "code",
   "execution_count": 56,
   "id": "aed405b3",
   "metadata": {},
   "outputs": [
    {
     "name": "stdout",
     "output_type": "stream",
     "text": [
      "Accuracy: 64.26 %\n",
      "Precision: 22.4 %\n",
      "Recall: 24.25 %\n",
      "f1-score: 23.29 %\n",
      "roc_auc_score: 0.5\n"
     ]
    }
   ],
   "source": [
    "# Evaluate the model performace by metrics\n",
    "\n",
    "from sklearn import metrics\n",
    "from sklearn.metrics import roc_curve, roc_auc_score\n",
    "\n",
    "# Model Accuracy: how often is the classifier correct?\n",
    "print('Accuracy:', (round(metrics.accuracy_score(y_test, y_pred)* 100, 2)), '%')\n",
    "\n",
    "# Model Precision: what percentage of positive tuples are labeled as such?\n",
    "print(\"Precision:\", (round(metrics.precision_score(y_test, y_pred)* 100 , 2)), '%')\n",
    "\n",
    "# Model Precision: what percentage of positive tuples are labeled as such?\n",
    "print(\"Recall:\", (round(metrics.recall_score(y_test, y_pred) * 100 , 2)), '%')\n",
    "\n",
    "# Model f1-score\n",
    "print(\"f1-score:\", (round(metrics.f1_score(y_test, y_pred) * 100, 2)), '%') \n",
    "\n",
    "# Area under ROC curve \n",
    "print('roc_auc_score:', round(roc_auc_score(y_test, y_pred), 3))"
   ]
  },
  {
   "cell_type": "code",
   "execution_count": 59,
   "id": "90b8b8d9",
   "metadata": {},
   "outputs": [
    {
     "name": "stdout",
     "output_type": "stream",
     "text": [
      "Feature: 0, Score: 0.02253\n",
      "Feature: 1, Score: 0.07462\n",
      "Feature: 2, Score: 0.03812\n",
      "Feature: 3, Score: 0.03920\n",
      "Feature: 4, Score: 0.03595\n",
      "Feature: 5, Score: 0.06670\n",
      "Feature: 6, Score: 0.06325\n",
      "Feature: 7, Score: 0.01348\n",
      "Feature: 8, Score: 0.00010\n",
      "Feature: 9, Score: 0.01538\n",
      "Feature: 10, Score: 0.04562\n",
      "Feature: 11, Score: 0.05770\n",
      "Feature: 12, Score: 0.02894\n",
      "Feature: 13, Score: 0.03240\n",
      "Feature: 14, Score: 0.01930\n",
      "Feature: 15, Score: 0.25025\n",
      "Feature: 16, Score: 0.01333\n",
      "Feature: 17, Score: 0.01349\n",
      "Feature: 18, Score: 0.01092\n",
      "Feature: 19, Score: 0.01001\n",
      "Feature: 20, Score: 0.01018\n",
      "Feature: 21, Score: 0.01525\n",
      "Feature: 22, Score: 0.01418\n",
      "Feature: 23, Score: 0.01215\n",
      "Feature: 24, Score: 0.01146\n",
      "Feature: 25, Score: 0.01229\n",
      "Feature: 26, Score: 0.01428\n",
      "Feature: 27, Score: 0.01370\n",
      "Feature: 28, Score: 0.00169\n",
      "Feature: 29, Score: 0.01050\n",
      "Feature: 30, Score: 0.01018\n",
      "Feature: 31, Score: 0.00969\n",
      "Feature: 32, Score: 0.01317\n"
     ]
    },
    {
     "data": {
      "image/png": "[encoded data removed]",
      "text/plain": [
       "<Figure size 432x288 with 1 Axes>"
      ]
     },
     "metadata": {
      "needs_background": "light"
     },
     "output_type": "display_data"
    }
   ],
   "source": [
    "# Get feature (indempendent variables) importance\n",
    "\n",
    "from matplotlib import pyplot\n",
    "\n",
    "importance = AutoInsDT.feature_importances_\n",
    "\n",
    "# summarize feature importance\n",
    "\n",
    "for i,j in enumerate(importance):\n",
    "    print('Feature: %d, Score: %.5f' % (i,j))\n",
    "    \n",
    "# plot feature importance\n",
    "pyplot.bar([x for x in range(len(importance))], importance)\n",
    "pyplot.show()\n",
    "\n",
    "# The positive scores indicate a feature that predicts class 1,\n",
    "# whereas the negative scores indicate a feature that predicts class 0"
   ]
  },
  {
   "cell_type": "code",
   "execution_count": 60,
   "id": "2506be6e",
   "metadata": {},
   "outputs": [
    {
     "name": "stdout",
     "output_type": "stream",
     "text": [
      "<class 'pandas.core.frame.DataFrame'>\n",
      "RangeIndex: 146259 entries, 0 to 146258\n",
      "Data columns (total 34 columns):\n",
      " #   Column                                Non-Null Count   Dtype  \n",
      "---  ------                                --------------   -----  \n",
      " 0   Agent_Type                            146259 non-null  int32  \n",
      " 1   Region                                146259 non-null  int32  \n",
      " 2   Policy_Type                           146259 non-null  int32  \n",
      " 3   HH_Vehicles                           146259 non-null  int64  \n",
      " 4   HH_Drivers                            146259 non-null  int64  \n",
      " 5   Driver_Age                            146259 non-null  int64  \n",
      " 6   Driving_Exp                           146259 non-null  int64  \n",
      " 7   Prev_Accidents                        146259 non-null  int64  \n",
      " 8   Prev_Citations                        146259 non-null  int64  \n",
      " 9   Gender                                146259 non-null  int32  \n",
      " 10  Marital_Status                        146259 non-null  int32  \n",
      " 11  Education                             146259 non-null  int32  \n",
      " 12  Coverage                              146259 non-null  int32  \n",
      " 13  Veh_Usage                             146259 non-null  int32  \n",
      " 14  Re_Quote                              146259 non-null  int32  \n",
      " 15  Quoted_Premium                        146259 non-null  float64\n",
      " 16  Policy_Bind                           146259 non-null  int32  \n",
      " 17  Sal_Range2_<=  25 K                   146259 non-null  uint8  \n",
      " 18  Sal_Range2_>  25 K <=  40 K           146259 non-null  uint8  \n",
      " 19  Sal_Range2_>  40 K <=  60 K           146259 non-null  uint8  \n",
      " 20  Sal_Range2_>  60 K <=  90 K           146259 non-null  uint8  \n",
      " 21  Sal_Range2_>  90 K                    146259 non-null  uint8  \n",
      " 22  Vehicl_Cost_Range2_<=  10 K           146259 non-null  uint8  \n",
      " 23  Vehicl_Cost_Range2_>  10 K <=  20 K   146259 non-null  uint8  \n",
      " 24  Vehicl_Cost_Range2_>  20 K <=  30 K   146259 non-null  uint8  \n",
      " 25  Vehicl_Cost_Range2_>  30 K <=  40 K   146259 non-null  uint8  \n",
      " 26  Vehicl_Cost_Range2_>  40 K            146259 non-null  uint8  \n",
      " 27  Annual_Miles_Range_<= 7.5 K           146259 non-null  uint8  \n",
      " 28  Annual_Miles_Range_> 15 K & <= 25 K   146259 non-null  uint8  \n",
      " 29  Annual_Miles_Range_> 25 K & <= 35 K   146259 non-null  uint8  \n",
      " 30  Annual_Miles_Range_> 35 K & <= 45 K   146259 non-null  uint8  \n",
      " 31  Annual_Miles_Range_> 45 K & <= 55 K   146259 non-null  uint8  \n",
      " 32  Annual_Miles_Range_> 55 K             146259 non-null  uint8  \n",
      " 33  Annual_Miles_Range_> 7.5 K & <= 15 K  146259 non-null  uint8  \n",
      "dtypes: float64(1), int32(10), int64(6), uint8(17)\n",
      "memory usage: 15.8 MB\n"
     ]
    }
   ],
   "source": [
    "AutoIns.info()"
   ]
  },
  {
   "cell_type": "code",
   "execution_count": null,
   "id": "0a2fce46",
   "metadata": {},
   "outputs": [],
   "source": []
  }
 ],
 "metadata": {
  "kernelspec": {
   "display_name": "Python 3",
   "language": "python",
   "name": "python3"
  },
  "language_info": {
   "codemirror_mode": {
    "name": "ipython",
    "version": 3
   },
   "file_extension": ".py",
   "mimetype": "text/x-python",
   "name": "python",
   "nbconvert_exporter": "python",
   "pygments_lexer": "ipython3",
   "version": "3.8.8"
  }
 },
 "nbformat": 4,
 "nbformat_minor": 5
}
