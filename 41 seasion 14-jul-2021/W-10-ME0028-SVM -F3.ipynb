{
 "cells": [
  {
   "cell_type": "markdown",
   "id": "4e1c25b4",
   "metadata": {},
   "source": [
    "# Olusola Insurance Company"
   ]
  },
  {
   "cell_type": "code",
   "execution_count": 1,
   "id": "a08a0b8b",
   "metadata": {},
   "outputs": [],
   "source": [
    "# Importing the libraries\n",
    "\n",
    "import pandas as pd\n",
    "import numpy as np\n",
    "\n",
    "import matplotlib.pyplot as plt\n",
    "import seaborn as sns\n",
    "\n",
    "# Ignore harmless warnings\n",
    "\n",
    "import warnings\n",
    "warnings.filterwarnings(\"ignore\")\n",
    "\n",
    "import pandasql as psql\n",
    "\n",
    "# pip install pandasql"
   ]
  },
  {
   "cell_type": "code",
   "execution_count": 2,
   "id": "9294b058",
   "metadata": {},
   "outputs": [
    {
     "data": {
      "text/html": [
       "<div>\n",
       "<style scoped>\n",
       "    .dataframe tbody tr th:only-of-type {\n",
       "        vertical-align: middle;\n",
       "    }\n",
       "\n",
       "    .dataframe tbody tr th {\n",
       "        vertical-align: top;\n",
       "    }\n",
       "\n",
       "    .dataframe thead th {\n",
       "        text-align: right;\n",
       "    }\n",
       "</style>\n",
       "<table border=\"1\" class=\"dataframe\">\n",
       "  <thead>\n",
       "    <tr style=\"text-align: right;\">\n",
       "      <th></th>\n",
       "      <th>Customer Id</th>\n",
       "      <th>YearOfObservation</th>\n",
       "      <th>Insured_Period</th>\n",
       "      <th>Residential</th>\n",
       "      <th>Building_Painted</th>\n",
       "      <th>Building_Fenced</th>\n",
       "      <th>Garden</th>\n",
       "      <th>Settlement</th>\n",
       "      <th>Building Dimension</th>\n",
       "      <th>Building_Type</th>\n",
       "      <th>Date_of_Occupancy</th>\n",
       "      <th>NumberOfWindows</th>\n",
       "      <th>Geo_Code</th>\n",
       "      <th>Claim</th>\n",
       "    </tr>\n",
       "  </thead>\n",
       "  <tbody>\n",
       "    <tr>\n",
       "      <th>0</th>\n",
       "      <td>H14663</td>\n",
       "      <td>2013</td>\n",
       "      <td>1.0</td>\n",
       "      <td>0</td>\n",
       "      <td>N</td>\n",
       "      <td>V</td>\n",
       "      <td>V</td>\n",
       "      <td>U</td>\n",
       "      <td>290.0</td>\n",
       "      <td>1</td>\n",
       "      <td>1960.0</td>\n",
       "      <td>.</td>\n",
       "      <td>1053</td>\n",
       "      <td>0</td>\n",
       "    </tr>\n",
       "    <tr>\n",
       "      <th>1</th>\n",
       "      <td>H2037</td>\n",
       "      <td>2015</td>\n",
       "      <td>1.0</td>\n",
       "      <td>0</td>\n",
       "      <td>V</td>\n",
       "      <td>N</td>\n",
       "      <td>O</td>\n",
       "      <td>R</td>\n",
       "      <td>490.0</td>\n",
       "      <td>1</td>\n",
       "      <td>1850.0</td>\n",
       "      <td>4</td>\n",
       "      <td>1053</td>\n",
       "      <td>0</td>\n",
       "    </tr>\n",
       "    <tr>\n",
       "      <th>2</th>\n",
       "      <td>H3802</td>\n",
       "      <td>2014</td>\n",
       "      <td>1.0</td>\n",
       "      <td>0</td>\n",
       "      <td>N</td>\n",
       "      <td>V</td>\n",
       "      <td>V</td>\n",
       "      <td>U</td>\n",
       "      <td>595.0</td>\n",
       "      <td>1</td>\n",
       "      <td>1960.0</td>\n",
       "      <td>.</td>\n",
       "      <td>1053</td>\n",
       "      <td>0</td>\n",
       "    </tr>\n",
       "    <tr>\n",
       "      <th>3</th>\n",
       "      <td>H3834</td>\n",
       "      <td>2013</td>\n",
       "      <td>1.0</td>\n",
       "      <td>0</td>\n",
       "      <td>V</td>\n",
       "      <td>V</td>\n",
       "      <td>V</td>\n",
       "      <td>U</td>\n",
       "      <td>2840.0</td>\n",
       "      <td>1</td>\n",
       "      <td>1960.0</td>\n",
       "      <td>.</td>\n",
       "      <td>1053</td>\n",
       "      <td>0</td>\n",
       "    </tr>\n",
       "    <tr>\n",
       "      <th>4</th>\n",
       "      <td>H5053</td>\n",
       "      <td>2014</td>\n",
       "      <td>1.0</td>\n",
       "      <td>0</td>\n",
       "      <td>V</td>\n",
       "      <td>N</td>\n",
       "      <td>O</td>\n",
       "      <td>R</td>\n",
       "      <td>680.0</td>\n",
       "      <td>1</td>\n",
       "      <td>1800.0</td>\n",
       "      <td>3</td>\n",
       "      <td>1053</td>\n",
       "      <td>0</td>\n",
       "    </tr>\n",
       "  </tbody>\n",
       "</table>\n",
       "</div>"
      ],
      "text/plain": [
       "  Customer Id  YearOfObservation  Insured_Period  Residential  \\\n",
       "0      H14663               2013             1.0            0   \n",
       "1       H2037               2015             1.0            0   \n",
       "2       H3802               2014             1.0            0   \n",
       "3       H3834               2013             1.0            0   \n",
       "4       H5053               2014             1.0            0   \n",
       "\n",
       "  Building_Painted Building_Fenced Garden Settlement  Building Dimension  \\\n",
       "0                N               V      V          U               290.0   \n",
       "1                V               N      O          R               490.0   \n",
       "2                N               V      V          U               595.0   \n",
       "3                V               V      V          U              2840.0   \n",
       "4                V               N      O          R               680.0   \n",
       "\n",
       "   Building_Type  Date_of_Occupancy NumberOfWindows Geo_Code  Claim  \n",
       "0              1             1960.0               .     1053      0  \n",
       "1              1             1850.0               4     1053      0  \n",
       "2              1             1960.0               .     1053      0  \n",
       "3              1             1960.0               .     1053      0  \n",
       "4              1             1800.0               3     1053      0  "
      ]
     },
     "execution_count": 2,
     "metadata": {},
     "output_type": "execute_result"
    }
   ],
   "source": [
    "# Load the universal Olusola Insurance data\n",
    "\n",
    "Insdata1 = pd.read_csv(r\"D:\\iiit notes\\Programming\\AI\\Internship practice\\41 seasion 14-jul-2021\\train_data.csv\", header = 0 )\n",
    "Insdata2 = pd.read_csv(r\"D:\\iiit notes\\Programming\\AI\\Internship practice\\41 seasion 14-jul-2021\\test_data.csv\", header = 0)\n",
    "Insdata1.head()"
   ]
  },
  {
   "cell_type": "code",
   "execution_count": 3,
   "id": "aa4c02a0",
   "metadata": {},
   "outputs": [
    {
     "name": "stdout",
     "output_type": "stream",
     "text": [
      "<class 'pandas.core.frame.DataFrame'>\n",
      "RangeIndex: 7160 entries, 0 to 7159\n",
      "Data columns (total 14 columns):\n",
      " #   Column              Non-Null Count  Dtype  \n",
      "---  ------              --------------  -----  \n",
      " 0   Customer Id         7160 non-null   object \n",
      " 1   YearOfObservation   7160 non-null   int64  \n",
      " 2   Insured_Period      7160 non-null   float64\n",
      " 3   Residential         7160 non-null   int64  \n",
      " 4   Building_Painted    7160 non-null   object \n",
      " 5   Building_Fenced     7160 non-null   object \n",
      " 6   Garden              7153 non-null   object \n",
      " 7   Settlement          7160 non-null   object \n",
      " 8   Building Dimension  7054 non-null   float64\n",
      " 9   Building_Type       7160 non-null   int64  \n",
      " 10  Date_of_Occupancy   6652 non-null   float64\n",
      " 11  NumberOfWindows     7160 non-null   object \n",
      " 12  Geo_Code            7058 non-null   object \n",
      " 13  Claim               7160 non-null   int64  \n",
      "dtypes: float64(3), int64(4), object(7)\n",
      "memory usage: 783.2+ KB\n"
     ]
    }
   ],
   "source": [
    "# Displaying the insurance dataset information\n",
    "\n",
    "Insdata1.info()"
   ]
  },
  {
   "cell_type": "code",
   "execution_count": 4,
   "id": "b87ed3ef",
   "metadata": {},
   "outputs": [
    {
     "name": "stdout",
     "output_type": "stream",
     "text": [
      "Class 0:  5526\n",
      "Class 1:  1634\n",
      "Proportion:  3.38 : 1\n",
      "Total CC Trans:  7160\n"
     ]
    }
   ],
   "source": [
    "# Count the Target or dependent variable by '0' & '1' and\n",
    "# their proportion (> 10 : 1, then the dataset is imbalance dataset)\n",
    "\n",
    "Insdata1_count = Insdata1.Claim.value_counts()\n",
    "print('Class 0: ', Insdata1_count[0])\n",
    "print('Class 1: ', Insdata1_count[1])\n",
    "print('Proportion: ', round(Insdata1_count[0] / Insdata1_count[1], 2), ': 1')\n",
    "print('Total CC Trans: ', len(Insdata1))"
   ]
  },
  {
   "cell_type": "code",
   "execution_count": 5,
   "id": "00dc022f",
   "metadata": {},
   "outputs": [
    {
     "data": {
      "text/html": [
       "<div>\n",
       "<style scoped>\n",
       "    .dataframe tbody tr th:only-of-type {\n",
       "        vertical-align: middle;\n",
       "    }\n",
       "\n",
       "    .dataframe tbody tr th {\n",
       "        vertical-align: top;\n",
       "    }\n",
       "\n",
       "    .dataframe thead th {\n",
       "        text-align: right;\n",
       "    }\n",
       "</style>\n",
       "<table border=\"1\" class=\"dataframe\">\n",
       "  <thead>\n",
       "    <tr style=\"text-align: right;\">\n",
       "      <th></th>\n",
       "      <th>Customer Id</th>\n",
       "      <th>YearOfObservation</th>\n",
       "      <th>Insured_Period</th>\n",
       "      <th>Residential</th>\n",
       "      <th>Building_Painted</th>\n",
       "      <th>Building_Fenced</th>\n",
       "      <th>Garden</th>\n",
       "      <th>Settlement</th>\n",
       "      <th>Building Dimension</th>\n",
       "      <th>Building_Type</th>\n",
       "      <th>Date_of_Occupancy</th>\n",
       "      <th>NumberOfWindows</th>\n",
       "      <th>Geo_Code</th>\n",
       "      <th>Claim</th>\n",
       "    </tr>\n",
       "  </thead>\n",
       "  <tbody>\n",
       "  </tbody>\n",
       "</table>\n",
       "</div>"
      ],
      "text/plain": [
       "Empty DataFrame\n",
       "Columns: [Customer Id, YearOfObservation, Insured_Period, Residential, Building_Painted, Building_Fenced, Garden, Settlement, Building Dimension, Building_Type, Date_of_Occupancy, NumberOfWindows, Geo_Code, Claim]\n",
       "Index: []"
      ]
     },
     "execution_count": 5,
     "metadata": {},
     "output_type": "execute_result"
    }
   ],
   "source": [
    "# Checking is their any Duplicate values\n",
    "\n",
    "Insdata1_dup = Insdata1[Insdata1.duplicated(keep = 'last')]\n",
    "Insdata1_dup"
   ]
  },
  {
   "cell_type": "code",
   "execution_count": 6,
   "id": "127dff35",
   "metadata": {},
   "outputs": [
    {
     "data": {
      "text/plain": [
       "(7160, 14)"
      ]
     },
     "execution_count": 6,
     "metadata": {},
     "output_type": "execute_result"
    }
   ],
   "source": [
    "Insdata1.shape"
   ]
  },
  {
   "cell_type": "code",
   "execution_count": 7,
   "id": "3cd03fe7",
   "metadata": {
    "scrolled": true
   },
   "outputs": [
    {
     "name": "stdout",
     "output_type": "stream",
     "text": [
      "H4051     1\n",
      "H5934     1\n",
      "H19341    1\n",
      "H15316    1\n",
      "H4346     1\n",
      "         ..\n",
      "H4231     1\n",
      "H5027     1\n",
      "H19202    1\n",
      "H2595     1\n",
      "H14177    1\n",
      "Name: Customer Id, Length: 7160, dtype: int64\n",
      "2012    1858\n",
      "2013    1811\n",
      "2014    1373\n",
      "2015    1075\n",
      "2016    1043\n",
      "Name: YearOfObservation, dtype: int64\n",
      "1.000000    5325\n",
      "0.997268     547\n",
      "0.000000     165\n",
      "0.747945      60\n",
      "0.495890      49\n",
      "            ... \n",
      "0.268493       1\n",
      "0.898630       1\n",
      "0.887978       1\n",
      "0.830601       1\n",
      "0.331507       1\n",
      "Name: Insured_Period, Length: 401, dtype: int64\n",
      "0    4973\n",
      "1    2187\n",
      "Name: Residential, dtype: int64\n",
      "V    5382\n",
      "N    1778\n",
      "Name: Building_Painted, dtype: int64\n",
      "N    3608\n",
      "V    3552\n",
      "Name: Building_Fenced, dtype: int64\n",
      "O    3602\n",
      "V    3551\n",
      "Name: Garden, dtype: int64\n",
      "R    3610\n",
      "U    3550\n",
      "Name: Settlement, dtype: int64\n",
      "400.0     150\n",
      "500.0     120\n",
      "300.0     118\n",
      "450.0     117\n",
      "600.0     114\n",
      "         ... \n",
      "1303.0      1\n",
      "907.0       1\n",
      "2445.0      1\n",
      "924.0       1\n",
      "4069.0      1\n",
      "Name: Building Dimension, Length: 2043, dtype: int64\n",
      "2    3305\n",
      "1    1716\n",
      "3    1230\n",
      "4     909\n",
      "Name: Building_Type, dtype: int64\n",
      "1960.0    1818\n",
      "1980.0    1155\n",
      "1988.0     530\n",
      "1900.0     371\n",
      "1970.0     285\n",
      "          ... \n",
      "1919.0       1\n",
      "1780.0       1\n",
      "1923.0       1\n",
      "1846.0       1\n",
      "1545.0       1\n",
      "Name: Date_of_Occupancy, Length: 134, dtype: int64\n",
      "   .    3551\n",
      "4        939\n",
      "3        844\n",
      "5        639\n",
      "2        363\n",
      "6        306\n",
      "7        211\n",
      "8        116\n",
      "1         75\n",
      ">=10      67\n",
      "9         49\n",
      "Name: NumberOfWindows, dtype: int64\n",
      "6088     143\n",
      "33063    137\n",
      "6083     113\n",
      "13206     98\n",
      "31555     87\n",
      "        ... \n",
      "25580      1\n",
      "42330      1\n",
      "77900      1\n",
      "44154      1\n",
      "57433      1\n",
      "Name: Geo_Code, Length: 1307, dtype: int64\n",
      "0    5526\n",
      "1    1634\n",
      "Name: Claim, dtype: int64\n"
     ]
    }
   ],
   "source": [
    "for i in Insdata1.columns:\n",
    "    print(Insdata1[i].value_counts())"
   ]
  },
  {
   "cell_type": "code",
   "execution_count": 8,
   "id": "d1bd5ce6",
   "metadata": {},
   "outputs": [
    {
     "data": {
      "text/plain": [
       "Customer Id             0\n",
       "YearOfObservation       0\n",
       "Insured_Period          0\n",
       "Residential             0\n",
       "Building_Painted        0\n",
       "Building_Fenced         0\n",
       "Garden                  7\n",
       "Settlement              0\n",
       "Building Dimension    106\n",
       "Building_Type           0\n",
       "Date_of_Occupancy     508\n",
       "NumberOfWindows         0\n",
       "Geo_Code              102\n",
       "Claim                   0\n",
       "dtype: int64"
      ]
     },
     "execution_count": 8,
     "metadata": {},
     "output_type": "execute_result"
    }
   ],
   "source": [
    "# Checking for null values in the train dataset and decide on how to treat them\n",
    "\n",
    "Insdata1.isnull().sum()"
   ]
  },
  {
   "cell_type": "code",
   "execution_count": 9,
   "id": "b9f5c217",
   "metadata": {},
   "outputs": [
    {
     "data": {
      "text/plain": [
       "Customer Id             0\n",
       "YearOfObservation       0\n",
       "Insured_Period          0\n",
       "Residential             0\n",
       "Building_Painted        0\n",
       "Building_Fenced         0\n",
       "Garden                  4\n",
       "Settlement              0\n",
       "Building Dimension     13\n",
       "Building_Type           0\n",
       "Date_of_Occupancy     728\n",
       "NumberOfWindows         0\n",
       "Geo_Code               13\n",
       "dtype: int64"
      ]
     },
     "execution_count": 9,
     "metadata": {},
     "output_type": "execute_result"
    }
   ],
   "source": [
    "# Checking for null vallues in the test dataset and decide on how to treat them\n",
    "\n",
    "Insdata2.isnull().sum()"
   ]
  },
  {
   "cell_type": "markdown",
   "id": "2c8536c3",
   "metadata": {},
   "source": [
    "# Data Preparation and Analysis"
   ]
  },
  {
   "cell_type": "code",
   "execution_count": 10,
   "id": "f60e95e6",
   "metadata": {},
   "outputs": [
    {
     "data": {
      "text/plain": [
       "O    3602\n",
       "V    3551\n",
       "Name: Garden, dtype: int64"
      ]
     },
     "execution_count": 10,
     "metadata": {},
     "output_type": "execute_result"
    }
   ],
   "source": [
    "# Fill null values for garden, '0' which means no garden is the majority\n",
    "\n",
    "Insdata1['Garden'].value_counts()"
   ]
  },
  {
   "cell_type": "code",
   "execution_count": 11,
   "id": "30f7859d",
   "metadata": {},
   "outputs": [],
   "source": [
    "Insdata1['Garden'].fillna('O', inplace=True)\n",
    "Insdata2['Garden'].fillna(\"O\", inplace=True)"
   ]
  },
  {
   "cell_type": "code",
   "execution_count": 12,
   "id": "48aef2df",
   "metadata": {},
   "outputs": [
    {
     "data": {
      "text/plain": [
       "O    3609\n",
       "V    3551\n",
       "Name: Garden, dtype: int64"
      ]
     },
     "execution_count": 12,
     "metadata": {},
     "output_type": "execute_result"
    }
   ],
   "source": [
    "Insdata1['Garden'].value_counts()"
   ]
  },
  {
   "cell_type": "code",
   "execution_count": 13,
   "id": "84f90ee9",
   "metadata": {},
   "outputs": [
    {
     "data": {
      "text/plain": [
       "400.0     150\n",
       "500.0     120\n",
       "300.0     118\n",
       "450.0     117\n",
       "600.0     114\n",
       "         ... \n",
       "1303.0      1\n",
       "907.0       1\n",
       "2445.0      1\n",
       "924.0       1\n",
       "4069.0      1\n",
       "Name: Building Dimension, Length: 2043, dtype: int64"
      ]
     },
     "execution_count": 13,
     "metadata": {},
     "output_type": "execute_result"
    }
   ],
   "source": [
    "Insdata1['Building Dimension'].value_counts()"
   ]
  },
  {
   "cell_type": "code",
   "execution_count": 14,
   "id": "5c7ca599",
   "metadata": {},
   "outputs": [
    {
     "data": {
      "text/html": [
       "<div>\n",
       "<style scoped>\n",
       "    .dataframe tbody tr th:only-of-type {\n",
       "        vertical-align: middle;\n",
       "    }\n",
       "\n",
       "    .dataframe tbody tr th {\n",
       "        vertical-align: top;\n",
       "    }\n",
       "\n",
       "    .dataframe thead th {\n",
       "        text-align: right;\n",
       "    }\n",
       "</style>\n",
       "<table border=\"1\" class=\"dataframe\">\n",
       "  <thead>\n",
       "    <tr style=\"text-align: right;\">\n",
       "      <th></th>\n",
       "      <th>Building Dimension</th>\n",
       "      <th>Settlement</th>\n",
       "    </tr>\n",
       "  </thead>\n",
       "  <tbody>\n",
       "    <tr>\n",
       "      <th>0</th>\n",
       "      <td>290.0</td>\n",
       "      <td>U</td>\n",
       "    </tr>\n",
       "    <tr>\n",
       "      <th>1</th>\n",
       "      <td>490.0</td>\n",
       "      <td>R</td>\n",
       "    </tr>\n",
       "    <tr>\n",
       "      <th>2</th>\n",
       "      <td>595.0</td>\n",
       "      <td>U</td>\n",
       "    </tr>\n",
       "    <tr>\n",
       "      <th>3</th>\n",
       "      <td>2840.0</td>\n",
       "      <td>U</td>\n",
       "    </tr>\n",
       "    <tr>\n",
       "      <th>4</th>\n",
       "      <td>680.0</td>\n",
       "      <td>R</td>\n",
       "    </tr>\n",
       "  </tbody>\n",
       "</table>\n",
       "</div>"
      ],
      "text/plain": [
       "   Building Dimension Settlement\n",
       "0               290.0          U\n",
       "1               490.0          R\n",
       "2               595.0          U\n",
       "3              2840.0          U\n",
       "4               680.0          R"
      ]
     },
     "execution_count": 14,
     "metadata": {},
     "output_type": "execute_result"
    }
   ],
   "source": [
    "check1 = Insdata1[['Building Dimension', 'Settlement']]\n",
    "check1.head()"
   ]
  },
  {
   "cell_type": "code",
   "execution_count": 15,
   "id": "c5797253",
   "metadata": {},
   "outputs": [
    {
     "data": {
      "text/plain": [
       "105"
      ]
     },
     "execution_count": 15,
     "metadata": {},
     "output_type": "execute_result"
    }
   ],
   "source": [
    "# Check which settlement type has majority of the null values\n",
    "# rural has just 1 while urban das 105\n",
    "# all null values will be filled with the average of rural building dimensions\n",
    "\n",
    "check1[check1['Settlement'] == \"U\"][\"Building Dimension\"].isnull().sum()"
   ]
  },
  {
   "cell_type": "code",
   "execution_count": 16,
   "id": "be9a2c20",
   "metadata": {},
   "outputs": [
    {
     "data": {
      "text/plain": [
       "1"
      ]
     },
     "execution_count": 16,
     "metadata": {},
     "output_type": "execute_result"
    }
   ],
   "source": [
    "check1[check1['Settlement'] == 'R']['Building Dimension'].isnull().sum()"
   ]
  },
  {
   "cell_type": "code",
   "execution_count": 17,
   "id": "771dae7e",
   "metadata": {},
   "outputs": [
    {
     "data": {
      "text/plain": [
       "1575.211611030479"
      ]
     },
     "execution_count": 17,
     "metadata": {},
     "output_type": "execute_result"
    }
   ],
   "source": [
    "# average size for buildings in urban areas\n",
    "\n",
    "Fill_Avg_BD = check1[check1['Settlement'] == \"U\"][\"Building Dimension\"].mean()\n",
    "Fill_Avg_BD"
   ]
  },
  {
   "cell_type": "code",
   "execution_count": 18,
   "id": "b9e16935",
   "metadata": {},
   "outputs": [],
   "source": [
    "# Filling null values for building dimensions\n",
    "\n",
    "Insdata1['Building Dimension'].fillna(Fill_Avg_BD, inplace=True)\n",
    "Insdata2['Building Dimension'].fillna(Fill_Avg_BD, inplace=True)"
   ]
  },
  {
   "cell_type": "code",
   "execution_count": 19,
   "id": "5568cd41",
   "metadata": {},
   "outputs": [
    {
     "data": {
      "text/plain": [
       "0"
      ]
     },
     "execution_count": 19,
     "metadata": {},
     "output_type": "execute_result"
    }
   ],
   "source": [
    "# Quick check\n",
    "\n",
    "Insdata1['Building Dimension'].isnull().sum()"
   ]
  },
  {
   "cell_type": "code",
   "execution_count": 20,
   "id": "fc11a198",
   "metadata": {},
   "outputs": [
    {
     "data": {
      "text/plain": [
       "1960.0    1818\n",
       "1980.0    1155\n",
       "1988.0     530\n",
       "1900.0     371\n",
       "1970.0     285\n",
       "          ... \n",
       "1919.0       1\n",
       "1780.0       1\n",
       "1923.0       1\n",
       "1846.0       1\n",
       "1545.0       1\n",
       "Name: Date_of_Occupancy, Length: 134, dtype: int64"
      ]
     },
     "execution_count": 20,
     "metadata": {},
     "output_type": "execute_result"
    }
   ],
   "source": [
    "Insdata1['Date_of_Occupancy'].value_counts()"
   ]
  },
  {
   "cell_type": "code",
   "execution_count": 21,
   "id": "e47915d1",
   "metadata": {},
   "outputs": [
    {
     "name": "stdout",
     "output_type": "stream",
     "text": [
      "507\n",
      "728\n"
     ]
    }
   ],
   "source": [
    "#check which settlement type has majority of null values \n",
    "#urban has majority with 507 while rural has just 1 \n",
    "#null values will be filled with the highest occuring date of occupancy from buildings in urban settlement \n",
    "\n",
    "Train_Fill_DoO = Insdata1[Insdata1[\"Settlement\"] == \"U\"][\"Date_of_Occupancy\"].isnull().sum()\n",
    "Test_Fill_DoO = Insdata2[Insdata2[\"Settlement\"] == \"U\"][\"Date_of_Occupancy\"].isnull().sum()\n",
    "print(Train_Fill_DoO)\n",
    "print(Test_Fill_DoO)"
   ]
  },
  {
   "cell_type": "code",
   "execution_count": 22,
   "id": "1a89d515",
   "metadata": {},
   "outputs": [
    {
     "data": {
      "text/plain": [
       "1960.0    1468\n",
       "1980.0    1010\n",
       "1988.0     481\n",
       "1950.0       7\n",
       "1970.0       6\n",
       "Name: Date_of_Occupancy, dtype: int64"
      ]
     },
     "execution_count": 22,
     "metadata": {},
     "output_type": "execute_result"
    }
   ],
   "source": [
    "# Highest occuring date of occupancy is 1960\n",
    "\n",
    "date = Insdata1[Insdata1[\"Settlement\"] == \"U\"][\"Date_of_Occupancy\"].value_counts().head()\n",
    "date"
   ]
  },
  {
   "cell_type": "code",
   "execution_count": 23,
   "id": "bc404926",
   "metadata": {},
   "outputs": [],
   "source": [
    "# Filling null values for date of occupancy\n",
    "\n",
    "Insdata1[\"Date_of_Occupancy\"].fillna(1960, inplace=True)\n",
    "Insdata2[\"Date_of_Occupancy\"].fillna(1960, inplace=True)"
   ]
  },
  {
   "cell_type": "code",
   "execution_count": 24,
   "id": "abeb8f22",
   "metadata": {},
   "outputs": [
    {
     "data": {
      "text/plain": [
       "Customer Id             0\n",
       "YearOfObservation       0\n",
       "Insured_Period          0\n",
       "Residential             0\n",
       "Building_Painted        0\n",
       "Building_Fenced         0\n",
       "Garden                  0\n",
       "Settlement              0\n",
       "Building Dimension      0\n",
       "Building_Type           0\n",
       "Date_of_Occupancy       0\n",
       "NumberOfWindows         0\n",
       "Geo_Code              102\n",
       "Claim                   0\n",
       "dtype: int64"
      ]
     },
     "execution_count": 24,
     "metadata": {},
     "output_type": "execute_result"
    }
   ],
   "source": [
    "# Quick check\n",
    "\n",
    "Insdata1.isnull().sum()"
   ]
  },
  {
   "cell_type": "code",
   "execution_count": 25,
   "id": "ddb92ea1",
   "metadata": {},
   "outputs": [
    {
     "data": {
      "text/plain": [
       "6088     66\n",
       "21231    63\n",
       "33063    58\n",
       "13206    57\n",
       "6083     56\n",
       "         ..\n",
       "83153     1\n",
       "74011     1\n",
       "42299     1\n",
       "42207     1\n",
       "34037     1\n",
       "Name: Geo_Code, Length: 832, dtype: int64"
      ]
     },
     "execution_count": 25,
     "metadata": {},
     "output_type": "execute_result"
    }
   ],
   "source": [
    "# Geo_Code \n",
    "#only buildings in urban areas have null values \n",
    "#this column would be dropped. I do not think it would impact our model \n",
    "\n",
    "Insdata1[Insdata1[\"Settlement\"]==\"U\"][\"Geo_Code\"].value_counts()"
   ]
  },
  {
   "cell_type": "code",
   "execution_count": 26,
   "id": "58e44aa8",
   "metadata": {},
   "outputs": [],
   "source": [
    "# Deleting the 'Geo_Code' variable\n",
    "\n",
    "Insdata1.drop(\"Geo_Code\", axis =1, inplace=True)\n",
    "Insdata2.drop(\"Geo_Code\", axis =1, inplace=True)"
   ]
  },
  {
   "cell_type": "code",
   "execution_count": 27,
   "id": "a67422ab",
   "metadata": {},
   "outputs": [
    {
     "data": {
      "text/plain": [
       "   .    3551\n",
       "4        939\n",
       "3        844\n",
       "5        639\n",
       "2        363\n",
       "6        306\n",
       "7        211\n",
       "8        116\n",
       "1         75\n",
       ">=10      67\n",
       "9         49\n",
       "Name: NumberOfWindows, dtype: int64"
      ]
     },
     "execution_count": 27,
     "metadata": {},
     "output_type": "execute_result"
    }
   ],
   "source": [
    "# the \".\" here will be treated as null values. \n",
    "# and since an overwhelming majority is null, this column will be dropped\n",
    "\n",
    "Insdata1[\"NumberOfWindows\"].value_counts()"
   ]
  },
  {
   "cell_type": "code",
   "execution_count": 28,
   "id": "18c8c057",
   "metadata": {},
   "outputs": [],
   "source": [
    "# Delecting the 'NumberOfWindows' variable\n",
    "\n",
    "Insdata1.drop(\"NumberOfWindows\", axis = 1, inplace=True)\n",
    "Insdata2.drop(\"NumberOfWindows\", axis = 1, inplace=True)"
   ]
  },
  {
   "cell_type": "code",
   "execution_count": 29,
   "id": "878cd6c7",
   "metadata": {},
   "outputs": [
    {
     "data": {
      "text/plain": [
       "Customer Id           0\n",
       "YearOfObservation     0\n",
       "Insured_Period        0\n",
       "Residential           0\n",
       "Building_Painted      0\n",
       "Building_Fenced       0\n",
       "Garden                0\n",
       "Settlement            0\n",
       "Building Dimension    0\n",
       "Building_Type         0\n",
       "Date_of_Occupancy     0\n",
       "Claim                 0\n",
       "dtype: int64"
      ]
     },
     "execution_count": 29,
     "metadata": {},
     "output_type": "execute_result"
    }
   ],
   "source": [
    "Insdata1.isnull().sum()"
   ]
  },
  {
   "cell_type": "code",
   "execution_count": 30,
   "id": "c26ffa8b",
   "metadata": {},
   "outputs": [
    {
     "name": "stdout",
     "output_type": "stream",
     "text": [
      "<class 'pandas.core.frame.DataFrame'>\n",
      "RangeIndex: 7160 entries, 0 to 7159\n",
      "Data columns (total 12 columns):\n",
      " #   Column              Non-Null Count  Dtype  \n",
      "---  ------              --------------  -----  \n",
      " 0   Customer Id         7160 non-null   object \n",
      " 1   YearOfObservation   7160 non-null   int64  \n",
      " 2   Insured_Period      7160 non-null   float64\n",
      " 3   Residential         7160 non-null   int64  \n",
      " 4   Building_Painted    7160 non-null   object \n",
      " 5   Building_Fenced     7160 non-null   object \n",
      " 6   Garden              7160 non-null   object \n",
      " 7   Settlement          7160 non-null   object \n",
      " 8   Building Dimension  7160 non-null   float64\n",
      " 9   Building_Type       7160 non-null   int64  \n",
      " 10  Date_of_Occupancy   7160 non-null   float64\n",
      " 11  Claim               7160 non-null   int64  \n",
      "dtypes: float64(3), int64(4), object(5)\n",
      "memory usage: 671.4+ KB\n"
     ]
    }
   ],
   "source": [
    "Insdata1.info()"
   ]
  },
  {
   "cell_type": "code",
   "execution_count": 31,
   "id": "7211a865",
   "metadata": {},
   "outputs": [],
   "source": [
    "# Convert the 'Date_of_Occupancy' from float value to integer value\n",
    "\n",
    "Insdata1['Date_of_Occupancy'] = Insdata1['Date_of_Occupancy'].astype(int)"
   ]
  },
  {
   "cell_type": "code",
   "execution_count": 32,
   "id": "4359a693",
   "metadata": {},
   "outputs": [],
   "source": [
    "# This function splits insured period in 2 groups;\n",
    "# Over 0.5 will be 1 year policy duration\n",
    "# Less than 0.5 will be no policy duration\n",
    "\n",
    "def insured(x):\n",
    "    if x < 0.5:\n",
    "        return 0\n",
    "    else:\n",
    "        return 1"
   ]
  },
  {
   "cell_type": "code",
   "execution_count": 33,
   "id": "112da5ee",
   "metadata": {},
   "outputs": [],
   "source": [
    "# Applying the 'insured' function to covert the 'insurance_period' as 0 or 1\n",
    "\n",
    "Insdata1[\"Insured_Period\"] = Insdata1[\"Insured_Period\"].apply(insured)\n",
    "Insdata2[\"Insured_Period\"] = Insdata2[\"Insured_Period\"].apply(insured)"
   ]
  },
  {
   "cell_type": "code",
   "execution_count": 34,
   "id": "cb6321c4",
   "metadata": {},
   "outputs": [
    {
     "data": {
      "text/plain": [
       "1    6517\n",
       "0     643\n",
       "Name: Insured_Period, dtype: int64"
      ]
     },
     "execution_count": 34,
     "metadata": {},
     "output_type": "execute_result"
    }
   ],
   "source": [
    "Insdata1[\"Insured_Period\"].value_counts()"
   ]
  },
  {
   "cell_type": "markdown",
   "id": "53418e79",
   "metadata": {},
   "source": [
    "# Exploratory Data Analysis (EDA)"
   ]
  },
  {
   "cell_type": "code",
   "execution_count": 35,
   "id": "90259bce",
   "metadata": {},
   "outputs": [
    {
     "data": {
      "text/plain": [
       "Text(0.5, 1.0, 'No of Claims')"
      ]
     },
     "execution_count": 35,
     "metadata": {},
     "output_type": "execute_result"
    },
    {
     "data": {
      "image/png": "[encoded data removed]",
      "text/plain": [
       "<Figure size 576x360 with 1 Axes>"
      ]
     },
     "metadata": {
      "needs_background": "light"
     },
     "output_type": "display_data"
    }
   ],
   "source": [
    "# How many clients have had claims?\n",
    "\n",
    "plt.figure(figsize=(8,5))\n",
    "sns.set_style(\"darkgrid\")\n",
    "sns.countplot(x='Claim', data=Insdata1)\n",
    "\n",
    "plt.title(\"No of Claims\")"
   ]
  },
  {
   "cell_type": "code",
   "execution_count": 36,
   "id": "c03c7d8c",
   "metadata": {},
   "outputs": [
    {
     "data": {
      "text/plain": [
       "Text(0.5, 1.0, 'Building Type')"
      ]
     },
     "execution_count": 36,
     "metadata": {},
     "output_type": "execute_result"
    },
    {
     "data": {
      "image/png": "[encoded data removed]",
      "text/plain": [
       "<Figure size 576x360 with 1 Axes>"
      ]
     },
     "metadata": {},
     "output_type": "display_data"
    }
   ],
   "source": [
    "# Distribution of Building Types?\n",
    "\n",
    "plt.figure(figsize=(8,5))\n",
    "sns.set_style(\"darkgrid\")\n",
    "sns.countplot(x = \"Building_Type\", hue=\"Residential\", data=Insdata1)\n",
    "\n",
    "plt.title(\"Building Type\")"
   ]
  },
  {
   "cell_type": "code",
   "execution_count": 37,
   "id": "07d26337",
   "metadata": {},
   "outputs": [
    {
     "data": {
      "text/plain": [
       "Text(0.5, 1.0, 'Distribution of Buildings')"
      ]
     },
     "execution_count": 37,
     "metadata": {},
     "output_type": "execute_result"
    },
    {
     "data": {
      "image/png": "[encoded data removed]",
      "text/plain": [
       "<Figure size 576x360 with 1 Axes>"
      ]
     },
     "metadata": {},
     "output_type": "display_data"
    }
   ],
   "source": [
    "# More (Residential) buildings in Urban areas?\n",
    "\n",
    "plt.figure(figsize=(8,5))\n",
    "\n",
    "sns.countplot(x='Settlement', hue='Residential', data=Insdata1)\n",
    "\n",
    "plt.title(\"Distribution of Buildings\")"
   ]
  },
  {
   "cell_type": "code",
   "execution_count": 38,
   "id": "d7c90608",
   "metadata": {},
   "outputs": [
    {
     "data": {
      "text/html": [
       "<div>\n",
       "<style scoped>\n",
       "    .dataframe tbody tr th:only-of-type {\n",
       "        vertical-align: middle;\n",
       "    }\n",
       "\n",
       "    .dataframe tbody tr th {\n",
       "        vertical-align: top;\n",
       "    }\n",
       "\n",
       "    .dataframe thead th {\n",
       "        text-align: right;\n",
       "    }\n",
       "</style>\n",
       "<table border=\"1\" class=\"dataframe\">\n",
       "  <thead>\n",
       "    <tr style=\"text-align: right;\">\n",
       "      <th></th>\n",
       "      <th>Date_of_Occupancy</th>\n",
       "      <th>Customer Id</th>\n",
       "    </tr>\n",
       "  </thead>\n",
       "  <tbody>\n",
       "    <tr>\n",
       "      <th>0</th>\n",
       "      <td>1545</td>\n",
       "      <td>1</td>\n",
       "    </tr>\n",
       "    <tr>\n",
       "      <th>1</th>\n",
       "      <td>1550</td>\n",
       "      <td>1</td>\n",
       "    </tr>\n",
       "    <tr>\n",
       "      <th>2</th>\n",
       "      <td>1600</td>\n",
       "      <td>5</td>\n",
       "    </tr>\n",
       "    <tr>\n",
       "      <th>3</th>\n",
       "      <td>1613</td>\n",
       "      <td>1</td>\n",
       "    </tr>\n",
       "    <tr>\n",
       "      <th>4</th>\n",
       "      <td>1700</td>\n",
       "      <td>10</td>\n",
       "    </tr>\n",
       "  </tbody>\n",
       "</table>\n",
       "</div>"
      ],
      "text/plain": [
       "   Date_of_Occupancy  Customer Id\n",
       "0               1545            1\n",
       "1               1550            1\n",
       "2               1600            5\n",
       "3               1613            1\n",
       "4               1700           10"
      ]
     },
     "execution_count": 38,
     "metadata": {},
     "output_type": "execute_result"
    }
   ],
   "source": [
    "# Distribution of Customer by year of Occupancy\n",
    "\n",
    "year = Insdata1.groupby(\"Date_of_Occupancy\")[\"Customer Id\"].count().to_frame().reset_index()\n",
    "year.head()"
   ]
  },
  {
   "cell_type": "code",
   "execution_count": 39,
   "id": "987d4ce4",
   "metadata": {},
   "outputs": [
    {
     "data": {
      "text/plain": [
       "<AxesSubplot:xlabel='Date_of_Occupancy'>"
      ]
     },
     "execution_count": 39,
     "metadata": {},
     "output_type": "execute_result"
    },
    {
     "data": {
      "image/png": "[encoded data removed]",
      "text/plain": [
       "<Figure size 864x432 with 1 Axes>"
      ]
     },
     "metadata": {},
     "output_type": "display_data"
    }
   ],
   "source": [
    "plt.figure(figsize=(12,6))\n",
    "\n",
    "sns.lineplot(x=\"Date_of_Occupancy\", y = Insdata1.index, data=Insdata1, err_style=None)"
   ]
  },
  {
   "cell_type": "markdown",
   "id": "505ab63a",
   "metadata": {},
   "source": [
    "# Modelling the Insurance data"
   ]
  },
  {
   "cell_type": "code",
   "execution_count": 40,
   "id": "e3bb73e6",
   "metadata": {},
   "outputs": [
    {
     "data": {
      "text/html": [
       "<div>\n",
       "<style scoped>\n",
       "    .dataframe tbody tr th:only-of-type {\n",
       "        vertical-align: middle;\n",
       "    }\n",
       "\n",
       "    .dataframe tbody tr th {\n",
       "        vertical-align: top;\n",
       "    }\n",
       "\n",
       "    .dataframe thead th {\n",
       "        text-align: right;\n",
       "    }\n",
       "</style>\n",
       "<table border=\"1\" class=\"dataframe\">\n",
       "  <thead>\n",
       "    <tr style=\"text-align: right;\">\n",
       "      <th></th>\n",
       "      <th>Customer Id</th>\n",
       "      <th>YearOfObservation</th>\n",
       "      <th>Insured_Period</th>\n",
       "      <th>Residential</th>\n",
       "      <th>Building_Painted</th>\n",
       "      <th>Building_Fenced</th>\n",
       "      <th>Garden</th>\n",
       "      <th>Settlement</th>\n",
       "      <th>Building Dimension</th>\n",
       "      <th>Building_Type</th>\n",
       "      <th>Date_of_Occupancy</th>\n",
       "      <th>Claim</th>\n",
       "    </tr>\n",
       "  </thead>\n",
       "  <tbody>\n",
       "    <tr>\n",
       "      <th>0</th>\n",
       "      <td>H14663</td>\n",
       "      <td>2013</td>\n",
       "      <td>1</td>\n",
       "      <td>0</td>\n",
       "      <td>N</td>\n",
       "      <td>V</td>\n",
       "      <td>V</td>\n",
       "      <td>U</td>\n",
       "      <td>290.0</td>\n",
       "      <td>1</td>\n",
       "      <td>1960</td>\n",
       "      <td>0</td>\n",
       "    </tr>\n",
       "    <tr>\n",
       "      <th>1</th>\n",
       "      <td>H2037</td>\n",
       "      <td>2015</td>\n",
       "      <td>1</td>\n",
       "      <td>0</td>\n",
       "      <td>V</td>\n",
       "      <td>N</td>\n",
       "      <td>O</td>\n",
       "      <td>R</td>\n",
       "      <td>490.0</td>\n",
       "      <td>1</td>\n",
       "      <td>1850</td>\n",
       "      <td>0</td>\n",
       "    </tr>\n",
       "    <tr>\n",
       "      <th>2</th>\n",
       "      <td>H3802</td>\n",
       "      <td>2014</td>\n",
       "      <td>1</td>\n",
       "      <td>0</td>\n",
       "      <td>N</td>\n",
       "      <td>V</td>\n",
       "      <td>V</td>\n",
       "      <td>U</td>\n",
       "      <td>595.0</td>\n",
       "      <td>1</td>\n",
       "      <td>1960</td>\n",
       "      <td>0</td>\n",
       "    </tr>\n",
       "    <tr>\n",
       "      <th>3</th>\n",
       "      <td>H3834</td>\n",
       "      <td>2013</td>\n",
       "      <td>1</td>\n",
       "      <td>0</td>\n",
       "      <td>V</td>\n",
       "      <td>V</td>\n",
       "      <td>V</td>\n",
       "      <td>U</td>\n",
       "      <td>2840.0</td>\n",
       "      <td>1</td>\n",
       "      <td>1960</td>\n",
       "      <td>0</td>\n",
       "    </tr>\n",
       "    <tr>\n",
       "      <th>4</th>\n",
       "      <td>H5053</td>\n",
       "      <td>2014</td>\n",
       "      <td>1</td>\n",
       "      <td>0</td>\n",
       "      <td>V</td>\n",
       "      <td>N</td>\n",
       "      <td>O</td>\n",
       "      <td>R</td>\n",
       "      <td>680.0</td>\n",
       "      <td>1</td>\n",
       "      <td>1800</td>\n",
       "      <td>0</td>\n",
       "    </tr>\n",
       "  </tbody>\n",
       "</table>\n",
       "</div>"
      ],
      "text/plain": [
       "  Customer Id  YearOfObservation  Insured_Period  Residential  \\\n",
       "0      H14663               2013               1            0   \n",
       "1       H2037               2015               1            0   \n",
       "2       H3802               2014               1            0   \n",
       "3       H3834               2013               1            0   \n",
       "4       H5053               2014               1            0   \n",
       "\n",
       "  Building_Painted Building_Fenced Garden Settlement  Building Dimension  \\\n",
       "0                N               V      V          U               290.0   \n",
       "1                V               N      O          R               490.0   \n",
       "2                N               V      V          U               595.0   \n",
       "3                V               V      V          U              2840.0   \n",
       "4                V               N      O          R               680.0   \n",
       "\n",
       "   Building_Type  Date_of_Occupancy  Claim  \n",
       "0              1               1960      0  \n",
       "1              1               1850      0  \n",
       "2              1               1960      0  \n",
       "3              1               1960      0  \n",
       "4              1               1800      0  "
      ]
     },
     "execution_count": 40,
     "metadata": {},
     "output_type": "execute_result"
    }
   ],
   "source": [
    "Insdata1.head()"
   ]
  },
  {
   "cell_type": "code",
   "execution_count": 41,
   "id": "108c7519",
   "metadata": {},
   "outputs": [],
   "source": [
    "from sklearn.preprocessing import LabelEncoder\n",
    "\n",
    "le = LabelEncoder()"
   ]
  },
  {
   "cell_type": "code",
   "execution_count": 42,
   "id": "fa4aa08a",
   "metadata": {},
   "outputs": [],
   "source": [
    "# transforming columns to the data type that the training data can understand\n",
    "# all data should be integers or floats and not strings\n",
    "\n",
    "Insdata1['Building_Painted'] = le.fit_transform(Insdata1['Building_Painted'])\n",
    "Insdata1['Building_Fenced'] = le.fit_transform(Insdata1['Building_Fenced'])\n",
    "Insdata1['Garden'] = le.fit_transform(Insdata1['Garden'])\n",
    "Insdata1['Settlement'] = le.fit_transform(Insdata1['Settlement'])"
   ]
  },
  {
   "cell_type": "code",
   "execution_count": 43,
   "id": "fcea4987",
   "metadata": {},
   "outputs": [
    {
     "data": {
      "text/html": [
       "<div>\n",
       "<style scoped>\n",
       "    .dataframe tbody tr th:only-of-type {\n",
       "        vertical-align: middle;\n",
       "    }\n",
       "\n",
       "    .dataframe tbody tr th {\n",
       "        vertical-align: top;\n",
       "    }\n",
       "\n",
       "    .dataframe thead th {\n",
       "        text-align: right;\n",
       "    }\n",
       "</style>\n",
       "<table border=\"1\" class=\"dataframe\">\n",
       "  <thead>\n",
       "    <tr style=\"text-align: right;\">\n",
       "      <th></th>\n",
       "      <th>Customer Id</th>\n",
       "      <th>YearOfObservation</th>\n",
       "      <th>Insured_Period</th>\n",
       "      <th>Residential</th>\n",
       "      <th>Building_Painted</th>\n",
       "      <th>Building_Fenced</th>\n",
       "      <th>Garden</th>\n",
       "      <th>Settlement</th>\n",
       "      <th>Building Dimension</th>\n",
       "      <th>Building_Type</th>\n",
       "      <th>Date_of_Occupancy</th>\n",
       "      <th>Claim</th>\n",
       "    </tr>\n",
       "  </thead>\n",
       "  <tbody>\n",
       "    <tr>\n",
       "      <th>0</th>\n",
       "      <td>H14663</td>\n",
       "      <td>2013</td>\n",
       "      <td>1</td>\n",
       "      <td>0</td>\n",
       "      <td>0</td>\n",
       "      <td>1</td>\n",
       "      <td>1</td>\n",
       "      <td>1</td>\n",
       "      <td>290.0</td>\n",
       "      <td>1</td>\n",
       "      <td>1960</td>\n",
       "      <td>0</td>\n",
       "    </tr>\n",
       "    <tr>\n",
       "      <th>1</th>\n",
       "      <td>H2037</td>\n",
       "      <td>2015</td>\n",
       "      <td>1</td>\n",
       "      <td>0</td>\n",
       "      <td>1</td>\n",
       "      <td>0</td>\n",
       "      <td>0</td>\n",
       "      <td>0</td>\n",
       "      <td>490.0</td>\n",
       "      <td>1</td>\n",
       "      <td>1850</td>\n",
       "      <td>0</td>\n",
       "    </tr>\n",
       "    <tr>\n",
       "      <th>2</th>\n",
       "      <td>H3802</td>\n",
       "      <td>2014</td>\n",
       "      <td>1</td>\n",
       "      <td>0</td>\n",
       "      <td>0</td>\n",
       "      <td>1</td>\n",
       "      <td>1</td>\n",
       "      <td>1</td>\n",
       "      <td>595.0</td>\n",
       "      <td>1</td>\n",
       "      <td>1960</td>\n",
       "      <td>0</td>\n",
       "    </tr>\n",
       "    <tr>\n",
       "      <th>3</th>\n",
       "      <td>H3834</td>\n",
       "      <td>2013</td>\n",
       "      <td>1</td>\n",
       "      <td>0</td>\n",
       "      <td>1</td>\n",
       "      <td>1</td>\n",
       "      <td>1</td>\n",
       "      <td>1</td>\n",
       "      <td>2840.0</td>\n",
       "      <td>1</td>\n",
       "      <td>1960</td>\n",
       "      <td>0</td>\n",
       "    </tr>\n",
       "    <tr>\n",
       "      <th>4</th>\n",
       "      <td>H5053</td>\n",
       "      <td>2014</td>\n",
       "      <td>1</td>\n",
       "      <td>0</td>\n",
       "      <td>1</td>\n",
       "      <td>0</td>\n",
       "      <td>0</td>\n",
       "      <td>0</td>\n",
       "      <td>680.0</td>\n",
       "      <td>1</td>\n",
       "      <td>1800</td>\n",
       "      <td>0</td>\n",
       "    </tr>\n",
       "  </tbody>\n",
       "</table>\n",
       "</div>"
      ],
      "text/plain": [
       "  Customer Id  YearOfObservation  Insured_Period  Residential  \\\n",
       "0      H14663               2013               1            0   \n",
       "1       H2037               2015               1            0   \n",
       "2       H3802               2014               1            0   \n",
       "3       H3834               2013               1            0   \n",
       "4       H5053               2014               1            0   \n",
       "\n",
       "   Building_Painted  Building_Fenced  Garden  Settlement  Building Dimension  \\\n",
       "0                 0                1       1           1               290.0   \n",
       "1                 1                0       0           0               490.0   \n",
       "2                 0                1       1           1               595.0   \n",
       "3                 1                1       1           1              2840.0   \n",
       "4                 1                0       0           0               680.0   \n",
       "\n",
       "   Building_Type  Date_of_Occupancy  Claim  \n",
       "0              1               1960      0  \n",
       "1              1               1850      0  \n",
       "2              1               1960      0  \n",
       "3              1               1960      0  \n",
       "4              1               1800      0  "
      ]
     },
     "execution_count": 43,
     "metadata": {},
     "output_type": "execute_result"
    }
   ],
   "source": [
    "Insdata1.head()"
   ]
  },
  {
   "cell_type": "code",
   "execution_count": 44,
   "id": "9d1894d7",
   "metadata": {},
   "outputs": [
    {
     "name": "stdout",
     "output_type": "stream",
     "text": [
      "<class 'pandas.core.frame.DataFrame'>\n",
      "RangeIndex: 7160 entries, 0 to 7159\n",
      "Data columns (total 12 columns):\n",
      " #   Column              Non-Null Count  Dtype  \n",
      "---  ------              --------------  -----  \n",
      " 0   Customer Id         7160 non-null   object \n",
      " 1   YearOfObservation   7160 non-null   int64  \n",
      " 2   Insured_Period      7160 non-null   int64  \n",
      " 3   Residential         7160 non-null   int64  \n",
      " 4   Building_Painted    7160 non-null   int32  \n",
      " 5   Building_Fenced     7160 non-null   int32  \n",
      " 6   Garden              7160 non-null   int32  \n",
      " 7   Settlement          7160 non-null   int32  \n",
      " 8   Building Dimension  7160 non-null   float64\n",
      " 9   Building_Type       7160 non-null   int64  \n",
      " 10  Date_of_Occupancy   7160 non-null   int32  \n",
      " 11  Claim               7160 non-null   int64  \n",
      "dtypes: float64(1), int32(5), int64(5), object(1)\n",
      "memory usage: 531.5+ KB\n"
     ]
    }
   ],
   "source": [
    "Insdata1.info()"
   ]
  },
  {
   "cell_type": "code",
   "execution_count": 45,
   "id": "5f9dc57a",
   "metadata": {},
   "outputs": [
    {
     "data": {
      "text/plain": [
       "2012    1858\n",
       "2013    1811\n",
       "2014    1373\n",
       "2015    1075\n",
       "2016    1043\n",
       "Name: YearOfObservation, dtype: int64"
      ]
     },
     "execution_count": 45,
     "metadata": {},
     "output_type": "execute_result"
    }
   ],
   "source": [
    "Insdata1['YearOfObservation'].value_counts()"
   ]
  },
  {
   "cell_type": "code",
   "execution_count": 46,
   "id": "e9d2d593",
   "metadata": {},
   "outputs": [],
   "source": [
    "# Convert the 'YearOfObservation' variable into numeric \n",
    "Insdata1['YearOfObservation'] = Insdata1['YearOfObservation'].replace([2012], 5) \n",
    "Insdata1['YearOfObservation'] = Insdata1['YearOfObservation'].replace([2013], 4) \n",
    "Insdata1['YearOfObservation'] = Insdata1['YearOfObservation'].replace([2014], 3) \n",
    "Insdata1['YearOfObservation'] = Insdata1['YearOfObservation'].replace([2015], 2) \n",
    "Insdata1['YearOfObservation'] = Insdata1['YearOfObservation'].replace([2016], 1)"
   ]
  },
  {
   "cell_type": "code",
   "execution_count": 47,
   "id": "0a9891c8",
   "metadata": {},
   "outputs": [
    {
     "data": {
      "text/plain": [
       "400.0     150\n",
       "500.0     120\n",
       "300.0     118\n",
       "450.0     117\n",
       "600.0     114\n",
       "         ... \n",
       "1303.0      1\n",
       "907.0       1\n",
       "2445.0      1\n",
       "924.0       1\n",
       "4069.0      1\n",
       "Name: Building Dimension, Length: 2044, dtype: int64"
      ]
     },
     "execution_count": 47,
     "metadata": {},
     "output_type": "execute_result"
    }
   ],
   "source": [
    "Insdata1['Building Dimension'].value_counts()"
   ]
  },
  {
   "cell_type": "code",
   "execution_count": 48,
   "id": "0b037aff",
   "metadata": {},
   "outputs": [
    {
     "data": {
      "text/plain": [
       "20940.0"
      ]
     },
     "execution_count": 48,
     "metadata": {},
     "output_type": "execute_result"
    }
   ],
   "source": [
    "Insdata1['Building Dimension'].max()"
   ]
  },
  {
   "cell_type": "code",
   "execution_count": 49,
   "id": "ac17ce7a",
   "metadata": {},
   "outputs": [
    {
     "data": {
      "text/plain": [
       "1.0"
      ]
     },
     "execution_count": 49,
     "metadata": {},
     "output_type": "execute_result"
    }
   ],
   "source": [
    "Insdata1['Building Dimension'].min()"
   ]
  },
  {
   "cell_type": "code",
   "execution_count": 50,
   "id": "0f8b9e7d",
   "metadata": {},
   "outputs": [],
   "source": [
    "# Create Building Dimension ranges\n",
    "\n",
    "Insdata1['BD_Range'] = pd.cut(x=Insdata1['Building Dimension'], bins =[-1, 500, 1000, 1500, 2500, 5000,\n",
    "                                                                      10000, 15000, 25000],\n",
    "                             labels= ['<=500', '>500 to <=1000','>1000 to <=1500', '>1500 to <=2500', \n",
    "                                      '>2500 to <=5000', '>5000 to <=10000', '>10000 to <=15000', '>15000 to <=25000'])"
   ]
  },
  {
   "cell_type": "code",
   "execution_count": 51,
   "id": "12f45525",
   "metadata": {},
   "outputs": [
    {
     "data": {
      "text/plain": [
       "1960    2326\n",
       "1980    1155\n",
       "1988     530\n",
       "1900     371\n",
       "1970     285\n",
       "        ... \n",
       "1923       1\n",
       "1919       1\n",
       "1905       1\n",
       "1914       1\n",
       "1926       1\n",
       "Name: Date_of_Occupancy, Length: 134, dtype: int64"
      ]
     },
     "execution_count": 51,
     "metadata": {},
     "output_type": "execute_result"
    }
   ],
   "source": [
    "Insdata1['Date_of_Occupancy'].value_counts()"
   ]
  },
  {
   "cell_type": "code",
   "execution_count": 52,
   "id": "769d2272",
   "metadata": {},
   "outputs": [
    {
     "data": {
      "text/plain": [
       "2016"
      ]
     },
     "execution_count": 52,
     "metadata": {},
     "output_type": "execute_result"
    }
   ],
   "source": [
    "Insdata1['Date_of_Occupancy'].max()"
   ]
  },
  {
   "cell_type": "code",
   "execution_count": 53,
   "id": "14ba79d9",
   "metadata": {},
   "outputs": [
    {
     "data": {
      "text/plain": [
       "1545"
      ]
     },
     "execution_count": 53,
     "metadata": {},
     "output_type": "execute_result"
    }
   ],
   "source": [
    "Insdata1['Date_of_Occupancy'].min()"
   ]
  },
  {
   "cell_type": "code",
   "execution_count": 54,
   "id": "6031077a",
   "metadata": {},
   "outputs": [
    {
     "data": {
      "text/html": [
       "<div>\n",
       "<style scoped>\n",
       "    .dataframe tbody tr th:only-of-type {\n",
       "        vertical-align: middle;\n",
       "    }\n",
       "\n",
       "    .dataframe tbody tr th {\n",
       "        vertical-align: top;\n",
       "    }\n",
       "\n",
       "    .dataframe thead th {\n",
       "        text-align: right;\n",
       "    }\n",
       "</style>\n",
       "<table border=\"1\" class=\"dataframe\">\n",
       "  <thead>\n",
       "    <tr style=\"text-align: right;\">\n",
       "      <th></th>\n",
       "      <th>Customer Id</th>\n",
       "      <th>YearOfObservation</th>\n",
       "      <th>Insured_Period</th>\n",
       "      <th>Residential</th>\n",
       "      <th>Building_Painted</th>\n",
       "      <th>Building_Fenced</th>\n",
       "      <th>Garden</th>\n",
       "      <th>Settlement</th>\n",
       "      <th>Building Dimension</th>\n",
       "      <th>Building_Type</th>\n",
       "      <th>Date_of_Occupancy</th>\n",
       "      <th>Claim</th>\n",
       "      <th>BD_Range</th>\n",
       "    </tr>\n",
       "  </thead>\n",
       "  <tbody>\n",
       "    <tr>\n",
       "      <th>0</th>\n",
       "      <td>H14663</td>\n",
       "      <td>4</td>\n",
       "      <td>1</td>\n",
       "      <td>0</td>\n",
       "      <td>0</td>\n",
       "      <td>1</td>\n",
       "      <td>1</td>\n",
       "      <td>1</td>\n",
       "      <td>290.0</td>\n",
       "      <td>1</td>\n",
       "      <td>1960</td>\n",
       "      <td>0</td>\n",
       "      <td>&lt;=500</td>\n",
       "    </tr>\n",
       "    <tr>\n",
       "      <th>1</th>\n",
       "      <td>H2037</td>\n",
       "      <td>2</td>\n",
       "      <td>1</td>\n",
       "      <td>0</td>\n",
       "      <td>1</td>\n",
       "      <td>0</td>\n",
       "      <td>0</td>\n",
       "      <td>0</td>\n",
       "      <td>490.0</td>\n",
       "      <td>1</td>\n",
       "      <td>1850</td>\n",
       "      <td>0</td>\n",
       "      <td>&lt;=500</td>\n",
       "    </tr>\n",
       "    <tr>\n",
       "      <th>2</th>\n",
       "      <td>H3802</td>\n",
       "      <td>3</td>\n",
       "      <td>1</td>\n",
       "      <td>0</td>\n",
       "      <td>0</td>\n",
       "      <td>1</td>\n",
       "      <td>1</td>\n",
       "      <td>1</td>\n",
       "      <td>595.0</td>\n",
       "      <td>1</td>\n",
       "      <td>1960</td>\n",
       "      <td>0</td>\n",
       "      <td>&gt;500 to &lt;=1000</td>\n",
       "    </tr>\n",
       "    <tr>\n",
       "      <th>3</th>\n",
       "      <td>H3834</td>\n",
       "      <td>4</td>\n",
       "      <td>1</td>\n",
       "      <td>0</td>\n",
       "      <td>1</td>\n",
       "      <td>1</td>\n",
       "      <td>1</td>\n",
       "      <td>1</td>\n",
       "      <td>2840.0</td>\n",
       "      <td>1</td>\n",
       "      <td>1960</td>\n",
       "      <td>0</td>\n",
       "      <td>&gt;2500 to &lt;=5000</td>\n",
       "    </tr>\n",
       "    <tr>\n",
       "      <th>4</th>\n",
       "      <td>H5053</td>\n",
       "      <td>3</td>\n",
       "      <td>1</td>\n",
       "      <td>0</td>\n",
       "      <td>1</td>\n",
       "      <td>0</td>\n",
       "      <td>0</td>\n",
       "      <td>0</td>\n",
       "      <td>680.0</td>\n",
       "      <td>1</td>\n",
       "      <td>1800</td>\n",
       "      <td>0</td>\n",
       "      <td>&gt;500 to &lt;=1000</td>\n",
       "    </tr>\n",
       "  </tbody>\n",
       "</table>\n",
       "</div>"
      ],
      "text/plain": [
       "  Customer Id  YearOfObservation  Insured_Period  Residential  \\\n",
       "0      H14663                  4               1            0   \n",
       "1       H2037                  2               1            0   \n",
       "2       H3802                  3               1            0   \n",
       "3       H3834                  4               1            0   \n",
       "4       H5053                  3               1            0   \n",
       "\n",
       "   Building_Painted  Building_Fenced  Garden  Settlement  Building Dimension  \\\n",
       "0                 0                1       1           1               290.0   \n",
       "1                 1                0       0           0               490.0   \n",
       "2                 0                1       1           1               595.0   \n",
       "3                 1                1       1           1              2840.0   \n",
       "4                 1                0       0           0               680.0   \n",
       "\n",
       "   Building_Type  Date_of_Occupancy  Claim         BD_Range  \n",
       "0              1               1960      0            <=500  \n",
       "1              1               1850      0            <=500  \n",
       "2              1               1960      0   >500 to <=1000  \n",
       "3              1               1960      0  >2500 to <=5000  \n",
       "4              1               1800      0   >500 to <=1000  "
      ]
     },
     "execution_count": 54,
     "metadata": {},
     "output_type": "execute_result"
    }
   ],
   "source": [
    "# Copy to back up file\n",
    "\n",
    "Insdata1_bk = Insdata1.copy()\n",
    "Insdata1.head()"
   ]
  },
  {
   "cell_type": "code",
   "execution_count": 55,
   "id": "1e4dea97",
   "metadata": {},
   "outputs": [],
   "source": [
    "# Create 'Date_of_Occupancy' ranges \n",
    "Insdata1['DoO_Range'] = pd.cut(x=Insdata1['Date_of_Occupancy'], bins=[1500, 1600, 1700, 1800, 1900, 2000, 2100], \n",
    "                                   labels=['>1500 to <=1600', '>1600 to <=1700', '>1700 to <=1800', '>1800 to <=1900', \n",
    "                                           '>1900 to <=2000', '>2000 to <=2100'])"
   ]
  },
  {
   "cell_type": "code",
   "execution_count": 56,
   "id": "c6d1b8b0",
   "metadata": {},
   "outputs": [
    {
     "data": {
      "text/html": [
       "<div>\n",
       "<style scoped>\n",
       "    .dataframe tbody tr th:only-of-type {\n",
       "        vertical-align: middle;\n",
       "    }\n",
       "\n",
       "    .dataframe tbody tr th {\n",
       "        vertical-align: top;\n",
       "    }\n",
       "\n",
       "    .dataframe thead th {\n",
       "        text-align: right;\n",
       "    }\n",
       "</style>\n",
       "<table border=\"1\" class=\"dataframe\">\n",
       "  <thead>\n",
       "    <tr style=\"text-align: right;\">\n",
       "      <th></th>\n",
       "      <th>0</th>\n",
       "      <th>1</th>\n",
       "      <th>2</th>\n",
       "      <th>3</th>\n",
       "      <th>4</th>\n",
       "    </tr>\n",
       "  </thead>\n",
       "  <tbody>\n",
       "    <tr>\n",
       "      <th>Customer Id</th>\n",
       "      <td>H14663</td>\n",
       "      <td>H2037</td>\n",
       "      <td>H3802</td>\n",
       "      <td>H3834</td>\n",
       "      <td>H5053</td>\n",
       "    </tr>\n",
       "    <tr>\n",
       "      <th>Insured_Period</th>\n",
       "      <td>1</td>\n",
       "      <td>1</td>\n",
       "      <td>1</td>\n",
       "      <td>1</td>\n",
       "      <td>1</td>\n",
       "    </tr>\n",
       "    <tr>\n",
       "      <th>Residential</th>\n",
       "      <td>0</td>\n",
       "      <td>0</td>\n",
       "      <td>0</td>\n",
       "      <td>0</td>\n",
       "      <td>0</td>\n",
       "    </tr>\n",
       "    <tr>\n",
       "      <th>Building_Painted</th>\n",
       "      <td>0</td>\n",
       "      <td>1</td>\n",
       "      <td>0</td>\n",
       "      <td>1</td>\n",
       "      <td>1</td>\n",
       "    </tr>\n",
       "    <tr>\n",
       "      <th>Building_Fenced</th>\n",
       "      <td>1</td>\n",
       "      <td>0</td>\n",
       "      <td>1</td>\n",
       "      <td>1</td>\n",
       "      <td>0</td>\n",
       "    </tr>\n",
       "    <tr>\n",
       "      <th>Garden</th>\n",
       "      <td>1</td>\n",
       "      <td>0</td>\n",
       "      <td>1</td>\n",
       "      <td>1</td>\n",
       "      <td>0</td>\n",
       "    </tr>\n",
       "    <tr>\n",
       "      <th>Settlement</th>\n",
       "      <td>1</td>\n",
       "      <td>0</td>\n",
       "      <td>1</td>\n",
       "      <td>1</td>\n",
       "      <td>0</td>\n",
       "    </tr>\n",
       "    <tr>\n",
       "      <th>Building Dimension</th>\n",
       "      <td>290.0</td>\n",
       "      <td>490.0</td>\n",
       "      <td>595.0</td>\n",
       "      <td>2840.0</td>\n",
       "      <td>680.0</td>\n",
       "    </tr>\n",
       "    <tr>\n",
       "      <th>Building_Type</th>\n",
       "      <td>1</td>\n",
       "      <td>1</td>\n",
       "      <td>1</td>\n",
       "      <td>1</td>\n",
       "      <td>1</td>\n",
       "    </tr>\n",
       "    <tr>\n",
       "      <th>Date_of_Occupancy</th>\n",
       "      <td>1960</td>\n",
       "      <td>1850</td>\n",
       "      <td>1960</td>\n",
       "      <td>1960</td>\n",
       "      <td>1800</td>\n",
       "    </tr>\n",
       "    <tr>\n",
       "      <th>Claim</th>\n",
       "      <td>0</td>\n",
       "      <td>0</td>\n",
       "      <td>0</td>\n",
       "      <td>0</td>\n",
       "      <td>0</td>\n",
       "    </tr>\n",
       "    <tr>\n",
       "      <th>YearOfObservation_1</th>\n",
       "      <td>0</td>\n",
       "      <td>0</td>\n",
       "      <td>0</td>\n",
       "      <td>0</td>\n",
       "      <td>0</td>\n",
       "    </tr>\n",
       "    <tr>\n",
       "      <th>YearOfObservation_2</th>\n",
       "      <td>0</td>\n",
       "      <td>1</td>\n",
       "      <td>0</td>\n",
       "      <td>0</td>\n",
       "      <td>0</td>\n",
       "    </tr>\n",
       "    <tr>\n",
       "      <th>YearOfObservation_3</th>\n",
       "      <td>0</td>\n",
       "      <td>0</td>\n",
       "      <td>1</td>\n",
       "      <td>0</td>\n",
       "      <td>1</td>\n",
       "    </tr>\n",
       "    <tr>\n",
       "      <th>YearOfObservation_4</th>\n",
       "      <td>1</td>\n",
       "      <td>0</td>\n",
       "      <td>0</td>\n",
       "      <td>1</td>\n",
       "      <td>0</td>\n",
       "    </tr>\n",
       "    <tr>\n",
       "      <th>YearOfObservation_5</th>\n",
       "      <td>0</td>\n",
       "      <td>0</td>\n",
       "      <td>0</td>\n",
       "      <td>0</td>\n",
       "      <td>0</td>\n",
       "    </tr>\n",
       "    <tr>\n",
       "      <th>BD_Range_&lt;=500</th>\n",
       "      <td>1</td>\n",
       "      <td>1</td>\n",
       "      <td>0</td>\n",
       "      <td>0</td>\n",
       "      <td>0</td>\n",
       "    </tr>\n",
       "    <tr>\n",
       "      <th>BD_Range_&gt;500 to &lt;=1000</th>\n",
       "      <td>0</td>\n",
       "      <td>0</td>\n",
       "      <td>1</td>\n",
       "      <td>0</td>\n",
       "      <td>1</td>\n",
       "    </tr>\n",
       "    <tr>\n",
       "      <th>BD_Range_&gt;1000 to &lt;=1500</th>\n",
       "      <td>0</td>\n",
       "      <td>0</td>\n",
       "      <td>0</td>\n",
       "      <td>0</td>\n",
       "      <td>0</td>\n",
       "    </tr>\n",
       "    <tr>\n",
       "      <th>BD_Range_&gt;1500 to &lt;=2500</th>\n",
       "      <td>0</td>\n",
       "      <td>0</td>\n",
       "      <td>0</td>\n",
       "      <td>0</td>\n",
       "      <td>0</td>\n",
       "    </tr>\n",
       "    <tr>\n",
       "      <th>BD_Range_&gt;2500 to &lt;=5000</th>\n",
       "      <td>0</td>\n",
       "      <td>0</td>\n",
       "      <td>0</td>\n",
       "      <td>1</td>\n",
       "      <td>0</td>\n",
       "    </tr>\n",
       "    <tr>\n",
       "      <th>BD_Range_&gt;5000 to &lt;=10000</th>\n",
       "      <td>0</td>\n",
       "      <td>0</td>\n",
       "      <td>0</td>\n",
       "      <td>0</td>\n",
       "      <td>0</td>\n",
       "    </tr>\n",
       "    <tr>\n",
       "      <th>BD_Range_&gt;10000 to &lt;=15000</th>\n",
       "      <td>0</td>\n",
       "      <td>0</td>\n",
       "      <td>0</td>\n",
       "      <td>0</td>\n",
       "      <td>0</td>\n",
       "    </tr>\n",
       "    <tr>\n",
       "      <th>BD_Range_&gt;15000 to &lt;=25000</th>\n",
       "      <td>0</td>\n",
       "      <td>0</td>\n",
       "      <td>0</td>\n",
       "      <td>0</td>\n",
       "      <td>0</td>\n",
       "    </tr>\n",
       "    <tr>\n",
       "      <th>DoO_Range_&gt;1500 to &lt;=1600</th>\n",
       "      <td>0</td>\n",
       "      <td>0</td>\n",
       "      <td>0</td>\n",
       "      <td>0</td>\n",
       "      <td>0</td>\n",
       "    </tr>\n",
       "    <tr>\n",
       "      <th>DoO_Range_&gt;1600 to &lt;=1700</th>\n",
       "      <td>0</td>\n",
       "      <td>0</td>\n",
       "      <td>0</td>\n",
       "      <td>0</td>\n",
       "      <td>0</td>\n",
       "    </tr>\n",
       "    <tr>\n",
       "      <th>DoO_Range_&gt;1700 to &lt;=1800</th>\n",
       "      <td>0</td>\n",
       "      <td>0</td>\n",
       "      <td>0</td>\n",
       "      <td>0</td>\n",
       "      <td>1</td>\n",
       "    </tr>\n",
       "    <tr>\n",
       "      <th>DoO_Range_&gt;1800 to &lt;=1900</th>\n",
       "      <td>0</td>\n",
       "      <td>1</td>\n",
       "      <td>0</td>\n",
       "      <td>0</td>\n",
       "      <td>0</td>\n",
       "    </tr>\n",
       "    <tr>\n",
       "      <th>DoO_Range_&gt;1900 to &lt;=2000</th>\n",
       "      <td>1</td>\n",
       "      <td>0</td>\n",
       "      <td>1</td>\n",
       "      <td>1</td>\n",
       "      <td>0</td>\n",
       "    </tr>\n",
       "    <tr>\n",
       "      <th>DoO_Range_&gt;2000 to &lt;=2100</th>\n",
       "      <td>0</td>\n",
       "      <td>0</td>\n",
       "      <td>0</td>\n",
       "      <td>0</td>\n",
       "      <td>0</td>\n",
       "    </tr>\n",
       "  </tbody>\n",
       "</table>\n",
       "</div>"
      ],
      "text/plain": [
       "                                 0      1      2       3      4\n",
       "Customer Id                 H14663  H2037  H3802   H3834  H5053\n",
       "Insured_Period                   1      1      1       1      1\n",
       "Residential                      0      0      0       0      0\n",
       "Building_Painted                 0      1      0       1      1\n",
       "Building_Fenced                  1      0      1       1      0\n",
       "Garden                           1      0      1       1      0\n",
       "Settlement                       1      0      1       1      0\n",
       "Building Dimension           290.0  490.0  595.0  2840.0  680.0\n",
       "Building_Type                    1      1      1       1      1\n",
       "Date_of_Occupancy             1960   1850   1960    1960   1800\n",
       "Claim                            0      0      0       0      0\n",
       "YearOfObservation_1              0      0      0       0      0\n",
       "YearOfObservation_2              0      1      0       0      0\n",
       "YearOfObservation_3              0      0      1       0      1\n",
       "YearOfObservation_4              1      0      0       1      0\n",
       "YearOfObservation_5              0      0      0       0      0\n",
       "BD_Range_<=500                   1      1      0       0      0\n",
       "BD_Range_>500 to <=1000          0      0      1       0      1\n",
       "BD_Range_>1000 to <=1500         0      0      0       0      0\n",
       "BD_Range_>1500 to <=2500         0      0      0       0      0\n",
       "BD_Range_>2500 to <=5000         0      0      0       1      0\n",
       "BD_Range_>5000 to <=10000        0      0      0       0      0\n",
       "BD_Range_>10000 to <=15000       0      0      0       0      0\n",
       "BD_Range_>15000 to <=25000       0      0      0       0      0\n",
       "DoO_Range_>1500 to <=1600        0      0      0       0      0\n",
       "DoO_Range_>1600 to <=1700        0      0      0       0      0\n",
       "DoO_Range_>1700 to <=1800        0      0      0       0      1\n",
       "DoO_Range_>1800 to <=1900        0      1      0       0      0\n",
       "DoO_Range_>1900 to <=2000        1      0      1       1      0\n",
       "DoO_Range_>2000 to <=2100        0      0      0       0      0"
      ]
     },
     "execution_count": 56,
     "metadata": {},
     "output_type": "execute_result"
    }
   ],
   "source": [
    "# Create dummy variables for all range values\n",
    "\n",
    "Insdata1 = pd.get_dummies(Insdata1, columns=['YearOfObservation','BD_Range','DoO_Range'])\n",
    "Insdata1.head().T"
   ]
  },
  {
   "cell_type": "code",
   "execution_count": 57,
   "id": "71042489",
   "metadata": {},
   "outputs": [],
   "source": [
    "# Identify the independt and dependent variables \n",
    "\n",
    "x = Insdata1.drop([\"Claim\",\"Customer Id\", \"Building Dimension\", \"Date_of_Occupancy\"], axis=1) \n",
    "y = Insdata1[\"Claim\"]"
   ]
  },
  {
   "cell_type": "code",
   "execution_count": 58,
   "id": "f9e3e69e",
   "metadata": {},
   "outputs": [],
   "source": [
    "# Splitting the dataset into train and test\n",
    "\n",
    "from sklearn.model_selection import train_test_split\n",
    "\n",
    "x_train, x_test, y_train, y_test = train_test_split(x, y, test_size = 0.40, random_state = 42) \n",
    "\n",
    "x_test_f1 = x_test.copy()"
   ]
  },
  {
   "cell_type": "markdown",
   "id": "92a38946",
   "metadata": {},
   "source": [
    "# SVM-Linear Kernal"
   ]
  },
  {
   "cell_type": "code",
   "execution_count": 59,
   "id": "f64e50aa",
   "metadata": {},
   "outputs": [],
   "source": [
    "# Training the SVM algorithm for classification problem \n",
    "from sklearn.svm import SVC \n",
    "\n",
    "Insdata1SVM = SVC(C=1.0, kernel='linear', degree=3, gamma='scale', coef0=0.0, shrinking=True, \n",
    "                                              probability=False, tol=0.001, cache_size=200, class_weight=None, verbose=False, \n",
    "                                              max_iter=- 1, decision_function_shape='ovr', break_ties=False, random_state=42) \n",
    "\n",
    "Insdata1SVM = Insdata1SVM.fit(x_train, y_train)"
   ]
  },
  {
   "cell_type": "code",
   "execution_count": 60,
   "id": "7d807450",
   "metadata": {},
   "outputs": [
    {
     "name": "stdout",
     "output_type": "stream",
     "text": [
      "Confusion matrix : \n",
      " [[ 112  554]\n",
      " [  98 2100]]\n",
      "Outcome Values : \n",
      " 112 554 98 2100\n",
      "Classification report : \n",
      "               precision    recall  f1-score   support\n",
      "\n",
      "           1       0.53      0.17      0.26       666\n",
      "           0       0.79      0.96      0.87      2198\n",
      "\n",
      "    accuracy                           0.77      2864\n",
      "   macro avg       0.66      0.56      0.56      2864\n",
      "weighted avg       0.73      0.77      0.72      2864\n",
      "\n",
      "Accuracy : 77.2 %\n",
      "Precision : 53.3 %\n",
      "Recall : 16.8 %\n",
      "F1 Score : 0.256\n",
      "Balanced Accuracy : 56.2 %\n",
      "MCC 0.2\n",
      "roc_auc_score: 0.562\n"
     ]
    }
   ],
   "source": [
    "# Predictions with test data \n",
    "\n",
    "y_pred = Insdata1SVM.predict(x_test) \n",
    "\n",
    "from sklearn.metrics import classification_report, confusion_matrix\n",
    "\n",
    "# actual values\n",
    "\n",
    "actual = y_test\n",
    "\n",
    "# predicted values\n",
    "predicted = y_pred\n",
    "\n",
    "# confusion matrix\n",
    "\n",
    "matrix = confusion_matrix(actual, predicted, labels=[1, 0], sample_weight=None, normalize=None,)\n",
    "print('Confusion matrix : \\n', matrix)\n",
    "\n",
    "# outcome values order in sklearn\n",
    "\n",
    "tp,fn, fp, tn = confusion_matrix(actual, predicted, labels=[1,0]).reshape(-1)\n",
    "\n",
    "print('Outcome Values : \\n', tp, fn, fp, tn)\n",
    "\n",
    "# classification report for precision, recall f1-score and accuracy\n",
    "\n",
    "matrix = classification_report(actual,predicted,labels=[1,0])\n",
    "print('Classification report : \\n', matrix)\n",
    "\n",
    "# calculating the metrics\n",
    "\n",
    "sensitivity = round(tp/(tp+fn), 3) \n",
    "\n",
    "specificity = round(tn/(tn+fp), 3)\n",
    "\n",
    "accuracy = round((tp+tn)/(tp+fp+tn+fn), 3)\n",
    "balanced_accuracy = round((sensitivity+specificity)/2, 3)\n",
    "precision = round(tp/(tp+fp), 3)\n",
    "f1Score = round((2*tp/(2*tp + fp +fn)), 3);\n",
    "\n",
    "# Mathews Correlatin coefficient (MCC). Range of values of MCC lie between -1 to +1\n",
    "# A model with a score of +1 is a perfect model and -1 is a poor model\n",
    "\n",
    "from math import sqrt\n",
    "\n",
    "m = (tp+fp)*(tp+fn)*(tn+fp)*(tn+fn)\n",
    "\n",
    "MCC = round(((tp* tn) - (fp * fn)) / sqrt(m), 3)\n",
    "\n",
    "print('Accuracy :', round(accuracy*100, 2), '%')\n",
    "print('Precision :', round(precision*100, 2), '%')\n",
    "print('Recall :', round(sensitivity*100, 2), '%')\n",
    "print('F1 Score :', f1Score)\n",
    "print('Balanced Accuracy :', round(balanced_accuracy*100, 2), '%')\n",
    "print('MCC', MCC)\n",
    "\n",
    "from sklearn.metrics import roc_curve, roc_auc_score\n",
    "\n",
    "# Area under ROC curve \n",
    "print('roc_auc_score:', round(roc_auc_score(y_test, y_pred), 3))"
   ]
  },
  {
   "cell_type": "markdown",
   "id": "0b040235",
   "metadata": {},
   "source": [
    "# Polynomial Kernel"
   ]
  },
  {
   "cell_type": "code",
   "execution_count": 61,
   "id": "61f850bd",
   "metadata": {},
   "outputs": [
    {
     "name": "stdout",
     "output_type": "stream",
     "text": [
      "Confusion matrix : \n",
      " [[  90  576]\n",
      " [  71 2127]]\n",
      "Outcome Values : \n",
      " 90 576 71 2127\n",
      "Classification report : \n",
      "               precision    recall  f1-score   support\n",
      "\n",
      "           1       0.56      0.14      0.22       666\n",
      "           0       0.79      0.97      0.87      2198\n",
      "\n",
      "    accuracy                           0.77      2864\n",
      "   macro avg       0.67      0.55      0.54      2864\n",
      "weighted avg       0.73      0.77      0.72      2864\n",
      "\n",
      "Accuracy : 77.4 %\n",
      "Precision : 55.9 %\n",
      "Recall : 13.5 %\n",
      "F1 Score : 0.218\n",
      "Balanced Accuracy : 55.2 %\n",
      "MCC 0.189\n",
      "roc_auc_score: 0.551\n"
     ]
    }
   ],
   "source": [
    "# Training the SVM algorithm\n",
    "\n",
    "from sklearn.svm import SVC\n",
    "\n",
    "Insdata1SVMPoly = SVC(kernel='poly', degree=2)\n",
    "Insdata1SVMPoly.fit(x_train, y_train)\n",
    "\n",
    "# Predicting the values\n",
    "\n",
    "y1_pred = Insdata1SVMPoly.predict(x_test)\n",
    "\n",
    "from sklearn.metrics import classification_report, confusion_matrix\n",
    "\n",
    "# actual values\n",
    "\n",
    "actual = y_test\n",
    "\n",
    "# predicted values\n",
    "predicted = y1_pred\n",
    "\n",
    "# confusion matrix\n",
    "\n",
    "matrix = confusion_matrix(actual, predicted, labels=[1, 0], sample_weight=None, normalize=None,)\n",
    "print('Confusion matrix : \\n', matrix)\n",
    "\n",
    "# outcome values order in sklearn\n",
    "\n",
    "tp,fn, fp, tn = confusion_matrix(actual, predicted, labels=[1,0]).reshape(-1)\n",
    "\n",
    "print('Outcome Values : \\n', tp, fn, fp, tn)\n",
    "\n",
    "# classification report for precision, recall f1-score and accuracy\n",
    "\n",
    "matrix = classification_report(actual,predicted,labels=[1,0])\n",
    "print('Classification report : \\n', matrix)\n",
    "\n",
    "# calculating the metrics\n",
    "\n",
    "sensitivity = round(tp/(tp+fn), 3) \n",
    "\n",
    "specificity = round(tn/(tn+fp), 3)\n",
    "\n",
    "accuracy = round((tp+tn)/(tp+fp+tn+fn), 3)\n",
    "balanced_accuracy = round((sensitivity+specificity)/2, 3)\n",
    "precision = round(tp/(tp+fp), 3)\n",
    "f1Score = round((2*tp/(2*tp + fp +fn)), 3);\n",
    "\n",
    "# Mathews Correlatin coefficient (MCC). Range of values of MCC lie between -1 to +1\n",
    "# A model with a score of +1 is a perfect model and -1 is a poor model\n",
    "\n",
    "from math import sqrt\n",
    "\n",
    "m = (tp+fp)*(tp+fn)*(tn+fp)*(tn+fn)\n",
    "\n",
    "MCC = round(((tp* tn) - (fp * fn)) / sqrt(m), 3)\n",
    "\n",
    "print('Accuracy :', round(accuracy*100, 2), '%')\n",
    "print('Precision :', round(precision*100, 2), '%')\n",
    "print('Recall :', round(sensitivity*100, 2), '%')\n",
    "print('F1 Score :', f1Score)\n",
    "print('Balanced Accuracy :', round(balanced_accuracy*100, 2), '%')\n",
    "print('MCC', MCC)\n",
    "\n",
    "from sklearn.metrics import roc_curve, roc_auc_score\n",
    "\n",
    "# Area under ROC curve \n",
    "print('roc_auc_score:', round(roc_auc_score(y_test, y1_pred), 3))"
   ]
  },
  {
   "cell_type": "markdown",
   "id": "eec85cd6",
   "metadata": {},
   "source": [
    "# Gaussian Kernel"
   ]
  },
  {
   "cell_type": "code",
   "execution_count": 62,
   "id": "b67ef32a",
   "metadata": {},
   "outputs": [
    {
     "name": "stdout",
     "output_type": "stream",
     "text": [
      "Confusion matrix : \n",
      " [[ 391  275]\n",
      " [ 663 1535]]\n",
      "Outcome Values : \n",
      " 391 275 663 1535\n",
      "Classification report : \n",
      "               precision    recall  f1-score   support\n",
      "\n",
      "           1       0.37      0.59      0.45       666\n",
      "           0       0.85      0.70      0.77      2198\n",
      "\n",
      "    accuracy                           0.67      2864\n",
      "   macro avg       0.61      0.64      0.61      2864\n",
      "weighted avg       0.74      0.67      0.69      2864\n",
      "\n",
      "Accuracy : 67.2 %\n",
      "Precision : 37.1 %\n",
      "Recall : 58.7 %\n",
      "F1 Score : 0.455\n",
      "Balanced Accuracy : 64.2 %\n",
      "MCC 0.25\n",
      "roc_auc_score: 0.643\n"
     ]
    }
   ],
   "source": [
    "# Training the SVM algorithm\n",
    "\n",
    "from sklearn.svm import SVC\n",
    "\n",
    "Insdata1SVMGaussian = SVC(kernel='rbf', random_state = 42, class_weight='balanced')\n",
    "Insdata1SVMGaussian.fit(x_train, y_train)\n",
    "\n",
    "# Predicting the values\n",
    "\n",
    "y2_pred = Insdata1SVMGaussian.predict(x_test)\n",
    "\n",
    "from sklearn.metrics import classification_report, confusion_matrix\n",
    "\n",
    "# actual values\n",
    "\n",
    "actual = y_test\n",
    "\n",
    "# predicted values\n",
    "predicted = y2_pred\n",
    "\n",
    "# confusion matrix\n",
    "\n",
    "matrix = confusion_matrix(actual, predicted, labels=[1, 0], sample_weight=None, normalize=None,)\n",
    "print('Confusion matrix : \\n', matrix)\n",
    "\n",
    "# outcome values order in sklearn\n",
    "\n",
    "tp,fn, fp, tn = confusion_matrix(actual, predicted, labels=[1,0]).reshape(-1)\n",
    "\n",
    "print('Outcome Values : \\n', tp, fn, fp, tn)\n",
    "\n",
    "# classification report for precision, recall f1-score and accuracy\n",
    "\n",
    "matrix = classification_report(actual,predicted,labels=[1,0])\n",
    "print('Classification report : \\n', matrix)\n",
    "\n",
    "# calculating the metrics\n",
    "\n",
    "sensitivity = round(tp/(tp+fn), 3) \n",
    "\n",
    "specificity = round(tn/(tn+fp), 3)\n",
    "\n",
    "accuracy = round((tp+tn)/(tp+fp+tn+fn), 3)\n",
    "balanced_accuracy = round((sensitivity+specificity)/2, 3)\n",
    "precision = round(tp/(tp+fp), 3)\n",
    "f1Score = round((2*tp/(2*tp + fp +fn)), 3);\n",
    "\n",
    "# Mathews Correlatin coefficient (MCC). Range of values of MCC lie between -1 to +1\n",
    "# A model with a score of +1 is a perfect model and -1 is a poor model\n",
    "\n",
    "from math import sqrt\n",
    "\n",
    "m = (tp+fp)*(tp+fn)*(tn+fp)*(tn+fn)\n",
    "\n",
    "MCC = round(((tp* tn) - (fp * fn)) / sqrt(m), 3)\n",
    "\n",
    "print('Accuracy :', round(accuracy*100, 2), '%')\n",
    "print('Precision :', round(precision*100, 2), '%')\n",
    "print('Recall :', round(sensitivity*100, 2), '%')\n",
    "print('F1 Score :', f1Score)\n",
    "print('Balanced Accuracy :', round(balanced_accuracy*100, 2), '%')\n",
    "print('MCC', MCC)\n",
    "\n",
    "from sklearn.metrics import roc_curve, roc_auc_score\n",
    "\n",
    "# Area under ROC curve \n",
    "print('roc_auc_score:', round(roc_auc_score(y_test, y2_pred), 3))"
   ]
  },
  {
   "cell_type": "markdown",
   "id": "2264fd82",
   "metadata": {},
   "source": [
    "# Sigmoid Kernel"
   ]
  },
  {
   "cell_type": "code",
   "execution_count": 63,
   "id": "95b1ef47",
   "metadata": {},
   "outputs": [
    {
     "name": "stdout",
     "output_type": "stream",
     "text": [
      "Confusion matrix : \n",
      " [[ 375  291]\n",
      " [1006 1192]]\n",
      "Outcome Values : \n",
      " 375 291 1006 1192\n",
      "Classification report : \n",
      "               precision    recall  f1-score   support\n",
      "\n",
      "           1       0.27      0.56      0.37       666\n",
      "           0       0.80      0.54      0.65      2198\n",
      "\n",
      "    accuracy                           0.55      2864\n",
      "   macro avg       0.54      0.55      0.51      2864\n",
      "weighted avg       0.68      0.55      0.58      2864\n",
      "\n",
      "Accuracy : 54.7 %\n",
      "Precision : 27.2 %\n",
      "Recall : 56.3 %\n",
      "F1 Score : 0.366\n",
      "Balanced Accuracy : 55.2 %\n",
      "MCC 0.089\n",
      "roc_auc_score: 0.553\n"
     ]
    }
   ],
   "source": [
    "# Training the SVM algorithm\n",
    "\n",
    "from sklearn.svm import SVC\n",
    "\n",
    "Insdata1SVMSig = SVC(kernel='sigmoid', random_state = 42, class_weight='balanced')\n",
    "Insdata1SVMSig.fit(x_train, y_train)\n",
    "\n",
    "# Predicting the values\n",
    "\n",
    "y3_pred = Insdata1SVMSig.predict(x_test)\n",
    "\n",
    "from sklearn.metrics import classification_report, confusion_matrix\n",
    "\n",
    "# actual values\n",
    "\n",
    "actual = y_test\n",
    "\n",
    "# predicted values\n",
    "predicted = y3_pred\n",
    "\n",
    "# confusion matrix\n",
    "\n",
    "matrix = confusion_matrix(actual, predicted, labels=[1, 0], sample_weight=None, normalize=None,)\n",
    "print('Confusion matrix : \\n', matrix)\n",
    "\n",
    "# outcome values order in sklearn\n",
    "\n",
    "tp,fn, fp, tn = confusion_matrix(actual, predicted, labels=[1,0]).reshape(-1)\n",
    "\n",
    "print('Outcome Values : \\n', tp, fn, fp, tn)\n",
    "\n",
    "# classification report for precision, recall f1-score and accuracy\n",
    "\n",
    "matrix = classification_report(actual,predicted,labels=[1,0])\n",
    "print('Classification report : \\n', matrix)\n",
    "\n",
    "# calculating the metrics\n",
    "\n",
    "sensitivity = round(tp/(tp+fn), 3) \n",
    "\n",
    "specificity = round(tn/(tn+fp), 3)\n",
    "\n",
    "accuracy = round((tp+tn)/(tp+fp+tn+fn), 3)\n",
    "balanced_accuracy = round((sensitivity+specificity)/2, 3)\n",
    "precision = round(tp/(tp+fp), 3)\n",
    "f1Score = round((2*tp/(2*tp + fp +fn)), 3);\n",
    "\n",
    "# Mathews Correlatin coefficient (MCC). Range of values of MCC lie between -1 to +1\n",
    "# A model with a score of +1 is a perfect model and -1 is a poor model\n",
    "\n",
    "from math import sqrt\n",
    "\n",
    "m = (tp+fp)*(tp+fn)*(tn+fp)*(tn+fn)\n",
    "\n",
    "MCC = round(((tp* tn) - (fp * fn)) / sqrt(m), 3)\n",
    "\n",
    "print('Accuracy :', round(accuracy*100, 2), '%')\n",
    "print('Precision :', round(precision*100, 2), '%')\n",
    "print('Recall :', round(sensitivity*100, 2), '%')\n",
    "print('F1 Score :', f1Score)\n",
    "print('Balanced Accuracy :', round(balanced_accuracy*100, 2), '%')\n",
    "print('MCC', MCC)\n",
    "\n",
    "from sklearn.metrics import roc_curve, roc_auc_score\n",
    "\n",
    "# Area under ROC curve \n",
    "print('roc_auc_score:', round(roc_auc_score(y_test, y3_pred), 3))"
   ]
  },
  {
   "cell_type": "markdown",
   "id": "3205d8d9",
   "metadata": {},
   "source": [
    "# Random Forest Algorithm"
   ]
  },
  {
   "cell_type": "code",
   "execution_count": 64,
   "id": "ea92acff",
   "metadata": {},
   "outputs": [
    {
     "name": "stdout",
     "output_type": "stream",
     "text": [
      "Confusion matrix : \n",
      " [[ 149  517]\n",
      " [ 201 1997]]\n",
      "Outcome Values : \n",
      " 149 517 201 1997\n",
      "Classification report : \n",
      "               precision    recall  f1-score   support\n",
      "\n",
      "           1       0.43      0.22      0.29       666\n",
      "           0       0.79      0.91      0.85      2198\n",
      "\n",
      "    accuracy                           0.75      2864\n",
      "   macro avg       0.61      0.57      0.57      2864\n",
      "weighted avg       0.71      0.75      0.72      2864\n",
      "\n",
      "Accuracy : 74.9 %\n",
      "Precision : 42.6 %\n",
      "Recall : 22.4 %\n",
      "F1 Score : 0.293\n",
      "Balanced Accuracy : 56.6 %\n",
      "MCC 0.171\n",
      "roc_auc_score: 0.566\n"
     ]
    }
   ],
   "source": [
    "# Build Random Forest classification model and Train the model using the training sets \n",
    "\n",
    "from sklearn.ensemble import RandomForestClassifier \n",
    "\n",
    "Insdata1RF = RandomForestClassifier(bootstrap=True, ccp_alpha=0.0, class_weight=None, criterion='entropy', \n",
    "                                    max_depth=None, max_features='auto', max_leaf_nodes=None, max_samples=None, \n",
    "                                    min_impurity_decrease=0.0, min_impurity_split=None, min_samples_leaf=1, \n",
    "                                    min_samples_split=2, min_weight_fraction_leaf=0.0, n_estimators=500, n_jobs=None, \n",
    "                                    oob_score=False, random_state=0, verbose=0, warm_start=False) \n",
    "\n",
    "Insdata1RF = Insdata1RF.fit(x_train, y_train) \n",
    "\n",
    "# Predict the model with test data set\n",
    "\n",
    "y4_pred = Insdata1RF.predict(x_test) \n",
    "\n",
    "from sklearn.metrics import classification_report, confusion_matrix\n",
    "\n",
    "# actual values\n",
    "\n",
    "actual = y_test\n",
    "\n",
    "# predicted values\n",
    "predicted = y4_pred\n",
    "\n",
    "# confusion matrix\n",
    "\n",
    "matrix = confusion_matrix(actual, predicted, labels=[1, 0], sample_weight=None, normalize=None,)\n",
    "print('Confusion matrix : \\n', matrix)\n",
    "\n",
    "# outcome values order in sklearn\n",
    "\n",
    "tp,fn, fp, tn = confusion_matrix(actual, predicted, labels=[1,0]).reshape(-1)\n",
    "\n",
    "print('Outcome Values : \\n', tp, fn, fp, tn)\n",
    "\n",
    "# classification report for precision, recall f1-score and accuracy\n",
    "\n",
    "matrix = classification_report(actual,predicted,labels=[1,0])\n",
    "print('Classification report : \\n', matrix)\n",
    "\n",
    "# calculating the metrics\n",
    "\n",
    "sensitivity = round(tp/(tp+fn), 3) \n",
    "\n",
    "specificity = round(tn/(tn+fp), 3)\n",
    "\n",
    "accuracy = round((tp+tn)/(tp+fp+tn+fn), 3)\n",
    "balanced_accuracy = round((sensitivity+specificity)/2, 3)\n",
    "precision = round(tp/(tp+fp), 3)\n",
    "f1Score = round((2*tp/(2*tp + fp +fn)), 3);\n",
    "\n",
    "# Mathews Correlatin coefficient (MCC). Range of values of MCC lie between -1 to +1\n",
    "# A model with a score of +1 is a perfect model and -1 is a poor model\n",
    "\n",
    "from math import sqrt\n",
    "\n",
    "m = (tp+fp)*(tp+fn)*(tn+fp)*(tn+fn)\n",
    "\n",
    "MCC = round(((tp* tn) - (fp * fn)) / sqrt(m), 3)\n",
    "\n",
    "print('Accuracy :', round(accuracy*100, 2), '%')\n",
    "print('Precision :', round(precision*100, 2), '%')\n",
    "print('Recall :', round(sensitivity*100, 2), '%')\n",
    "print('F1 Score :', f1Score)\n",
    "print('Balanced Accuracy :', round(balanced_accuracy*100, 2), '%')\n",
    "print('MCC', MCC)\n",
    "\n",
    "from sklearn.metrics import roc_curve, roc_auc_score\n",
    "\n",
    "# Area under ROC curve \n",
    "print('roc_auc_score:', round(roc_auc_score(y_test, y4_pred), 3))"
   ]
  },
  {
   "cell_type": "markdown",
   "id": "87b2c96c",
   "metadata": {},
   "source": [
    "# Decision Tree"
   ]
  },
  {
   "cell_type": "code",
   "execution_count": 65,
   "id": "d85a25ac",
   "metadata": {},
   "outputs": [
    {
     "name": "stdout",
     "output_type": "stream",
     "text": [
      "Confusion matrix : \n",
      " [[ 133  533]\n",
      " [ 187 2011]]\n",
      "Outcome Values : \n",
      " 133 533 187 2011\n",
      "Classification report : \n",
      "               precision    recall  f1-score   support\n",
      "\n",
      "           1       0.42      0.20      0.27       666\n",
      "           0       0.79      0.91      0.85      2198\n",
      "\n",
      "    accuracy                           0.75      2864\n",
      "   macro avg       0.60      0.56      0.56      2864\n",
      "weighted avg       0.70      0.75      0.71      2864\n",
      "\n",
      "Accuracy : 74.9 %\n",
      "Precision : 41.6 %\n",
      "Recall : 20.0 %\n",
      "F1 Score : 0.27\n",
      "Balanced Accuracy : 55.8 %\n",
      "MCC 0.154\n",
      "roc_auc_score: 0.557\n"
     ]
    }
   ],
   "source": [
    "# To build the decision tree model with Over sampling \n",
    "\n",
    "from sklearn.tree import DecisionTreeClassifier \n",
    "\n",
    "Insdata1DT = DecisionTreeClassifier(ccp_alpha=0.0, class_weight=None, criterion='gini', max_depth=None, max_features=None, \n",
    "                                    max_leaf_nodes=None, min_impurity_decrease=0.0, min_impurity_split=None, \n",
    "                                    min_samples_leaf=1, min_samples_split=2,min_weight_fraction_leaf=0.0, random_state=None, \n",
    "                                    splitter='best') \n",
    "\n",
    "Insdata1DT = Insdata1DT.fit(x_train,y_train) \n",
    "\n",
    "# Predict with test data \n",
    "\n",
    "y5_pred = Insdata1DT.predict(x_test)\n",
    "\n",
    "from sklearn.metrics import classification_report, confusion_matrix\n",
    "\n",
    "# actual values\n",
    "\n",
    "actual = y_test\n",
    "\n",
    "# predicted values\n",
    "predicted = y5_pred\n",
    "\n",
    "# confusion matrix\n",
    "\n",
    "matrix = confusion_matrix(actual, predicted, labels=[1, 0], sample_weight=None, normalize=None,)\n",
    "print('Confusion matrix : \\n', matrix)\n",
    "\n",
    "# outcome values order in sklearn\n",
    "\n",
    "tp,fn, fp, tn = confusion_matrix(actual, predicted, labels=[1,0]).reshape(-1)\n",
    "\n",
    "print('Outcome Values : \\n', tp, fn, fp, tn)\n",
    "\n",
    "# classification report for precision, recall f1-score and accuracy\n",
    "\n",
    "matrix = classification_report(actual,predicted,labels=[1,0])\n",
    "print('Classification report : \\n', matrix)\n",
    "\n",
    "# calculating the metrics\n",
    "\n",
    "sensitivity = round(tp/(tp+fn), 3) \n",
    "\n",
    "specificity = round(tn/(tn+fp), 3)\n",
    "\n",
    "accuracy = round((tp+tn)/(tp+fp+tn+fn), 3)\n",
    "balanced_accuracy = round((sensitivity+specificity)/2, 3)\n",
    "precision = round(tp/(tp+fp), 3)\n",
    "f1Score = round((2*tp/(2*tp + fp +fn)), 3);\n",
    "\n",
    "# Mathews Correlatin coefficient (MCC). Range of values of MCC lie between -1 to +1\n",
    "# A model with a score of +1 is a perfect model and -1 is a poor model\n",
    "\n",
    "from math import sqrt\n",
    "\n",
    "m = (tp+fp)*(tp+fn)*(tn+fp)*(tn+fn)\n",
    "\n",
    "MCC = round(((tp* tn) - (fp * fn)) / sqrt(m), 3)\n",
    "\n",
    "print('Accuracy :', round(accuracy*100, 2), '%')\n",
    "print('Precision :', round(precision*100, 2), '%')\n",
    "print('Recall :', round(sensitivity*100, 2), '%')\n",
    "print('F1 Score :', f1Score)\n",
    "print('Balanced Accuracy :', round(balanced_accuracy*100, 2), '%')\n",
    "print('MCC', MCC)\n",
    "\n",
    "from sklearn.metrics import roc_curve, roc_auc_score\n",
    "\n",
    "# Area under ROC curve \n",
    "print('roc_auc_score:', round(roc_auc_score(y_test, y5_pred), 3))"
   ]
  },
  {
   "cell_type": "markdown",
   "id": "b975b90e",
   "metadata": {},
   "source": [
    "# Logistic Regression"
   ]
  },
  {
   "cell_type": "code",
   "execution_count": 66,
   "id": "840f2e08",
   "metadata": {},
   "outputs": [
    {
     "name": "stdout",
     "output_type": "stream",
     "text": [
      "Confusion matrix : \n",
      " [[ 112  554]\n",
      " [  82 2116]]\n",
      "Outcome Values : \n",
      " 112 554 82 2116\n",
      "Classification report : \n",
      "               precision    recall  f1-score   support\n",
      "\n",
      "           1       0.58      0.17      0.26       666\n",
      "           0       0.79      0.96      0.87      2198\n",
      "\n",
      "    accuracy                           0.78      2864\n",
      "   macro avg       0.68      0.57      0.56      2864\n",
      "weighted avg       0.74      0.78      0.73      2864\n",
      "\n",
      "Accuracy : 77.8 %\n",
      "Precision : 57.7 %\n",
      "Recall : 16.8 %\n",
      "F1 Score : 0.26\n",
      "Balanced Accuracy : 56.6 %\n",
      "MCC 0.22\n",
      "roc_auc_score: 0.565\n"
     ]
    }
   ],
   "source": [
    "# To build the 'Logistic Regression' model with random sampling \n",
    "from sklearn.linear_model import LogisticRegression \n",
    "\n",
    "Insdata1LR = LogisticRegression(C=1.0, class_weight=None, dual=False, fit_intercept=True, intercept_scaling=1, \n",
    "                                max_iter=100, multi_class='auto', n_jobs=None, penalty='l2', random_state=None, \n",
    "                                solver='lbfgs', tol=0.0001, verbose=0, warm_start=False) \n",
    "\n",
    "Insdata1LR = Insdata1LR.fit(x_train,y_train) \n",
    "\n",
    "# Predict the model with test data set \n",
    "\n",
    "y6_pred = Insdata1LR.predict(x_test) \n",
    "\n",
    "from sklearn.metrics import classification_report, confusion_matrix\n",
    "\n",
    "# actual values\n",
    "\n",
    "actual = y_test\n",
    "\n",
    "# predicted values\n",
    "predicted = y6_pred\n",
    "\n",
    "# confusion matrix\n",
    "\n",
    "matrix = confusion_matrix(actual, predicted, labels=[1, 0], sample_weight=None, normalize=None,)\n",
    "print('Confusion matrix : \\n', matrix)\n",
    "\n",
    "# outcome values order in sklearn\n",
    "\n",
    "tp,fn, fp, tn = confusion_matrix(actual, predicted, labels=[1,0]).reshape(-1)\n",
    "\n",
    "print('Outcome Values : \\n', tp, fn, fp, tn)\n",
    "\n",
    "# classification report for precision, recall f1-score and accuracy\n",
    "\n",
    "matrix = classification_report(actual,predicted,labels=[1,0])\n",
    "print('Classification report : \\n', matrix)\n",
    "\n",
    "# calculating the metrics\n",
    "\n",
    "sensitivity = round(tp/(tp+fn), 3) \n",
    "\n",
    "specificity = round(tn/(tn+fp), 3)\n",
    "\n",
    "accuracy = round((tp+tn)/(tp+fp+tn+fn), 3)\n",
    "balanced_accuracy = round((sensitivity+specificity)/2, 3)\n",
    "precision = round(tp/(tp+fp), 3)\n",
    "f1Score = round((2*tp/(2*tp + fp +fn)), 3);\n",
    "\n",
    "# Mathews Correlatin coefficient (MCC). Range of values of MCC lie between -1 to +1\n",
    "# A model with a score of +1 is a perfect model and -1 is a poor model\n",
    "\n",
    "from math import sqrt\n",
    "\n",
    "m = (tp+fp)*(tp+fn)*(tn+fp)*(tn+fn)\n",
    "\n",
    "MCC = round(((tp* tn) - (fp * fn)) / sqrt(m), 3)\n",
    "\n",
    "print('Accuracy :', round(accuracy*100, 2), '%')\n",
    "print('Precision :', round(precision*100, 2), '%')\n",
    "print('Recall :', round(sensitivity*100, 2), '%')\n",
    "print('F1 Score :', f1Score)\n",
    "print('Balanced Accuracy :', round(balanced_accuracy*100, 2), '%')\n",
    "print('MCC', MCC)\n",
    "\n",
    "from sklearn.metrics import roc_curve, roc_auc_score\n",
    "\n",
    "# Area under ROC curve \n",
    "print('roc_auc_score:', round(roc_auc_score(y_test, y6_pred), 3))"
   ]
  },
  {
   "cell_type": "markdown",
   "id": "b4d2d768",
   "metadata": {},
   "source": [
    "# KNN "
   ]
  },
  {
   "cell_type": "code",
   "execution_count": 67,
   "id": "f00ba2ef",
   "metadata": {},
   "outputs": [
    {
     "name": "stdout",
     "output_type": "stream",
     "text": [
      "KNN_K_value =  1\n",
      "Confusion matrix : \n",
      " [[ 186  480]\n",
      " [ 466 1732]]\n",
      "Outcome Values : \n",
      " 186 480 466 1732\n",
      "Classification report : \n",
      "               precision    recall  f1-score   support\n",
      "\n",
      "           1       0.29      0.28      0.28       666\n",
      "           0       0.78      0.79      0.79      2198\n",
      "\n",
      "    accuracy                           0.67      2864\n",
      "   macro avg       0.53      0.53      0.53      2864\n",
      "weighted avg       0.67      0.67      0.67      2864\n",
      "\n",
      "Accuracy : 67.0 %\n",
      "Precision : 28.5 %\n",
      "Recall : 27.9 %\n",
      "F1 Score : 0.282\n",
      "Balanced Accuracy : 53.4 %\n",
      "MCC 0.068\n",
      "roc_auc_score: 0.534\n",
      "----------------------------------------------------------------------------------------------\n",
      "KNN_K_value =  2\n",
      "Confusion matrix : \n",
      " [[  82  584]\n",
      " [ 130 2068]]\n",
      "Outcome Values : \n",
      " 82 584 130 2068\n",
      "Classification report : \n",
      "               precision    recall  f1-score   support\n",
      "\n",
      "           1       0.39      0.12      0.19       666\n",
      "           0       0.78      0.94      0.85      2198\n",
      "\n",
      "    accuracy                           0.75      2864\n",
      "   macro avg       0.58      0.53      0.52      2864\n",
      "weighted avg       0.69      0.75      0.70      2864\n",
      "\n",
      "Accuracy : 75.1 %\n",
      "Precision : 38.7 %\n",
      "Recall : 12.3 %\n",
      "F1 Score : 0.187\n",
      "Balanced Accuracy : 53.2 %\n",
      "MCC 0.103\n",
      "roc_auc_score: 0.532\n",
      "----------------------------------------------------------------------------------------------\n",
      "KNN_K_value =  3\n",
      "Confusion matrix : \n",
      " [[ 161  505]\n",
      " [ 301 1897]]\n",
      "Outcome Values : \n",
      " 161 505 301 1897\n",
      "Classification report : \n",
      "               precision    recall  f1-score   support\n",
      "\n",
      "           1       0.35      0.24      0.29       666\n",
      "           0       0.79      0.86      0.82      2198\n",
      "\n",
      "    accuracy                           0.72      2864\n",
      "   macro avg       0.57      0.55      0.56      2864\n",
      "weighted avg       0.69      0.72      0.70      2864\n",
      "\n",
      "Accuracy : 71.9 %\n",
      "Precision : 34.8 %\n",
      "Recall : 24.2 %\n",
      "F1 Score : 0.285\n",
      "Balanced Accuracy : 55.2 %\n",
      "MCC 0.12\n",
      "roc_auc_score: 0.552\n",
      "----------------------------------------------------------------------------------------------\n",
      "KNN_K_value =  4\n",
      "Confusion matrix : \n",
      " [[  89  577]\n",
      " [ 128 2070]]\n",
      "Outcome Values : \n",
      " 89 577 128 2070\n",
      "Classification report : \n",
      "               precision    recall  f1-score   support\n",
      "\n",
      "           1       0.41      0.13      0.20       666\n",
      "           0       0.78      0.94      0.85      2198\n",
      "\n",
      "    accuracy                           0.75      2864\n",
      "   macro avg       0.60      0.54      0.53      2864\n",
      "weighted avg       0.70      0.75      0.70      2864\n",
      "\n",
      "Accuracy : 75.4 %\n",
      "Precision : 41.0 %\n",
      "Recall : 13.4 %\n",
      "F1 Score : 0.202\n",
      "Balanced Accuracy : 53.8 %\n",
      "MCC 0.12\n",
      "roc_auc_score: 0.538\n",
      "----------------------------------------------------------------------------------------------\n",
      "KNN_K_value =  5\n",
      "Confusion matrix : \n",
      " [[ 152  514]\n",
      " [ 239 1959]]\n",
      "Outcome Values : \n",
      " 152 514 239 1959\n",
      "Classification report : \n",
      "               precision    recall  f1-score   support\n",
      "\n",
      "           1       0.39      0.23      0.29       666\n",
      "           0       0.79      0.89      0.84      2198\n",
      "\n",
      "    accuracy                           0.74      2864\n",
      "   macro avg       0.59      0.56      0.56      2864\n",
      "weighted avg       0.70      0.74      0.71      2864\n",
      "\n",
      "Accuracy : 73.7 %\n",
      "Precision : 38.9 %\n",
      "Recall : 22.8 %\n",
      "F1 Score : 0.288\n",
      "Balanced Accuracy : 56.0 %\n",
      "MCC 0.147\n",
      "roc_auc_score: 0.56\n",
      "----------------------------------------------------------------------------------------------\n",
      "KNN_K_value =  6\n",
      "Confusion matrix : \n",
      " [[ 106  560]\n",
      " [ 144 2054]]\n",
      "Outcome Values : \n",
      " 106 560 144 2054\n",
      "Classification report : \n",
      "               precision    recall  f1-score   support\n",
      "\n",
      "           1       0.42      0.16      0.23       666\n",
      "           0       0.79      0.93      0.85      2198\n",
      "\n",
      "    accuracy                           0.75      2864\n",
      "   macro avg       0.60      0.55      0.54      2864\n",
      "weighted avg       0.70      0.75      0.71      2864\n",
      "\n",
      "Accuracy : 75.4 %\n",
      "Precision : 42.4 %\n",
      "Recall : 15.9 %\n",
      "F1 Score : 0.231\n",
      "Balanced Accuracy : 54.6 %\n",
      "MCC 0.14\n",
      "roc_auc_score: 0.547\n",
      "----------------------------------------------------------------------------------------------\n",
      "KNN_K_value =  7\n",
      "Confusion matrix : \n",
      " [[ 142  524]\n",
      " [ 203 1995]]\n",
      "Outcome Values : \n",
      " 142 524 203 1995\n",
      "Classification report : \n",
      "               precision    recall  f1-score   support\n",
      "\n",
      "           1       0.41      0.21      0.28       666\n",
      "           0       0.79      0.91      0.85      2198\n",
      "\n",
      "    accuracy                           0.75      2864\n",
      "   macro avg       0.60      0.56      0.56      2864\n",
      "weighted avg       0.70      0.75      0.71      2864\n",
      "\n",
      "Accuracy : 74.6 %\n",
      "Precision : 41.2 %\n",
      "Recall : 21.3 %\n",
      "F1 Score : 0.281\n",
      "Balanced Accuracy : 56.0 %\n",
      "MCC 0.157\n",
      "roc_auc_score: 0.56\n",
      "----------------------------------------------------------------------------------------------\n",
      "KNN_K_value =  8\n",
      "Confusion matrix : \n",
      " [[  84  582]\n",
      " [  88 2110]]\n",
      "Outcome Values : \n",
      " 84 582 88 2110\n",
      "Classification report : \n",
      "               precision    recall  f1-score   support\n",
      "\n",
      "           1       0.49      0.13      0.20       666\n",
      "           0       0.78      0.96      0.86      2198\n",
      "\n",
      "    accuracy                           0.77      2864\n",
      "   macro avg       0.64      0.54      0.53      2864\n",
      "weighted avg       0.72      0.77      0.71      2864\n",
      "\n",
      "Accuracy : 76.6 %\n",
      "Precision : 48.8 %\n",
      "Recall : 12.6 %\n",
      "F1 Score : 0.2\n",
      "Balanced Accuracy : 54.3 %\n",
      "MCC 0.153\n",
      "roc_auc_score: 0.543\n",
      "----------------------------------------------------------------------------------------------\n",
      "KNN_K_value =  9\n",
      "Confusion matrix : \n",
      " [[ 115  551]\n",
      " [ 140 2058]]\n",
      "Outcome Values : \n",
      " 115 551 140 2058\n",
      "Classification report : \n",
      "               precision    recall  f1-score   support\n",
      "\n",
      "           1       0.45      0.17      0.25       666\n",
      "           0       0.79      0.94      0.86      2198\n",
      "\n",
      "    accuracy                           0.76      2864\n",
      "   macro avg       0.62      0.55      0.55      2864\n",
      "weighted avg       0.71      0.76      0.72      2864\n",
      "\n",
      "Accuracy : 75.9 %\n",
      "Precision : 45.1 %\n",
      "Recall : 17.3 %\n",
      "F1 Score : 0.25\n",
      "Balanced Accuracy : 55.4 %\n",
      "MCC 0.162\n",
      "roc_auc_score: 0.554\n",
      "----------------------------------------------------------------------------------------------\n"
     ]
    }
   ],
   "source": [
    "# Initialize an array that stores the Accuracy \n",
    "\n",
    "from sklearn.neighbors import KNeighborsClassifier \n",
    "from sklearn.metrics import classification_report, confusion_matrix, accuracy_score \n",
    "import sklearn.metrics as metrics \n",
    "from sklearn.metrics import roc_curve, roc_auc_score \n",
    "from sklearn.metrics import classification_report, confusion_matrix \n",
    "\n",
    "accuracy = [] \n",
    "for a in range(1, 10, 1): \n",
    "    k = a \n",
    "    \n",
    "    Insdata1KNN = KNeighborsClassifier(n_neighbors=k) \n",
    "    Insdata1KNN.fit(x_train, y_train) \n",
    "    \n",
    "    y7_pred = Insdata1KNN.predict(x_test) \n",
    "    \n",
    "    print('KNN_K_value = ', a) \n",
    "    from sklearn.metrics import classification_report, confusion_matrix\n",
    "\n",
    "    # actual values\n",
    "\n",
    "    actual = y_test\n",
    "\n",
    "    # predicted values\n",
    "    predicted = y7_pred\n",
    "\n",
    "    # confusion matrix\n",
    "\n",
    "    matrix = confusion_matrix(actual, predicted, labels=[1, 0], sample_weight=None, normalize=None,)\n",
    "    print('Confusion matrix : \\n', matrix)\n",
    "\n",
    "    # outcome values order in sklearn\n",
    "\n",
    "    tp,fn, fp, tn = confusion_matrix(actual, predicted, labels=[1,0]).reshape(-1)\n",
    "\n",
    "    print('Outcome Values : \\n', tp, fn, fp, tn)\n",
    "\n",
    "    # classification report for precision, recall f1-score and accuracy\n",
    "\n",
    "    matrix = classification_report(actual,predicted,labels=[1,0])\n",
    "    print('Classification report : \\n', matrix)\n",
    "\n",
    "    # calculating the metrics\n",
    "\n",
    "    sensitivity = round(tp/(tp+fn), 3) \n",
    "\n",
    "    specificity = round(tn/(tn+fp), 3)\n",
    "\n",
    "    accuracy = round((tp+tn)/(tp+fp+tn+fn), 3)\n",
    "    balanced_accuracy = round((sensitivity+specificity)/2, 3)\n",
    "    precision = round(tp/(tp+fp), 3)\n",
    "    f1Score = round((2*tp/(2*tp + fp +fn)), 3);\n",
    "\n",
    "    # Mathews Correlatin coefficient (MCC). Range of values of MCC lie between -1 to +1\n",
    "    # A model with a score of +1 is a perfect model and -1 is a poor model\n",
    "\n",
    "    from math import sqrt\n",
    "\n",
    "    m = (tp+fp)*(tp+fn)*(tn+fp)*(tn+fn)\n",
    "\n",
    "    MCC = round(((tp* tn) - (fp * fn)) / sqrt(m), 3)\n",
    "\n",
    "    print('Accuracy :', round(accuracy*100, 2), '%')\n",
    "    print('Precision :', round(precision*100, 2), '%')\n",
    "    print('Recall :', round(sensitivity*100, 2), '%')\n",
    "    print('F1 Score :', f1Score)\n",
    "    print('Balanced Accuracy :', round(balanced_accuracy*100, 2), '%')\n",
    "    print('MCC', MCC)\n",
    "\n",
    "    from sklearn.metrics import roc_curve, roc_auc_score\n",
    "\n",
    "    # Area under ROC curve \n",
    "    print('roc_auc_score:', round(roc_auc_score(y_test, y7_pred), 3))\n",
    "\n",
    "    print('----------------------------------------------------------------------------------------------')"
   ]
  }
 ],
 "metadata": {
  "kernelspec": {
   "display_name": "Python 3",
   "language": "python",
   "name": "python3"
  },
  "language_info": {
   "codemirror_mode": {
    "name": "ipython",
    "version": 3
   },
   "file_extension": ".py",
   "mimetype": "text/x-python",
   "name": "python",
   "nbconvert_exporter": "python",
   "pygments_lexer": "ipython3",
   "version": "3.8.8"
  }
 },
 "nbformat": 4,
 "nbformat_minor": 5
}
