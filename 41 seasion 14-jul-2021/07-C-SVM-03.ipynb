{
 "cells": [
  {
   "cell_type": "markdown",
   "metadata": {},
   "source": [
    "# Olusola Insurance Company"
   ]
  },
  {
   "cell_type": "code",
   "execution_count": 1,
   "metadata": {},
   "outputs": [],
   "source": [
    "# Importing the libraries \n",
    "\n",
    "import pandas as pd\n",
    "import numpy as np \n",
    "\n",
    "import matplotlib.pyplot as plt \n",
    "import seaborn as sns\n",
    "\n",
    "# Ignore harmless warnings \n",
    "\n",
    "import warnings \n",
    "warnings.filterwarnings(\"ignore\")\n",
    "\n",
    "import pandasql as psql\n",
    "\n",
    "# pip install pandasql"
   ]
  },
  {
   "cell_type": "code",
   "execution_count": 2,
   "metadata": {},
   "outputs": [
    {
     "data": {
      "text/html": [
       "<div>\n",
       "<style scoped>\n",
       "    .dataframe tbody tr th:only-of-type {\n",
       "        vertical-align: middle;\n",
       "    }\n",
       "\n",
       "    .dataframe tbody tr th {\n",
       "        vertical-align: top;\n",
       "    }\n",
       "\n",
       "    .dataframe thead th {\n",
       "        text-align: right;\n",
       "    }\n",
       "</style>\n",
       "<table border=\"1\" class=\"dataframe\">\n",
       "  <thead>\n",
       "    <tr style=\"text-align: right;\">\n",
       "      <th></th>\n",
       "      <th>Customer Id</th>\n",
       "      <th>YearOfObservation</th>\n",
       "      <th>Insured_Period</th>\n",
       "      <th>Residential</th>\n",
       "      <th>Building_Painted</th>\n",
       "      <th>Building_Fenced</th>\n",
       "      <th>Garden</th>\n",
       "      <th>Settlement</th>\n",
       "      <th>Building Dimension</th>\n",
       "      <th>Building_Type</th>\n",
       "      <th>Date_of_Occupancy</th>\n",
       "      <th>NumberOfWindows</th>\n",
       "      <th>Geo_Code</th>\n",
       "      <th>Claim</th>\n",
       "    </tr>\n",
       "  </thead>\n",
       "  <tbody>\n",
       "    <tr>\n",
       "      <th>0</th>\n",
       "      <td>H14663</td>\n",
       "      <td>2013</td>\n",
       "      <td>1.0</td>\n",
       "      <td>0</td>\n",
       "      <td>N</td>\n",
       "      <td>V</td>\n",
       "      <td>V</td>\n",
       "      <td>U</td>\n",
       "      <td>290.0</td>\n",
       "      <td>1</td>\n",
       "      <td>1960.0</td>\n",
       "      <td>.</td>\n",
       "      <td>1053</td>\n",
       "      <td>0</td>\n",
       "    </tr>\n",
       "    <tr>\n",
       "      <th>1</th>\n",
       "      <td>H2037</td>\n",
       "      <td>2015</td>\n",
       "      <td>1.0</td>\n",
       "      <td>0</td>\n",
       "      <td>V</td>\n",
       "      <td>N</td>\n",
       "      <td>O</td>\n",
       "      <td>R</td>\n",
       "      <td>490.0</td>\n",
       "      <td>1</td>\n",
       "      <td>1850.0</td>\n",
       "      <td>4</td>\n",
       "      <td>1053</td>\n",
       "      <td>0</td>\n",
       "    </tr>\n",
       "    <tr>\n",
       "      <th>2</th>\n",
       "      <td>H3802</td>\n",
       "      <td>2014</td>\n",
       "      <td>1.0</td>\n",
       "      <td>0</td>\n",
       "      <td>N</td>\n",
       "      <td>V</td>\n",
       "      <td>V</td>\n",
       "      <td>U</td>\n",
       "      <td>595.0</td>\n",
       "      <td>1</td>\n",
       "      <td>1960.0</td>\n",
       "      <td>.</td>\n",
       "      <td>1053</td>\n",
       "      <td>0</td>\n",
       "    </tr>\n",
       "    <tr>\n",
       "      <th>3</th>\n",
       "      <td>H3834</td>\n",
       "      <td>2013</td>\n",
       "      <td>1.0</td>\n",
       "      <td>0</td>\n",
       "      <td>V</td>\n",
       "      <td>V</td>\n",
       "      <td>V</td>\n",
       "      <td>U</td>\n",
       "      <td>2840.0</td>\n",
       "      <td>1</td>\n",
       "      <td>1960.0</td>\n",
       "      <td>.</td>\n",
       "      <td>1053</td>\n",
       "      <td>0</td>\n",
       "    </tr>\n",
       "    <tr>\n",
       "      <th>4</th>\n",
       "      <td>H5053</td>\n",
       "      <td>2014</td>\n",
       "      <td>1.0</td>\n",
       "      <td>0</td>\n",
       "      <td>V</td>\n",
       "      <td>N</td>\n",
       "      <td>O</td>\n",
       "      <td>R</td>\n",
       "      <td>680.0</td>\n",
       "      <td>1</td>\n",
       "      <td>1800.0</td>\n",
       "      <td>3</td>\n",
       "      <td>1053</td>\n",
       "      <td>0</td>\n",
       "    </tr>\n",
       "  </tbody>\n",
       "</table>\n",
       "</div>"
      ],
      "text/plain": [
       "  Customer Id  YearOfObservation  Insured_Period  Residential  \\\n",
       "0      H14663               2013             1.0            0   \n",
       "1       H2037               2015             1.0            0   \n",
       "2       H3802               2014             1.0            0   \n",
       "3       H3834               2013             1.0            0   \n",
       "4       H5053               2014             1.0            0   \n",
       "\n",
       "  Building_Painted Building_Fenced Garden Settlement  Building Dimension  \\\n",
       "0                N               V      V          U               290.0   \n",
       "1                V               N      O          R               490.0   \n",
       "2                N               V      V          U               595.0   \n",
       "3                V               V      V          U              2840.0   \n",
       "4                V               N      O          R               680.0   \n",
       "\n",
       "   Building_Type  Date_of_Occupancy NumberOfWindows Geo_Code  Claim  \n",
       "0              1             1960.0               .     1053      0  \n",
       "1              1             1850.0               4     1053      0  \n",
       "2              1             1960.0               .     1053      0  \n",
       "3              1             1960.0               .     1053      0  \n",
       "4              1             1800.0               3     1053      0  "
      ]
     },
     "execution_count": 2,
     "metadata": {},
     "output_type": "execute_result"
    }
   ],
   "source": [
    "# Load the Universal Olusola Insurance data\n",
    "\n",
    "Insdata1 = pd.read_csv(r\"D:\\00 Datasets\\Others\\Data-04\\Olusola Insurance Company\\train_data.csv\", header=0)\n",
    "Insdata2 = pd.read_csv(r\"D:\\00 Datasets\\Others\\Data-04\\Olusola Insurance Company\\test_data.csv\", header=0)\n",
    "Insdata1.head()"
   ]
  },
  {
   "cell_type": "code",
   "execution_count": 3,
   "metadata": {},
   "outputs": [
    {
     "name": "stdout",
     "output_type": "stream",
     "text": [
      "<class 'pandas.core.frame.DataFrame'>\n",
      "RangeIndex: 7160 entries, 0 to 7159\n",
      "Data columns (total 14 columns):\n",
      " #   Column              Non-Null Count  Dtype  \n",
      "---  ------              --------------  -----  \n",
      " 0   Customer Id         7160 non-null   object \n",
      " 1   YearOfObservation   7160 non-null   int64  \n",
      " 2   Insured_Period      7160 non-null   float64\n",
      " 3   Residential         7160 non-null   int64  \n",
      " 4   Building_Painted    7160 non-null   object \n",
      " 5   Building_Fenced     7160 non-null   object \n",
      " 6   Garden              7153 non-null   object \n",
      " 7   Settlement          7160 non-null   object \n",
      " 8   Building Dimension  7054 non-null   float64\n",
      " 9   Building_Type       7160 non-null   int64  \n",
      " 10  Date_of_Occupancy   6652 non-null   float64\n",
      " 11  NumberOfWindows     7160 non-null   object \n",
      " 12  Geo_Code            7058 non-null   object \n",
      " 13  Claim               7160 non-null   int64  \n",
      "dtypes: float64(3), int64(4), object(7)\n",
      "memory usage: 783.2+ KB\n"
     ]
    }
   ],
   "source": [
    "# Displaying the Insurance dataset information\n",
    "\n",
    "Insdata1.info()"
   ]
  },
  {
   "cell_type": "code",
   "execution_count": 4,
   "metadata": {},
   "outputs": [
    {
     "name": "stdout",
     "output_type": "stream",
     "text": [
      "Class 0: 5526\n",
      "Class 1: 1634\n",
      "Proportion: 3.38 : 1\n",
      "Total CC Trans: 7160\n"
     ]
    }
   ],
   "source": [
    "# Count the target or dependent variable by '0' & '1' and \n",
    "# their proportion (> 10 : 1, then the dataset is imbalance dataset)\n",
    "\n",
    "Insdata1_count = Insdata1.Claim.value_counts()\n",
    "print('Class 0:', Insdata1_count[0])\n",
    "print('Class 1:', Insdata1_count[1])\n",
    "print('Proportion:', round(Insdata1_count[0] / Insdata1_count[1], 2), ': 1')\n",
    "print('Total CC Trans:', len(Insdata1))"
   ]
  },
  {
   "cell_type": "code",
   "execution_count": 5,
   "metadata": {},
   "outputs": [
    {
     "data": {
      "text/html": [
       "<div>\n",
       "<style scoped>\n",
       "    .dataframe tbody tr th:only-of-type {\n",
       "        vertical-align: middle;\n",
       "    }\n",
       "\n",
       "    .dataframe tbody tr th {\n",
       "        vertical-align: top;\n",
       "    }\n",
       "\n",
       "    .dataframe thead th {\n",
       "        text-align: right;\n",
       "    }\n",
       "</style>\n",
       "<table border=\"1\" class=\"dataframe\">\n",
       "  <thead>\n",
       "    <tr style=\"text-align: right;\">\n",
       "      <th></th>\n",
       "      <th>Customer Id</th>\n",
       "      <th>YearOfObservation</th>\n",
       "      <th>Insured_Period</th>\n",
       "      <th>Residential</th>\n",
       "      <th>Building_Painted</th>\n",
       "      <th>Building_Fenced</th>\n",
       "      <th>Garden</th>\n",
       "      <th>Settlement</th>\n",
       "      <th>Building Dimension</th>\n",
       "      <th>Building_Type</th>\n",
       "      <th>Date_of_Occupancy</th>\n",
       "      <th>NumberOfWindows</th>\n",
       "      <th>Geo_Code</th>\n",
       "      <th>Claim</th>\n",
       "    </tr>\n",
       "  </thead>\n",
       "  <tbody>\n",
       "  </tbody>\n",
       "</table>\n",
       "</div>"
      ],
      "text/plain": [
       "Empty DataFrame\n",
       "Columns: [Customer Id, YearOfObservation, Insured_Period, Residential, Building_Painted, Building_Fenced, Garden, Settlement, Building Dimension, Building_Type, Date_of_Occupancy, NumberOfWindows, Geo_Code, Claim]\n",
       "Index: []"
      ]
     },
     "execution_count": 5,
     "metadata": {},
     "output_type": "execute_result"
    }
   ],
   "source": [
    "# Dealing with Duplicate values\n",
    "\n",
    "Insdata1_dup = Insdata1[Insdata1.duplicated(keep='last')]\n",
    "Insdata1_dup"
   ]
  },
  {
   "cell_type": "code",
   "execution_count": 6,
   "metadata": {
    "scrolled": true
   },
   "outputs": [
    {
     "name": "stdout",
     "output_type": "stream",
     "text": [
      "H13560    1\n",
      "H4216     1\n",
      "H19089    1\n",
      "H3074     1\n",
      "H19794    1\n",
      "         ..\n",
      "H18936    1\n",
      "H4240     1\n",
      "H19400    1\n",
      "H17286    1\n",
      "H18076    1\n",
      "Name: Customer Id, Length: 7160, dtype: int64\n",
      "2012    1858\n",
      "2013    1811\n",
      "2014    1373\n",
      "2015    1075\n",
      "2016    1043\n",
      "Name: YearOfObservation, dtype: int64\n",
      "1.000000    5325\n",
      "0.997268     547\n",
      "0.000000     165\n",
      "0.747945      60\n",
      "0.495890      49\n",
      "            ... \n",
      "0.268493       1\n",
      "0.898630       1\n",
      "0.887978       1\n",
      "0.830601       1\n",
      "0.331507       1\n",
      "Name: Insured_Period, Length: 401, dtype: int64\n",
      "0    4973\n",
      "1    2187\n",
      "Name: Residential, dtype: int64\n",
      "V    5382\n",
      "N    1778\n",
      "Name: Building_Painted, dtype: int64\n",
      "N    3608\n",
      "V    3552\n",
      "Name: Building_Fenced, dtype: int64\n",
      "O    3602\n",
      "V    3551\n",
      "Name: Garden, dtype: int64\n",
      "R    3610\n",
      "U    3550\n",
      "Name: Settlement, dtype: int64\n",
      "400.0     150\n",
      "500.0     120\n",
      "300.0     118\n",
      "450.0     117\n",
      "600.0     114\n",
      "         ... \n",
      "1303.0      1\n",
      "907.0       1\n",
      "2445.0      1\n",
      "924.0       1\n",
      "4069.0      1\n",
      "Name: Building Dimension, Length: 2043, dtype: int64\n",
      "2    3305\n",
      "1    1716\n",
      "3    1230\n",
      "4     909\n",
      "Name: Building_Type, dtype: int64\n",
      "1960.0    1818\n",
      "1980.0    1155\n",
      "1988.0     530\n",
      "1900.0     371\n",
      "1970.0     285\n",
      "          ... \n",
      "1919.0       1\n",
      "1780.0       1\n",
      "1923.0       1\n",
      "1846.0       1\n",
      "1545.0       1\n",
      "Name: Date_of_Occupancy, Length: 134, dtype: int64\n",
      "   .    3551\n",
      "4        939\n",
      "3        844\n",
      "5        639\n",
      "2        363\n",
      "6        306\n",
      "7        211\n",
      "8        116\n",
      "1         75\n",
      ">=10      67\n",
      "9         49\n",
      "Name: NumberOfWindows, dtype: int64\n",
      "6088     143\n",
      "33063    137\n",
      "6083     113\n",
      "13206     98\n",
      "31555     87\n",
      "        ... \n",
      "78217      1\n",
      "10297      1\n",
      "77327      1\n",
      "95598      1\n",
      "91469      1\n",
      "Name: Geo_Code, Length: 1307, dtype: int64\n",
      "0    5526\n",
      "1    1634\n",
      "Name: Claim, dtype: int64\n"
     ]
    }
   ],
   "source": [
    "for i in Insdata1.columns:\n",
    "    print(Insdata1[i].value_counts())"
   ]
  },
  {
   "cell_type": "code",
   "execution_count": 7,
   "metadata": {},
   "outputs": [
    {
     "data": {
      "text/plain": [
       "Customer Id             0\n",
       "YearOfObservation       0\n",
       "Insured_Period          0\n",
       "Residential             0\n",
       "Building_Painted        0\n",
       "Building_Fenced         0\n",
       "Garden                  7\n",
       "Settlement              0\n",
       "Building Dimension    106\n",
       "Building_Type           0\n",
       "Date_of_Occupancy     508\n",
       "NumberOfWindows         0\n",
       "Geo_Code              102\n",
       "Claim                   0\n",
       "dtype: int64"
      ]
     },
     "execution_count": 7,
     "metadata": {},
     "output_type": "execute_result"
    }
   ],
   "source": [
    "#checking for null values in the train dataset and decide on how to treat them\n",
    "\n",
    "Insdata1.isnull().sum()"
   ]
  },
  {
   "cell_type": "code",
   "execution_count": 8,
   "metadata": {},
   "outputs": [
    {
     "data": {
      "text/plain": [
       "Customer Id             0\n",
       "YearOfObservation       0\n",
       "Insured_Period          0\n",
       "Residential             0\n",
       "Building_Painted        0\n",
       "Building_Fenced         0\n",
       "Garden                  4\n",
       "Settlement              0\n",
       "Building Dimension     13\n",
       "Building_Type           0\n",
       "Date_of_Occupancy     728\n",
       "NumberOfWindows         0\n",
       "Geo_Code               13\n",
       "dtype: int64"
      ]
     },
     "execution_count": 8,
     "metadata": {},
     "output_type": "execute_result"
    }
   ],
   "source": [
    "#checking for null values in the test dataset and decide on how to treat them\n",
    "\n",
    "Insdata2.isnull().sum()"
   ]
  },
  {
   "cell_type": "markdown",
   "metadata": {},
   "source": [
    "# Data Preparation and Analysis"
   ]
  },
  {
   "cell_type": "code",
   "execution_count": 11,
   "metadata": {},
   "outputs": [
    {
     "data": {
      "text/plain": [
       "O    3609\n",
       "V    3551\n",
       "Name: Garden, dtype: int64"
      ]
     },
     "execution_count": 11,
     "metadata": {},
     "output_type": "execute_result"
    }
   ],
   "source": [
    "# Fill null values for garden. \"O\" which means no garden is the majority.\n",
    "\n",
    "Insdata1[\"Garden\"].value_counts()"
   ]
  },
  {
   "cell_type": "code",
   "execution_count": 10,
   "metadata": {},
   "outputs": [],
   "source": [
    "Insdata1[\"Garden\"].fillna(\"O\", inplace=True)\n",
    "Insdata2[\"Garden\"].fillna(\"O\", inplace=True)"
   ]
  },
  {
   "cell_type": "code",
   "execution_count": 12,
   "metadata": {},
   "outputs": [
    {
     "data": {
      "text/plain": [
       "400.0     150\n",
       "500.0     120\n",
       "300.0     118\n",
       "450.0     117\n",
       "600.0     114\n",
       "         ... \n",
       "1303.0      1\n",
       "907.0       1\n",
       "2445.0      1\n",
       "924.0       1\n",
       "4069.0      1\n",
       "Name: Building Dimension, Length: 2043, dtype: int64"
      ]
     },
     "execution_count": 12,
     "metadata": {},
     "output_type": "execute_result"
    }
   ],
   "source": [
    "# Building Dimension\n",
    "\n",
    "Insdata1[\"Building Dimension\"].value_counts()"
   ]
  },
  {
   "cell_type": "code",
   "execution_count": 13,
   "metadata": {},
   "outputs": [
    {
     "data": {
      "text/html": [
       "<div>\n",
       "<style scoped>\n",
       "    .dataframe tbody tr th:only-of-type {\n",
       "        vertical-align: middle;\n",
       "    }\n",
       "\n",
       "    .dataframe tbody tr th {\n",
       "        vertical-align: top;\n",
       "    }\n",
       "\n",
       "    .dataframe thead th {\n",
       "        text-align: right;\n",
       "    }\n",
       "</style>\n",
       "<table border=\"1\" class=\"dataframe\">\n",
       "  <thead>\n",
       "    <tr style=\"text-align: right;\">\n",
       "      <th></th>\n",
       "      <th>Building Dimension</th>\n",
       "      <th>Settlement</th>\n",
       "    </tr>\n",
       "  </thead>\n",
       "  <tbody>\n",
       "    <tr>\n",
       "      <th>0</th>\n",
       "      <td>290.0</td>\n",
       "      <td>U</td>\n",
       "    </tr>\n",
       "    <tr>\n",
       "      <th>1</th>\n",
       "      <td>490.0</td>\n",
       "      <td>R</td>\n",
       "    </tr>\n",
       "    <tr>\n",
       "      <th>2</th>\n",
       "      <td>595.0</td>\n",
       "      <td>U</td>\n",
       "    </tr>\n",
       "    <tr>\n",
       "      <th>3</th>\n",
       "      <td>2840.0</td>\n",
       "      <td>U</td>\n",
       "    </tr>\n",
       "    <tr>\n",
       "      <th>4</th>\n",
       "      <td>680.0</td>\n",
       "      <td>R</td>\n",
       "    </tr>\n",
       "  </tbody>\n",
       "</table>\n",
       "</div>"
      ],
      "text/plain": [
       "   Building Dimension Settlement\n",
       "0               290.0          U\n",
       "1               490.0          R\n",
       "2               595.0          U\n",
       "3              2840.0          U\n",
       "4               680.0          R"
      ]
     },
     "execution_count": 13,
     "metadata": {},
     "output_type": "execute_result"
    }
   ],
   "source": [
    "check1 = Insdata1[[\"Building Dimension\", \"Settlement\"]]\n",
    "check1.head()"
   ]
  },
  {
   "cell_type": "code",
   "execution_count": 14,
   "metadata": {},
   "outputs": [
    {
     "data": {
      "text/plain": [
       "105"
      ]
     },
     "execution_count": 14,
     "metadata": {},
     "output_type": "execute_result"
    }
   ],
   "source": [
    "#check which settlement type has majority of the null values\n",
    "#rural has just 1 while urban has 105\n",
    "#all null values will be filled with the average of rural building dimensions\n",
    "\n",
    "check1[check1[\"Settlement\"]==\"U\"][\"Building Dimension\"].isnull().sum()"
   ]
  },
  {
   "cell_type": "code",
   "execution_count": 15,
   "metadata": {},
   "outputs": [
    {
     "data": {
      "text/plain": [
       "1"
      ]
     },
     "execution_count": 15,
     "metadata": {},
     "output_type": "execute_result"
    }
   ],
   "source": [
    "check1[check1[\"Settlement\"]==\"R\"][\"Building Dimension\"].isnull().sum()"
   ]
  },
  {
   "cell_type": "code",
   "execution_count": 16,
   "metadata": {},
   "outputs": [
    {
     "data": {
      "text/plain": [
       "1575.211611030479"
      ]
     },
     "execution_count": 16,
     "metadata": {},
     "output_type": "execute_result"
    }
   ],
   "source": [
    "#Average size for buildings in urban areas\n",
    "\n",
    "Fill_Avg_BD  = check1[check1[\"Settlement\"]==\"U\"][\"Building Dimension\"].mean()\n",
    "Fill_Avg_BD"
   ]
  },
  {
   "cell_type": "code",
   "execution_count": 18,
   "metadata": {},
   "outputs": [],
   "source": [
    "# Filling null values for building dimensions\n",
    "\n",
    "Insdata1[\"Building Dimension\"].fillna(Fill_Avg_BD, inplace=True)\n",
    "Insdata2[\"Building Dimension\"].fillna(Fill_Avg_BD, inplace=True)"
   ]
  },
  {
   "cell_type": "code",
   "execution_count": 19,
   "metadata": {},
   "outputs": [
    {
     "data": {
      "text/plain": [
       "0"
      ]
     },
     "execution_count": 19,
     "metadata": {},
     "output_type": "execute_result"
    }
   ],
   "source": [
    "#quick check\n",
    "\n",
    "Insdata1[\"Building Dimension\"].isnull().sum()"
   ]
  },
  {
   "cell_type": "code",
   "execution_count": 20,
   "metadata": {},
   "outputs": [
    {
     "data": {
      "text/plain": [
       "Customer Id             0\n",
       "YearOfObservation       0\n",
       "Insured_Period          0\n",
       "Residential             0\n",
       "Building_Painted        0\n",
       "Building_Fenced         0\n",
       "Garden                  0\n",
       "Settlement              0\n",
       "Building Dimension      0\n",
       "Building_Type           0\n",
       "Date_of_Occupancy     508\n",
       "NumberOfWindows         0\n",
       "Geo_Code              102\n",
       "Claim                   0\n",
       "dtype: int64"
      ]
     },
     "execution_count": 20,
     "metadata": {},
     "output_type": "execute_result"
    }
   ],
   "source": [
    "Insdata1.isnull().sum()"
   ]
  },
  {
   "cell_type": "code",
   "execution_count": 21,
   "metadata": {},
   "outputs": [
    {
     "data": {
      "text/plain": [
       "Customer Id             0\n",
       "YearOfObservation       0\n",
       "Insured_Period          0\n",
       "Residential             0\n",
       "Building_Painted        0\n",
       "Building_Fenced         0\n",
       "Garden                  0\n",
       "Settlement              0\n",
       "Building Dimension      0\n",
       "Building_Type           0\n",
       "Date_of_Occupancy     728\n",
       "NumberOfWindows         0\n",
       "Geo_Code               13\n",
       "dtype: int64"
      ]
     },
     "execution_count": 21,
     "metadata": {},
     "output_type": "execute_result"
    }
   ],
   "source": [
    "Insdata2.isnull().sum()"
   ]
  },
  {
   "cell_type": "code",
   "execution_count": 22,
   "metadata": {},
   "outputs": [
    {
     "name": "stdout",
     "output_type": "stream",
     "text": [
      "507\n",
      "728\n"
     ]
    }
   ],
   "source": [
    "#check which settlement type has majority of null values\n",
    "#urban has majority with 507 while rural has just 1\n",
    "#null values will be filled with the highest occuring date of occupancy from buildings in urban settlement\n",
    "\n",
    "Train_Fill_DoO = Insdata1[Insdata1[\"Settlement\"]==\"U\"][\"Date_of_Occupancy\"].isnull().sum()\n",
    "Test_Fill_DoO = Insdata2[Insdata2[\"Settlement\"]==\"U\"][\"Date_of_Occupancy\"].isnull().sum()\n",
    "print(Train_Fill_DoO)\n",
    "print(Test_Fill_DoO)"
   ]
  },
  {
   "cell_type": "code",
   "execution_count": 23,
   "metadata": {},
   "outputs": [
    {
     "data": {
      "text/plain": [
       "1960.0    1468\n",
       "1980.0    1010\n",
       "1988.0     481\n",
       "1950.0       7\n",
       "1970.0       6\n",
       "Name: Date_of_Occupancy, dtype: int64"
      ]
     },
     "execution_count": 23,
     "metadata": {},
     "output_type": "execute_result"
    }
   ],
   "source": [
    "# Highest occuring date of occupancy is 1960\n",
    "\n",
    "date = Insdata1[Insdata1[\"Settlement\"]==\"U\"][\"Date_of_Occupancy\"].value_counts().head()\n",
    "date"
   ]
  },
  {
   "cell_type": "code",
   "execution_count": 24,
   "metadata": {},
   "outputs": [],
   "source": [
    "# Filling null values for date_of_Occupancy\n",
    "\n",
    "Insdata1[\"Date_of_Occupancy\"].fillna(1960, inplace=True)\n",
    "Insdata2[\"Date_of_Occupancy\"].fillna(1960, inplace=True)"
   ]
  },
  {
   "cell_type": "code",
   "execution_count": 25,
   "metadata": {},
   "outputs": [
    {
     "data": {
      "text/plain": [
       "Customer Id             0\n",
       "YearOfObservation       0\n",
       "Insured_Period          0\n",
       "Residential             0\n",
       "Building_Painted        0\n",
       "Building_Fenced         0\n",
       "Garden                  0\n",
       "Settlement              0\n",
       "Building Dimension      0\n",
       "Building_Type           0\n",
       "Date_of_Occupancy       0\n",
       "NumberOfWindows         0\n",
       "Geo_Code              102\n",
       "Claim                   0\n",
       "dtype: int64"
      ]
     },
     "execution_count": 25,
     "metadata": {},
     "output_type": "execute_result"
    }
   ],
   "source": [
    "#quick check\n",
    "\n",
    "Insdata1.isnull().sum()"
   ]
  },
  {
   "cell_type": "code",
   "execution_count": 26,
   "metadata": {},
   "outputs": [
    {
     "data": {
      "text/plain": [
       "6088     66\n",
       "21231    63\n",
       "33063    58\n",
       "13206    57\n",
       "6083     56\n",
       "         ..\n",
       "6048      1\n",
       "94028     1\n",
       "13078     1\n",
       "69386     1\n",
       "35236     1\n",
       "Name: Geo_Code, Length: 832, dtype: int64"
      ]
     },
     "execution_count": 26,
     "metadata": {},
     "output_type": "execute_result"
    }
   ],
   "source": [
    "# Geo_Code\n",
    "#only buildings in urban areas have null values\n",
    "#this column would be dropped. I do not think it would impact our model\n",
    "\n",
    "Insdata1[Insdata1[\"Settlement\"]==\"U\"][\"Geo_Code\"].value_counts()"
   ]
  },
  {
   "cell_type": "code",
   "execution_count": 27,
   "metadata": {},
   "outputs": [],
   "source": [
    "# Deleting the 'Geo_Code' variable\n",
    "\n",
    "Insdata1.drop(\"Geo_Code\",axis=1, inplace=True)\n",
    "Insdata2.drop(\"Geo_Code\",axis=1, inplace=True)"
   ]
  },
  {
   "cell_type": "code",
   "execution_count": 28,
   "metadata": {},
   "outputs": [
    {
     "data": {
      "text/plain": [
       "   .    3551\n",
       "4        939\n",
       "3        844\n",
       "5        639\n",
       "2        363\n",
       "6        306\n",
       "7        211\n",
       "8        116\n",
       "1         75\n",
       ">=10      67\n",
       "9         49\n",
       "Name: NumberOfWindows, dtype: int64"
      ]
     },
     "execution_count": 28,
     "metadata": {},
     "output_type": "execute_result"
    }
   ],
   "source": [
    "#the \".\" here will be treated as null values. And since an overwhelming majority is null, this column will be dropped\n",
    "\n",
    "Insdata1[\"NumberOfWindows\"].value_counts()"
   ]
  },
  {
   "cell_type": "code",
   "execution_count": 29,
   "metadata": {},
   "outputs": [],
   "source": [
    "# Delecting the 'NumberOfWindows' variable\n",
    "\n",
    "Insdata1.drop(\"NumberOfWindows\", axis=1, inplace=True)\n",
    "Insdata2.drop(\"NumberOfWindows\", axis=1, inplace=True)"
   ]
  },
  {
   "cell_type": "code",
   "execution_count": 30,
   "metadata": {},
   "outputs": [
    {
     "data": {
      "text/plain": [
       "Customer Id           0\n",
       "YearOfObservation     0\n",
       "Insured_Period        0\n",
       "Residential           0\n",
       "Building_Painted      0\n",
       "Building_Fenced       0\n",
       "Garden                0\n",
       "Settlement            0\n",
       "Building Dimension    0\n",
       "Building_Type         0\n",
       "Date_of_Occupancy     0\n",
       "Claim                 0\n",
       "dtype: int64"
      ]
     },
     "execution_count": 30,
     "metadata": {},
     "output_type": "execute_result"
    }
   ],
   "source": [
    "Insdata1.isnull().sum()"
   ]
  },
  {
   "cell_type": "code",
   "execution_count": 31,
   "metadata": {},
   "outputs": [
    {
     "name": "stdout",
     "output_type": "stream",
     "text": [
      "<class 'pandas.core.frame.DataFrame'>\n",
      "RangeIndex: 7160 entries, 0 to 7159\n",
      "Data columns (total 12 columns):\n",
      " #   Column              Non-Null Count  Dtype  \n",
      "---  ------              --------------  -----  \n",
      " 0   Customer Id         7160 non-null   object \n",
      " 1   YearOfObservation   7160 non-null   int64  \n",
      " 2   Insured_Period      7160 non-null   float64\n",
      " 3   Residential         7160 non-null   int64  \n",
      " 4   Building_Painted    7160 non-null   object \n",
      " 5   Building_Fenced     7160 non-null   object \n",
      " 6   Garden              7160 non-null   object \n",
      " 7   Settlement          7160 non-null   object \n",
      " 8   Building Dimension  7160 non-null   float64\n",
      " 9   Building_Type       7160 non-null   int64  \n",
      " 10  Date_of_Occupancy   7160 non-null   float64\n",
      " 11  Claim               7160 non-null   int64  \n",
      "dtypes: float64(3), int64(4), object(5)\n",
      "memory usage: 671.4+ KB\n"
     ]
    }
   ],
   "source": [
    "Insdata1.info()"
   ]
  },
  {
   "cell_type": "code",
   "execution_count": 32,
   "metadata": {},
   "outputs": [],
   "source": [
    "# Convert the 'Date_of_Occupancy' from float value to integer value\n",
    "\n",
    "Insdata1['Date_of_Occupancy'] = Insdata1['Date_of_Occupancy'].astype(int)"
   ]
  },
  {
   "cell_type": "code",
   "execution_count": 33,
   "metadata": {},
   "outputs": [],
   "source": [
    "#This function splits Insured period in 2 groups; \n",
    "# Over 0.5 will be 1 year policy duration \n",
    "# Less than 0.5 will be no policy duration\n",
    "\n",
    "def insured(x):\n",
    "    if x < 0.5:\n",
    "        return 0\n",
    "    else:\n",
    "        return 1"
   ]
  },
  {
   "cell_type": "code",
   "execution_count": 34,
   "metadata": {},
   "outputs": [],
   "source": [
    "# Applying the 'insured' function to convert the 'Insurance_Period' as 0 or 1\n",
    "\n",
    "Insdata1[\"Insured_Period\"] = Insdata1[\"Insured_Period\"].apply(insured)\n",
    "Insdata2[\"Insured_Period\"] = Insdata2[\"Insured_Period\"].apply(insured)"
   ]
  },
  {
   "cell_type": "code",
   "execution_count": 35,
   "metadata": {},
   "outputs": [
    {
     "data": {
      "text/plain": [
       "1    6517\n",
       "0     643\n",
       "Name: Insured_Period, dtype: int64"
      ]
     },
     "execution_count": 35,
     "metadata": {},
     "output_type": "execute_result"
    }
   ],
   "source": [
    "Insdata1[\"Insured_Period\"].value_counts()"
   ]
  },
  {
   "cell_type": "markdown",
   "metadata": {},
   "source": [
    "# Exploratory Data Analyis (EDA)"
   ]
  },
  {
   "cell_type": "code",
   "execution_count": 36,
   "metadata": {},
   "outputs": [
    {
     "data": {
      "text/plain": [
       "Text(0.5, 1.0, 'No of Claims')"
      ]
     },
     "execution_count": 36,
     "metadata": {},
     "output_type": "execute_result"
    },
    {
     "data": {
      "image/png": "[encoded data removed]",
      "text/plain": [
       "<Figure size 576x360 with 1 Axes>"
      ]
     },
     "metadata": {
      "needs_background": "light"
     },
     "output_type": "display_data"
    }
   ],
   "source": [
    "# How many clients have had claims?\n",
    "\n",
    "plt.figure(figsize=(8,5))\n",
    "sns.set_style(\"darkgrid\")\n",
    "sns.countplot(x=\"Claim\", data=Insdata1)\n",
    "\n",
    "plt.title(\"No of Claims\")"
   ]
  },
  {
   "cell_type": "code",
   "execution_count": 37,
   "metadata": {},
   "outputs": [
    {
     "data": {
      "text/plain": [
       "Text(0.5, 1.0, 'Building Type')"
      ]
     },
     "execution_count": 37,
     "metadata": {},
     "output_type": "execute_result"
    },
    {
     "data": {
      "image/png": "[encoded data removed]",
      "text/plain": [
       "<Figure size 576x360 with 1 Axes>"
      ]
     },
     "metadata": {},
     "output_type": "display_data"
    }
   ],
   "source": [
    "# Distribution of Building Types?\n",
    "\n",
    "plt.figure(figsize=(8,5))\n",
    "\n",
    "sns.set_style(\"darkgrid\")\n",
    "sns.countplot(x=\"Building_Type\", hue=\"Residential\", data=Insdata1)\n",
    "\n",
    "plt.title(\"Building Type\")"
   ]
  },
  {
   "cell_type": "code",
   "execution_count": 38,
   "metadata": {},
   "outputs": [
    {
     "data": {
      "text/plain": [
       "Text(0.5, 1.0, 'Distribution of Buildings')"
      ]
     },
     "execution_count": 38,
     "metadata": {},
     "output_type": "execute_result"
    },
    {
     "data": {
      "image/png": "[encoded data removed]",
      "text/plain": [
       "<Figure size 576x360 with 1 Axes>"
      ]
     },
     "metadata": {},
     "output_type": "display_data"
    }
   ],
   "source": [
    "# More (Residential) buildings in Urban areas?\n",
    "\n",
    "plt.figure(figsize=(8,5))\n",
    "\n",
    "sns.countplot(x=\"Settlement\", hue=\"Residential\", data=Insdata1)\n",
    "\n",
    "plt.title(\"Distribution of Buildings\")"
   ]
  },
  {
   "cell_type": "code",
   "execution_count": 39,
   "metadata": {},
   "outputs": [
    {
     "data": {
      "text/html": [
       "<div>\n",
       "<style scoped>\n",
       "    .dataframe tbody tr th:only-of-type {\n",
       "        vertical-align: middle;\n",
       "    }\n",
       "\n",
       "    .dataframe tbody tr th {\n",
       "        vertical-align: top;\n",
       "    }\n",
       "\n",
       "    .dataframe thead th {\n",
       "        text-align: right;\n",
       "    }\n",
       "</style>\n",
       "<table border=\"1\" class=\"dataframe\">\n",
       "  <thead>\n",
       "    <tr style=\"text-align: right;\">\n",
       "      <th></th>\n",
       "      <th>Date_of_Occupancy</th>\n",
       "      <th>Customer Id</th>\n",
       "    </tr>\n",
       "  </thead>\n",
       "  <tbody>\n",
       "    <tr>\n",
       "      <th>0</th>\n",
       "      <td>1545</td>\n",
       "      <td>1</td>\n",
       "    </tr>\n",
       "    <tr>\n",
       "      <th>1</th>\n",
       "      <td>1550</td>\n",
       "      <td>1</td>\n",
       "    </tr>\n",
       "    <tr>\n",
       "      <th>2</th>\n",
       "      <td>1600</td>\n",
       "      <td>5</td>\n",
       "    </tr>\n",
       "    <tr>\n",
       "      <th>3</th>\n",
       "      <td>1613</td>\n",
       "      <td>1</td>\n",
       "    </tr>\n",
       "    <tr>\n",
       "      <th>4</th>\n",
       "      <td>1700</td>\n",
       "      <td>10</td>\n",
       "    </tr>\n",
       "  </tbody>\n",
       "</table>\n",
       "</div>"
      ],
      "text/plain": [
       "   Date_of_Occupancy  Customer Id\n",
       "0               1545            1\n",
       "1               1550            1\n",
       "2               1600            5\n",
       "3               1613            1\n",
       "4               1700           10"
      ]
     },
     "execution_count": 39,
     "metadata": {},
     "output_type": "execute_result"
    }
   ],
   "source": [
    "# Distribution of Customer by year of occupancy\n",
    "\n",
    "year = Insdata1.groupby(\"Date_of_Occupancy\")[\"Customer Id\"].count().to_frame().reset_index()\n",
    "year.head()"
   ]
  },
  {
   "cell_type": "code",
   "execution_count": 40,
   "metadata": {},
   "outputs": [
    {
     "data": {
      "text/plain": [
       "<AxesSubplot:xlabel='Date_of_Occupancy'>"
      ]
     },
     "execution_count": 40,
     "metadata": {},
     "output_type": "execute_result"
    },
    {
     "data": {
      "image/png": "[encoded data removed]",
      "text/plain": [
       "<Figure size 864x432 with 1 Axes>"
      ]
     },
     "metadata": {},
     "output_type": "display_data"
    }
   ],
   "source": [
    "plt.figure(figsize=(12,6))\n",
    "\n",
    "sns.lineplot(x=\"Date_of_Occupancy\", y=Insdata1.index, data=Insdata1, err_style=None)"
   ]
  },
  {
   "cell_type": "markdown",
   "metadata": {},
   "source": [
    "# Modelling the Insurance data"
   ]
  },
  {
   "cell_type": "code",
   "execution_count": null,
   "metadata": {},
   "outputs": [],
   "source": [
    "#importing necessary libraries\n",
    "\n",
    "from sklearn import linear_model\n",
    "from sklearn.model_selection import train_test_split\n",
    "from sklearn.preprocessing import LabelEncoder\n",
    "from sklearn import preprocessing \n",
    "from sklearn.linear_model import LogisticRegression\n",
    "from sklearn.metrics import accuracy_score,confusion_matrix"
   ]
  },
  {
   "cell_type": "code",
   "execution_count": 41,
   "metadata": {},
   "outputs": [],
   "source": [
    "# Import LabelEncoder\n",
    "\n",
    "from sklearn import preprocessing\n",
    "\n",
    "#creating labelEncoder\n",
    "\n",
    "le = preprocessing.LabelEncoder()"
   ]
  },
  {
   "cell_type": "code",
   "execution_count": 42,
   "metadata": {},
   "outputs": [],
   "source": [
    "#tranforming columns to the data type that the training data can understand\n",
    "#all data should be integers or floats and not strings\n",
    "\n",
    "Insdata1[\"Building_Painted\"] =le.fit_transform(Insdata1[\"Building_Painted\"])\n",
    "Insdata1[\"Building_Fenced\"] =le.fit_transform(Insdata1[\"Building_Fenced\"])\n",
    "Insdata1[\"Garden\"] =le.fit_transform(Insdata1[\"Garden\"])\n",
    "Insdata1[\"Settlement\"]=le.fit_transform(Insdata1[\"Settlement\"])"
   ]
  },
  {
   "cell_type": "code",
   "execution_count": 43,
   "metadata": {},
   "outputs": [
    {
     "name": "stdout",
     "output_type": "stream",
     "text": [
      "<class 'pandas.core.frame.DataFrame'>\n",
      "RangeIndex: 7160 entries, 0 to 7159\n",
      "Data columns (total 12 columns):\n",
      " #   Column              Non-Null Count  Dtype  \n",
      "---  ------              --------------  -----  \n",
      " 0   Customer Id         7160 non-null   object \n",
      " 1   YearOfObservation   7160 non-null   int64  \n",
      " 2   Insured_Period      7160 non-null   int64  \n",
      " 3   Residential         7160 non-null   int64  \n",
      " 4   Building_Painted    7160 non-null   int32  \n",
      " 5   Building_Fenced     7160 non-null   int32  \n",
      " 6   Garden              7160 non-null   int32  \n",
      " 7   Settlement          7160 non-null   int32  \n",
      " 8   Building Dimension  7160 non-null   float64\n",
      " 9   Building_Type       7160 non-null   int64  \n",
      " 10  Date_of_Occupancy   7160 non-null   int32  \n",
      " 11  Claim               7160 non-null   int64  \n",
      "dtypes: float64(1), int32(5), int64(5), object(1)\n",
      "memory usage: 531.5+ KB\n"
     ]
    }
   ],
   "source": [
    "Insdata1.info()"
   ]
  },
  {
   "cell_type": "code",
   "execution_count": 45,
   "metadata": {},
   "outputs": [
    {
     "data": {
      "text/html": [
       "<div>\n",
       "<style scoped>\n",
       "    .dataframe tbody tr th:only-of-type {\n",
       "        vertical-align: middle;\n",
       "    }\n",
       "\n",
       "    .dataframe tbody tr th {\n",
       "        vertical-align: top;\n",
       "    }\n",
       "\n",
       "    .dataframe thead th {\n",
       "        text-align: right;\n",
       "    }\n",
       "</style>\n",
       "<table border=\"1\" class=\"dataframe\">\n",
       "  <thead>\n",
       "    <tr style=\"text-align: right;\">\n",
       "      <th></th>\n",
       "      <th>Customer Id</th>\n",
       "      <th>YearOfObservation</th>\n",
       "      <th>Insured_Period</th>\n",
       "      <th>Residential</th>\n",
       "      <th>Building_Painted</th>\n",
       "      <th>Building_Fenced</th>\n",
       "      <th>Garden</th>\n",
       "      <th>Settlement</th>\n",
       "      <th>Building Dimension</th>\n",
       "      <th>Building_Type</th>\n",
       "      <th>Date_of_Occupancy</th>\n",
       "      <th>Claim</th>\n",
       "    </tr>\n",
       "  </thead>\n",
       "  <tbody>\n",
       "    <tr>\n",
       "      <th>1157</th>\n",
       "      <td>H18966</td>\n",
       "      <td>2012</td>\n",
       "      <td>0</td>\n",
       "      <td>0</td>\n",
       "      <td>1</td>\n",
       "      <td>0</td>\n",
       "      <td>0</td>\n",
       "      <td>0</td>\n",
       "      <td>1425.0</td>\n",
       "      <td>2</td>\n",
       "      <td>1950</td>\n",
       "      <td>0</td>\n",
       "    </tr>\n",
       "    <tr>\n",
       "      <th>422</th>\n",
       "      <td>H2144</td>\n",
       "      <td>2013</td>\n",
       "      <td>1</td>\n",
       "      <td>0</td>\n",
       "      <td>1</td>\n",
       "      <td>0</td>\n",
       "      <td>0</td>\n",
       "      <td>0</td>\n",
       "      <td>1500.0</td>\n",
       "      <td>4</td>\n",
       "      <td>1975</td>\n",
       "      <td>0</td>\n",
       "    </tr>\n",
       "    <tr>\n",
       "      <th>660</th>\n",
       "      <td>H19074</td>\n",
       "      <td>2013</td>\n",
       "      <td>1</td>\n",
       "      <td>0</td>\n",
       "      <td>1</td>\n",
       "      <td>0</td>\n",
       "      <td>0</td>\n",
       "      <td>0</td>\n",
       "      <td>1500.0</td>\n",
       "      <td>1</td>\n",
       "      <td>1979</td>\n",
       "      <td>1</td>\n",
       "    </tr>\n",
       "    <tr>\n",
       "      <th>2122</th>\n",
       "      <td>H18895</td>\n",
       "      <td>2015</td>\n",
       "      <td>1</td>\n",
       "      <td>1</td>\n",
       "      <td>1</td>\n",
       "      <td>0</td>\n",
       "      <td>0</td>\n",
       "      <td>0</td>\n",
       "      <td>2470.0</td>\n",
       "      <td>2</td>\n",
       "      <td>2012</td>\n",
       "      <td>0</td>\n",
       "    </tr>\n",
       "    <tr>\n",
       "      <th>5600</th>\n",
       "      <td>H14097</td>\n",
       "      <td>2013</td>\n",
       "      <td>0</td>\n",
       "      <td>1</td>\n",
       "      <td>0</td>\n",
       "      <td>1</td>\n",
       "      <td>1</td>\n",
       "      <td>1</td>\n",
       "      <td>3500.0</td>\n",
       "      <td>2</td>\n",
       "      <td>1988</td>\n",
       "      <td>0</td>\n",
       "    </tr>\n",
       "    <tr>\n",
       "      <th>788</th>\n",
       "      <td>H18342</td>\n",
       "      <td>2012</td>\n",
       "      <td>1</td>\n",
       "      <td>0</td>\n",
       "      <td>1</td>\n",
       "      <td>0</td>\n",
       "      <td>0</td>\n",
       "      <td>0</td>\n",
       "      <td>1000.0</td>\n",
       "      <td>1</td>\n",
       "      <td>1960</td>\n",
       "      <td>0</td>\n",
       "    </tr>\n",
       "    <tr>\n",
       "      <th>3058</th>\n",
       "      <td>H5235</td>\n",
       "      <td>2012</td>\n",
       "      <td>0</td>\n",
       "      <td>0</td>\n",
       "      <td>0</td>\n",
       "      <td>1</td>\n",
       "      <td>1</td>\n",
       "      <td>1</td>\n",
       "      <td>670.0</td>\n",
       "      <td>1</td>\n",
       "      <td>1960</td>\n",
       "      <td>0</td>\n",
       "    </tr>\n",
       "    <tr>\n",
       "      <th>4175</th>\n",
       "      <td>H368</td>\n",
       "      <td>2012</td>\n",
       "      <td>1</td>\n",
       "      <td>0</td>\n",
       "      <td>1</td>\n",
       "      <td>1</td>\n",
       "      <td>1</td>\n",
       "      <td>1</td>\n",
       "      <td>580.0</td>\n",
       "      <td>2</td>\n",
       "      <td>1980</td>\n",
       "      <td>0</td>\n",
       "    </tr>\n",
       "    <tr>\n",
       "      <th>4555</th>\n",
       "      <td>H12892</td>\n",
       "      <td>2013</td>\n",
       "      <td>1</td>\n",
       "      <td>0</td>\n",
       "      <td>0</td>\n",
       "      <td>1</td>\n",
       "      <td>1</td>\n",
       "      <td>1</td>\n",
       "      <td>132.0</td>\n",
       "      <td>1</td>\n",
       "      <td>1960</td>\n",
       "      <td>0</td>\n",
       "    </tr>\n",
       "    <tr>\n",
       "      <th>4156</th>\n",
       "      <td>H18879</td>\n",
       "      <td>2012</td>\n",
       "      <td>0</td>\n",
       "      <td>1</td>\n",
       "      <td>1</td>\n",
       "      <td>0</td>\n",
       "      <td>0</td>\n",
       "      <td>0</td>\n",
       "      <td>1500.0</td>\n",
       "      <td>2</td>\n",
       "      <td>1978</td>\n",
       "      <td>0</td>\n",
       "    </tr>\n",
       "  </tbody>\n",
       "</table>\n",
       "</div>"
      ],
      "text/plain": [
       "     Customer Id  YearOfObservation  Insured_Period  Residential  \\\n",
       "1157      H18966               2012               0            0   \n",
       "422        H2144               2013               1            0   \n",
       "660       H19074               2013               1            0   \n",
       "2122      H18895               2015               1            1   \n",
       "5600      H14097               2013               0            1   \n",
       "788       H18342               2012               1            0   \n",
       "3058       H5235               2012               0            0   \n",
       "4175        H368               2012               1            0   \n",
       "4555      H12892               2013               1            0   \n",
       "4156      H18879               2012               0            1   \n",
       "\n",
       "      Building_Painted  Building_Fenced  Garden  Settlement  \\\n",
       "1157                 1                0       0           0   \n",
       "422                  1                0       0           0   \n",
       "660                  1                0       0           0   \n",
       "2122                 1                0       0           0   \n",
       "5600                 0                1       1           1   \n",
       "788                  1                0       0           0   \n",
       "3058                 0                1       1           1   \n",
       "4175                 1                1       1           1   \n",
       "4555                 0                1       1           1   \n",
       "4156                 1                0       0           0   \n",
       "\n",
       "      Building Dimension  Building_Type  Date_of_Occupancy  Claim  \n",
       "1157              1425.0              2               1950      0  \n",
       "422               1500.0              4               1975      0  \n",
       "660               1500.0              1               1979      1  \n",
       "2122              2470.0              2               2012      0  \n",
       "5600              3500.0              2               1988      0  \n",
       "788               1000.0              1               1960      0  \n",
       "3058               670.0              1               1960      0  \n",
       "4175               580.0              2               1980      0  \n",
       "4555               132.0              1               1960      0  \n",
       "4156              1500.0              2               1978      0  "
      ]
     },
     "execution_count": 45,
     "metadata": {},
     "output_type": "execute_result"
    }
   ],
   "source": [
    "Insdata1.sample(10)"
   ]
  },
  {
   "cell_type": "code",
   "execution_count": 46,
   "metadata": {},
   "outputs": [
    {
     "data": {
      "text/plain": [
       "2012    1858\n",
       "2013    1811\n",
       "2014    1373\n",
       "2015    1075\n",
       "2016    1043\n",
       "Name: YearOfObservation, dtype: int64"
      ]
     },
     "execution_count": 46,
     "metadata": {},
     "output_type": "execute_result"
    }
   ],
   "source": [
    "Insdata1['YearOfObservation'].value_counts()"
   ]
  },
  {
   "cell_type": "code",
   "execution_count": 47,
   "metadata": {},
   "outputs": [],
   "source": [
    "# Convert the 'YearOfObservation' variable into numeric \n",
    "\n",
    "Insdata1['YearOfObservation'] = Insdata1['YearOfObservation'].replace([2012], 5)\n",
    "Insdata1['YearOfObservation'] = Insdata1['YearOfObservation'].replace([2013], 4)\n",
    "Insdata1['YearOfObservation'] = Insdata1['YearOfObservation'].replace([2014], 3)\n",
    "Insdata1['YearOfObservation'] = Insdata1['YearOfObservation'].replace([2015], 2)\n",
    "Insdata1['YearOfObservation'] = Insdata1['YearOfObservation'].replace([2016], 1)"
   ]
  },
  {
   "cell_type": "code",
   "execution_count": 48,
   "metadata": {},
   "outputs": [
    {
     "data": {
      "text/plain": [
       "400.0     150\n",
       "500.0     120\n",
       "300.0     118\n",
       "450.0     117\n",
       "600.0     114\n",
       "         ... \n",
       "1303.0      1\n",
       "907.0       1\n",
       "2445.0      1\n",
       "924.0       1\n",
       "4069.0      1\n",
       "Name: Building Dimension, Length: 2044, dtype: int64"
      ]
     },
     "execution_count": 48,
     "metadata": {},
     "output_type": "execute_result"
    }
   ],
   "source": [
    "Insdata1['Building Dimension'].value_counts()"
   ]
  },
  {
   "cell_type": "code",
   "execution_count": 49,
   "metadata": {},
   "outputs": [
    {
     "data": {
      "text/plain": [
       "20940.0"
      ]
     },
     "execution_count": 49,
     "metadata": {},
     "output_type": "execute_result"
    }
   ],
   "source": [
    "Insdata1['Building Dimension'].max()"
   ]
  },
  {
   "cell_type": "code",
   "execution_count": 50,
   "metadata": {},
   "outputs": [
    {
     "data": {
      "text/plain": [
       "1.0"
      ]
     },
     "execution_count": 50,
     "metadata": {},
     "output_type": "execute_result"
    }
   ],
   "source": [
    "Insdata1['Building Dimension'].min()"
   ]
  },
  {
   "cell_type": "code",
   "execution_count": 51,
   "metadata": {},
   "outputs": [],
   "source": [
    "# Create Building Dimension ranges\n",
    "\n",
    "Insdata1['BD_Range'] = pd.cut(x=Insdata1['Building Dimension'], bins=[-1, 500, 1000, 1500, 2500, 5000,\n",
    "                                                                      10000, 15000, 25000],\n",
    "                              labels=['<=500', '>500 to <=1000', '>1000 to <=1500', '>1500 to <=2500',\n",
    "                                      '>2500 to <=5000', '>5000 to <=10000', '>10000 to <=15000',\n",
    "                                      '>15000 to <=25000'])"
   ]
  },
  {
   "cell_type": "code",
   "execution_count": 52,
   "metadata": {},
   "outputs": [
    {
     "data": {
      "text/plain": [
       "1960    2326\n",
       "1980    1155\n",
       "1988     530\n",
       "1900     371\n",
       "1970     285\n",
       "        ... \n",
       "1923       1\n",
       "1919       1\n",
       "1905       1\n",
       "1914       1\n",
       "1926       1\n",
       "Name: Date_of_Occupancy, Length: 134, dtype: int64"
      ]
     },
     "execution_count": 52,
     "metadata": {},
     "output_type": "execute_result"
    }
   ],
   "source": [
    "Insdata1['Date_of_Occupancy'].value_counts()"
   ]
  },
  {
   "cell_type": "code",
   "execution_count": 53,
   "metadata": {},
   "outputs": [
    {
     "data": {
      "text/plain": [
       "2016"
      ]
     },
     "execution_count": 53,
     "metadata": {},
     "output_type": "execute_result"
    }
   ],
   "source": [
    "Insdata1['Date_of_Occupancy'].max()"
   ]
  },
  {
   "cell_type": "code",
   "execution_count": 54,
   "metadata": {},
   "outputs": [
    {
     "data": {
      "text/plain": [
       "1545"
      ]
     },
     "execution_count": 54,
     "metadata": {},
     "output_type": "execute_result"
    }
   ],
   "source": [
    "Insdata1['Date_of_Occupancy'].min()"
   ]
  },
  {
   "cell_type": "code",
   "execution_count": 55,
   "metadata": {},
   "outputs": [],
   "source": [
    "# Create 'Date_of_Occupancy' ranges\n",
    "\n",
    "Insdata1['DoO_Range'] = pd.cut(x=Insdata1['Date_of_Occupancy'], bins=[1500, 1600, 1700, 1800, 1900, 2000, 2100],\n",
    "                              labels=['>1500 to <=1600', '>1600 to <=1700', '>1700 to <=1800', '>1800 to <=1900',\n",
    "                                      '>1900 to <=2000', '>2000 to <=2100'])"
   ]
  },
  {
   "cell_type": "code",
   "execution_count": 57,
   "metadata": {},
   "outputs": [
    {
     "data": {
      "text/html": [
       "<div>\n",
       "<style scoped>\n",
       "    .dataframe tbody tr th:only-of-type {\n",
       "        vertical-align: middle;\n",
       "    }\n",
       "\n",
       "    .dataframe tbody tr th {\n",
       "        vertical-align: top;\n",
       "    }\n",
       "\n",
       "    .dataframe thead th {\n",
       "        text-align: right;\n",
       "    }\n",
       "</style>\n",
       "<table border=\"1\" class=\"dataframe\">\n",
       "  <thead>\n",
       "    <tr style=\"text-align: right;\">\n",
       "      <th></th>\n",
       "      <th>Customer Id</th>\n",
       "      <th>YearOfObservation</th>\n",
       "      <th>Insured_Period</th>\n",
       "      <th>Residential</th>\n",
       "      <th>Building_Painted</th>\n",
       "      <th>Building_Fenced</th>\n",
       "      <th>Garden</th>\n",
       "      <th>Settlement</th>\n",
       "      <th>Building Dimension</th>\n",
       "      <th>Building_Type</th>\n",
       "      <th>Date_of_Occupancy</th>\n",
       "      <th>Claim</th>\n",
       "      <th>BD_Range</th>\n",
       "      <th>DoO_Range</th>\n",
       "    </tr>\n",
       "  </thead>\n",
       "  <tbody>\n",
       "    <tr>\n",
       "      <th>0</th>\n",
       "      <td>H14663</td>\n",
       "      <td>4</td>\n",
       "      <td>1</td>\n",
       "      <td>0</td>\n",
       "      <td>0</td>\n",
       "      <td>1</td>\n",
       "      <td>1</td>\n",
       "      <td>1</td>\n",
       "      <td>290.0</td>\n",
       "      <td>1</td>\n",
       "      <td>1960</td>\n",
       "      <td>0</td>\n",
       "      <td>&lt;=500</td>\n",
       "      <td>&gt;1900 to &lt;=2000</td>\n",
       "    </tr>\n",
       "    <tr>\n",
       "      <th>1</th>\n",
       "      <td>H2037</td>\n",
       "      <td>2</td>\n",
       "      <td>1</td>\n",
       "      <td>0</td>\n",
       "      <td>1</td>\n",
       "      <td>0</td>\n",
       "      <td>0</td>\n",
       "      <td>0</td>\n",
       "      <td>490.0</td>\n",
       "      <td>1</td>\n",
       "      <td>1850</td>\n",
       "      <td>0</td>\n",
       "      <td>&lt;=500</td>\n",
       "      <td>&gt;1800 to &lt;=1900</td>\n",
       "    </tr>\n",
       "    <tr>\n",
       "      <th>2</th>\n",
       "      <td>H3802</td>\n",
       "      <td>3</td>\n",
       "      <td>1</td>\n",
       "      <td>0</td>\n",
       "      <td>0</td>\n",
       "      <td>1</td>\n",
       "      <td>1</td>\n",
       "      <td>1</td>\n",
       "      <td>595.0</td>\n",
       "      <td>1</td>\n",
       "      <td>1960</td>\n",
       "      <td>0</td>\n",
       "      <td>&gt;500 to &lt;=1000</td>\n",
       "      <td>&gt;1900 to &lt;=2000</td>\n",
       "    </tr>\n",
       "    <tr>\n",
       "      <th>3</th>\n",
       "      <td>H3834</td>\n",
       "      <td>4</td>\n",
       "      <td>1</td>\n",
       "      <td>0</td>\n",
       "      <td>1</td>\n",
       "      <td>1</td>\n",
       "      <td>1</td>\n",
       "      <td>1</td>\n",
       "      <td>2840.0</td>\n",
       "      <td>1</td>\n",
       "      <td>1960</td>\n",
       "      <td>0</td>\n",
       "      <td>&gt;2500 to &lt;=5000</td>\n",
       "      <td>&gt;1900 to &lt;=2000</td>\n",
       "    </tr>\n",
       "    <tr>\n",
       "      <th>4</th>\n",
       "      <td>H5053</td>\n",
       "      <td>3</td>\n",
       "      <td>1</td>\n",
       "      <td>0</td>\n",
       "      <td>1</td>\n",
       "      <td>0</td>\n",
       "      <td>0</td>\n",
       "      <td>0</td>\n",
       "      <td>680.0</td>\n",
       "      <td>1</td>\n",
       "      <td>1800</td>\n",
       "      <td>0</td>\n",
       "      <td>&gt;500 to &lt;=1000</td>\n",
       "      <td>&gt;1700 to &lt;=1800</td>\n",
       "    </tr>\n",
       "  </tbody>\n",
       "</table>\n",
       "</div>"
      ],
      "text/plain": [
       "  Customer Id  YearOfObservation  Insured_Period  Residential  \\\n",
       "0      H14663                  4               1            0   \n",
       "1       H2037                  2               1            0   \n",
       "2       H3802                  3               1            0   \n",
       "3       H3834                  4               1            0   \n",
       "4       H5053                  3               1            0   \n",
       "\n",
       "   Building_Painted  Building_Fenced  Garden  Settlement  Building Dimension  \\\n",
       "0                 0                1       1           1               290.0   \n",
       "1                 1                0       0           0               490.0   \n",
       "2                 0                1       1           1               595.0   \n",
       "3                 1                1       1           1              2840.0   \n",
       "4                 1                0       0           0               680.0   \n",
       "\n",
       "   Building_Type  Date_of_Occupancy  Claim         BD_Range        DoO_Range  \n",
       "0              1               1960      0            <=500  >1900 to <=2000  \n",
       "1              1               1850      0            <=500  >1800 to <=1900  \n",
       "2              1               1960      0   >500 to <=1000  >1900 to <=2000  \n",
       "3              1               1960      0  >2500 to <=5000  >1900 to <=2000  \n",
       "4              1               1800      0   >500 to <=1000  >1700 to <=1800  "
      ]
     },
     "execution_count": 57,
     "metadata": {},
     "output_type": "execute_result"
    }
   ],
   "source": [
    "# Copy to back-up file\n",
    "\n",
    "Insdata1_bk = Insdata1.copy()\n",
    "\n",
    "Insdata1.head()"
   ]
  },
  {
   "cell_type": "code",
   "execution_count": 58,
   "metadata": {},
   "outputs": [
    {
     "data": {
      "text/html": [
       "<div>\n",
       "<style scoped>\n",
       "    .dataframe tbody tr th:only-of-type {\n",
       "        vertical-align: middle;\n",
       "    }\n",
       "\n",
       "    .dataframe tbody tr th {\n",
       "        vertical-align: top;\n",
       "    }\n",
       "\n",
       "    .dataframe thead th {\n",
       "        text-align: right;\n",
       "    }\n",
       "</style>\n",
       "<table border=\"1\" class=\"dataframe\">\n",
       "  <thead>\n",
       "    <tr style=\"text-align: right;\">\n",
       "      <th></th>\n",
       "      <th>0</th>\n",
       "      <th>1</th>\n",
       "      <th>2</th>\n",
       "      <th>3</th>\n",
       "      <th>4</th>\n",
       "    </tr>\n",
       "  </thead>\n",
       "  <tbody>\n",
       "    <tr>\n",
       "      <th>Customer Id</th>\n",
       "      <td>H14663</td>\n",
       "      <td>H2037</td>\n",
       "      <td>H3802</td>\n",
       "      <td>H3834</td>\n",
       "      <td>H5053</td>\n",
       "    </tr>\n",
       "    <tr>\n",
       "      <th>Insured_Period</th>\n",
       "      <td>1</td>\n",
       "      <td>1</td>\n",
       "      <td>1</td>\n",
       "      <td>1</td>\n",
       "      <td>1</td>\n",
       "    </tr>\n",
       "    <tr>\n",
       "      <th>Residential</th>\n",
       "      <td>0</td>\n",
       "      <td>0</td>\n",
       "      <td>0</td>\n",
       "      <td>0</td>\n",
       "      <td>0</td>\n",
       "    </tr>\n",
       "    <tr>\n",
       "      <th>Building_Painted</th>\n",
       "      <td>0</td>\n",
       "      <td>1</td>\n",
       "      <td>0</td>\n",
       "      <td>1</td>\n",
       "      <td>1</td>\n",
       "    </tr>\n",
       "    <tr>\n",
       "      <th>Building_Fenced</th>\n",
       "      <td>1</td>\n",
       "      <td>0</td>\n",
       "      <td>1</td>\n",
       "      <td>1</td>\n",
       "      <td>0</td>\n",
       "    </tr>\n",
       "    <tr>\n",
       "      <th>Garden</th>\n",
       "      <td>1</td>\n",
       "      <td>0</td>\n",
       "      <td>1</td>\n",
       "      <td>1</td>\n",
       "      <td>0</td>\n",
       "    </tr>\n",
       "    <tr>\n",
       "      <th>Settlement</th>\n",
       "      <td>1</td>\n",
       "      <td>0</td>\n",
       "      <td>1</td>\n",
       "      <td>1</td>\n",
       "      <td>0</td>\n",
       "    </tr>\n",
       "    <tr>\n",
       "      <th>Building Dimension</th>\n",
       "      <td>290.0</td>\n",
       "      <td>490.0</td>\n",
       "      <td>595.0</td>\n",
       "      <td>2840.0</td>\n",
       "      <td>680.0</td>\n",
       "    </tr>\n",
       "    <tr>\n",
       "      <th>Building_Type</th>\n",
       "      <td>1</td>\n",
       "      <td>1</td>\n",
       "      <td>1</td>\n",
       "      <td>1</td>\n",
       "      <td>1</td>\n",
       "    </tr>\n",
       "    <tr>\n",
       "      <th>Date_of_Occupancy</th>\n",
       "      <td>1960</td>\n",
       "      <td>1850</td>\n",
       "      <td>1960</td>\n",
       "      <td>1960</td>\n",
       "      <td>1800</td>\n",
       "    </tr>\n",
       "    <tr>\n",
       "      <th>Claim</th>\n",
       "      <td>0</td>\n",
       "      <td>0</td>\n",
       "      <td>0</td>\n",
       "      <td>0</td>\n",
       "      <td>0</td>\n",
       "    </tr>\n",
       "    <tr>\n",
       "      <th>YearOfObservation_1</th>\n",
       "      <td>0</td>\n",
       "      <td>0</td>\n",
       "      <td>0</td>\n",
       "      <td>0</td>\n",
       "      <td>0</td>\n",
       "    </tr>\n",
       "    <tr>\n",
       "      <th>YearOfObservation_2</th>\n",
       "      <td>0</td>\n",
       "      <td>1</td>\n",
       "      <td>0</td>\n",
       "      <td>0</td>\n",
       "      <td>0</td>\n",
       "    </tr>\n",
       "    <tr>\n",
       "      <th>YearOfObservation_3</th>\n",
       "      <td>0</td>\n",
       "      <td>0</td>\n",
       "      <td>1</td>\n",
       "      <td>0</td>\n",
       "      <td>1</td>\n",
       "    </tr>\n",
       "    <tr>\n",
       "      <th>YearOfObservation_4</th>\n",
       "      <td>1</td>\n",
       "      <td>0</td>\n",
       "      <td>0</td>\n",
       "      <td>1</td>\n",
       "      <td>0</td>\n",
       "    </tr>\n",
       "    <tr>\n",
       "      <th>YearOfObservation_5</th>\n",
       "      <td>0</td>\n",
       "      <td>0</td>\n",
       "      <td>0</td>\n",
       "      <td>0</td>\n",
       "      <td>0</td>\n",
       "    </tr>\n",
       "    <tr>\n",
       "      <th>BD_Range_&lt;=500</th>\n",
       "      <td>1</td>\n",
       "      <td>1</td>\n",
       "      <td>0</td>\n",
       "      <td>0</td>\n",
       "      <td>0</td>\n",
       "    </tr>\n",
       "    <tr>\n",
       "      <th>BD_Range_&gt;500 to &lt;=1000</th>\n",
       "      <td>0</td>\n",
       "      <td>0</td>\n",
       "      <td>1</td>\n",
       "      <td>0</td>\n",
       "      <td>1</td>\n",
       "    </tr>\n",
       "    <tr>\n",
       "      <th>BD_Range_&gt;1000 to &lt;=1500</th>\n",
       "      <td>0</td>\n",
       "      <td>0</td>\n",
       "      <td>0</td>\n",
       "      <td>0</td>\n",
       "      <td>0</td>\n",
       "    </tr>\n",
       "    <tr>\n",
       "      <th>BD_Range_&gt;1500 to &lt;=2500</th>\n",
       "      <td>0</td>\n",
       "      <td>0</td>\n",
       "      <td>0</td>\n",
       "      <td>0</td>\n",
       "      <td>0</td>\n",
       "    </tr>\n",
       "    <tr>\n",
       "      <th>BD_Range_&gt;2500 to &lt;=5000</th>\n",
       "      <td>0</td>\n",
       "      <td>0</td>\n",
       "      <td>0</td>\n",
       "      <td>1</td>\n",
       "      <td>0</td>\n",
       "    </tr>\n",
       "    <tr>\n",
       "      <th>BD_Range_&gt;5000 to &lt;=10000</th>\n",
       "      <td>0</td>\n",
       "      <td>0</td>\n",
       "      <td>0</td>\n",
       "      <td>0</td>\n",
       "      <td>0</td>\n",
       "    </tr>\n",
       "    <tr>\n",
       "      <th>BD_Range_&gt;10000 to &lt;=15000</th>\n",
       "      <td>0</td>\n",
       "      <td>0</td>\n",
       "      <td>0</td>\n",
       "      <td>0</td>\n",
       "      <td>0</td>\n",
       "    </tr>\n",
       "    <tr>\n",
       "      <th>BD_Range_&gt;15000 to &lt;=25000</th>\n",
       "      <td>0</td>\n",
       "      <td>0</td>\n",
       "      <td>0</td>\n",
       "      <td>0</td>\n",
       "      <td>0</td>\n",
       "    </tr>\n",
       "    <tr>\n",
       "      <th>DoO_Range_&gt;1500 to &lt;=1600</th>\n",
       "      <td>0</td>\n",
       "      <td>0</td>\n",
       "      <td>0</td>\n",
       "      <td>0</td>\n",
       "      <td>0</td>\n",
       "    </tr>\n",
       "    <tr>\n",
       "      <th>DoO_Range_&gt;1600 to &lt;=1700</th>\n",
       "      <td>0</td>\n",
       "      <td>0</td>\n",
       "      <td>0</td>\n",
       "      <td>0</td>\n",
       "      <td>0</td>\n",
       "    </tr>\n",
       "    <tr>\n",
       "      <th>DoO_Range_&gt;1700 to &lt;=1800</th>\n",
       "      <td>0</td>\n",
       "      <td>0</td>\n",
       "      <td>0</td>\n",
       "      <td>0</td>\n",
       "      <td>1</td>\n",
       "    </tr>\n",
       "    <tr>\n",
       "      <th>DoO_Range_&gt;1800 to &lt;=1900</th>\n",
       "      <td>0</td>\n",
       "      <td>1</td>\n",
       "      <td>0</td>\n",
       "      <td>0</td>\n",
       "      <td>0</td>\n",
       "    </tr>\n",
       "    <tr>\n",
       "      <th>DoO_Range_&gt;1900 to &lt;=2000</th>\n",
       "      <td>1</td>\n",
       "      <td>0</td>\n",
       "      <td>1</td>\n",
       "      <td>1</td>\n",
       "      <td>0</td>\n",
       "    </tr>\n",
       "    <tr>\n",
       "      <th>DoO_Range_&gt;2000 to &lt;=2100</th>\n",
       "      <td>0</td>\n",
       "      <td>0</td>\n",
       "      <td>0</td>\n",
       "      <td>0</td>\n",
       "      <td>0</td>\n",
       "    </tr>\n",
       "  </tbody>\n",
       "</table>\n",
       "</div>"
      ],
      "text/plain": [
       "                                 0      1      2       3      4\n",
       "Customer Id                 H14663  H2037  H3802   H3834  H5053\n",
       "Insured_Period                   1      1      1       1      1\n",
       "Residential                      0      0      0       0      0\n",
       "Building_Painted                 0      1      0       1      1\n",
       "Building_Fenced                  1      0      1       1      0\n",
       "Garden                           1      0      1       1      0\n",
       "Settlement                       1      0      1       1      0\n",
       "Building Dimension           290.0  490.0  595.0  2840.0  680.0\n",
       "Building_Type                    1      1      1       1      1\n",
       "Date_of_Occupancy             1960   1850   1960    1960   1800\n",
       "Claim                            0      0      0       0      0\n",
       "YearOfObservation_1              0      0      0       0      0\n",
       "YearOfObservation_2              0      1      0       0      0\n",
       "YearOfObservation_3              0      0      1       0      1\n",
       "YearOfObservation_4              1      0      0       1      0\n",
       "YearOfObservation_5              0      0      0       0      0\n",
       "BD_Range_<=500                   1      1      0       0      0\n",
       "BD_Range_>500 to <=1000          0      0      1       0      1\n",
       "BD_Range_>1000 to <=1500         0      0      0       0      0\n",
       "BD_Range_>1500 to <=2500         0      0      0       0      0\n",
       "BD_Range_>2500 to <=5000         0      0      0       1      0\n",
       "BD_Range_>5000 to <=10000        0      0      0       0      0\n",
       "BD_Range_>10000 to <=15000       0      0      0       0      0\n",
       "BD_Range_>15000 to <=25000       0      0      0       0      0\n",
       "DoO_Range_>1500 to <=1600        0      0      0       0      0\n",
       "DoO_Range_>1600 to <=1700        0      0      0       0      0\n",
       "DoO_Range_>1700 to <=1800        0      0      0       0      1\n",
       "DoO_Range_>1800 to <=1900        0      1      0       0      0\n",
       "DoO_Range_>1900 to <=2000        1      0      1       1      0\n",
       "DoO_Range_>2000 to <=2100        0      0      0       0      0"
      ]
     },
     "execution_count": 58,
     "metadata": {},
     "output_type": "execute_result"
    }
   ],
   "source": [
    "# Create dummy variable for all range values\n",
    "\n",
    "Insdata1 = pd.get_dummies(Insdata1, columns=['YearOfObservation', 'BD_Range', 'DoO_Range'])\n",
    "Insdata1.head().T"
   ]
  },
  {
   "cell_type": "code",
   "execution_count": 59,
   "metadata": {},
   "outputs": [],
   "source": [
    "# Identify the independt and dependent variables\n",
    "\n",
    "x = Insdata1.drop([\"Claim\",\"Customer Id\", \"Building Dimension\", \"Date_of_Occupancy\"], axis=1)\n",
    "y = Insdata1[\"Claim\"]"
   ]
  },
  {
   "cell_type": "code",
   "execution_count": 60,
   "metadata": {},
   "outputs": [
    {
     "data": {
      "text/html": [
       "<div>\n",
       "<style scoped>\n",
       "    .dataframe tbody tr th:only-of-type {\n",
       "        vertical-align: middle;\n",
       "    }\n",
       "\n",
       "    .dataframe tbody tr th {\n",
       "        vertical-align: top;\n",
       "    }\n",
       "\n",
       "    .dataframe thead th {\n",
       "        text-align: right;\n",
       "    }\n",
       "</style>\n",
       "<table border=\"1\" class=\"dataframe\">\n",
       "  <thead>\n",
       "    <tr style=\"text-align: right;\">\n",
       "      <th></th>\n",
       "      <th>Insured_Period</th>\n",
       "      <th>Residential</th>\n",
       "      <th>Building_Painted</th>\n",
       "      <th>Building_Fenced</th>\n",
       "      <th>Garden</th>\n",
       "      <th>Settlement</th>\n",
       "      <th>Building_Type</th>\n",
       "      <th>YearOfObservation_1</th>\n",
       "      <th>YearOfObservation_2</th>\n",
       "      <th>YearOfObservation_3</th>\n",
       "      <th>...</th>\n",
       "      <th>BD_Range_&gt;2500 to &lt;=5000</th>\n",
       "      <th>BD_Range_&gt;5000 to &lt;=10000</th>\n",
       "      <th>BD_Range_&gt;10000 to &lt;=15000</th>\n",
       "      <th>BD_Range_&gt;15000 to &lt;=25000</th>\n",
       "      <th>DoO_Range_&gt;1500 to &lt;=1600</th>\n",
       "      <th>DoO_Range_&gt;1600 to &lt;=1700</th>\n",
       "      <th>DoO_Range_&gt;1700 to &lt;=1800</th>\n",
       "      <th>DoO_Range_&gt;1800 to &lt;=1900</th>\n",
       "      <th>DoO_Range_&gt;1900 to &lt;=2000</th>\n",
       "      <th>DoO_Range_&gt;2000 to &lt;=2100</th>\n",
       "    </tr>\n",
       "  </thead>\n",
       "  <tbody>\n",
       "    <tr>\n",
       "      <th>0</th>\n",
       "      <td>1</td>\n",
       "      <td>0</td>\n",
       "      <td>0</td>\n",
       "      <td>1</td>\n",
       "      <td>1</td>\n",
       "      <td>1</td>\n",
       "      <td>1</td>\n",
       "      <td>0</td>\n",
       "      <td>0</td>\n",
       "      <td>0</td>\n",
       "      <td>...</td>\n",
       "      <td>0</td>\n",
       "      <td>0</td>\n",
       "      <td>0</td>\n",
       "      <td>0</td>\n",
       "      <td>0</td>\n",
       "      <td>0</td>\n",
       "      <td>0</td>\n",
       "      <td>0</td>\n",
       "      <td>1</td>\n",
       "      <td>0</td>\n",
       "    </tr>\n",
       "    <tr>\n",
       "      <th>1</th>\n",
       "      <td>1</td>\n",
       "      <td>0</td>\n",
       "      <td>1</td>\n",
       "      <td>0</td>\n",
       "      <td>0</td>\n",
       "      <td>0</td>\n",
       "      <td>1</td>\n",
       "      <td>0</td>\n",
       "      <td>1</td>\n",
       "      <td>0</td>\n",
       "      <td>...</td>\n",
       "      <td>0</td>\n",
       "      <td>0</td>\n",
       "      <td>0</td>\n",
       "      <td>0</td>\n",
       "      <td>0</td>\n",
       "      <td>0</td>\n",
       "      <td>0</td>\n",
       "      <td>1</td>\n",
       "      <td>0</td>\n",
       "      <td>0</td>\n",
       "    </tr>\n",
       "    <tr>\n",
       "      <th>2</th>\n",
       "      <td>1</td>\n",
       "      <td>0</td>\n",
       "      <td>0</td>\n",
       "      <td>1</td>\n",
       "      <td>1</td>\n",
       "      <td>1</td>\n",
       "      <td>1</td>\n",
       "      <td>0</td>\n",
       "      <td>0</td>\n",
       "      <td>1</td>\n",
       "      <td>...</td>\n",
       "      <td>0</td>\n",
       "      <td>0</td>\n",
       "      <td>0</td>\n",
       "      <td>0</td>\n",
       "      <td>0</td>\n",
       "      <td>0</td>\n",
       "      <td>0</td>\n",
       "      <td>0</td>\n",
       "      <td>1</td>\n",
       "      <td>0</td>\n",
       "    </tr>\n",
       "    <tr>\n",
       "      <th>3</th>\n",
       "      <td>1</td>\n",
       "      <td>0</td>\n",
       "      <td>1</td>\n",
       "      <td>1</td>\n",
       "      <td>1</td>\n",
       "      <td>1</td>\n",
       "      <td>1</td>\n",
       "      <td>0</td>\n",
       "      <td>0</td>\n",
       "      <td>0</td>\n",
       "      <td>...</td>\n",
       "      <td>1</td>\n",
       "      <td>0</td>\n",
       "      <td>0</td>\n",
       "      <td>0</td>\n",
       "      <td>0</td>\n",
       "      <td>0</td>\n",
       "      <td>0</td>\n",
       "      <td>0</td>\n",
       "      <td>1</td>\n",
       "      <td>0</td>\n",
       "    </tr>\n",
       "    <tr>\n",
       "      <th>4</th>\n",
       "      <td>1</td>\n",
       "      <td>0</td>\n",
       "      <td>1</td>\n",
       "      <td>0</td>\n",
       "      <td>0</td>\n",
       "      <td>0</td>\n",
       "      <td>1</td>\n",
       "      <td>0</td>\n",
       "      <td>0</td>\n",
       "      <td>1</td>\n",
       "      <td>...</td>\n",
       "      <td>0</td>\n",
       "      <td>0</td>\n",
       "      <td>0</td>\n",
       "      <td>0</td>\n",
       "      <td>0</td>\n",
       "      <td>0</td>\n",
       "      <td>1</td>\n",
       "      <td>0</td>\n",
       "      <td>0</td>\n",
       "      <td>0</td>\n",
       "    </tr>\n",
       "  </tbody>\n",
       "</table>\n",
       "<p>5 rows × 26 columns</p>\n",
       "</div>"
      ],
      "text/plain": [
       "   Insured_Period  Residential  Building_Painted  Building_Fenced  Garden  \\\n",
       "0               1            0                 0                1       1   \n",
       "1               1            0                 1                0       0   \n",
       "2               1            0                 0                1       1   \n",
       "3               1            0                 1                1       1   \n",
       "4               1            0                 1                0       0   \n",
       "\n",
       "   Settlement  Building_Type  YearOfObservation_1  YearOfObservation_2  \\\n",
       "0           1              1                    0                    0   \n",
       "1           0              1                    0                    1   \n",
       "2           1              1                    0                    0   \n",
       "3           1              1                    0                    0   \n",
       "4           0              1                    0                    0   \n",
       "\n",
       "   YearOfObservation_3  ...  BD_Range_>2500 to <=5000  \\\n",
       "0                    0  ...                         0   \n",
       "1                    0  ...                         0   \n",
       "2                    1  ...                         0   \n",
       "3                    0  ...                         1   \n",
       "4                    1  ...                         0   \n",
       "\n",
       "   BD_Range_>5000 to <=10000  BD_Range_>10000 to <=15000  \\\n",
       "0                          0                           0   \n",
       "1                          0                           0   \n",
       "2                          0                           0   \n",
       "3                          0                           0   \n",
       "4                          0                           0   \n",
       "\n",
       "   BD_Range_>15000 to <=25000  DoO_Range_>1500 to <=1600  \\\n",
       "0                           0                          0   \n",
       "1                           0                          0   \n",
       "2                           0                          0   \n",
       "3                           0                          0   \n",
       "4                           0                          0   \n",
       "\n",
       "   DoO_Range_>1600 to <=1700  DoO_Range_>1700 to <=1800  \\\n",
       "0                          0                          0   \n",
       "1                          0                          0   \n",
       "2                          0                          0   \n",
       "3                          0                          0   \n",
       "4                          0                          1   \n",
       "\n",
       "   DoO_Range_>1800 to <=1900  DoO_Range_>1900 to <=2000  \\\n",
       "0                          0                          1   \n",
       "1                          1                          0   \n",
       "2                          0                          1   \n",
       "3                          0                          1   \n",
       "4                          0                          0   \n",
       "\n",
       "   DoO_Range_>2000 to <=2100  \n",
       "0                          0  \n",
       "1                          0  \n",
       "2                          0  \n",
       "3                          0  \n",
       "4                          0  \n",
       "\n",
       "[5 rows x 26 columns]"
      ]
     },
     "execution_count": 60,
     "metadata": {},
     "output_type": "execute_result"
    }
   ],
   "source": [
    "x.head()"
   ]
  },
  {
   "cell_type": "code",
   "execution_count": 62,
   "metadata": {},
   "outputs": [],
   "source": [
    "# Splitting the dataset into train and test \n",
    "\n",
    "from sklearn.model_selection import train_test_split\n",
    "\n",
    "x_train, x_test, y_train, y_test = train_test_split(x, y, test_size = 0.40, random_state = 42)\n",
    "\n",
    "x_test_f1 = x_test.copy()"
   ]
  },
  {
   "cell_type": "markdown",
   "metadata": {},
   "source": [
    "# SVM - Linear Kernel"
   ]
  },
  {
   "cell_type": "code",
   "execution_count": 64,
   "metadata": {},
   "outputs": [],
   "source": [
    "# Training the SVM algorithm for classification problem\n",
    "\n",
    "from sklearn.svm import SVC\n",
    "\n",
    "Insdata1SVM = SVC(C=1.0, kernel='linear', degree=3, gamma='scale', coef0=0.0, shrinking=True, \n",
    "                  probability=False, tol=0.001, cache_size=200, class_weight=None, verbose=False, \n",
    "                  max_iter=- 1, decision_function_shape='ovr', break_ties=False, random_state=42)\n",
    "\n",
    "Insdata1SVM = Insdata1SVM.fit(x_train, y_train)"
   ]
  },
  {
   "cell_type": "code",
   "execution_count": 65,
   "metadata": {},
   "outputs": [
    {
     "name": "stdout",
     "output_type": "stream",
     "text": [
      "[[2100   98]\n",
      " [ 554  112]]\n",
      "              precision    recall  f1-score   support\n",
      "\n",
      "           0       0.79      0.96      0.87      2198\n",
      "           1       0.53      0.17      0.26       666\n",
      "\n",
      "    accuracy                           0.77      2864\n",
      "   macro avg       0.66      0.56      0.56      2864\n",
      "weighted avg       0.73      0.77      0.72      2864\n",
      "\n",
      "Accuracy: 77.23 %\n",
      "Precision: 77.23 %\n",
      "Recall: 77.23 %\n",
      "f1-score: 77.23 %\n",
      "roc_auc_score: 0.562\n"
     ]
    }
   ],
   "source": [
    "# Predictions with test data\n",
    "\n",
    "y_pred = Insdata1SVM.predict(x_test)\n",
    "\n",
    "# Confusion matrix and classification report\n",
    "\n",
    "from sklearn.metrics import classification_report, confusion_matrix\n",
    "\n",
    "print(confusion_matrix(y_test,y_pred))\n",
    "print(classification_report(y_test,y_pred))\n",
    "\n",
    "# Evalution metrics\n",
    "\n",
    "import sklearn.metrics as metrics\n",
    "from sklearn.metrics import roc_curve, roc_auc_score\n",
    "\n",
    "print(\"Accuracy:\", (round(metrics.accuracy_score(y_test, y_pred) * 100, 2)), \"%\")\n",
    "print(\"Precision:\", (round(metrics.precision_score(y_test, y_pred, average='micro') * 100, 2)), '%')\n",
    "print(\"Recall:\", (round(metrics.recall_score(y_test, y_pred, average='micro') * 100, 2)), \"%\")\n",
    "print(\"f1-score:\", (round(metrics.f1_score(y_test, y_pred, average='micro') * 100, 2)), '%')\n",
    "print('roc_auc_score:', round(roc_auc_score(y_test, y_pred), 3))"
   ]
  },
  {
   "cell_type": "markdown",
   "metadata": {},
   "source": [
    "# SVM - Polynomial Kernel"
   ]
  },
  {
   "cell_type": "code",
   "execution_count": 77,
   "metadata": {},
   "outputs": [
    {
     "name": "stdout",
     "output_type": "stream",
     "text": [
      "[[2137   61]\n",
      " [ 583   83]]\n",
      "              precision    recall  f1-score   support\n",
      "\n",
      "           0       0.79      0.97      0.87      2198\n",
      "           1       0.58      0.12      0.20       666\n",
      "\n",
      "    accuracy                           0.78      2864\n",
      "   macro avg       0.68      0.55      0.54      2864\n",
      "weighted avg       0.74      0.78      0.71      2864\n",
      "\n",
      "Accuracy: 77.51 %\n",
      "Precision: 77.51 %\n",
      "Recall: 77.51 %\n",
      "f1-score: 77.51 %\n",
      "roc_auc_score: 0.548\n"
     ]
    }
   ],
   "source": [
    "# Training the SVM algorithm\n",
    "\n",
    "from sklearn.svm import SVC\n",
    "\n",
    "Insdata1SVMPoly = SVC(kernel='poly', degree=3, class_weight=None)\n",
    "Insdata1SVMPoly.fit(x_train, y_train)\n",
    "\n",
    "# Predicting the values\n",
    "\n",
    "y_pred2 = Insdata1SVMPoly.predict(x_test)\n",
    "\n",
    "# Confusion matrix and classification report\n",
    "\n",
    "from sklearn.metrics import classification_report, confusion_matrix\n",
    "\n",
    "print(confusion_matrix(y_test,y_pred2))\n",
    "print(classification_report(y_test,y_pred2))\n",
    "\n",
    "# Evalution metrics\n",
    "\n",
    "import sklearn.metrics as metrics\n",
    "from sklearn.metrics import roc_curve, roc_auc_score\n",
    "\n",
    "print(\"Accuracy:\", (round(metrics.accuracy_score(y_test, y_pred2) * 100, 2)), \"%\")\n",
    "print(\"Precision:\", (round(metrics.precision_score(y_test, y_pred2, average='micro') * 100, 2)), '%')\n",
    "print(\"Recall:\", (round(metrics.recall_score(y_test, y_pred2, average='micro') * 100, 2)), \"%\")\n",
    "print(\"f1-score:\", (round(metrics.f1_score(y_test, y_pred2, average='micro') * 100, 2)), '%')\n",
    "print('roc_auc_score:', round(roc_auc_score(y_test, y_pred2), 3))"
   ]
  },
  {
   "cell_type": "markdown",
   "metadata": {},
   "source": [
    "# SVM - Gaussian Kernel"
   ]
  },
  {
   "cell_type": "code",
   "execution_count": 78,
   "metadata": {},
   "outputs": [
    {
     "name": "stdout",
     "output_type": "stream",
     "text": [
      "[[2137   61]\n",
      " [ 579   87]]\n",
      "              precision    recall  f1-score   support\n",
      "\n",
      "           0       0.79      0.97      0.87      2198\n",
      "           1       0.59      0.13      0.21       666\n",
      "\n",
      "    accuracy                           0.78      2864\n",
      "   macro avg       0.69      0.55      0.54      2864\n",
      "weighted avg       0.74      0.78      0.72      2864\n",
      "\n",
      "Accuracy: 77.65 %\n",
      "Precision: 77.65 %\n",
      "Recall: 77.65 %\n",
      "f1-score: 77.65 %\n",
      "roc_auc_score: 0.551\n"
     ]
    }
   ],
   "source": [
    "# Training the SVM algorithm\n",
    "\n",
    "from sklearn.svm import SVC\n",
    "\n",
    "Insdata1SVMGaussian = SVC(kernel='rbf', random_state = None, class_weight=None)\n",
    "Insdata1SVMGaussian.fit(x_train, y_train)\n",
    "\n",
    "# Predicting the values\n",
    "\n",
    "y_pred3 = Insdata1SVMGaussian.predict(x_test)\n",
    "\n",
    "# Confusion matrix and classification report\n",
    "\n",
    "from sklearn.metrics import classification_report, confusion_matrix\n",
    "\n",
    "print(confusion_matrix(y_test,y_pred3))\n",
    "print(classification_report(y_test,y_pred3))\n",
    "\n",
    "# Evalution metrics\n",
    "\n",
    "import sklearn.metrics as metrics\n",
    "from sklearn.metrics import roc_curve, roc_auc_score\n",
    "\n",
    "print(\"Accuracy:\", (round(metrics.accuracy_score(y_test, y_pred3) * 100, 2)), \"%\")\n",
    "print(\"Precision:\", (round(metrics.precision_score(y_test, y_pred3, average='micro') * 100, 2)), '%')\n",
    "print(\"Recall:\", (round(metrics.recall_score(y_test, y_pred3, average='micro') * 100, 2)), \"%\")\n",
    "print(\"f1-score:\", (round(metrics.f1_score(y_test, y_pred3, average='micro') * 100, 2)), '%')\n",
    "print('roc_auc_score:', round(roc_auc_score(y_test, y_pred3), 3))"
   ]
  },
  {
   "cell_type": "markdown",
   "metadata": {},
   "source": [
    "# SVM - Sigmoid Kernel"
   ]
  },
  {
   "cell_type": "code",
   "execution_count": 79,
   "metadata": {},
   "outputs": [
    {
     "name": "stdout",
     "output_type": "stream",
     "text": [
      "[[1751  447]\n",
      " [ 476  190]]\n",
      "              precision    recall  f1-score   support\n",
      "\n",
      "           0       0.79      0.80      0.79      2198\n",
      "           1       0.30      0.29      0.29       666\n",
      "\n",
      "    accuracy                           0.68      2864\n",
      "   macro avg       0.54      0.54      0.54      2864\n",
      "weighted avg       0.67      0.68      0.68      2864\n",
      "\n",
      "Accuracy: 67.77 %\n",
      "Precision: 67.77 %\n",
      "Recall: 67.77 %\n",
      "f1-score: 67.77 %\n",
      "roc_auc_score: 0.541\n"
     ]
    }
   ],
   "source": [
    "# Training the SVM algorithm\n",
    "\n",
    "from sklearn.svm import SVC\n",
    "\n",
    "Insdata1SVMSig = SVC(kernel='sigmoid', random_state = 42, class_weight=None)\n",
    "Insdata1SVMSig.fit(x_train, y_train)\n",
    "\n",
    "# Predicting the values\n",
    "\n",
    "y_pred4 = Insdata1SVMSig.predict(x_test)\n",
    "\n",
    "# Confusion matrix and classification report\n",
    "\n",
    "from sklearn.metrics import classification_report, confusion_matrix\n",
    "\n",
    "print(confusion_matrix(y_test,y_pred4))\n",
    "print(classification_report(y_test,y_pred4))\n",
    "\n",
    "# Evalution metrics\n",
    "\n",
    "import sklearn.metrics as metrics\n",
    "from sklearn.metrics import roc_curve, roc_auc_score\n",
    "\n",
    "print(\"Accuracy:\", (round(metrics.accuracy_score(y_test, y_pred4) * 100, 2)), \"%\")\n",
    "print(\"Precision:\", (round(metrics.precision_score(y_test, y_pred4, average='micro') * 100, 2)), '%')\n",
    "print(\"Recall:\", (round(metrics.recall_score(y_test, y_pred4, average='micro') * 100, 2)), \"%\")\n",
    "print(\"f1-score:\", (round(metrics.f1_score(y_test, y_pred4, average='micro') * 100, 2)), '%')\n",
    "print('roc_auc_score:', round(roc_auc_score(y_test, y_pred4), 3))"
   ]
  },
  {
   "cell_type": "markdown",
   "metadata": {},
   "source": [
    "# Random forest Algorithm"
   ]
  },
  {
   "cell_type": "code",
   "execution_count": 73,
   "metadata": {},
   "outputs": [
    {
     "name": "stdout",
     "output_type": "stream",
     "text": [
      "[[1997  201]\n",
      " [ 517  149]]\n",
      "              precision    recall  f1-score   support\n",
      "\n",
      "           0       0.79      0.91      0.85      2198\n",
      "           1       0.43      0.22      0.29       666\n",
      "\n",
      "    accuracy                           0.75      2864\n",
      "   macro avg       0.61      0.57      0.57      2864\n",
      "weighted avg       0.71      0.75      0.72      2864\n",
      "\n",
      "Accuracy: 74.93 %\n",
      "Precision: 74.93 %\n",
      "Recall: 74.93 %\n",
      "f1-score: 74.93 %\n",
      "roc_auc_score: 0.566\n"
     ]
    }
   ],
   "source": [
    "# Build Random Forest classification model and Train the model using the training sets\n",
    "\n",
    "from sklearn.ensemble import RandomForestClassifier  \n",
    "\n",
    "Insdata1RF = RandomForestClassifier(bootstrap=True, ccp_alpha=0.0, class_weight=None,\n",
    "                                    criterion='entropy', max_depth=None, max_features='auto',\n",
    "                                    max_leaf_nodes=None, max_samples=None,\n",
    "                                    min_impurity_decrease=0.0, min_impurity_split=None,\n",
    "                                    min_samples_leaf=1, min_samples_split=2,\n",
    "                                    min_weight_fraction_leaf=0.0, n_estimators=500,\n",
    "                                    n_jobs=None, oob_score=False, random_state=0, verbose=0,\n",
    "                                    warm_start=False)\n",
    "\n",
    "Insdata1RF = Insdata1RF.fit(x_train, y_train)\n",
    "\n",
    "# Predict the model with test data set\n",
    "\n",
    "y1_pred = Insdata1RF.predict(x_test)\n",
    "\n",
    "# Display confusion matrix and classifiction report\n",
    "\n",
    "from sklearn.metrics import classification_report, confusion_matrix\n",
    "\n",
    "print(confusion_matrix(y_test, y1_pred))\n",
    "print(classification_report(y_test, y1_pred))\n",
    "\n",
    "# Evaluate the model performance by metrics\n",
    "\n",
    "from sklearn import metrics\n",
    "from sklearn.metrics import roc_curve, roc_auc_score\n",
    "\n",
    "# Model Accuracy: how often is the classifier correct?\n",
    "print(\"Accuracy:\", (round(metrics.accuracy_score(y_test, y1_pred) * 100, 2)), \"%\")\n",
    "\n",
    "# Model Precision: what percentage of positive tuples are labeled as such?\n",
    "print(\"Precision:\", (round(metrics.precision_score(y_test, y1_pred, average='micro') * 100, 2)), '%')\n",
    "\n",
    "# Model Recall: what percentage of positive tuples are labelled as such?\n",
    "print(\"Recall:\", (round(metrics.recall_score(y_test, y1_pred, average='micro') * 100, 2)), \"%\")\n",
    "\n",
    "# Model f1-score: weighted average of Precision & Recall\n",
    "print(\"f1-score:\", (round(metrics.f1_score(y_test, y1_pred, average='micro') * 100, 2)), '%')\n",
    "\n",
    "# Area under ROC curve \n",
    "print('roc_auc_score:', round(roc_auc_score(y_test, y1_pred), 3))"
   ]
  },
  {
   "cell_type": "markdown",
   "metadata": {},
   "source": [
    "# Decision Tree algorithm"
   ]
  },
  {
   "cell_type": "code",
   "execution_count": 74,
   "metadata": {},
   "outputs": [
    {
     "name": "stdout",
     "output_type": "stream",
     "text": [
      "[[2014  184]\n",
      " [ 534  132]]\n",
      "              precision    recall  f1-score   support\n",
      "\n",
      "           0       0.79      0.92      0.85      2198\n",
      "           1       0.42      0.20      0.27       666\n",
      "\n",
      "    accuracy                           0.75      2864\n",
      "   macro avg       0.60      0.56      0.56      2864\n",
      "weighted avg       0.70      0.75      0.71      2864\n",
      "\n",
      "Accuracy: 74.93 %\n",
      "Precision: 41.77 %\n",
      "Recall: 19.82 %\n",
      "f1-score: 26.88 %\n",
      "roc_auc_score: 0.557\n"
     ]
    }
   ],
   "source": [
    "# To build the decision tree model with Over sampling \n",
    "\n",
    "from sklearn.tree import DecisionTreeClassifier \n",
    "\n",
    "Insdata1DT = DecisionTreeClassifier(ccp_alpha=0.0, class_weight=None, criterion='gini',\n",
    "                                    max_depth=None, max_features=None, max_leaf_nodes=None,\n",
    "                                    min_impurity_decrease=0.0, min_impurity_split=None,\n",
    "                                    min_samples_leaf=1, min_samples_split=2,min_weight_fraction_leaf=0.0,\n",
    "                                    random_state=None, splitter='best')\n",
    "\n",
    "Insdata1DT = Insdata1DT.fit(x_train,y_train)\n",
    "\n",
    "# Predict with test data\n",
    "\n",
    "y3_pred = Insdata1DT.predict(x_test)\n",
    "\n",
    "# Display confusion matrix and classifiction report\n",
    "\n",
    "from sklearn.metrics import classification_report, confusion_matrix\n",
    "\n",
    "print(confusion_matrix(y_test, y3_pred))\n",
    "print(classification_report(y_test, y3_pred))\n",
    "\n",
    "# Evaluate the model performance by metrics\n",
    "\n",
    "from sklearn import metrics\n",
    "from sklearn.metrics import roc_curve, roc_auc_score\n",
    "\n",
    "# Model Accuracy: how often is the classifier correct?\n",
    "print(\"Accuracy:\", (round(metrics.accuracy_score(y_test, y3_pred) * 100, 2)), \"%\")\n",
    "\n",
    "# Model Precision: what percentage of positive tuples are labeled as such?\n",
    "print(\"Precision:\", (round(metrics.precision_score(y_test, y3_pred) * 100, 2)), '%')\n",
    "\n",
    "# Model Recall: what percentage of positive tuples are labelled as such?\n",
    "print(\"Recall:\", (round(metrics.recall_score(y_test, y3_pred) * 100, 2)), \"%\")\n",
    "\n",
    "# Model f1-score: weighted average of Precision & Recall\n",
    "print(\"f1-score:\", (round(metrics.f1_score(y_test, y3_pred) * 100, 2)), '%')\n",
    "\n",
    "# Area under ROC curve \n",
    "print('roc_auc_score:', round(roc_auc_score(y_test, y3_pred), 3))"
   ]
  },
  {
   "cell_type": "markdown",
   "metadata": {},
   "source": [
    "# Logistic Regression Algorithm"
   ]
  },
  {
   "cell_type": "code",
   "execution_count": 75,
   "metadata": {},
   "outputs": [
    {
     "name": "stdout",
     "output_type": "stream",
     "text": [
      "[[2116   82]\n",
      " [ 554  112]]\n",
      "              precision    recall  f1-score   support\n",
      "\n",
      "           0       0.79      0.96      0.87      2198\n",
      "           1       0.58      0.17      0.26       666\n",
      "\n",
      "    accuracy                           0.78      2864\n",
      "   macro avg       0.68      0.57      0.56      2864\n",
      "weighted avg       0.74      0.78      0.73      2864\n",
      "\n",
      "Accuracy: 77.79 %\n",
      "Precision: 77.79 %\n",
      "Recall: 77.79 %\n",
      "f1-score: 77.79 %\n",
      "roc_auc_score: 0.565\n"
     ]
    }
   ],
   "source": [
    "# To build the 'Logistic Regression' model with random sampling\n",
    "\n",
    "from sklearn.linear_model import LogisticRegression\n",
    "\n",
    "Insdata1LR = LogisticRegression(C=1.0, class_weight=None, dual=False, fit_intercept=True,\n",
    "                                intercept_scaling=1, max_iter=100, multi_class='auto', \n",
    "                                n_jobs=None, penalty='l2', random_state=None,\n",
    "                                solver='lbfgs', tol=0.0001, verbose=0, warm_start=False)\n",
    "\n",
    "Insdata1LR = Insdata1LR.fit(x_train,y_train)\n",
    "\n",
    "# Predict the model with test data set\n",
    "\n",
    "y5_pred = Insdata1LR.predict(x_test)\n",
    "\n",
    "# Display confusion matrix and classifiction report\n",
    "\n",
    "from sklearn.metrics import classification_report, confusion_matrix\n",
    "\n",
    "print(confusion_matrix(y_test, y5_pred))\n",
    "print(classification_report(y_test, y5_pred))\n",
    "\n",
    "# Evaluate the model performance by metrics\n",
    "\n",
    "from sklearn import metrics\n",
    "from sklearn.metrics import roc_curve, roc_auc_score\n",
    "\n",
    "# Model Accuracy: how often is the classifier correct?\n",
    "print(\"Accuracy:\", (round(metrics.accuracy_score(y_test, y5_pred) * 100, 2)), \"%\")\n",
    "\n",
    "# Model Precision: what percentage of positive tuples are labeled as such?\n",
    "print(\"Precision:\", (round(metrics.precision_score(y_test, y5_pred, average='micro') * 100, 2)), '%')\n",
    "\n",
    "# Model Recall: what percentage of positive tuples are labelled as such?\n",
    "print(\"Recall:\", (round(metrics.recall_score(y_test, y5_pred, average='micro') * 100, 2)), \"%\")\n",
    "\n",
    "# Model f1-score: weighted average of Precision & Recall\n",
    "print(\"f1-score:\", (round(metrics.f1_score(y_test, y5_pred, average='micro') * 100, 2)), '%')\n",
    "\n",
    "# Area under ROC curve \n",
    "print('roc_auc_score:', round(roc_auc_score(y_test, y5_pred), 3))"
   ]
  },
  {
   "cell_type": "markdown",
   "metadata": {},
   "source": [
    "# KNN Algorithm"
   ]
  },
  {
   "cell_type": "code",
   "execution_count": 76,
   "metadata": {},
   "outputs": [
    {
     "name": "stdout",
     "output_type": "stream",
     "text": [
      "KNN_K_value =  1\n",
      "Accuracy: 66.97 %\n",
      "Precision: 66.97 %\n",
      "Recall: 66.97 %\n",
      "f1-score: 66.97 %\n",
      "roc_auc_score: 0.534\n",
      "[[1732  466]\n",
      " [ 480  186]]\n",
      "----------------------------------------------------------------------------------------------\n",
      "KNN_K_value =  2\n",
      "Accuracy: 75.07 %\n",
      "Precision: 75.07 %\n",
      "Recall: 75.07 %\n",
      "f1-score: 75.07 %\n",
      "roc_auc_score: 0.532\n",
      "[[2068  130]\n",
      " [ 584   82]]\n",
      "----------------------------------------------------------------------------------------------\n",
      "KNN_K_value =  3\n",
      "Accuracy: 71.86 %\n",
      "Precision: 71.86 %\n",
      "Recall: 71.86 %\n",
      "f1-score: 71.86 %\n",
      "roc_auc_score: 0.552\n",
      "[[1897  301]\n",
      " [ 505  161]]\n",
      "----------------------------------------------------------------------------------------------\n",
      "KNN_K_value =  4\n",
      "Accuracy: 75.38 %\n",
      "Precision: 75.38 %\n",
      "Recall: 75.38 %\n",
      "f1-score: 75.38 %\n",
      "roc_auc_score: 0.538\n",
      "[[2070  128]\n",
      " [ 577   89]]\n",
      "----------------------------------------------------------------------------------------------\n",
      "KNN_K_value =  5\n",
      "Accuracy: 73.71 %\n",
      "Precision: 73.71 %\n",
      "Recall: 73.71 %\n",
      "f1-score: 73.71 %\n",
      "roc_auc_score: 0.56\n",
      "[[1959  239]\n",
      " [ 514  152]]\n",
      "----------------------------------------------------------------------------------------------\n",
      "KNN_K_value =  6\n",
      "Accuracy: 75.42 %\n",
      "Precision: 75.42 %\n",
      "Recall: 75.42 %\n",
      "f1-score: 75.42 %\n",
      "roc_auc_score: 0.547\n",
      "[[2054  144]\n",
      " [ 560  106]]\n",
      "----------------------------------------------------------------------------------------------\n",
      "KNN_K_value =  7\n",
      "Accuracy: 74.62 %\n",
      "Precision: 74.62 %\n",
      "Recall: 74.62 %\n",
      "f1-score: 74.62 %\n",
      "roc_auc_score: 0.56\n",
      "[[1995  203]\n",
      " [ 524  142]]\n",
      "----------------------------------------------------------------------------------------------\n",
      "KNN_K_value =  8\n",
      "Accuracy: 76.61 %\n",
      "Precision: 76.61 %\n",
      "Recall: 76.61 %\n",
      "f1-score: 76.61 %\n",
      "roc_auc_score: 0.543\n",
      "[[2110   88]\n",
      " [ 582   84]]\n",
      "----------------------------------------------------------------------------------------------\n",
      "KNN_K_value =  9\n",
      "Accuracy: 75.87 %\n",
      "Precision: 75.87 %\n",
      "Recall: 75.87 %\n",
      "f1-score: 75.87 %\n",
      "roc_auc_score: 0.554\n",
      "[[2058  140]\n",
      " [ 551  115]]\n",
      "----------------------------------------------------------------------------------------------\n"
     ]
    }
   ],
   "source": [
    "# Initialize an array that stores the Accuracy\n",
    "\n",
    "from sklearn.neighbors import KNeighborsClassifier\n",
    "from sklearn.metrics import classification_report, confusion_matrix, accuracy_score\n",
    "import sklearn.metrics as metrics\n",
    "from sklearn.metrics import roc_curve, roc_auc_score\n",
    "\n",
    "from sklearn.metrics import classification_report, confusion_matrix\n",
    "\n",
    "accuracy = []\n",
    "\n",
    "for a in range(1, 10, 1):\n",
    "    k = a\n",
    "    Insdata1KNN = KNeighborsClassifier(n_neighbors=k)\n",
    "    Insdata1KNN.fit(x_train, y_train)\n",
    "    y6_pred = Insdata1KNN.predict(x_test)\n",
    "    print('KNN_K_value = ', a)\n",
    "    print(\"Accuracy:\", (round(metrics.accuracy_score(y_test, y6_pred) * 100, 2)), \"%\")\n",
    "    print(\"Precision:\", (round(metrics.precision_score(y_test, y6_pred, average='micro') * 100, 2)), '%')\n",
    "    print(\"Recall:\", (round(metrics.recall_score(y_test, y6_pred, average='micro') * 100, 2)), \"%\")\n",
    "    print(\"f1-score:\", (round(metrics.f1_score(y_test, y6_pred, average='micro') * 100, 2)), '%')\n",
    "    print('roc_auc_score:', round(roc_auc_score(y_test, y6_pred), 3))\n",
    "    print(confusion_matrix(y_test, y6_pred))\n",
    "    print('----------------------------------------------------------------------------------------------')"
   ]
  },
  {
   "cell_type": "code",
   "execution_count": null,
   "metadata": {},
   "outputs": [],
   "source": []
  }
 ],
 "metadata": {
  "kernelspec": {
   "display_name": "Python 3",
   "language": "python",
   "name": "python3"
  },
  "language_info": {
   "codemirror_mode": {
    "name": "ipython",
    "version": 3
   },
   "file_extension": ".py",
   "mimetype": "text/x-python",
   "name": "python",
   "nbconvert_exporter": "python",
   "pygments_lexer": "ipython3",
   "version": "3.8.8"
  }
 },
 "nbformat": 4,
 "nbformat_minor": 4
}
