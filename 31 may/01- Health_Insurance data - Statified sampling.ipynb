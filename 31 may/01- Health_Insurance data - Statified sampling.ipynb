{
 "cells": [
  {
   "cell_type": "code",
   "execution_count": 1,
   "id": "809d107a",
   "metadata": {},
   "outputs": [],
   "source": [
    "# importing the libraries\n",
    "\n",
    "import numpy as np\n",
    "import pandas as pd\n",
    "import matplotlib.pyplot as plt\n",
    "\n",
    "# Ignore harmless warnings\n",
    "import warnings\n",
    "warnings.filterwarnings(\"ignore\")"
   ]
  },
  {
   "cell_type": "code",
   "execution_count": 2,
   "id": "fcbb1385",
   "metadata": {},
   "outputs": [
    {
     "data": {
      "text/html": [
       "<div>\n",
       "<style scoped>\n",
       "    .dataframe tbody tr th:only-of-type {\n",
       "        vertical-align: middle;\n",
       "    }\n",
       "\n",
       "    .dataframe tbody tr th {\n",
       "        vertical-align: top;\n",
       "    }\n",
       "\n",
       "    .dataframe thead th {\n",
       "        text-align: right;\n",
       "    }\n",
       "</style>\n",
       "<table border=\"1\" class=\"dataframe\">\n",
       "  <thead>\n",
       "    <tr style=\"text-align: right;\">\n",
       "      <th></th>\n",
       "      <th>Age</th>\n",
       "      <th>Gender</th>\n",
       "      <th>BMI</th>\n",
       "      <th>Children</th>\n",
       "      <th>Smoker</th>\n",
       "      <th>Region</th>\n",
       "      <th>Expenses</th>\n",
       "    </tr>\n",
       "  </thead>\n",
       "  <tbody>\n",
       "    <tr>\n",
       "      <th>0</th>\n",
       "      <td>19</td>\n",
       "      <td>2</td>\n",
       "      <td>27.9</td>\n",
       "      <td>0</td>\n",
       "      <td>1</td>\n",
       "      <td>4</td>\n",
       "      <td>16884.92</td>\n",
       "    </tr>\n",
       "    <tr>\n",
       "      <th>1</th>\n",
       "      <td>18</td>\n",
       "      <td>1</td>\n",
       "      <td>33.8</td>\n",
       "      <td>1</td>\n",
       "      <td>0</td>\n",
       "      <td>3</td>\n",
       "      <td>1725.55</td>\n",
       "    </tr>\n",
       "    <tr>\n",
       "      <th>2</th>\n",
       "      <td>28</td>\n",
       "      <td>1</td>\n",
       "      <td>33.0</td>\n",
       "      <td>3</td>\n",
       "      <td>0</td>\n",
       "      <td>3</td>\n",
       "      <td>4449.46</td>\n",
       "    </tr>\n",
       "    <tr>\n",
       "      <th>3</th>\n",
       "      <td>33</td>\n",
       "      <td>1</td>\n",
       "      <td>22.7</td>\n",
       "      <td>0</td>\n",
       "      <td>0</td>\n",
       "      <td>2</td>\n",
       "      <td>21984.47</td>\n",
       "    </tr>\n",
       "    <tr>\n",
       "      <th>4</th>\n",
       "      <td>32</td>\n",
       "      <td>1</td>\n",
       "      <td>28.9</td>\n",
       "      <td>0</td>\n",
       "      <td>0</td>\n",
       "      <td>2</td>\n",
       "      <td>3866.86</td>\n",
       "    </tr>\n",
       "  </tbody>\n",
       "</table>\n",
       "</div>"
      ],
      "text/plain": [
       "   Age  Gender   BMI  Children  Smoker  Region  Expenses\n",
       "0   19       2  27.9         0       1       4  16884.92\n",
       "1   18       1  33.8         1       0       3   1725.55\n",
       "2   28       1  33.0         3       0       3   4449.46\n",
       "3   33       1  22.7         0       0       2  21984.47\n",
       "4   32       1  28.9         0       0       2   3866.86"
      ]
     },
     "execution_count": 2,
     "metadata": {},
     "output_type": "execute_result"
    }
   ],
   "source": [
    "# Load the 'HealthIns' dataset by using pandas library\n",
    "\n",
    "HealthIns = pd.read_csv(r\"D:\\iiit notes\\Internship\\15 seasion 31_may-2021\\Health_Insurance.csv\", header = 0)\n",
    "HealthIns.head()"
   ]
  },
  {
   "cell_type": "code",
   "execution_count": 3,
   "id": "6d21dd37",
   "metadata": {},
   "outputs": [
    {
     "name": "stdout",
     "output_type": "stream",
     "text": [
      "<class 'pandas.core.frame.DataFrame'>\n",
      "RangeIndex: 1338 entries, 0 to 1337\n",
      "Data columns (total 7 columns):\n",
      " #   Column    Non-Null Count  Dtype  \n",
      "---  ------    --------------  -----  \n",
      " 0   Age       1338 non-null   int64  \n",
      " 1   Gender    1338 non-null   int64  \n",
      " 2   BMI       1338 non-null   float64\n",
      " 3   Children  1338 non-null   int64  \n",
      " 4   Smoker    1338 non-null   int64  \n",
      " 5   Region    1338 non-null   int64  \n",
      " 6   Expenses  1338 non-null   float64\n",
      "dtypes: float64(2), int64(5)\n",
      "memory usage: 73.3 KB\n"
     ]
    }
   ],
   "source": [
    "# Display the dataset information \n",
    "\n",
    "HealthIns.info()"
   ]
  },
  {
   "cell_type": "code",
   "execution_count": 4,
   "id": "ab7df1a2",
   "metadata": {},
   "outputs": [],
   "source": [
    "# Identify the Target and Independent variable\n",
    "\n",
    "IndepVar =[]\n",
    "\n",
    "for col in HealthIns.columns:\n",
    "    if col != 'Expenses':\n",
    "        IndepVar.append(col)\n",
    "        \n",
    "TargetVar = 'Expenses'\n",
    "\n",
    "x = HealthIns[IndepVar]\n",
    "y = HealthIns[TargetVar]"
   ]
  },
  {
   "cell_type": "code",
   "execution_count": 5,
   "id": "fcb9ff2a",
   "metadata": {},
   "outputs": [],
   "source": [
    "# Split the data into train and test (random sampling)\n",
    "\n",
    "from sklearn.model_selection import train_test_split\n",
    "\n",
    "x_train, x_test, y_train, y_test = train_test_split(x, y, test_size = 0.3, random_state = 6)"
   ]
  },
  {
   "cell_type": "code",
   "execution_count": 6,
   "id": "fcc5fe26",
   "metadata": {},
   "outputs": [],
   "source": [
    "# Split the data into train and test (Stratified sampling) \n",
    "\n",
    "from sklearn.model_selection import train_test_split \n",
    "x1_train, x1_test, y1_train, y1_test = train_test_split(x, y, test_size=0.3, random_state=42, \n",
    "                                                        stratify=HealthIns[['Region', 'Smoker', 'Gender']])"
   ]
  },
  {
   "cell_type": "markdown",
   "id": "98ce9b77",
   "metadata": {},
   "source": [
    "# Multi Linear Regression with Random Sampling"
   ]
  },
  {
   "cell_type": "code",
   "execution_count": 7,
   "id": "756b0c2b",
   "metadata": {},
   "outputs": [
    {
     "data": {
      "text/plain": [
       "LinearRegression()"
      ]
     },
     "execution_count": 7,
     "metadata": {},
     "output_type": "execute_result"
    }
   ],
   "source": [
    "# train the Linear Regression Algorithm and build the model\n",
    "\n",
    "from sklearn.linear_model import LinearRegression\n",
    "\n",
    "mulreg = LinearRegression()\n",
    "mulreg.fit(x_train, y_train)"
   ]
  },
  {
   "cell_type": "code",
   "execution_count": 8,
   "id": "e93b35e3",
   "metadata": {},
   "outputs": [
    {
     "name": "stdout",
     "output_type": "stream",
     "text": [
      "{'copy_X': True, 'fit_intercept': True, 'n_jobs': None, 'normalize': False, 'positive': False}\n"
     ]
    }
   ],
   "source": [
    "# Display the algorithm parameters\n",
    "\n",
    "params = mulreg.get_params()\n",
    "print(params)"
   ]
  },
  {
   "cell_type": "code",
   "execution_count": 9,
   "id": "751d45cd",
   "metadata": {},
   "outputs": [],
   "source": [
    "# Predict the model with test data\n",
    "\n",
    "y_pred = mulreg.predict(x_test)"
   ]
  },
  {
   "cell_type": "code",
   "execution_count": 10,
   "id": "7a5f50f5",
   "metadata": {},
   "outputs": [
    {
     "name": "stdout",
     "output_type": "stream",
     "text": [
      "Mean Absolute Error (MAE): 4024.487\n",
      "Mean Squared Error (MSE): 31333621.718\n",
      "Root Mean Squared Error (RMSE): 5597.644\n",
      "Mean Absolute Percentage Error (MAPE): 43.5 %\n",
      "R2_score: 0.772518\n"
     ]
    }
   ],
   "source": [
    "from sklearn import metrics\n",
    "\n",
    "print('Mean Absolute Error (MAE):', round(metrics.mean_absolute_error(y_test,y_pred),3))\n",
    "print('Mean Squared Error (MSE):', round(metrics.mean_squared_error(y_test,y_pred),3))\n",
    "print('Root Mean Squared Error (RMSE):', round(np.sqrt(metrics.mean_squared_error(y_test,y_pred)),3))\n",
    "print('Mean Absolute Percentage Error (MAPE):', round(metrics.mean_absolute_percentage_error(y_test,y_pred),3)*100, '%')\n",
    "print('R2_score:', round(metrics.r2_score(y_test,y_pred),6))"
   ]
  },
  {
   "cell_type": "markdown",
   "id": "e430284d",
   "metadata": {},
   "source": [
    "# Multi-Regression with Stratified Sampling"
   ]
  },
  {
   "cell_type": "code",
   "execution_count": 12,
   "id": "80aa79c4",
   "metadata": {},
   "outputs": [
    {
     "data": {
      "text/plain": [
       "LinearRegression()"
      ]
     },
     "execution_count": 12,
     "metadata": {},
     "output_type": "execute_result"
    }
   ],
   "source": [
    "# train the Linear Regression Algorithm and build the model\n",
    "\n",
    "from sklearn.linear_model import LinearRegression\n",
    "\n",
    "mulreg1 = LinearRegression()\n",
    "mulreg1.fit(x1_train, y1_train)"
   ]
  },
  {
   "cell_type": "code",
   "execution_count": 13,
   "id": "3b85e34c",
   "metadata": {},
   "outputs": [
    {
     "name": "stdout",
     "output_type": "stream",
     "text": [
      "{'copy_X': True, 'fit_intercept': True, 'n_jobs': None, 'normalize': False, 'positive': False}\n"
     ]
    }
   ],
   "source": [
    "# Display the algorithm parameters\n",
    "\n",
    "params = mulreg1.get_params()\n",
    "print(params)"
   ]
  },
  {
   "cell_type": "code",
   "execution_count": 14,
   "id": "44605047",
   "metadata": {},
   "outputs": [],
   "source": [
    "y1_pred = mulreg1.predict(x1_test)"
   ]
  },
  {
   "cell_type": "code",
   "execution_count": 15,
   "id": "3d086785",
   "metadata": {},
   "outputs": [
    {
     "name": "stdout",
     "output_type": "stream",
     "text": [
      "Mean Absolute Error (MAE): 4012.779\n",
      "Mean Squared Error (MSE): 35953308.07\n",
      "Root Mean Squared Error (RMSE): 5996.108\n",
      "Mean Absolute Percentage Error (MAPE): 37.9 %\n",
      "R2_score: 0.776976\n"
     ]
    }
   ],
   "source": [
    "from sklearn import metrics\n",
    "\n",
    "print('Mean Absolute Error (MAE):', round(metrics.mean_absolute_error(y1_test,y1_pred),3))\n",
    "print('Mean Squared Error (MSE):', round(metrics.mean_squared_error(y1_test,y1_pred),3))\n",
    "print('Root Mean Squared Error (RMSE):', round(np.sqrt(metrics.mean_squared_error(y1_test,y1_pred)),3))\n",
    "print('Mean Absolute Percentage Error (MAPE):', round(metrics.mean_absolute_percentage_error(y1_test,y1_pred),3)*100, '%')\n",
    "print('R2_score:', round(metrics.r2_score(y1_test,y1_pred),6))"
   ]
  },
  {
   "cell_type": "code",
   "execution_count": 16,
   "id": "5296eaf8",
   "metadata": {},
   "outputs": [
    {
     "data": {
      "text/html": [
       "<div>\n",
       "<style scoped>\n",
       "    .dataframe tbody tr th:only-of-type {\n",
       "        vertical-align: middle;\n",
       "    }\n",
       "\n",
       "    .dataframe tbody tr th {\n",
       "        vertical-align: top;\n",
       "    }\n",
       "\n",
       "    .dataframe thead th {\n",
       "        text-align: right;\n",
       "    }\n",
       "</style>\n",
       "<table border=\"1\" class=\"dataframe\">\n",
       "  <thead>\n",
       "    <tr style=\"text-align: right;\">\n",
       "      <th></th>\n",
       "      <th>Age</th>\n",
       "      <th>Gender</th>\n",
       "      <th>BMI</th>\n",
       "      <th>Children</th>\n",
       "      <th>Smoker</th>\n",
       "      <th>Region</th>\n",
       "    </tr>\n",
       "  </thead>\n",
       "  <tbody>\n",
       "    <tr>\n",
       "      <th>1</th>\n",
       "      <td>45</td>\n",
       "      <td>1</td>\n",
       "      <td>35.5</td>\n",
       "      <td>4</td>\n",
       "      <td>1</td>\n",
       "      <td>3</td>\n",
       "    </tr>\n",
       "  </tbody>\n",
       "</table>\n",
       "</div>"
      ],
      "text/plain": [
       "   Age  Gender   BMI  Children  Smoker  Region\n",
       "1   45       1  35.5         4       1       3"
      ]
     },
     "execution_count": 16,
     "metadata": {},
     "output_type": "execute_result"
    }
   ],
   "source": [
    "# Predict charges for new customer : Name - Ram \n",
    "\n",
    "data = {'Age' : 45,\n",
    "        'Gender' : 1,\n",
    "        'BMI' : 35.50,\n",
    "        'Children' : 4,\n",
    "        'Smoker' : 1,\n",
    "        'Region' : 3} \n",
    "index = [1] \n",
    "Ram_data = pd.DataFrame(data,index) \n",
    "Ram_data"
   ]
  },
  {
   "cell_type": "code",
   "execution_count": 17,
   "id": "54333700",
   "metadata": {},
   "outputs": [
    {
     "name": "stdout",
     "output_type": "stream",
     "text": [
      "Medical Expenses for Ram is :  [36746.45641819]\n"
     ]
    }
   ],
   "source": [
    "# Predicting the expenses by giving new data\n",
    "\n",
    "Pred_Ram = mulreg.predict(Ram_data) \n",
    "print(\"Medical Expenses for Ram is : \", Pred_Ram)"
   ]
  },
  {
   "cell_type": "code",
   "execution_count": 18,
   "id": "657860df",
   "metadata": {},
   "outputs": [
    {
     "name": "stdout",
     "output_type": "stream",
     "text": [
      "Medical Expenses for Ram is :  [35164.75012745]\n"
     ]
    }
   ],
   "source": [
    "# Predicting the expenses by giving new data\n",
    "\n",
    "Pred_Ram = mulreg1.predict(Ram_data) \n",
    "print(\"Medical Expenses for Ram is : \", Pred_Ram)"
   ]
  },
  {
   "cell_type": "code",
   "execution_count": null,
   "id": "ef8b7d92",
   "metadata": {},
   "outputs": [],
   "source": []
  },
  {
   "cell_type": "code",
   "execution_count": null,
   "id": "d0f8e236",
   "metadata": {},
   "outputs": [],
   "source": []
  }
 ],
 "metadata": {
  "kernelspec": {
   "display_name": "Python 3",
   "language": "python",
   "name": "python3"
  },
  "language_info": {
   "codemirror_mode": {
    "name": "ipython",
    "version": 3
   },
   "file_extension": ".py",
   "mimetype": "text/x-python",
   "name": "python",
   "nbconvert_exporter": "python",
   "pygments_lexer": "ipython3",
   "version": "3.8.8"
  }
 },
 "nbformat": 4,
 "nbformat_minor": 5
}
