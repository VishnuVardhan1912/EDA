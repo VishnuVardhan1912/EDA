{
 "cells": [
  {
   "cell_type": "code",
   "execution_count": 4,
   "id": "a975f4ff",
   "metadata": {},
   "outputs": [],
   "source": [
    "# Importing the libraries\n",
    "\n",
    "import pandas as pd\n",
    "import numpy as np\n",
    "import matplotlib.pyplot as plt\n",
    "\n",
    "# Ignore harmless warnings\n",
    "\n",
    "import warnings\n",
    "warnings.filterwarnings(\"ignore\")\n",
    "\n",
    "# Set to display all the columns in dataset\n",
    "\n",
    "pd.set_option(\"display.max_columns\", 50)\n",
    "\n",
    "# Import psql to run queries\n",
    "\n",
    "import pandasql as psql"
   ]
  },
  {
   "cell_type": "code",
   "execution_count": 5,
   "id": "fb14abd9",
   "metadata": {},
   "outputs": [
    {
     "data": {
      "text/html": [
       "<div>\n",
       "<style scoped>\n",
       "    .dataframe tbody tr th:only-of-type {\n",
       "        vertical-align: middle;\n",
       "    }\n",
       "\n",
       "    .dataframe tbody tr th {\n",
       "        vertical-align: top;\n",
       "    }\n",
       "\n",
       "    .dataframe thead th {\n",
       "        text-align: right;\n",
       "    }\n",
       "</style>\n",
       "<table border=\"1\" class=\"dataframe\">\n",
       "  <thead>\n",
       "    <tr style=\"text-align: right;\">\n",
       "      <th></th>\n",
       "      <th>Cement</th>\n",
       "      <th>Slag</th>\n",
       "      <th>Flyash</th>\n",
       "      <th>Water</th>\n",
       "      <th>SuperPlasticizer</th>\n",
       "      <th>CoarseAggregate</th>\n",
       "      <th>FineAggregate</th>\n",
       "      <th>Age</th>\n",
       "      <th>CSinMPa</th>\n",
       "    </tr>\n",
       "  </thead>\n",
       "  <tbody>\n",
       "    <tr>\n",
       "      <th>0</th>\n",
       "      <td>540.0</td>\n",
       "      <td>0.0</td>\n",
       "      <td>0.0</td>\n",
       "      <td>162.0</td>\n",
       "      <td>2.5</td>\n",
       "      <td>1040.0</td>\n",
       "      <td>676.0</td>\n",
       "      <td>28</td>\n",
       "      <td>79.99</td>\n",
       "    </tr>\n",
       "    <tr>\n",
       "      <th>1</th>\n",
       "      <td>540.0</td>\n",
       "      <td>0.0</td>\n",
       "      <td>0.0</td>\n",
       "      <td>162.0</td>\n",
       "      <td>2.5</td>\n",
       "      <td>1055.0</td>\n",
       "      <td>676.0</td>\n",
       "      <td>28</td>\n",
       "      <td>61.89</td>\n",
       "    </tr>\n",
       "    <tr>\n",
       "      <th>2</th>\n",
       "      <td>332.5</td>\n",
       "      <td>142.5</td>\n",
       "      <td>0.0</td>\n",
       "      <td>228.0</td>\n",
       "      <td>0.0</td>\n",
       "      <td>932.0</td>\n",
       "      <td>594.0</td>\n",
       "      <td>270</td>\n",
       "      <td>40.27</td>\n",
       "    </tr>\n",
       "    <tr>\n",
       "      <th>3</th>\n",
       "      <td>332.5</td>\n",
       "      <td>142.5</td>\n",
       "      <td>0.0</td>\n",
       "      <td>228.0</td>\n",
       "      <td>0.0</td>\n",
       "      <td>932.0</td>\n",
       "      <td>594.0</td>\n",
       "      <td>365</td>\n",
       "      <td>41.05</td>\n",
       "    </tr>\n",
       "    <tr>\n",
       "      <th>4</th>\n",
       "      <td>198.6</td>\n",
       "      <td>132.4</td>\n",
       "      <td>0.0</td>\n",
       "      <td>192.0</td>\n",
       "      <td>0.0</td>\n",
       "      <td>978.4</td>\n",
       "      <td>825.5</td>\n",
       "      <td>360</td>\n",
       "      <td>44.30</td>\n",
       "    </tr>\n",
       "  </tbody>\n",
       "</table>\n",
       "</div>"
      ],
      "text/plain": [
       "   Cement   Slag  Flyash  Water  SuperPlasticizer  CoarseAggregate  \\\n",
       "0   540.0    0.0     0.0  162.0               2.5           1040.0   \n",
       "1   540.0    0.0     0.0  162.0               2.5           1055.0   \n",
       "2   332.5  142.5     0.0  228.0               0.0            932.0   \n",
       "3   332.5  142.5     0.0  228.0               0.0            932.0   \n",
       "4   198.6  132.4     0.0  192.0               0.0            978.4   \n",
       "\n",
       "   FineAggregate  Age  CSinMPa  \n",
       "0          676.0   28    79.99  \n",
       "1          676.0   28    61.89  \n",
       "2          594.0  270    40.27  \n",
       "3          594.0  365    41.05  \n",
       "4          825.5  360    44.30  "
      ]
     },
     "execution_count": 5,
     "metadata": {},
     "output_type": "execute_result"
    }
   ],
   "source": [
    "concrete = pd.read_csv(r\"D:\\iiit notes\\Programming\\AI\\Internship practice\\61 season 23- Aug - 2021\\Concrete_Data_V1.0.csv\",header=0)\n",
    "concrete.head()"
   ]
  },
  {
   "cell_type": "code",
   "execution_count": 6,
   "id": "533518c4",
   "metadata": {},
   "outputs": [
    {
     "name": "stdout",
     "output_type": "stream",
     "text": [
      "<class 'pandas.core.frame.DataFrame'>\n",
      "RangeIndex: 1030 entries, 0 to 1029\n",
      "Data columns (total 9 columns):\n",
      " #   Column            Non-Null Count  Dtype  \n",
      "---  ------            --------------  -----  \n",
      " 0   Cement            1030 non-null   float64\n",
      " 1   Slag              1030 non-null   float64\n",
      " 2   Flyash            1030 non-null   float64\n",
      " 3   Water             1030 non-null   float64\n",
      " 4   SuperPlasticizer  1030 non-null   float64\n",
      " 5   CoarseAggregate   1030 non-null   float64\n",
      " 6   FineAggregate     1030 non-null   float64\n",
      " 7   Age               1030 non-null   int64  \n",
      " 8   CSinMPa           1030 non-null   float64\n",
      "dtypes: float64(8), int64(1)\n",
      "memory usage: 72.5 KB\n"
     ]
    }
   ],
   "source": [
    "concrete.info()"
   ]
  },
  {
   "cell_type": "code",
   "execution_count": 7,
   "id": "9501d00b",
   "metadata": {},
   "outputs": [
    {
     "data": {
      "text/plain": [
       "Cement              278\n",
       "Slag                185\n",
       "Flyash              156\n",
       "Water               195\n",
       "SuperPlasticizer    111\n",
       "CoarseAggregate     284\n",
       "FineAggregate       302\n",
       "Age                  14\n",
       "CSinMPa             845\n",
       "dtype: int64"
      ]
     },
     "execution_count": 7,
     "metadata": {},
     "output_type": "execute_result"
    }
   ],
   "source": [
    "concrete.nunique()"
   ]
  },
  {
   "cell_type": "code",
   "execution_count": 8,
   "id": "a6f832b8",
   "metadata": {},
   "outputs": [
    {
     "data": {
      "text/plain": [
       "Index(['Cement', 'Slag', 'Flyash', 'Water', 'SuperPlasticizer',\n",
       "       'CoarseAggregate', 'FineAggregate', 'Age', 'CSinMPa'],\n",
       "      dtype='object')"
      ]
     },
     "execution_count": 8,
     "metadata": {},
     "output_type": "execute_result"
    }
   ],
   "source": [
    "concrete.columns"
   ]
  },
  {
   "cell_type": "code",
   "execution_count": 9,
   "id": "6395031a",
   "metadata": {},
   "outputs": [],
   "source": [
    "# Create cols1 for sacling the data\n",
    "\n",
    "cols1 = ['Cement', 'Slag', 'Flyash', 'Water', 'SuperPlasticizer', 'CoarseAggregate', 'FineAggregate', 'Age']"
   ]
  },
  {
   "cell_type": "code",
   "execution_count": 10,
   "id": "0c72d82a",
   "metadata": {},
   "outputs": [],
   "source": [
    "# Identify the independent and Target variables\n",
    "\n",
    "IndepVar = []\n",
    "for col in concrete.columns:\n",
    "    if col != 'CSinMPa':\n",
    "        IndepVar.append(col)\n",
    "\n",
    "TargetVar = 'CSinMPa'\n",
    "\n",
    "x = concrete[IndepVar]\n",
    "y = concrete[TargetVar]"
   ]
  },
  {
   "cell_type": "code",
   "execution_count": 11,
   "id": "79b49cf2",
   "metadata": {},
   "outputs": [
    {
     "data": {
      "text/plain": [
       "((721, 8), (309, 8), (721,), (309,))"
      ]
     },
     "execution_count": 11,
     "metadata": {},
     "output_type": "execute_result"
    }
   ],
   "source": [
    "# Split the data into train and test\n",
    "\n",
    "from sklearn.model_selection import train_test_split\n",
    "\n",
    "x_train, x_test, y_train, y_test = train_test_split(x, y, test_size=0.3, random_state=6)\n",
    "x_test_F1 = x_test.copy()\n",
    "x_train.shape, x_test.shape, y_train.shape, y_test.shape"
   ]
  },
  {
   "cell_type": "code",
   "execution_count": 12,
   "id": "6dac6ad8",
   "metadata": {},
   "outputs": [],
   "source": [
    "# Scaling the features by using MinMaxScaler\n",
    "\n",
    "from sklearn.preprocessing import MinMaxScaler\n",
    "\n",
    "mmscaler = MinMaxScaler(feature_range=(0, 1))\n",
    "\n",
    "x_train[cols1] = mmscaler.fit_transform(x_train[cols1])\n",
    "x_train = pd.DataFrame(x_train)\n",
    "\n",
    "x_test[cols1] = mmscaler.fit_transform(x_test[cols1])\n",
    "x_test = pd.DataFrame(x_test)"
   ]
  },
  {
   "cell_type": "markdown",
   "id": "27db2d33",
   "metadata": {},
   "source": [
    "## Multi Regression"
   ]
  },
  {
   "cell_type": "code",
   "execution_count": 13,
   "id": "e92f3087",
   "metadata": {},
   "outputs": [
    {
     "name": "stdout",
     "output_type": "stream",
     "text": [
      "Mean Absolute Error (MAE): 9.168\n",
      "Mean Squared Error (MSE): 132.618\n",
      "Root Mean Squared Error (RMSE): 11.516\n",
      "Mean Absolute Percentage Error (MAPE): 30.0 %\n",
      "R2_score: 0.59\n",
      "Adj R Square:  0.587\n"
     ]
    }
   ],
   "source": [
    "# Train the Multi Regression algorithm and build the model with train dataset\n",
    "\n",
    "from sklearn.linear_model import LinearRegression\n",
    "\n",
    "modelMR = LinearRegression(fit_intercept=True, normalize=False, copy_X=True, n_jobs=None, positive=False)\n",
    "\n",
    "# Fit the model with train dataset\n",
    "\n",
    "modelMR.fit(x_train, y_train)\n",
    "\n",
    "# Predict the model with test dataset\n",
    "\n",
    "y1_pred = modelMR.predict(x_test)\n",
    "\n",
    "# Evaluation metrics for Regression analysis\n",
    "\n",
    "from sklearn import metrics\n",
    "\n",
    "print('Mean Absolute Error (MAE):', round(metrics.mean_absolute_error(y_test, y1_pred),3))\n",
    "print('Mean Squared Error (MSE):', round(metrics.mean_squared_error(y_test, y1_pred),3))\n",
    "print('Root Mean Squared Error (RMSE):', round(np.sqrt(metrics.mean_squared_error(y_test, y1_pred)),3))\n",
    "print('Mean Absolute Percentage Error (MAPE):', round(metrics.mean_absolute_percentage_error(y_test, y1_pred), 2) * 100, '%')\n",
    "print('R2_score:', round(metrics.r2_score(y_test, y1_pred),3))\n",
    "\n",
    "# Calculate Adjusted R squared values\n",
    "\n",
    "r_squared = round(metrics.r2_score(y_test, y1_pred),3)\n",
    "adjusted_r_squared = round(1 - (1-r_squared)*(len(y)-1)/(len(y)-x.shape[1]-1),3)\n",
    "print('Adj R Square: ', adjusted_r_squared)"
   ]
  },
  {
   "cell_type": "code",
   "execution_count": 14,
   "id": "594fadcb",
   "metadata": {},
   "outputs": [
    {
     "data": {
      "text/html": [
       "<div>\n",
       "<style scoped>\n",
       "    .dataframe tbody tr th:only-of-type {\n",
       "        vertical-align: middle;\n",
       "    }\n",
       "\n",
       "    .dataframe tbody tr th {\n",
       "        vertical-align: top;\n",
       "    }\n",
       "\n",
       "    .dataframe thead th {\n",
       "        text-align: right;\n",
       "    }\n",
       "</style>\n",
       "<table border=\"1\" class=\"dataframe\">\n",
       "  <thead>\n",
       "    <tr style=\"text-align: right;\">\n",
       "      <th></th>\n",
       "      <th>Cement</th>\n",
       "      <th>Slag</th>\n",
       "      <th>Flyash</th>\n",
       "      <th>Water</th>\n",
       "      <th>SuperPlasticizer</th>\n",
       "      <th>CoarseAggregate</th>\n",
       "      <th>FineAggregate</th>\n",
       "      <th>Age</th>\n",
       "      <th>CSinMPa</th>\n",
       "      <th>CSinMPa_pred</th>\n",
       "    </tr>\n",
       "  </thead>\n",
       "  <tbody>\n",
       "    <tr>\n",
       "      <th>544</th>\n",
       "      <td>289.0</td>\n",
       "      <td>0.0</td>\n",
       "      <td>0.0</td>\n",
       "      <td>192.0</td>\n",
       "      <td>0.0</td>\n",
       "      <td>913.2</td>\n",
       "      <td>895.3</td>\n",
       "      <td>7</td>\n",
       "      <td>14.60</td>\n",
       "      <td>17.260951</td>\n",
       "    </tr>\n",
       "    <tr>\n",
       "      <th>953</th>\n",
       "      <td>158.4</td>\n",
       "      <td>0.0</td>\n",
       "      <td>194.9</td>\n",
       "      <td>219.7</td>\n",
       "      <td>11.0</td>\n",
       "      <td>897.7</td>\n",
       "      <td>712.9</td>\n",
       "      <td>28</td>\n",
       "      <td>8.54</td>\n",
       "      <td>17.759327</td>\n",
       "    </tr>\n",
       "    <tr>\n",
       "      <th>240</th>\n",
       "      <td>229.7</td>\n",
       "      <td>0.0</td>\n",
       "      <td>118.2</td>\n",
       "      <td>195.2</td>\n",
       "      <td>6.1</td>\n",
       "      <td>1028.1</td>\n",
       "      <td>757.6</td>\n",
       "      <td>14</td>\n",
       "      <td>22.32</td>\n",
       "      <td>21.900762</td>\n",
       "    </tr>\n",
       "    <tr>\n",
       "      <th>853</th>\n",
       "      <td>318.0</td>\n",
       "      <td>0.0</td>\n",
       "      <td>126.0</td>\n",
       "      <td>210.0</td>\n",
       "      <td>6.0</td>\n",
       "      <td>861.0</td>\n",
       "      <td>737.0</td>\n",
       "      <td>28</td>\n",
       "      <td>40.06</td>\n",
       "      <td>30.736419</td>\n",
       "    </tr>\n",
       "    <tr>\n",
       "      <th>132</th>\n",
       "      <td>362.6</td>\n",
       "      <td>189.0</td>\n",
       "      <td>0.0</td>\n",
       "      <td>164.9</td>\n",
       "      <td>11.6</td>\n",
       "      <td>944.7</td>\n",
       "      <td>755.8</td>\n",
       "      <td>28</td>\n",
       "      <td>71.30</td>\n",
       "      <td>52.120109</td>\n",
       "    </tr>\n",
       "    <tr>\n",
       "      <th>649</th>\n",
       "      <td>166.8</td>\n",
       "      <td>250.2</td>\n",
       "      <td>0.0</td>\n",
       "      <td>203.5</td>\n",
       "      <td>0.0</td>\n",
       "      <td>975.6</td>\n",
       "      <td>692.6</td>\n",
       "      <td>3</td>\n",
       "      <td>6.90</td>\n",
       "      <td>22.404147</td>\n",
       "    </tr>\n",
       "    <tr>\n",
       "      <th>1006</th>\n",
       "      <td>164.6</td>\n",
       "      <td>0.0</td>\n",
       "      <td>150.4</td>\n",
       "      <td>181.6</td>\n",
       "      <td>11.7</td>\n",
       "      <td>1023.3</td>\n",
       "      <td>728.9</td>\n",
       "      <td>28</td>\n",
       "      <td>18.03</td>\n",
       "      <td>21.929376</td>\n",
       "    </tr>\n",
       "    <tr>\n",
       "      <th>893</th>\n",
       "      <td>149.0</td>\n",
       "      <td>118.0</td>\n",
       "      <td>92.0</td>\n",
       "      <td>183.0</td>\n",
       "      <td>7.0</td>\n",
       "      <td>953.0</td>\n",
       "      <td>780.0</td>\n",
       "      <td>28</td>\n",
       "      <td>23.52</td>\n",
       "      <td>24.491349</td>\n",
       "    </tr>\n",
       "    <tr>\n",
       "      <th>958</th>\n",
       "      <td>259.9</td>\n",
       "      <td>100.6</td>\n",
       "      <td>78.4</td>\n",
       "      <td>170.6</td>\n",
       "      <td>10.4</td>\n",
       "      <td>935.7</td>\n",
       "      <td>762.9</td>\n",
       "      <td>28</td>\n",
       "      <td>49.77</td>\n",
       "      <td>37.319026</td>\n",
       "    </tr>\n",
       "    <tr>\n",
       "      <th>690</th>\n",
       "      <td>288.0</td>\n",
       "      <td>192.0</td>\n",
       "      <td>0.0</td>\n",
       "      <td>192.0</td>\n",
       "      <td>0.0</td>\n",
       "      <td>932.0</td>\n",
       "      <td>717.8</td>\n",
       "      <td>7</td>\n",
       "      <td>23.52</td>\n",
       "      <td>33.400251</td>\n",
       "    </tr>\n",
       "  </tbody>\n",
       "</table>\n",
       "</div>"
      ],
      "text/plain": [
       "      Cement   Slag  Flyash  Water  SuperPlasticizer  CoarseAggregate  \\\n",
       "544    289.0    0.0     0.0  192.0               0.0            913.2   \n",
       "953    158.4    0.0   194.9  219.7              11.0            897.7   \n",
       "240    229.7    0.0   118.2  195.2               6.1           1028.1   \n",
       "853    318.0    0.0   126.0  210.0               6.0            861.0   \n",
       "132    362.6  189.0     0.0  164.9              11.6            944.7   \n",
       "649    166.8  250.2     0.0  203.5               0.0            975.6   \n",
       "1006   164.6    0.0   150.4  181.6              11.7           1023.3   \n",
       "893    149.0  118.0    92.0  183.0               7.0            953.0   \n",
       "958    259.9  100.6    78.4  170.6              10.4            935.7   \n",
       "690    288.0  192.0     0.0  192.0               0.0            932.0   \n",
       "\n",
       "      FineAggregate  Age  CSinMPa  CSinMPa_pred  \n",
       "544           895.3    7    14.60     17.260951  \n",
       "953           712.9   28     8.54     17.759327  \n",
       "240           757.6   14    22.32     21.900762  \n",
       "853           737.0   28    40.06     30.736419  \n",
       "132           755.8   28    71.30     52.120109  \n",
       "649           692.6    3     6.90     22.404147  \n",
       "1006          728.9   28    18.03     21.929376  \n",
       "893           780.0   28    23.52     24.491349  \n",
       "958           762.9   28    49.77     37.319026  \n",
       "690           717.8    7    23.52     33.400251  "
      ]
     },
     "execution_count": 14,
     "metadata": {},
     "output_type": "execute_result"
    }
   ],
   "source": [
    "Results = pd.DataFrame({'CSinMPa':y_test, 'CSinMPa_pred':y1_pred})\n",
    "\n",
    "# Merge two Dataframes on index of both the dataframes\n",
    "\n",
    "ResultsFinal = x_test_F1.merge(Results, left_index=True, right_index=True)\n",
    "ResultsFinal.sample(10)"
   ]
  },
  {
   "cell_type": "markdown",
   "id": "42a74d24",
   "metadata": {},
   "source": [
    "## XGBoostRegressor"
   ]
  },
  {
   "cell_type": "code",
   "execution_count": 15,
   "id": "5fd8e647",
   "metadata": {},
   "outputs": [
    {
     "name": "stdout",
     "output_type": "stream",
     "text": [
      "[19:54:42] WARNING: C:/Users/Administrator/workspace/xgboost-win64_release_1.4.0/src/objective/regression_obj.cu:171: reg:linear is now deprecated in favor of reg:squarederror.\n",
      "Mean Absolute Error (MAE): 4.869\n",
      "Mean Squared Error (MSE): 45.233\n",
      "Root Mean Squared Error (RMSE): 6.726\n",
      "Mean Absolute Percentage Error (MAPE): 14.399999999999999 %\n",
      "R2_score: 0.86\n",
      "Adj R Square:  0.859\n"
     ]
    }
   ],
   "source": [
    "# Build the model with XGBoost Regressor\n",
    "\n",
    "import xgboost as xgb\n",
    "\n",
    "modelXGR = xgb.XGBRegressor(objective ='reg:linear', n_estimators = 10, seed = 123)\n",
    "\n",
    "modelXGR.fit(x_train, y_train)\n",
    "\n",
    "# Predict the model with test dataset\n",
    "\n",
    "y2_pred = modelXGR.predict(x_test)\n",
    "\n",
    "# Evaluation metrics for Regression analysis\n",
    "\n",
    "from sklearn import metrics\n",
    "\n",
    "print('Mean Absolute Error (MAE):', round(metrics.mean_absolute_error(y_test, y2_pred),3))\n",
    "print('Mean Squared Error (MSE):', round(metrics.mean_squared_error(y_test, y2_pred),3))\n",
    "print('Root Mean Squared Error (RMSE):', round(np.sqrt(metrics.mean_squared_error(y_test, y2_pred)),3))\n",
    "print('Mean Absolute Percentage Error (MAPE):', round(metrics.mean_absolute_percentage_error(y_test, y2_pred), 3) * 100, '%')\n",
    "print('R2_score:', round(metrics.r2_score(y_test, y2_pred),3))\n",
    "\n",
    "# Calculate Adjusted R squared values\n",
    "\n",
    "r_squared = round(metrics.r2_score(y_test, y2_pred),3)\n",
    "adjusted_r_squared = round(1 - (1-r_squared)*(len(y)-1)/(len(y)-x.shape[1]-1),3)\n",
    "print('Adj R Square: ', adjusted_r_squared)"
   ]
  },
  {
   "cell_type": "markdown",
   "id": "024a2fa7",
   "metadata": {},
   "source": [
    "## Gradient Boost Regressor"
   ]
  },
  {
   "cell_type": "code",
   "execution_count": 16,
   "id": "57335236",
   "metadata": {},
   "outputs": [
    {
     "name": "stdout",
     "output_type": "stream",
     "text": [
      "Mean Absolute Error (MAE): 4.418\n",
      "Mean Squared Error (MSE): 36.223\n",
      "Root Mean Squared Error (RMSE): 6.019\n",
      "Mean Absolute Percentage Error (MAPE): 14.2 %\n",
      "R2_score: 0.888\n",
      "Adj R Square:  0.887\n"
     ]
    }
   ],
   "source": [
    "# Build the model with Gradient Boosting Regressor\n",
    "\n",
    "from sklearn.ensemble import GradientBoostingRegressor\n",
    "\n",
    "modelGBR = GradientBoostingRegressor(loss='ls', learning_rate=0.1, n_estimators=100, subsample=1.0,\n",
    "criterion='friedman_mse', min_samples_split=2, min_samples_leaf=1,\n",
    "min_weight_fraction_leaf=0.0, max_depth=3, min_impurity_decrease=0.0,\n",
    "min_impurity_split=None, init=None, random_state=None, max_features=None,\n",
    "alpha=0.9, verbose=0, max_leaf_nodes=None, warm_start=False,\n",
    "validation_fraction=0.1, n_iter_no_change=None, tol=0.0001, ccp_alpha=0.0)\n",
    "modelGBR.fit(x_train, y_train)\n",
    "\n",
    "# Predict the model with test dataset\n",
    "\n",
    "y3_pred = modelGBR.predict(x_test)\n",
    "\n",
    "# Evaluation metrics for Regression analysis\n",
    "\n",
    "from sklearn import metrics\n",
    "\n",
    "print('Mean Absolute Error (MAE):', round(metrics.mean_absolute_error(y_test, y3_pred),3))\n",
    "print('Mean Squared Error (MSE):', round(metrics.mean_squared_error(y_test, y3_pred),3))\n",
    "print('Root Mean Squared Error (RMSE):', round(np.sqrt(metrics.mean_squared_error(y_test, y3_pred)),3))\n",
    "print('Mean Absolute Percentage Error (MAPE):', round(metrics.mean_absolute_percentage_error(y_test, y3_pred), 3) * 100, '%')\n",
    "print('R2_score:', round(metrics.r2_score(y_test, y3_pred),3))\n",
    "\n",
    "# Calculate Adjusted R squared values\n",
    "\n",
    "r_squared = round(metrics.r2_score(y_test, y3_pred),3)\n",
    "adjusted_r_squared = round(1 - (1-r_squared)*(len(y)-1)/(len(y)-x.shape[1]-1),3)\n",
    "print('Adj R Square: ', adjusted_r_squared)"
   ]
  },
  {
   "cell_type": "markdown",
   "id": "db6b2302",
   "metadata": {},
   "source": [
    "## Random ForestRegressor"
   ]
  },
  {
   "cell_type": "code",
   "execution_count": 17,
   "id": "50b40e09",
   "metadata": {},
   "outputs": [
    {
     "name": "stdout",
     "output_type": "stream",
     "text": [
      "Mean Absolute Error (MAE): 4.706\n",
      "Mean Squared Error (MSE): 43.95\n",
      "Root Mean Squared Error (RMSE): 6.629\n",
      "Mean Absolute Percentage Error (MAPE): 14.6 %\n",
      "R2_score: 0.864\n",
      "Adj R Square:  0.863\n"
     ]
    }
   ],
   "source": [
    "# Build the RandomForestRegressor model\n",
    "\n",
    "from sklearn.ensemble import RandomForestRegressor\n",
    "\n",
    "modelRFR = RandomForestRegressor(n_estimators=100, criterion='mse', max_depth=None, min_samples_split=2,\n",
    "min_samples_leaf=1, min_weight_fraction_leaf=0.0, max_features='auto',\n",
    "max_leaf_nodes=None, min_impurity_decrease=0.0, min_impurity_split=None,\n",
    "bootstrap=True, oob_score=False, n_jobs=None, random_state=None, verbose=0,\n",
    "warm_start=False, ccp_alpha=0.0, max_samples=None)\n",
    "\n",
    "modelRFR.fit(x_train, y_train)\n",
    "\n",
    "# Predict the model with test dataset\n",
    "\n",
    "y4_pred = modelRFR.predict(x_test)\n",
    "\n",
    "# Evaluation metrics for Regression analysis\n",
    "\n",
    "from sklearn import metrics\n",
    "\n",
    "print('Mean Absolute Error (MAE):', round(metrics.mean_absolute_error(y_test, y4_pred),3))\n",
    "print('Mean Squared Error (MSE):', round(metrics.mean_squared_error(y_test, y4_pred),3))\n",
    "print('Root Mean Squared Error (RMSE):', round(np.sqrt(metrics.mean_squared_error(y_test, y4_pred)),3))\n",
    "print('Mean Absolute Percentage Error (MAPE):', round(metrics.mean_absolute_percentage_error(y_test, y4_pred), 3) * 100, '%')\n",
    "print('R2_score:', round(metrics.r2_score(y_test, y4_pred),3))\n",
    "\n",
    "# Calculate Adjusted R squared values\n",
    "\n",
    "r_squared = round(metrics.r2_score(y_test, y4_pred),3)\n",
    "adjusted_r_squared = round(1 - (1-r_squared)*(len(y)-1)/(len(y)-x.shape[1]-1),3)\n",
    "print('Adj R Square: ', adjusted_r_squared)"
   ]
  },
  {
   "cell_type": "markdown",
   "id": "39e26115",
   "metadata": {},
   "source": [
    "## KNN Regressor"
   ]
  },
  {
   "cell_type": "code",
   "execution_count": 18,
   "id": "a2f159f9",
   "metadata": {},
   "outputs": [
    {
     "name": "stdout",
     "output_type": "stream",
     "text": [
      "Mean Absolute Error (MAE): 7.964\n",
      "Mean Squared Error (MSE): 112.556\n",
      "Root Mean Squared Error (RMSE): 10.609\n",
      "Mean Absolute Percentage Error (MAPE): 27.200000000000003 %\n",
      "R2_score: 0.652\n",
      "Adj R Square:  0.649\n"
     ]
    }
   ],
   "source": [
    "# Build the KNeighborsRegressor model\n",
    "\n",
    "from sklearn.neighbors import KNeighborsRegressor\n",
    "\n",
    "modelKNN = KNeighborsRegressor(n_neighbors=5, weights='uniform', algorithm='auto', leaf_size=30,\n",
    "p=2, metric='minkowski', metric_params=None, n_jobs=None)\n",
    "\n",
    "modelKNN.fit(x_train, y_train)\n",
    "\n",
    "# Predict the model with test dataset\n",
    "\n",
    "y5_pred = modelKNN.predict(x_test)\n",
    "\n",
    "# Evaluation metrics for Regression analysis\n",
    "\n",
    "from sklearn import metrics\n",
    "\n",
    "print('Mean Absolute Error (MAE):', round(metrics.mean_absolute_error(y_test, y5_pred),3))\n",
    "print('Mean Squared Error (MSE):', round(metrics.mean_squared_error(y_test, y5_pred),3))\n",
    "print('Root Mean Squared Error (RMSE):', round(np.sqrt(metrics.mean_squared_error(y_test, y5_pred)),3))\n",
    "print('Mean Absolute Percentage Error (MAPE):', round(metrics.mean_absolute_percentage_error(y_test, y5_pred), 3) * 100, '%')\n",
    "print('R2_score:', round(metrics.r2_score(y_test, y5_pred),3))\n",
    "\n",
    "# Calculate Adjusted R squared values\n",
    "\n",
    "r_squared = round(metrics.r2_score(y_test, y5_pred),3)\n",
    "adjusted_r_squared = round(1 - (1-r_squared)*(len(y)-1)/(len(y)-x.shape[1]-1),3)\n",
    "print('Adj R Square: ', adjusted_r_squared)"
   ]
  },
  {
   "cell_type": "markdown",
   "id": "2cd015f2",
   "metadata": {},
   "source": [
    "## Decision Tree Regressor"
   ]
  },
  {
   "cell_type": "code",
   "execution_count": 19,
   "id": "6f562c5f",
   "metadata": {},
   "outputs": [
    {
     "name": "stdout",
     "output_type": "stream",
     "text": [
      "Mean Absolute Error (MAE): 6.105\n",
      "Mean Squared Error (MSE): 81.846\n",
      "Root Mean Squared Error (RMSE): 9.047\n",
      "Mean Absolute Percentage Error (MAPE): 19.900000000000002 %\n",
      "R2_score: 0.747\n",
      "Adj R Square:  0.745\n"
     ]
    }
   ],
   "source": [
    "# Build the DecisionTreeRegressor model\n",
    "\n",
    "from sklearn.tree import DecisionTreeRegressor\n",
    "\n",
    "modelDTR = DecisionTreeRegressor(criterion='mse', splitter='best', max_depth=None, min_samples_split=2,\n",
    "min_samples_leaf=1, min_weight_fraction_leaf=0.0, max_features=None,\n",
    "random_state=None, max_leaf_nodes=None, min_impurity_decrease=0.0,\n",
    "min_impurity_split=None, ccp_alpha=0.0)\n",
    "\n",
    "modelDTR.fit(x_train, y_train)\n",
    "\n",
    "# Predict the model with test dataset\n",
    "\n",
    "y6_pred = modelDTR.predict(x_test)\n",
    "\n",
    "# Evaluation metrics for Regression analysis\n",
    "\n",
    "from sklearn import metrics\n",
    "\n",
    "print('Mean Absolute Error (MAE):', round(metrics.mean_absolute_error(y_test, y6_pred),3))\n",
    "print('Mean Squared Error (MSE):', round(metrics.mean_squared_error(y_test, y6_pred),3))\n",
    "print('Root Mean Squared Error (RMSE):', round(np.sqrt(metrics.mean_squared_error(y_test, y6_pred)),3))\n",
    "print('Mean Absolute Percentage Error (MAPE):', round(metrics.mean_absolute_percentage_error(y_test, y6_pred), 3) * 100, '%')\n",
    "print('R2_score:', round(metrics.r2_score(y_test, y6_pred),3))\n",
    "\n",
    "# Calculate Adjusted R squared values\n",
    "\n",
    "r_squared = round(metrics.r2_score(y_test, y6_pred),3)\n",
    "adjusted_r_squared = round(1 - (1-r_squared)*(len(y)-1)/(len(y)-x.shape[1]-1),3)\n",
    "print('Adj R Square: ', adjusted_r_squared)"
   ]
  },
  {
   "cell_type": "markdown",
   "id": "acb9d5a6",
   "metadata": {},
   "source": [
    "## Extra Tree Regressor - same like random forest"
   ]
  },
  {
   "cell_type": "code",
   "execution_count": 20,
   "id": "f8f1da61",
   "metadata": {},
   "outputs": [
    {
     "name": "stdout",
     "output_type": "stream",
     "text": [
      "Mean Absolute Error (MAE): 3.838\n",
      "Mean Squared Error (MSE): 33.009\n",
      "Root Mean Squared Error (RMSE): 5.745\n",
      "Mean Absolute Percentage Error (MAPE): 11.0 %\n",
      "R2_score: 0.898\n",
      "Adj R Square:  0.897\n"
     ]
    }
   ],
   "source": [
    "# Build the ExtraTreesRegressor model\n",
    "\n",
    "from sklearn.ensemble import ExtraTreesRegressor\n",
    "\n",
    "modelETR = ExtraTreesRegressor(n_estimators=100, criterion='mse', max_depth=None, min_samples_split=2,\n",
    "min_samples_leaf=1, min_weight_fraction_leaf=0.0, max_features='auto',\n",
    "max_leaf_nodes=None, min_impurity_decrease=0.0, min_impurity_split=None,\n",
    "bootstrap=False, oob_score=False, n_jobs=None, random_state=None, verbose=0,\n",
    "warm_start=False, ccp_alpha=0.0, max_samples=None)\n",
    "\n",
    "modelETR.fit(x_train, y_train)\n",
    "\n",
    "# Predict the model with test dataset\n",
    "\n",
    "y7_pred = modelETR.predict(x_test)\n",
    "\n",
    "# Evaluation metrics for Regression analysis\n",
    "\n",
    "from sklearn import metrics\n",
    "\n",
    "print('Mean Absolute Error (MAE):', round(metrics.mean_absolute_error(y_test, y7_pred),3))\n",
    "print('Mean Squared Error (MSE):', round(metrics.mean_squared_error(y_test, y7_pred),3))\n",
    "print('Root Mean Squared Error (RMSE):', round(np.sqrt(metrics.mean_squared_error(y_test, y7_pred)),3))\n",
    "print('Mean Absolute Percentage Error (MAPE):', round(metrics.mean_absolute_percentage_error(y_test, y7_pred), 2) * 100, '%')\n",
    "print('R2_score:', round(metrics.r2_score(y_test, y7_pred),3))\n",
    "\n",
    "# Calculate Adjusted R squared values\n",
    "\n",
    "r_squared = round(metrics.r2_score(y_test, y7_pred),3)\n",
    "adjusted_r_squared = round(1 - (1-r_squared)*(len(y)-1)/(len(y)-x.shape[1]-1),3)\n",
    "print('Adj R Square: ', adjusted_r_squared)"
   ]
  },
  {
   "cell_type": "markdown",
   "id": "f8c7920b",
   "metadata": {},
   "source": [
    "## support Vector Regressor"
   ]
  },
  {
   "cell_type": "code",
   "execution_count": 21,
   "id": "4e27c002",
   "metadata": {},
   "outputs": [
    {
     "name": "stdout",
     "output_type": "stream",
     "text": [
      "Mean Absolute Error (MAE): 9.608\n",
      "Mean Squared Error (MSE): 144.696\n",
      "Root Mean Squared Error (RMSE): 12.029\n",
      "Mean Absolute Percentage Error (MAPE): 35.0 %\n",
      "R2_score: 0.553\n",
      "Adj R Square:  0.549\n"
     ]
    }
   ],
   "source": [
    "# Build the Support Vector Regressor model\n",
    "\n",
    "from sklearn.svm import SVR\n",
    "\n",
    "modelSVR = SVR(kernel = 'rbf')\n",
    "\n",
    "modelSVR.fit(x_train, y_train)\n",
    "\n",
    "# Predict the model with test dataset\n",
    "\n",
    "y8_pred = modelSVR.predict(x_test)\n",
    "\n",
    "# Evaluation metrics for Regression analysis\n",
    "\n",
    "from sklearn import metrics\n",
    "\n",
    "print('Mean Absolute Error (MAE):', round(metrics.mean_absolute_error(y_test, y8_pred),3))\n",
    "print('Mean Squared Error (MSE):', round(metrics.mean_squared_error(y_test, y8_pred),3))\n",
    "print('Root Mean Squared Error (RMSE):', round(np.sqrt(metrics.mean_squared_error(y_test, y8_pred)),3))\n",
    "print('Mean Absolute Percentage Error (MAPE):', round(metrics.mean_absolute_percentage_error(y_test, y8_pred), 2) * 100, '%')\n",
    "print('R2_score:', round(metrics.r2_score(y_test, y8_pred),3))\n",
    "\n",
    "# Calculate Adjusted R squared values\n",
    "\n",
    "r_squared = round(metrics.r2_score(y_test, y8_pred),3)\n",
    "adjusted_r_squared = round(1 - (1-r_squared)*(len(y)-1)/(len(y)-x.shape[1]-1),3)\n",
    "print('Adj R Square: ', adjusted_r_squared)"
   ]
  },
  {
   "cell_type": "markdown",
   "id": "b9fad358",
   "metadata": {},
   "source": [
    "## MLP Regressor Multi Level Perceptron used in Artificial Neural Network"
   ]
  },
  {
   "cell_type": "code",
   "execution_count": 22,
   "id": "531c9680",
   "metadata": {},
   "outputs": [
    {
     "name": "stdout",
     "output_type": "stream",
     "text": [
      "Mean Absolute Error (MAE): 11.678\n",
      "Mean Squared Error (MSE): 211.966\n",
      "Root Mean Squared Error (RMSE): 14.559\n",
      "Mean Absolute Percentage Error (MAPE): 44.0 %\n",
      "R2_score: 0.345\n",
      "Adj R Square:  0.34\n"
     ]
    }
   ],
   "source": [
    "# Build the MLP Regressor model\n",
    "\n",
    "from sklearn.neural_network import MLPRegressor\n",
    "\n",
    "modelMLPR = MLPRegressor(hidden_layer_sizes=100, activation='relu', solver='adam', alpha=0.0001, batch_size='auto',\n",
    "learning_rate='constant', learning_rate_init=0.001, power_t=0.5, max_iter=200, shuffle=True,\n",
    "random_state=None, tol=0.0001, verbose=False, warm_start=False, momentum=0.9,\n",
    "nesterovs_momentum=True, early_stopping=False, validation_fraction=0.1, beta_1=0.9,\n",
    "beta_2=0.999, epsilon=1e-08, n_iter_no_change=10, max_fun=15000)\n",
    "\n",
    "modelMLPR.fit(x_train, y_train)\n",
    "\n",
    "# Predict the model with test dataset\n",
    "\n",
    "y9_pred = modelMLPR.predict(x_test)\n",
    "\n",
    "# Evaluation metrics for Regression analysis\n",
    "\n",
    "from sklearn import metrics\n",
    "\n",
    "print('Mean Absolute Error (MAE):', round(metrics.mean_absolute_error(y_test, y9_pred),3))\n",
    "print('Mean Squared Error (MSE):', round(metrics.mean_squared_error(y_test, y9_pred),3))\n",
    "print('Root Mean Squared Error (RMSE):', round(np.sqrt(metrics.mean_squared_error(y_test, y9_pred)),3))\n",
    "print('Mean Absolute Percentage Error (MAPE):', round(metrics.mean_absolute_percentage_error(y_test, y9_pred), 2) * 100, '%')\n",
    "print('R2_score:', round(metrics.r2_score(y_test, y9_pred),3))\n",
    "\n",
    "# Calculate Adjusted R squared values\n",
    "\n",
    "r_squared = round(metrics.r2_score(y_test, y9_pred),3)\n",
    "adjusted_r_squared = round(1 - (1-r_squared)*(len(y)-1)/(len(y)-x.shape[1]-1),3)\n",
    "print('Adj R Square: ', adjusted_r_squared)"
   ]
  },
  {
   "cell_type": "code",
   "execution_count": null,
   "id": "fcdbeb5a",
   "metadata": {},
   "outputs": [],
   "source": []
  }
 ],
 "metadata": {
  "kernelspec": {
   "display_name": "Python 3",
   "language": "python",
   "name": "python3"
  },
  "language_info": {
   "codemirror_mode": {
    "name": "ipython",
    "version": 3
   },
   "file_extension": ".py",
   "mimetype": "text/x-python",
   "name": "python",
   "nbconvert_exporter": "python",
   "pygments_lexer": "ipython3",
   "version": "3.8.8"
  }
 },
 "nbformat": 4,
 "nbformat_minor": 5
}
