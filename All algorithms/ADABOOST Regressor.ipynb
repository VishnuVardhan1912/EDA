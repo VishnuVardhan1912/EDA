{
 "cells": [
  {
   "cell_type": "code",
   "execution_count": 1,
   "id": "1a6da2cd",
   "metadata": {},
   "outputs": [],
   "source": [
    "# Importing the libraries\n",
    "\n",
    "import pandas as pd\n",
    "import numpy as np\n",
    "import matplotlib.pyplot as plt\n",
    "\n",
    "# Ignore harmless warnings\n",
    "\n",
    "import warnings\n",
    "warnings.filterwarnings(\"ignore\")\n",
    "\n",
    "# Set to display all the columns in dataset\n",
    "\n",
    "pd.set_option(\"display.max_columns\", None)\n",
    "\n",
    "# Import psql to run queries\n",
    "\n",
    "import pandasql as psql"
   ]
  },
  {
   "cell_type": "code",
   "execution_count": 2,
   "id": "9edf0284",
   "metadata": {},
   "outputs": [
    {
     "data": {
      "text/html": [
       "<div>\n",
       "<style scoped>\n",
       "    .dataframe tbody tr th:only-of-type {\n",
       "        vertical-align: middle;\n",
       "    }\n",
       "\n",
       "    .dataframe tbody tr th {\n",
       "        vertical-align: top;\n",
       "    }\n",
       "\n",
       "    .dataframe thead th {\n",
       "        text-align: right;\n",
       "    }\n",
       "</style>\n",
       "<table border=\"1\" class=\"dataframe\">\n",
       "  <thead>\n",
       "    <tr style=\"text-align: right;\">\n",
       "      <th></th>\n",
       "      <th>AT</th>\n",
       "      <th>V</th>\n",
       "      <th>AP</th>\n",
       "      <th>RH</th>\n",
       "      <th>PE</th>\n",
       "    </tr>\n",
       "  </thead>\n",
       "  <tbody>\n",
       "    <tr>\n",
       "      <th>0</th>\n",
       "      <td>14.96</td>\n",
       "      <td>41.76</td>\n",
       "      <td>1024.07</td>\n",
       "      <td>73.17</td>\n",
       "      <td>463.26</td>\n",
       "    </tr>\n",
       "    <tr>\n",
       "      <th>1</th>\n",
       "      <td>25.18</td>\n",
       "      <td>62.96</td>\n",
       "      <td>1020.04</td>\n",
       "      <td>59.08</td>\n",
       "      <td>444.37</td>\n",
       "    </tr>\n",
       "    <tr>\n",
       "      <th>2</th>\n",
       "      <td>5.11</td>\n",
       "      <td>39.40</td>\n",
       "      <td>1012.16</td>\n",
       "      <td>92.14</td>\n",
       "      <td>488.56</td>\n",
       "    </tr>\n",
       "    <tr>\n",
       "      <th>3</th>\n",
       "      <td>20.86</td>\n",
       "      <td>57.32</td>\n",
       "      <td>1010.24</td>\n",
       "      <td>76.64</td>\n",
       "      <td>446.48</td>\n",
       "    </tr>\n",
       "    <tr>\n",
       "      <th>4</th>\n",
       "      <td>10.82</td>\n",
       "      <td>37.50</td>\n",
       "      <td>1009.23</td>\n",
       "      <td>96.62</td>\n",
       "      <td>473.90</td>\n",
       "    </tr>\n",
       "  </tbody>\n",
       "</table>\n",
       "</div>"
      ],
      "text/plain": [
       "      AT      V       AP     RH      PE\n",
       "0  14.96  41.76  1024.07  73.17  463.26\n",
       "1  25.18  62.96  1020.04  59.08  444.37\n",
       "2   5.11  39.40  1012.16  92.14  488.56\n",
       "3  20.86  57.32  1010.24  76.64  446.48\n",
       "4  10.82  37.50  1009.23  96.62  473.90"
      ]
     },
     "execution_count": 2,
     "metadata": {},
     "output_type": "execute_result"
    }
   ],
   "source": [
    "# Load the data from all the work sheets\n",
    "\n",
    "power_plant_all = pd.concat(pd.read_excel(r\"C:\\Users\\Anil\\Desktop\\data_science\\60 Session 20-Aug-2021-20210820\\Power_Plant.xlsx\",\n",
    "sheet_name=None), ignore_index=True)\n",
    "power_plant_all.head()\n",
    "\n"
   ]
  },
  {
   "cell_type": "code",
   "execution_count": 3,
   "id": "3c1acd59",
   "metadata": {},
   "outputs": [
    {
     "name": "stdout",
     "output_type": "stream",
     "text": [
      "<class 'pandas.core.frame.DataFrame'>\n",
      "RangeIndex: 47840 entries, 0 to 47839\n",
      "Data columns (total 5 columns):\n",
      " #   Column  Non-Null Count  Dtype  \n",
      "---  ------  --------------  -----  \n",
      " 0   AT      47840 non-null  float64\n",
      " 1   V       47840 non-null  float64\n",
      " 2   AP      47840 non-null  float64\n",
      " 3   RH      47840 non-null  float64\n",
      " 4   PE      47840 non-null  float64\n",
      "dtypes: float64(5)\n",
      "memory usage: 1.8 MB\n"
     ]
    }
   ],
   "source": [
    "power_plant_all.info()"
   ]
  },
  {
   "cell_type": "code",
   "execution_count": 5,
   "id": "9e059fad",
   "metadata": {},
   "outputs": [],
   "source": [
    "# Identify the independent and Target (dependent) variables\n",
    "\n",
    "IndepVar = []\n",
    "for col in power_plant_all.columns:\n",
    "    if col != 'PE':\n",
    "        IndepVar.append(col)\n",
    "\n",
    "TargetVar = 'PE'\n",
    "\n",
    "x = power_plant_all[IndepVar]\n",
    "y = power_plant_all[TargetVar]"
   ]
  },
  {
   "cell_type": "code",
   "execution_count": 10,
   "id": "b16bad6b",
   "metadata": {},
   "outputs": [],
   "source": [
    "# Split the data into train and test (random sampling)\n",
    "\n",
    "from sklearn.model_selection import train_test_split\n",
    "\n",
    "x_train, x_test, y_train, y_test = train_test_split(x, y, test_size=0.3, random_state=6)\n",
    "x_test_F1 = x_test.copy()"
   ]
  },
  {
   "cell_type": "code",
   "execution_count": 11,
   "id": "488c87bb",
   "metadata": {},
   "outputs": [],
   "source": [
    "# Scaling the features by using MinMaxScaler\n",
    "\n",
    "from sklearn.preprocessing import MinMaxScaler\n",
    "\n",
    "mmscaler = MinMaxScaler(feature_range=(0, 1))\n",
    "\n",
    "x_train = mmscaler.fit_transform(x_train)\n",
    "x_train = pd.DataFrame(x_train)\n",
    "\n",
    "x_test = mmscaler.fit_transform(x_test)\n",
    "x_test = pd.DataFrame(x_test)"
   ]
  },
  {
   "cell_type": "markdown",
   "id": "0a0edbee",
   "metadata": {},
   "source": [
    "## AdaBoost Regressor"
   ]
  },
  {
   "cell_type": "code",
   "execution_count": 12,
   "id": "e56de633",
   "metadata": {},
   "outputs": [
    {
     "data": {
      "text/plain": [
       "AdaBoostRegressor(base_estimator=DecisionTreeRegressor(max_depth=1),\n",
       "                  learning_rate=1)"
      ]
     },
     "execution_count": 12,
     "metadata": {},
     "output_type": "execute_result"
    }
   ],
   "source": [
    "# Create adaboost regressor object\n",
    "\n",
    "from sklearn.ensemble import AdaBoostRegressor\n",
    "from sklearn.tree import DecisionTreeRegressor\n",
    "\n",
    "# Train Adaboost regressor\n",
    "\n",
    "modelDT=DecisionTreeRegressor(max_depth=1)\n",
    "\n",
    "modelABR = AdaBoostRegressor(n_estimators=50, base_estimator=modelDT ,learning_rate=1)\n",
    "\n",
    "# Fit the model with train data\n",
    "\n",
    "modelABR.fit(x_train,y_train)"
   ]
  },
  {
   "cell_type": "code",
   "execution_count": 13,
   "id": "4a9d5869",
   "metadata": {},
   "outputs": [
    {
     "name": "stdout",
     "output_type": "stream",
     "text": [
      "Mean Absolute Error (MAE): 6.162\n",
      "Mean Squared Error (MSE): 59.093\n",
      "Root Mean Squared Error (RMSE): 7.687\n",
      "Mean Absolute Percentage Error (MAPE): 1.0 %\n",
      "R2_score: 0.794\n",
      "Adj R Square:  0.794\n"
     ]
    }
   ],
   "source": [
    "#Predict the response for test dataset\n",
    "\n",
    "y_pred = modelABR.predict(x_test)\n",
    "\n",
    "# Evaluation metrics for Regression analysis\n",
    "\n",
    "from sklearn import metrics\n",
    "\n",
    "print('Mean Absolute Error (MAE):', round(metrics.mean_absolute_error(y_test, y_pred),3))\n",
    "print('Mean Squared Error (MSE):', round(metrics.mean_squared_error(y_test, y_pred),3))\n",
    "print('Root Mean Squared Error (RMSE):', round(np.sqrt(metrics.mean_squared_error(y_test, y_pred)),3))\n",
    "print('Mean Absolute Percentage Error (MAPE):', round(metrics.mean_absolute_percentage_error(y_test, y_pred), 2) * 100, '%')\n",
    "print('R2_score:', round(metrics.r2_score(y_test, y_pred),3))\n",
    "\n",
    "# Calculate Adjusted R squared values\n",
    "\n",
    "r_squared = round(metrics.r2_score(y_test, y_pred),3)\n",
    "adjusted_r_squared = round(1 - (1-r_squared)*(len(y)-1)/(len(y)-x.shape[1]-1),3)\n",
    "print('Adj R Square: ', adjusted_r_squared)"
   ]
  },
  {
   "cell_type": "markdown",
   "id": "0ebfb1a0",
   "metadata": {},
   "source": [
    "## ADA boost regressor with SVR as a Base Estimator"
   ]
  },
  {
   "cell_type": "code",
   "execution_count": null,
   "id": "986de5e6",
   "metadata": {},
   "outputs": [],
   "source": [
    "# Create adaboost classifer object\n",
    "\n",
    "from sklearn.ensemble import AdaBoostRegressor\n",
    "from sklearn.svm import SVR\n",
    "\n",
    "# Train Adaboost regressor\n",
    "\n",
    "modelSVR = SVR(kernel='rbf', degree=3, gamma='scale', coef0=0.0, tol=0.001, C=1.0, epsilon=0.1,\n",
    "shrinking=True, cache_size=200, verbose=False, max_iter=- 1)\n",
    "\n",
    "modelABR = AdaBoostRegressor(n_estimators=50, base_estimator=modelSVR ,learning_rate=1)\n",
    "\n",
    "# Fit the model with train data\n",
    "\n",
    "modelABR.fit(x_train,y_train)\n",
    "\n",
    "#Predict the response for test dataset\n",
    "\n",
    "y1_pred = modelABR.predict(x_test)\n",
    "\n",
    "# Evaluation metrics for Regression analysis\n",
    "\n",
    "from sklearn import metrics\n",
    "\n",
    "print('Mean Absolute Error (MAE):', round(metrics.mean_absolute_error(y_test, y1_pred),3))\n",
    "print('Mean Squared Error (MSE):', round(metrics.mean_squared_error(y_test, y1_pred),3))\n",
    "print('Root Mean Squared Error (RMSE):', round(np.sqrt(metrics.mean_squared_error(y_test, y1_pred)),3))\n",
    "print('Mean Absolute Percentage Error (MAPE):', round(metrics.mean_absolute_percentage_error(y_test, y1_pred), 2) * 100, '%')\n",
    "print('R2_score:', round(metrics.r2_score(y_test, y1_pred),3))\n",
    "\n",
    "# Calculate Adjusted R squared values\n",
    "\n",
    "r_squared = round(metrics.r2_score(y_test, y1_pred),3)\n",
    "adjusted_r_squared = round(1 - (1-r_squared)*(len(y)-1)/(len(y)-x.shape[1]-1),3)\n",
    "print('Adj R Square: ', adjusted_r_squared)"
   ]
  },
  {
   "cell_type": "markdown",
   "id": "c40a0d3a",
   "metadata": {},
   "source": [
    "## gradient boosting regressor"
   ]
  },
  {
   "cell_type": "code",
   "execution_count": 16,
   "id": "be0133c3",
   "metadata": {},
   "outputs": [
    {
     "name": "stdout",
     "output_type": "stream",
     "text": [
      "Mean Absolute Error (MAE): 3.04\n",
      "Mean Squared Error (MSE): 15.782\n",
      "Root Mean Squared Error (RMSE): 3.973\n",
      "Mean Absolute Percentage Error (MAPE): 0.7000000000000001 %\n",
      "R2_score: 0.945057\n",
      "Adj R Square:  0.945052\n"
     ]
    }
   ],
   "source": [
    "# Build the model with Gradient Boosting Regressor\n",
    "\n",
    "from sklearn.ensemble import GradientBoostingRegressor\n",
    "\n",
    "modelGBR = GradientBoostingRegressor(loss='ls', learning_rate=0.1, n_estimators=100, subsample=1.0,\n",
    "                                     criterion='friedman_mse', min_samples_split=2, min_samples_leaf=1,\n",
    "                                     min_weight_fraction_leaf=0.0, max_depth=3, min_impurity_decrease=0.0,\n",
    "                                     min_impurity_split=None, init=None, random_state=None, max_features=None,\n",
    "                                     alpha=0.9, verbose=0, max_leaf_nodes=None, warm_start=False,\n",
    "                                     validation_fraction=0.1, n_iter_no_change=None, tol=0.0001, ccp_alpha=0.0)\n",
    "modelGBR.fit(x_train, y_train)\n",
    "\n",
    "# Predict the model with test dataset\n",
    "\n",
    "y2_pred = modelGBR.predict(x_test)\n",
    "\n",
    "# Evaluation metrics for Regression analysis\n",
    "\n",
    "from sklearn import metrics\n",
    "\n",
    "print('Mean Absolute Error (MAE):', round(metrics.mean_absolute_error(y_test, y2_pred),3))\n",
    "print('Mean Squared Error (MSE):', round(metrics.mean_squared_error(y_test, y2_pred),3))\n",
    "print('Root Mean Squared Error (RMSE):', round(np.sqrt(metrics.mean_squared_error(y_test, y2_pred)),3))\n",
    "print('Mean Absolute Percentage Error (MAPE):', round(metrics.mean_absolute_percentage_error(y_test, y2_pred), 3) * 100, '%')\n",
    "print('R2_score:', round(metrics.r2_score(y_test, y2_pred),6))\n",
    "\n",
    "# Calculate Adjusted R squared values\n",
    "\n",
    "r_squared = round(metrics.r2_score(y_test, y2_pred),6)\n",
    "adjusted_r_squared = round(1 - (1-r_squared)*(len(y)-1)/(len(y)-x.shape[1]-1),6)\n",
    "print('Adj R Square: ', adjusted_r_squared)                                     "
   ]
  },
  {
   "cell_type": "markdown",
   "id": "1d5ccef6",
   "metadata": {},
   "source": [
    "## DTR"
   ]
  },
  {
   "cell_type": "code",
   "execution_count": 17,
   "id": "480ec95d",
   "metadata": {},
   "outputs": [
    {
     "name": "stdout",
     "output_type": "stream",
     "text": [
      "Mean Absolute Error (MAE): 2.074\n",
      "Mean Squared Error (MSE): 17.17\n",
      "Root Mean Squared Error (RMSE): 4.144\n",
      "Mean Absolute Percentage Error (MAPE): 0.5 %\n",
      "R2_score: 0.940225\n",
      "Adj R Square:  0.94022\n"
     ]
    }
   ],
   "source": [
    "# Build the Decision Tree Regressor model\n",
    "\n",
    "from sklearn.tree import DecisionTreeRegressor\n",
    "\n",
    "modelDT = DecisionTreeRegressor(criterion='mse', splitter='best', max_depth=None, min_samples_split=2,\n",
    "min_samples_leaf=1, min_weight_fraction_leaf=0.0, max_features=None,\n",
    "random_state=None, max_leaf_nodes=None, min_impurity_decrease=0.0,\n",
    "min_impurity_split=None, ccp_alpha=0.0)\n",
    "modelDT.fit(x_train,y_train)\n",
    "\n",
    "# Predict the model with test dataset\n",
    "\n",
    "y3_pred = modelDT.predict(x_test)\n",
    "\n",
    "# Evaluation metrics for Regression analysis\n",
    "\n",
    "from sklearn import metrics\n",
    "\n",
    "print('Mean Absolute Error (MAE):', round(metrics.mean_absolute_error(y_test, y3_pred),3))\n",
    "print('Mean Squared Error (MSE):', round(metrics.mean_squared_error(y_test, y3_pred),3))\n",
    "print('Root Mean Squared Error (RMSE):', round(np.sqrt(metrics.mean_squared_error(y_test, y3_pred)),3))\n",
    "print('Mean Absolute Percentage Error (MAPE):', round(metrics.mean_absolute_percentage_error(y_test, y3_pred), 3) * 100, '%')\n",
    "print('R2_score:', round(metrics.r2_score(y_test, y3_pred),6))\n",
    "\n",
    "# Calculate Adjusted R squared values\n",
    "\n",
    "r_squared = round(metrics.r2_score(y_test, y3_pred),6)\n",
    "adjusted_r_squared = round(1 - (1-r_squared)*(len(y)-1)/(len(y)-x.shape[1]-1),6)\n",
    "print('Adj R Square: ', adjusted_r_squared)"
   ]
  },
  {
   "cell_type": "markdown",
   "id": "cef3f2de",
   "metadata": {},
   "source": [
    "## RFR"
   ]
  },
  {
   "cell_type": "code",
   "execution_count": 18,
   "id": "e9bb8897",
   "metadata": {},
   "outputs": [
    {
     "name": "stdout",
     "output_type": "stream",
     "text": [
      "Mean Absolute Error (MAE): 1.67\n",
      "Mean Squared Error (MSE): 7.013\n",
      "Root Mean Squared Error (RMSE): 2.648\n",
      "Mean Absolute Percentage Error (MAPE): 0.4 %\n",
      "R2_score: 0.940225\n",
      "Adj R Square:  0.975582\n"
     ]
    }
   ],
   "source": [
    "# Build the Random Forest Regressor model\n",
    "\n",
    "from sklearn.ensemble import RandomForestRegressor\n",
    "\n",
    "modelRF = RandomForestRegressor(bootstrap=True, ccp_alpha=0.0, criterion='mse', max_depth=None,\n",
    "max_features='auto', max_leaf_nodes=None, max_samples=None,\n",
    "min_impurity_decrease=0.0, min_impurity_split=None, min_samples_leaf=1,\n",
    "min_samples_split=2, min_weight_fraction_leaf=0.0, n_estimators=100,\n",
    "n_jobs=None, oob_score=False, random_state=42, verbose=0, warm_start=False)\n",
    "\n",
    "modelRF.fit(x_train, y_train.values.ravel())\n",
    "\n",
    "# Predict the model with test dataset\n",
    "\n",
    "y4_pred = modelRF.predict(x_test)\n",
    "\n",
    "# Evaluation metrics for Regression analysis\n",
    "\n",
    "from sklearn import metrics\n",
    "\n",
    "print('Mean Absolute Error (MAE):', round(metrics.mean_absolute_error(y_test, y4_pred),3))\n",
    "print('Mean Squared Error (MSE):', round(metrics.mean_squared_error(y_test, y4_pred),3))\n",
    "print('Root Mean Squared Error (RMSE):', round(np.sqrt(metrics.mean_squared_error(y_test, y4_pred)),3))\n",
    "print('Mean Absolute Percentage Error (MAPE):', round(metrics.mean_absolute_percentage_error(y_test, y4_pred), 3) * 100, '%')\n",
    "print('R2_score:', round(metrics.r2_score(y_test, y3_pred),6))\n",
    "\n",
    "# Calculate Adjusted R squared values\n",
    "\n",
    "r_squared = round(metrics.r2_score(y_test, y4_pred),6)\n",
    "adjusted_r_squared = round(1 - (1-r_squared)*(len(y)-1)/(len(y)-x.shape[1]-1),6)\n",
    "print('Adj R Square: ', adjusted_r_squared)"
   ]
  }
 ],
 "metadata": {
  "kernelspec": {
   "display_name": "Python 3",
   "language": "python",
   "name": "python3"
  },
  "language_info": {
   "codemirror_mode": {
    "name": "ipython",
    "version": 3
   },
   "file_extension": ".py",
   "mimetype": "text/x-python",
   "name": "python",
   "nbconvert_exporter": "python",
   "pygments_lexer": "ipython3",
   "version": "3.8.8"
  }
 },
 "nbformat": 4,
 "nbformat_minor": 5
}
