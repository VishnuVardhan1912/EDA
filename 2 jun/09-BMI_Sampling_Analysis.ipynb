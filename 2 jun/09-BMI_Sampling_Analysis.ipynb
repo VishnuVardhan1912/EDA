{
 "cells": [
  {
   "cell_type": "markdown",
   "id": "3df8dc2e",
   "metadata": {},
   "source": [
    "# BMI_Analysis"
   ]
  },
  {
   "cell_type": "code",
   "execution_count": 1,
   "id": "bf32aff8",
   "metadata": {},
   "outputs": [],
   "source": [
    "# importing the libraries\n",
    "\n",
    "import numpy as np\n",
    "import pandas as pd\n",
    "import matplotlib.pyplot as plt\n",
    "\n",
    "# Ignore harmless warnings\n",
    "import warnings\n",
    "warnings.filterwarnings(\"ignore\")"
   ]
  },
  {
   "cell_type": "code",
   "execution_count": 2,
   "id": "cde5a9b7",
   "metadata": {},
   "outputs": [
    {
     "data": {
      "text/html": [
       "<div>\n",
       "<style scoped>\n",
       "    .dataframe tbody tr th:only-of-type {\n",
       "        vertical-align: middle;\n",
       "    }\n",
       "\n",
       "    .dataframe tbody tr th {\n",
       "        vertical-align: top;\n",
       "    }\n",
       "\n",
       "    .dataframe thead th {\n",
       "        text-align: right;\n",
       "    }\n",
       "</style>\n",
       "<table border=\"1\" class=\"dataframe\">\n",
       "  <thead>\n",
       "    <tr style=\"text-align: right;\">\n",
       "      <th></th>\n",
       "      <th>Height M</th>\n",
       "      <th>Weight kg</th>\n",
       "      <th>%Fat</th>\n",
       "      <th>BMI</th>\n",
       "    </tr>\n",
       "  </thead>\n",
       "  <tbody>\n",
       "    <tr>\n",
       "      <th>0</th>\n",
       "      <td>1.60</td>\n",
       "      <td>49.44</td>\n",
       "      <td>23.9</td>\n",
       "      <td>19.31</td>\n",
       "    </tr>\n",
       "    <tr>\n",
       "      <th>1</th>\n",
       "      <td>1.65</td>\n",
       "      <td>62.60</td>\n",
       "      <td>28.8</td>\n",
       "      <td>22.96</td>\n",
       "    </tr>\n",
       "    <tr>\n",
       "      <th>2</th>\n",
       "      <td>1.65</td>\n",
       "      <td>75.75</td>\n",
       "      <td>32.4</td>\n",
       "      <td>27.79</td>\n",
       "    </tr>\n",
       "    <tr>\n",
       "      <th>3</th>\n",
       "      <td>1.53</td>\n",
       "      <td>48.99</td>\n",
       "      <td>25.8</td>\n",
       "      <td>20.92</td>\n",
       "    </tr>\n",
       "    <tr>\n",
       "      <th>4</th>\n",
       "      <td>1.45</td>\n",
       "      <td>43.09</td>\n",
       "      <td>22.5</td>\n",
       "      <td>20.38</td>\n",
       "    </tr>\n",
       "  </tbody>\n",
       "</table>\n",
       "</div>"
      ],
      "text/plain": [
       "   Height M  Weight kg  %Fat    BMI\n",
       "0      1.60      49.44  23.9  19.31\n",
       "1      1.65      62.60  28.8  22.96\n",
       "2      1.65      75.75  32.4  27.79\n",
       "3      1.53      48.99  25.8  20.92\n",
       "4      1.45      43.09  22.5  20.38"
      ]
     },
     "execution_count": 2,
     "metadata": {},
     "output_type": "execute_result"
    }
   ],
   "source": [
    "# load the BMI data\n",
    "\n",
    "bmidata = pd.read_csv(r\"D:\\iiit notes\\Internship\\10-Seasion 24-May-2021\\Predict_BMI_Analysis_V10.csv\", header = 0)\n",
    "bmidata.head()"
   ]
  },
  {
   "cell_type": "code",
   "execution_count": 3,
   "id": "cf9259b3",
   "metadata": {},
   "outputs": [],
   "source": [
    "# Copy file to new file\n",
    "\n",
    "bmidata_scaled = bmidata.copy()\n",
    "col_names = ['Height M', 'Weight kg', '%Fat', 'BMI']\n",
    "features = bmidata_scaled[col_names]"
   ]
  },
  {
   "cell_type": "code",
   "execution_count": 4,
   "id": "182a8ae3",
   "metadata": {},
   "outputs": [
    {
     "data": {
      "text/html": [
       "<div>\n",
       "<style scoped>\n",
       "    .dataframe tbody tr th:only-of-type {\n",
       "        vertical-align: middle;\n",
       "    }\n",
       "\n",
       "    .dataframe tbody tr th {\n",
       "        vertical-align: top;\n",
       "    }\n",
       "\n",
       "    .dataframe thead th {\n",
       "        text-align: right;\n",
       "    }\n",
       "</style>\n",
       "<table border=\"1\" class=\"dataframe\">\n",
       "  <thead>\n",
       "    <tr style=\"text-align: right;\">\n",
       "      <th></th>\n",
       "      <th>Height M</th>\n",
       "      <th>Weight kg</th>\n",
       "      <th>%Fat</th>\n",
       "      <th>BMI</th>\n",
       "    </tr>\n",
       "  </thead>\n",
       "  <tbody>\n",
       "    <tr>\n",
       "      <th>Height M</th>\n",
       "      <td>1.000000</td>\n",
       "      <td>0.687894</td>\n",
       "      <td>0.273390</td>\n",
       "      <td>0.429862</td>\n",
       "    </tr>\n",
       "    <tr>\n",
       "      <th>Weight kg</th>\n",
       "      <td>0.687894</td>\n",
       "      <td>1.000000</td>\n",
       "      <td>0.780368</td>\n",
       "      <td>0.946975</td>\n",
       "    </tr>\n",
       "    <tr>\n",
       "      <th>%Fat</th>\n",
       "      <td>0.273390</td>\n",
       "      <td>0.780368</td>\n",
       "      <td>1.000000</td>\n",
       "      <td>0.862530</td>\n",
       "    </tr>\n",
       "    <tr>\n",
       "      <th>BMI</th>\n",
       "      <td>0.429862</td>\n",
       "      <td>0.946975</td>\n",
       "      <td>0.862530</td>\n",
       "      <td>1.000000</td>\n",
       "    </tr>\n",
       "  </tbody>\n",
       "</table>\n",
       "</div>"
      ],
      "text/plain": [
       "           Height M  Weight kg      %Fat       BMI\n",
       "Height M   1.000000   0.687894  0.273390  0.429862\n",
       "Weight kg  0.687894   1.000000  0.780368  0.946975\n",
       "%Fat       0.273390   0.780368  1.000000  0.862530\n",
       "BMI        0.429862   0.946975  0.862530  1.000000"
      ]
     },
     "execution_count": 4,
     "metadata": {},
     "output_type": "execute_result"
    }
   ],
   "source": [
    "bmidata.corr()"
   ]
  },
  {
   "cell_type": "code",
   "execution_count": 5,
   "id": "9249a6ba",
   "metadata": {},
   "outputs": [
    {
     "data": {
      "image/png": "[encoded data removed]",
      "text/plain": [
       "<Figure size 720x432 with 1 Axes>"
      ]
     },
     "metadata": {
      "needs_background": "light"
     },
     "output_type": "display_data"
    }
   ],
   "source": [
    "fig, ax = plt.subplots(figsize=(10, 6))\n",
    "ax.scatter(x = bmidata['Weight kg'], y = bmidata['BMI'])\n",
    "plt.xlabel(\"Weight in Kgs\")\n",
    "plt.ylabel(\"BMI\")\n",
    "\n",
    "plt.show()"
   ]
  },
  {
   "cell_type": "code",
   "execution_count": 6,
   "id": "bdd09cb8",
   "metadata": {},
   "outputs": [],
   "source": [
    "# The MinMax scaler is one of the simplest scalers to understand. It just scales all the data between 0 and 1.\n",
    "# Though (0, 1) is the default range, we can define our range of max and min values as well.\n",
    "# MinMax Scaler => x_scaled = (x – x_min)/(x_max – x_min)\n",
    "\n",
    "from sklearn.preprocessing import MinMaxScaler\n",
    "scaler = MinMaxScaler()"
   ]
  },
  {
   "cell_type": "code",
   "execution_count": 7,
   "id": "0dbeb386",
   "metadata": {
    "scrolled": true
   },
   "outputs": [
    {
     "name": "stdout",
     "output_type": "stream",
     "text": [
      "[[ 1.6  49.44 23.9  19.31]\n",
      " [ 1.65 62.6  28.8  22.96]\n",
      " [ 1.65 75.75 32.4  27.79]\n",
      " [ 1.53 48.99 25.8  20.92]\n",
      " [ 1.45 43.09 22.5  20.38]\n",
      " [ 1.61 52.62 22.1  20.39]\n",
      " [ 1.56 47.97 19.6  19.66]\n",
      " [ 1.5  45.59 25.3  20.3 ]\n",
      " [ 1.52 47.85 22.8  20.6 ]\n",
      " [ 1.48 44.45 26.4  20.31]\n",
      " [ 1.47 46.04 33.7  21.21]\n",
      " [ 1.55 53.07 27.9  22.11]\n",
      " [ 1.52 65.88 33.5  28.6 ]\n",
      " [ 1.54 46.04 23.4  19.5 ]\n",
      " [ 1.46 43.54 21.8  20.41]\n",
      " [ 1.52 62.37 37.9  26.85]\n",
      " [ 1.46 45.81 31.3  21.48]\n",
      " [ 1.58 74.39 40.6  29.76]\n",
      " [ 1.52 55.57 36.3  23.92]\n",
      " [ 1.5  46.15 29.8  20.55]\n",
      " [ 1.49 47.85 31.9  21.67]\n",
      " [ 1.48 42.18 31.3  19.27]\n",
      " [ 1.59 45.81 21.6  18.18]\n",
      " [ 1.56 44.68 24.6  18.46]\n",
      " [ 1.58 42.64 20.1  17.05]\n",
      " [ 1.57 43.54 24.6  17.7 ]\n",
      " [ 1.5  37.31 18.1  16.61]\n",
      " [ 1.52 39.35 22.9  16.94]\n",
      " [ 1.44 39.01 26.2  18.77]\n",
      " [ 1.49 40.6  27.2  18.39]\n",
      " [ 1.46 38.1  17.7  17.86]\n",
      " [ 1.5  40.37 20.8  17.98]\n",
      " [ 1.56 37.19 17.5  15.37]\n",
      " [ 1.53 44.11 21.3  18.84]\n",
      " [ 1.45 33.45 18.7  15.82]\n",
      " [ 1.63 47.17 28.8  17.71]\n",
      " [ 1.42 30.05 17.1  14.99]\n",
      " [ 1.38 32.09 26.2  16.75]\n",
      " [ 1.45 34.81 20.4  16.46]\n",
      " [ 1.5  35.95 19.5  15.87]\n",
      " [ 1.49 39.92 21.7  18.08]\n",
      " [ 1.45 32.66 18.1  15.58]\n",
      " [ 1.33 30.5  29.8  17.15]\n",
      " [ 1.37 29.48 20.6  15.82]\n",
      " [ 1.55 44.68 22.9  18.61]\n",
      " [ 1.45 34.93 19.3  16.66]\n",
      " [ 1.47 54.54 38.4  25.13]\n",
      " [ 1.59 52.5  27.9  20.83]\n",
      " [ 1.44 51.03 36.4  24.56]\n",
      " [ 1.6  51.71 25.1  20.19]\n",
      " [ 1.58 60.33 39.7  24.13]\n",
      " [ 1.42 47.85 33.6  23.86]\n",
      " [ 1.58 83.91 46.   33.57]\n",
      " [ 1.55 69.97 38.9  29.14]\n",
      " [ 1.64 77.34 42.2  28.59]\n",
      " [ 1.49 58.29 36.7  26.17]\n",
      " [ 1.59 87.54 38.   34.46]\n",
      " [ 1.55 45.81 23.3  19.08]\n",
      " [ 1.42 47.63 35.9  23.54]\n",
      " [ 1.62 53.07 24.1  20.24]\n",
      " [ 1.66 80.74 40.8  29.17]\n",
      " [ 1.47 45.25 25.7  20.85]\n",
      " [ 1.49 50.46 37.6  22.66]\n",
      " [ 1.65 81.99 35.9  30.08]\n",
      " [ 1.53 52.96 36.3  22.61]\n",
      " [ 1.59 61.23 33.   24.3 ]\n",
      " [ 1.53 73.37 40.5  31.33]\n",
      " [ 1.57 59.87 26.4  24.14]\n",
      " [ 1.43 47.97 27.3  23.5 ]\n",
      " [ 1.61 63.96 32.2  24.78]\n",
      " [ 1.55 46.72 19.6  19.46]\n",
      " [ 1.47 41.28 24.5  19.02]\n",
      " [ 1.5  45.36 22.6  20.2 ]\n",
      " [ 1.66 57.27 30.2  20.69]\n",
      " [ 1.42 38.78 26.9  19.17]\n",
      " [ 1.5  46.95 30.2  20.73]\n",
      " [ 1.35 29.26 21.   16.14]\n",
      " [ 1.42 35.83 19.4  17.71]\n",
      " [ 1.47 34.93 21.1  16.09]\n",
      " [ 1.52 38.56 17.3  16.74]\n",
      " [ 1.46 40.37 20.5  18.93]\n",
      " [ 1.46 36.74 19.3  17.22]\n",
      " [ 1.42 37.19 28.7  18.38]\n",
      " [ 1.47 39.46 18.3  18.18]\n",
      " [ 1.47 36.74 15.6  17.08]\n",
      " [ 1.59 44.45 23.9  17.64]\n",
      " [ 1.49 41.62 24.5  18.69]\n",
      " [ 1.49 39.01 23.3  17.52]\n",
      " [ 1.6  41.28 20.1  16.12]\n",
      " [ 1.42 38.1  30.3  18.83]\n",
      " [ 1.4  30.16 20.6  15.46]\n",
      " [ 1.45 38.56 26.   18.39]]\n"
     ]
    }
   ],
   "source": [
    "print(features.values)"
   ]
  },
  {
   "cell_type": "code",
   "execution_count": 8,
   "id": "2318fb0f",
   "metadata": {},
   "outputs": [
    {
     "data": {
      "text/html": [
       "<div>\n",
       "<style scoped>\n",
       "    .dataframe tbody tr th:only-of-type {\n",
       "        vertical-align: middle;\n",
       "    }\n",
       "\n",
       "    .dataframe tbody tr th {\n",
       "        vertical-align: top;\n",
       "    }\n",
       "\n",
       "    .dataframe thead th {\n",
       "        text-align: right;\n",
       "    }\n",
       "</style>\n",
       "<table border=\"1\" class=\"dataframe\">\n",
       "  <thead>\n",
       "    <tr style=\"text-align: right;\">\n",
       "      <th></th>\n",
       "      <th>Height M</th>\n",
       "      <th>Weight kg</th>\n",
       "      <th>%Fat</th>\n",
       "      <th>BMI</th>\n",
       "    </tr>\n",
       "  </thead>\n",
       "  <tbody>\n",
       "    <tr>\n",
       "      <th>0</th>\n",
       "      <td>0.818182</td>\n",
       "      <td>0.346259</td>\n",
       "      <td>0.273026</td>\n",
       "      <td>0.221880</td>\n",
       "    </tr>\n",
       "    <tr>\n",
       "      <th>1</th>\n",
       "      <td>0.969697</td>\n",
       "      <td>0.572066</td>\n",
       "      <td>0.434211</td>\n",
       "      <td>0.409348</td>\n",
       "    </tr>\n",
       "    <tr>\n",
       "      <th>2</th>\n",
       "      <td>0.969697</td>\n",
       "      <td>0.797701</td>\n",
       "      <td>0.552632</td>\n",
       "      <td>0.657422</td>\n",
       "    </tr>\n",
       "    <tr>\n",
       "      <th>3</th>\n",
       "      <td>0.606061</td>\n",
       "      <td>0.338538</td>\n",
       "      <td>0.335526</td>\n",
       "      <td>0.304571</td>\n",
       "    </tr>\n",
       "    <tr>\n",
       "      <th>4</th>\n",
       "      <td>0.363636</td>\n",
       "      <td>0.237303</td>\n",
       "      <td>0.226974</td>\n",
       "      <td>0.276836</td>\n",
       "    </tr>\n",
       "  </tbody>\n",
       "</table>\n",
       "</div>"
      ],
      "text/plain": [
       "   Height M  Weight kg      %Fat       BMI\n",
       "0  0.818182   0.346259  0.273026  0.221880\n",
       "1  0.969697   0.572066  0.434211  0.409348\n",
       "2  0.969697   0.797701  0.552632  0.657422\n",
       "3  0.606061   0.338538  0.335526  0.304571\n",
       "4  0.363636   0.237303  0.226974  0.276836"
      ]
     },
     "execution_count": 8,
     "metadata": {},
     "output_type": "execute_result"
    }
   ],
   "source": [
    "# Apply the MinMax scaler to BMI dataset\n",
    "\n",
    "bmidata_scaled[col_names] = scaler.fit_transform(features.values)\n",
    "bmidata_scaled.head()"
   ]
  },
  {
   "cell_type": "code",
   "execution_count": 9,
   "id": "b97bc010",
   "metadata": {},
   "outputs": [
    {
     "data": {
      "image/png": "[encoded data removed]",
      "text/plain": [
       "<Figure size 720x432 with 2 Axes>"
      ]
     },
     "metadata": {
      "needs_background": "light"
     },
     "output_type": "display_data"
    }
   ],
   "source": [
    "import matplotlib.pyplot as plt\n",
    "import pandas as pd\n",
    "\n",
    "fig, ax = plt.subplots(2, figsize=(10, 6))\n",
    "ax[0].scatter(x = bmidata['Weight kg'], y = bmidata['BMI'], color ='blue')\n",
    "ax[0].set_xlabel(\"Weight in Kgs\")\n",
    "ax[0].set_ylabel(\"BMI\")\n",
    "\n",
    "ax[1].scatter(x = bmidata_scaled['Weight kg'], y = bmidata_scaled['BMI'], color ='green')\n",
    "ax[1].set_xlabel(\"Weight in Kgs\")\n",
    "ax[1].set_ylabel(\"BMI\")\n",
    "\n",
    "plt.show()"
   ]
  },
  {
   "cell_type": "code",
   "execution_count": 10,
   "id": "bb8c611e",
   "metadata": {},
   "outputs": [],
   "source": [
    "# Apply the MinMax scaler to BMI dataset with range of max and min values\n",
    "\n",
    "from sklearn.preprocessing import MinMaxScaler\n",
    "scaler = MinMaxScaler(feature_range=(5, 10))"
   ]
  },
  {
   "cell_type": "code",
   "execution_count": 11,
   "id": "3840e15a",
   "metadata": {},
   "outputs": [],
   "source": [
    "# copy file to new file\n",
    "\n",
    "bmidata_scaled1 = bmidata.copy()\n",
    "col_names1 = ['Height M', 'Weight kg', '%Fat', 'BMI']\n",
    "features1 = bmidata_scaled[col_names1]"
   ]
  },
  {
   "cell_type": "code",
   "execution_count": 12,
   "id": "a7d3b7f5",
   "metadata": {},
   "outputs": [
    {
     "data": {
      "text/html": [
       "<div>\n",
       "<style scoped>\n",
       "    .dataframe tbody tr th:only-of-type {\n",
       "        vertical-align: middle;\n",
       "    }\n",
       "\n",
       "    .dataframe tbody tr th {\n",
       "        vertical-align: top;\n",
       "    }\n",
       "\n",
       "    .dataframe thead th {\n",
       "        text-align: right;\n",
       "    }\n",
       "</style>\n",
       "<table border=\"1\" class=\"dataframe\">\n",
       "  <thead>\n",
       "    <tr style=\"text-align: right;\">\n",
       "      <th></th>\n",
       "      <th>Height M</th>\n",
       "      <th>Weight kg</th>\n",
       "      <th>%Fat</th>\n",
       "      <th>BMI</th>\n",
       "    </tr>\n",
       "  </thead>\n",
       "  <tbody>\n",
       "    <tr>\n",
       "      <th>0</th>\n",
       "      <td>9.090909</td>\n",
       "      <td>6.731297</td>\n",
       "      <td>6.365132</td>\n",
       "      <td>6.109399</td>\n",
       "    </tr>\n",
       "    <tr>\n",
       "      <th>1</th>\n",
       "      <td>9.848485</td>\n",
       "      <td>7.860329</td>\n",
       "      <td>7.171053</td>\n",
       "      <td>7.046739</td>\n",
       "    </tr>\n",
       "    <tr>\n",
       "      <th>2</th>\n",
       "      <td>9.848485</td>\n",
       "      <td>8.988504</td>\n",
       "      <td>7.763158</td>\n",
       "      <td>8.287108</td>\n",
       "    </tr>\n",
       "    <tr>\n",
       "      <th>3</th>\n",
       "      <td>8.030303</td>\n",
       "      <td>6.692690</td>\n",
       "      <td>6.677632</td>\n",
       "      <td>6.522856</td>\n",
       "    </tr>\n",
       "    <tr>\n",
       "      <th>4</th>\n",
       "      <td>6.818182</td>\n",
       "      <td>6.186513</td>\n",
       "      <td>6.134868</td>\n",
       "      <td>6.384181</td>\n",
       "    </tr>\n",
       "  </tbody>\n",
       "</table>\n",
       "</div>"
      ],
      "text/plain": [
       "   Height M  Weight kg      %Fat       BMI\n",
       "0  9.090909   6.731297  6.365132  6.109399\n",
       "1  9.848485   7.860329  7.171053  7.046739\n",
       "2  9.848485   8.988504  7.763158  8.287108\n",
       "3  8.030303   6.692690  6.677632  6.522856\n",
       "4  6.818182   6.186513  6.134868  6.384181"
      ]
     },
     "execution_count": 12,
     "metadata": {},
     "output_type": "execute_result"
    }
   ],
   "source": [
    "# Apply the MinMax scaler to BMI dataset\n",
    "\n",
    "bmidata_scaled1[col_names1] = scaler.fit_transform(features1.values)\n",
    "bmidata_scaled1.head()"
   ]
  },
  {
   "cell_type": "code",
   "execution_count": 13,
   "id": "51a282dd",
   "metadata": {},
   "outputs": [
    {
     "data": {
      "image/png": "[encoded data removed]",
      "text/plain": [
       "<Figure size 720x720 with 3 Axes>"
      ]
     },
     "metadata": {
      "needs_background": "light"
     },
     "output_type": "display_data"
    }
   ],
   "source": [
    "import matplotlib.pyplot as plt\n",
    "import pandas as pd\n",
    "\n",
    "fig, ax = plt.subplots(3, figsize=(10, 10))\n",
    "ax[0].scatter(x = bmidata['Weight kg'], y = bmidata['BMI'], color ='blue')\n",
    "ax[0].set_xlabel(\"Weight in Kgs\")\n",
    "ax[0].set_ylabel(\"BMI\")\n",
    "\n",
    "ax[1].scatter(x = bmidata_scaled['Weight kg'], y = bmidata_scaled['BMI'], color ='red')\n",
    "ax[1].set_xlabel(\"Weight in Kgs\")\n",
    "ax[1].set_ylabel(\"BMI\")\n",
    "\n",
    "ax[2].scatter(x = bmidata_scaled1['Weight kg'], y = bmidata_scaled1['BMI'], color ='green')\n",
    "ax[2].set_xlabel(\"Weight in Kgs\")\n",
    "ax[2].set_ylabel(\"BMI\")\n",
    "\n",
    "plt.show()"
   ]
  },
  {
   "cell_type": "code",
   "execution_count": 14,
   "id": "2b69416c",
   "metadata": {},
   "outputs": [],
   "source": [
    "# Apply the MinMax scaler to BMI dataset with range of max and min values\n",
    "\n",
    "from sklearn.preprocessing import MinMaxScaler\n",
    "scaler = MinMaxScaler(feature_range=(-1, +1))\n",
    "\n",
    "# copy file to new file\n",
    "\n",
    "bmidata_scaled2 = bmidata.copy()\n",
    "col_names2 = ['Height M', 'Weight kg', '%Fat', 'BMI']\n",
    "features2 = bmidata_scaled2[col_names2]"
   ]
  },
  {
   "cell_type": "code",
   "execution_count": 15,
   "id": "fc1b7aec",
   "metadata": {},
   "outputs": [
    {
     "data": {
      "image/png": "[encoded data removed]",
      "text/plain": [
       "<Figure size 720x720 with 4 Axes>"
      ]
     },
     "metadata": {
      "needs_background": "light"
     },
     "output_type": "display_data"
    }
   ],
   "source": [
    "import matplotlib.pyplot as plt\n",
    "import pandas as pd\n",
    "\n",
    "fig, ax = plt.subplots(4, figsize=(10, 10))\n",
    "ax[0].scatter(x = bmidata['Weight kg'], y = bmidata['BMI'], color = \"blue\")\n",
    "ax[0].set_xlabel(\"Weight in Kgs\")\n",
    "ax[0].set_ylabel(\"BMI\")\n",
    "\n",
    "ax[1].scatter(x = bmidata_scaled['Weight kg'], y = bmidata_scaled['BMI'], color = \"red\")\n",
    "ax[1].set_xlabel(\"Weight in Kgs\")\n",
    "ax[1].set_ylabel(\"BMI\")\n",
    "\n",
    "ax[2].scatter(x = bmidata_scaled1['Weight kg'], y = bmidata_scaled1['BMI'], color = \"green\")\n",
    "ax[2].set_xlabel(\"Weight in Kgs\")\n",
    "ax[2].set_ylabel(\"BMI\")\n",
    "\n",
    "ax[3].scatter(x = bmidata_scaled2['Weight kg'], y = bmidata_scaled1['BMI'], color = \"orange\")\n",
    "ax[3].set_xlabel(\"Weight in Kgs\")\n",
    "ax[3].set_ylabel(\"BMI\")\n",
    "\n",
    "plt.show()\n",
    "\n"
   ]
  },
  {
   "cell_type": "code",
   "execution_count": 16,
   "id": "6d1dccde",
   "metadata": {},
   "outputs": [],
   "source": [
    "# Standard Scaler scales the values such that the mean is 0 and the standard deviation is 1\n",
    "# x_scaled = (x – mean)/std_dev\n",
    "# Standard Scaler assumes that the distribution of the variable is normal. Thus, in case, t\n",
    "# are not normally distributed, we\n",
    "# 01) either choose a different scaler\n",
    "# 02) or first, convert the variables to a normal distribution and then apply this scaler\n",
    "from sklearn.preprocessing import StandardScaler\n",
    "scaler = StandardScaler()"
   ]
  },
  {
   "cell_type": "code",
   "execution_count": 17,
   "id": "4982b1ae",
   "metadata": {},
   "outputs": [],
   "source": [
    "bmidata_scaled3 = bmidata.copy()\n",
    "col_names3 = ['Height M', 'Weight kg', '%Fat', 'BMI']\n",
    "features3 = bmidata_scaled3[col_names3]"
   ]
  },
  {
   "cell_type": "code",
   "execution_count": 18,
   "id": "4e83988e",
   "metadata": {},
   "outputs": [
    {
     "data": {
      "text/html": [
       "<div>\n",
       "<style scoped>\n",
       "    .dataframe tbody tr th:only-of-type {\n",
       "        vertical-align: middle;\n",
       "    }\n",
       "\n",
       "    .dataframe tbody tr th {\n",
       "        vertical-align: top;\n",
       "    }\n",
       "\n",
       "    .dataframe thead th {\n",
       "        text-align: right;\n",
       "    }\n",
       "</style>\n",
       "<table border=\"1\" class=\"dataframe\">\n",
       "  <thead>\n",
       "    <tr style=\"text-align: right;\">\n",
       "      <th></th>\n",
       "      <th>Height M</th>\n",
       "      <th>Weight kg</th>\n",
       "      <th>%Fat</th>\n",
       "      <th>BMI</th>\n",
       "    </tr>\n",
       "  </thead>\n",
       "  <tbody>\n",
       "    <tr>\n",
       "      <th>0</th>\n",
       "      <td>1.201636</td>\n",
       "      <td>0.121100</td>\n",
       "      <td>-0.431021</td>\n",
       "      <td>-0.324407</td>\n",
       "    </tr>\n",
       "    <tr>\n",
       "      <th>1</th>\n",
       "      <td>1.880693</td>\n",
       "      <td>1.132960</td>\n",
       "      <td>0.258735</td>\n",
       "      <td>0.524135</td>\n",
       "    </tr>\n",
       "    <tr>\n",
       "      <th>2</th>\n",
       "      <td>1.880693</td>\n",
       "      <td>2.144051</td>\n",
       "      <td>0.765494</td>\n",
       "      <td>1.647000</td>\n",
       "    </tr>\n",
       "    <tr>\n",
       "      <th>3</th>\n",
       "      <td>0.250956</td>\n",
       "      <td>0.086500</td>\n",
       "      <td>-0.163565</td>\n",
       "      <td>0.049882</td>\n",
       "    </tr>\n",
       "    <tr>\n",
       "      <th>4</th>\n",
       "      <td>-0.835536</td>\n",
       "      <td>-0.367145</td>\n",
       "      <td>-0.628094</td>\n",
       "      <td>-0.075656</td>\n",
       "    </tr>\n",
       "  </tbody>\n",
       "</table>\n",
       "</div>"
      ],
      "text/plain": [
       "   Height M  Weight kg      %Fat       BMI\n",
       "0  1.201636   0.121100 -0.431021 -0.324407\n",
       "1  1.880693   1.132960  0.258735  0.524135\n",
       "2  1.880693   2.144051  0.765494  1.647000\n",
       "3  0.250956   0.086500 -0.163565  0.049882\n",
       "4 -0.835536  -0.367145 -0.628094 -0.075656"
      ]
     },
     "execution_count": 18,
     "metadata": {},
     "output_type": "execute_result"
    }
   ],
   "source": [
    "bmidata_scaled3[col_names3] = scaler.fit_transform(features3.values)\n",
    "bmidata_scaled3.head()"
   ]
  },
  {
   "cell_type": "code",
   "execution_count": 19,
   "id": "451d2279",
   "metadata": {},
   "outputs": [
    {
     "data": {
      "text/html": [
       "<div>\n",
       "<style scoped>\n",
       "    .dataframe tbody tr th:only-of-type {\n",
       "        vertical-align: middle;\n",
       "    }\n",
       "\n",
       "    .dataframe tbody tr th {\n",
       "        vertical-align: top;\n",
       "    }\n",
       "\n",
       "    .dataframe thead th {\n",
       "        text-align: right;\n",
       "    }\n",
       "</style>\n",
       "<table border=\"1\" class=\"dataframe\">\n",
       "  <thead>\n",
       "    <tr style=\"text-align: right;\">\n",
       "      <th></th>\n",
       "      <th>count</th>\n",
       "      <th>mean</th>\n",
       "      <th>std</th>\n",
       "      <th>min</th>\n",
       "      <th>25%</th>\n",
       "      <th>50%</th>\n",
       "      <th>75%</th>\n",
       "      <th>max</th>\n",
       "    </tr>\n",
       "  </thead>\n",
       "  <tbody>\n",
       "    <tr>\n",
       "      <th>Height M</th>\n",
       "      <td>92.0</td>\n",
       "      <td>3.495996e-15</td>\n",
       "      <td>1.005479</td>\n",
       "      <td>-2.465273</td>\n",
       "      <td>-0.699724</td>\n",
       "      <td>-0.156478</td>\n",
       "      <td>0.794202</td>\n",
       "      <td>2.016505</td>\n",
       "    </tr>\n",
       "    <tr>\n",
       "      <th>Weight kg</th>\n",
       "      <td>92.0</td>\n",
       "      <td>-9.895466e-17</td>\n",
       "      <td>1.005479</td>\n",
       "      <td>-1.430521</td>\n",
       "      <td>-0.685274</td>\n",
       "      <td>-0.183765</td>\n",
       "      <td>0.372143</td>\n",
       "      <td>3.050574</td>\n",
       "    </tr>\n",
       "    <tr>\n",
       "      <th>%Fat</th>\n",
       "      <td>92.0</td>\n",
       "      <td>2.256649e-16</td>\n",
       "      <td>1.005479</td>\n",
       "      <td>-1.599383</td>\n",
       "      <td>-0.828686</td>\n",
       "      <td>-0.205795</td>\n",
       "      <td>0.705669</td>\n",
       "      <td>2.679919</td>\n",
       "    </tr>\n",
       "    <tr>\n",
       "      <th>BMI</th>\n",
       "      <td>92.0</td>\n",
       "      <td>1.846349e-16</td>\n",
       "      <td>1.005479</td>\n",
       "      <td>-1.328709</td>\n",
       "      <td>-0.696952</td>\n",
       "      <td>-0.284886</td>\n",
       "      <td>0.471828</td>\n",
       "      <td>3.197624</td>\n",
       "    </tr>\n",
       "  </tbody>\n",
       "</table>\n",
       "</div>"
      ],
      "text/plain": [
       "           count          mean       std       min       25%       50%  \\\n",
       "Height M    92.0  3.495996e-15  1.005479 -2.465273 -0.699724 -0.156478   \n",
       "Weight kg   92.0 -9.895466e-17  1.005479 -1.430521 -0.685274 -0.183765   \n",
       "%Fat        92.0  2.256649e-16  1.005479 -1.599383 -0.828686 -0.205795   \n",
       "BMI         92.0  1.846349e-16  1.005479 -1.328709 -0.696952 -0.284886   \n",
       "\n",
       "                75%       max  \n",
       "Height M   0.794202  2.016505  \n",
       "Weight kg  0.372143  3.050574  \n",
       "%Fat       0.705669  2.679919  \n",
       "BMI        0.471828  3.197624  "
      ]
     },
     "execution_count": 19,
     "metadata": {},
     "output_type": "execute_result"
    }
   ],
   "source": [
    "bmidata_scaled3.describe().T"
   ]
  },
  {
   "cell_type": "code",
   "execution_count": 20,
   "id": "525de535",
   "metadata": {},
   "outputs": [
    {
     "data": {
      "image/png": "[encoded data removed]",
      "text/plain": [
       "<Figure size 720x720 with 2 Axes>"
      ]
     },
     "metadata": {
      "needs_background": "light"
     },
     "output_type": "display_data"
    }
   ],
   "source": [
    "import matplotlib.pyplot as plt\n",
    "import pandas as pd\n",
    "fig, ax = plt.subplots(2, figsize=(10, 10))\n",
    "ax[0].scatter(x = bmidata['Weight kg'], y = bmidata['BMI'], color = \"blue\")\n",
    "ax[0].set_xlabel(\"Weight in Kgs\")\n",
    "ax[0].set_ylabel(\"BMI\")\n",
    "ax[1].scatter(x = bmidata_scaled3['Weight kg'], y = bmidata_scaled3['BMI'], color = \"red\")\n",
    "ax[1].set_xlabel(\"Weight in Kgs\")\n",
    "ax[1].set_ylabel(\"BMI\")\n",
    "plt.show()"
   ]
  },
  {
   "cell_type": "code",
   "execution_count": 21,
   "id": "7114cf4c",
   "metadata": {},
   "outputs": [],
   "source": [
    "# Robust Scaler : This Scaler, as the name suggests is not sensitive to outliers. This scal\n",
    "# 01) removes the median from the data\n",
    "# 02) scales the data by the InterQuartile Range(IQR)\n",
    "# IQR = Q3-Q1 , x_scaled = (x-Q1)/(Q3-Q1)\n",
    "from sklearn.preprocessing import RobustScaler\n",
    "scaler = RobustScaler()"
   ]
  },
  {
   "cell_type": "code",
   "execution_count": 22,
   "id": "32602e0c",
   "metadata": {},
   "outputs": [],
   "source": [
    "bmidata_scaled4 = bmidata.copy()\n",
    "col_names4 = ['Height M', 'Weight kg', '%Fat', 'BMI']\n",
    "features4 = bmidata_scaled4[col_names4]"
   ]
  },
  {
   "cell_type": "code",
   "execution_count": 23,
   "id": "d2b92808",
   "metadata": {},
   "outputs": [
    {
     "data": {
      "text/html": [
       "<div>\n",
       "<style scoped>\n",
       "    .dataframe tbody tr th:only-of-type {\n",
       "        vertical-align: middle;\n",
       "    }\n",
       "\n",
       "    .dataframe tbody tr th {\n",
       "        vertical-align: top;\n",
       "    }\n",
       "\n",
       "    .dataframe thead th {\n",
       "        text-align: right;\n",
       "    }\n",
       "</style>\n",
       "<table border=\"1\" class=\"dataframe\">\n",
       "  <thead>\n",
       "    <tr style=\"text-align: right;\">\n",
       "      <th></th>\n",
       "      <th>Height M</th>\n",
       "      <th>Weight kg</th>\n",
       "      <th>%Fat</th>\n",
       "      <th>BMI</th>\n",
       "    </tr>\n",
       "  </thead>\n",
       "  <tbody>\n",
       "    <tr>\n",
       "      <th>0</th>\n",
       "      <td>0.909091</td>\n",
       "      <td>0.288311</td>\n",
       "      <td>-0.146789</td>\n",
       "      <td>-0.033814</td>\n",
       "    </tr>\n",
       "    <tr>\n",
       "      <th>1</th>\n",
       "      <td>1.363636</td>\n",
       "      <td>1.245228</td>\n",
       "      <td>0.302752</td>\n",
       "      <td>0.692193</td>\n",
       "    </tr>\n",
       "    <tr>\n",
       "      <th>2</th>\n",
       "      <td>1.363636</td>\n",
       "      <td>2.201418</td>\n",
       "      <td>0.633028</td>\n",
       "      <td>1.652909</td>\n",
       "    </tr>\n",
       "    <tr>\n",
       "      <th>3</th>\n",
       "      <td>0.272727</td>\n",
       "      <td>0.255590</td>\n",
       "      <td>0.027523</td>\n",
       "      <td>0.286425</td>\n",
       "    </tr>\n",
       "    <tr>\n",
       "      <th>4</th>\n",
       "      <td>-0.454545</td>\n",
       "      <td>-0.173423</td>\n",
       "      <td>-0.275229</td>\n",
       "      <td>0.179015</td>\n",
       "    </tr>\n",
       "  </tbody>\n",
       "</table>\n",
       "</div>"
      ],
      "text/plain": [
       "   Height M  Weight kg      %Fat       BMI\n",
       "0  0.909091   0.288311 -0.146789 -0.033814\n",
       "1  1.363636   1.245228  0.302752  0.692193\n",
       "2  1.363636   2.201418  0.633028  1.652909\n",
       "3  0.272727   0.255590  0.027523  0.286425\n",
       "4 -0.454545  -0.173423 -0.275229  0.179015"
      ]
     },
     "execution_count": 23,
     "metadata": {},
     "output_type": "execute_result"
    }
   ],
   "source": [
    "bmidata_scaled4[col_names4] = scaler.fit_transform(features4.values)\n",
    "bmidata_scaled4.head()"
   ]
  },
  {
   "cell_type": "code",
   "execution_count": 24,
   "id": "c3c0ba85",
   "metadata": {},
   "outputs": [
    {
     "data": {
      "text/html": [
       "<div>\n",
       "<style scoped>\n",
       "    .dataframe tbody tr th:only-of-type {\n",
       "        vertical-align: middle;\n",
       "    }\n",
       "\n",
       "    .dataframe tbody tr th {\n",
       "        vertical-align: top;\n",
       "    }\n",
       "\n",
       "    .dataframe thead th {\n",
       "        text-align: right;\n",
       "    }\n",
       "</style>\n",
       "<table border=\"1\" class=\"dataframe\">\n",
       "  <thead>\n",
       "    <tr style=\"text-align: right;\">\n",
       "      <th></th>\n",
       "      <th>Height M</th>\n",
       "      <th>Weight kg</th>\n",
       "      <th>%Fat</th>\n",
       "      <th>BMI</th>\n",
       "    </tr>\n",
       "  </thead>\n",
       "  <tbody>\n",
       "    <tr>\n",
       "      <th>count</th>\n",
       "      <td>92.000000</td>\n",
       "      <td>92.000000</td>\n",
       "      <td>92.000000</td>\n",
       "      <td>92.000000</td>\n",
       "    </tr>\n",
       "    <tr>\n",
       "      <th>mean</th>\n",
       "      <td>0.104743</td>\n",
       "      <td>0.173787</td>\n",
       "      <td>0.134124</td>\n",
       "      <td>0.243746</td>\n",
       "    </tr>\n",
       "    <tr>\n",
       "      <th>std</th>\n",
       "      <td>0.673045</td>\n",
       "      <td>0.950883</td>\n",
       "      <td>0.655311</td>\n",
       "      <td>0.860282</td>\n",
       "    </tr>\n",
       "    <tr>\n",
       "      <th>min</th>\n",
       "      <td>-1.545455</td>\n",
       "      <td>-1.179058</td>\n",
       "      <td>-0.908257</td>\n",
       "      <td>-0.893088</td>\n",
       "    </tr>\n",
       "    <tr>\n",
       "      <th>25%</th>\n",
       "      <td>-0.363636</td>\n",
       "      <td>-0.474277</td>\n",
       "      <td>-0.405963</td>\n",
       "      <td>-0.352561</td>\n",
       "    </tr>\n",
       "    <tr>\n",
       "      <th>50%</th>\n",
       "      <td>0.000000</td>\n",
       "      <td>0.000000</td>\n",
       "      <td>0.000000</td>\n",
       "      <td>0.000000</td>\n",
       "    </tr>\n",
       "    <tr>\n",
       "      <th>75%</th>\n",
       "      <td>0.636364</td>\n",
       "      <td>0.525723</td>\n",
       "      <td>0.594037</td>\n",
       "      <td>0.647439</td>\n",
       "    </tr>\n",
       "    <tr>\n",
       "      <th>max</th>\n",
       "      <td>1.454545</td>\n",
       "      <td>3.058717</td>\n",
       "      <td>1.880734</td>\n",
       "      <td>2.979612</td>\n",
       "    </tr>\n",
       "  </tbody>\n",
       "</table>\n",
       "</div>"
      ],
      "text/plain": [
       "        Height M  Weight kg       %Fat        BMI\n",
       "count  92.000000  92.000000  92.000000  92.000000\n",
       "mean    0.104743   0.173787   0.134124   0.243746\n",
       "std     0.673045   0.950883   0.655311   0.860282\n",
       "min    -1.545455  -1.179058  -0.908257  -0.893088\n",
       "25%    -0.363636  -0.474277  -0.405963  -0.352561\n",
       "50%     0.000000   0.000000   0.000000   0.000000\n",
       "75%     0.636364   0.525723   0.594037   0.647439\n",
       "max     1.454545   3.058717   1.880734   2.979612"
      ]
     },
     "execution_count": 24,
     "metadata": {},
     "output_type": "execute_result"
    }
   ],
   "source": [
    "bmidata_scaled4.describe()"
   ]
  },
  {
   "cell_type": "code",
   "execution_count": 25,
   "id": "a464af68",
   "metadata": {},
   "outputs": [
    {
     "data": {
      "image/png": "[encoded data removed]",
      "text/plain": [
       "<Figure size 720x720 with 2 Axes>"
      ]
     },
     "metadata": {
      "needs_background": "light"
     },
     "output_type": "display_data"
    }
   ],
   "source": [
    "import matplotlib.pyplot as plt\n",
    "import pandas as pd\n",
    "fig, ax = plt.subplots(2, figsize=(10, 10))\n",
    "ax[0].scatter(x = bmidata['Weight kg'], y = bmidata['BMI'], color = \"blue\")\n",
    "ax[0].set_xlabel(\"Weight in Kgs\")\n",
    "ax[0].set_ylabel(\"BMI\")\n",
    "ax[1].scatter(x = bmidata_scaled4['Weight kg'], y = bmidata_scaled4['BMI'], color = \"red\")\n",
    "ax[1].set_xlabel(\"Weight in Kgs\")\n",
    "ax[1].set_ylabel(\"BMI\")\n",
    "plt.show()"
   ]
  },
  {
   "cell_type": "code",
   "execution_count": null,
   "id": "388c8455",
   "metadata": {},
   "outputs": [],
   "source": []
  }
 ],
 "metadata": {
  "kernelspec": {
   "display_name": "Python 3",
   "language": "python",
   "name": "python3"
  },
  "language_info": {
   "codemirror_mode": {
    "name": "ipython",
    "version": 3
   },
   "file_extension": ".py",
   "mimetype": "text/x-python",
   "name": "python",
   "nbconvert_exporter": "python",
   "pygments_lexer": "ipython3",
   "version": "3.8.8"
  }
 },
 "nbformat": 4,
 "nbformat_minor": 5
}
