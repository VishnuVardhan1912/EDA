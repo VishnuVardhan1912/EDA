{
 "cells": [
  {
   "cell_type": "code",
   "execution_count": 2,
   "id": "70d29b32",
   "metadata": {},
   "outputs": [],
   "source": [
    "# importing the libraries\n",
    "\n",
    "import pandas as pd\n",
    "import numpy as np\n",
    "import matplotlib.pyplot as plt\n",
    "\n",
    "# ignore harmless warnings\n",
    "\n",
    "import warnings\n",
    "warnings.filterwarnings(\"ignore\")"
   ]
  },
  {
   "cell_type": "code",
   "execution_count": 3,
   "id": "8803677e",
   "metadata": {},
   "outputs": [
    {
     "data": {
      "text/html": [
       "<div>\n",
       "<style scoped>\n",
       "    .dataframe tbody tr th:only-of-type {\n",
       "        vertical-align: middle;\n",
       "    }\n",
       "\n",
       "    .dataframe tbody tr th {\n",
       "        vertical-align: top;\n",
       "    }\n",
       "\n",
       "    .dataframe thead th {\n",
       "        text-align: right;\n",
       "    }\n",
       "</style>\n",
       "<table border=\"1\" class=\"dataframe\">\n",
       "  <thead>\n",
       "    <tr style=\"text-align: right;\">\n",
       "      <th></th>\n",
       "      <th>Year</th>\n",
       "      <th>Make</th>\n",
       "      <th>Model</th>\n",
       "      <th>Vehicle_Class</th>\n",
       "      <th>Engine_Size</th>\n",
       "      <th>Cylinders</th>\n",
       "      <th>Transmission</th>\n",
       "      <th>Fuel_Type</th>\n",
       "      <th>Fuel_Consumption_city</th>\n",
       "      <th>Fuel_Consumption_Hwy</th>\n",
       "      <th>Fuel_Consumption_Comb</th>\n",
       "      <th>Fuel_Consumption_Comb_MPG</th>\n",
       "      <th>CO2_Emissions</th>\n",
       "      <th>CO2_Rating</th>\n",
       "      <th>Smog_Rating</th>\n",
       "    </tr>\n",
       "  </thead>\n",
       "  <tbody>\n",
       "    <tr>\n",
       "      <th>0</th>\n",
       "      <td>2021</td>\n",
       "      <td>Acura</td>\n",
       "      <td>ILX</td>\n",
       "      <td>Compact</td>\n",
       "      <td>2.4</td>\n",
       "      <td>4</td>\n",
       "      <td>AM8</td>\n",
       "      <td>Z</td>\n",
       "      <td>9.9</td>\n",
       "      <td>7.0</td>\n",
       "      <td>8.6</td>\n",
       "      <td>33</td>\n",
       "      <td>199</td>\n",
       "      <td>6</td>\n",
       "      <td>3</td>\n",
       "    </tr>\n",
       "    <tr>\n",
       "      <th>1</th>\n",
       "      <td>2021</td>\n",
       "      <td>Acura</td>\n",
       "      <td>NSX</td>\n",
       "      <td>Two-seater</td>\n",
       "      <td>3.5</td>\n",
       "      <td>6</td>\n",
       "      <td>AM9</td>\n",
       "      <td>Z</td>\n",
       "      <td>11.1</td>\n",
       "      <td>10.8</td>\n",
       "      <td>11.0</td>\n",
       "      <td>26</td>\n",
       "      <td>256</td>\n",
       "      <td>4</td>\n",
       "      <td>3</td>\n",
       "    </tr>\n",
       "    <tr>\n",
       "      <th>2</th>\n",
       "      <td>2021</td>\n",
       "      <td>Acura</td>\n",
       "      <td>RDX SH-AWD</td>\n",
       "      <td>SUV: Small</td>\n",
       "      <td>2.0</td>\n",
       "      <td>4</td>\n",
       "      <td>AS10</td>\n",
       "      <td>Z</td>\n",
       "      <td>11.0</td>\n",
       "      <td>8.6</td>\n",
       "      <td>9.9</td>\n",
       "      <td>29</td>\n",
       "      <td>232</td>\n",
       "      <td>5</td>\n",
       "      <td>6</td>\n",
       "    </tr>\n",
       "    <tr>\n",
       "      <th>3</th>\n",
       "      <td>2021</td>\n",
       "      <td>Acura</td>\n",
       "      <td>RDX SH-AWD A-SPEC</td>\n",
       "      <td>SUV: Small</td>\n",
       "      <td>2.0</td>\n",
       "      <td>4</td>\n",
       "      <td>AS10</td>\n",
       "      <td>Z</td>\n",
       "      <td>11.3</td>\n",
       "      <td>9.1</td>\n",
       "      <td>10.3</td>\n",
       "      <td>27</td>\n",
       "      <td>242</td>\n",
       "      <td>5</td>\n",
       "      <td>6</td>\n",
       "    </tr>\n",
       "    <tr>\n",
       "      <th>4</th>\n",
       "      <td>2021</td>\n",
       "      <td>Acura</td>\n",
       "      <td>TLX SH-AWD</td>\n",
       "      <td>Compact</td>\n",
       "      <td>2.0</td>\n",
       "      <td>4</td>\n",
       "      <td>AS10</td>\n",
       "      <td>Z</td>\n",
       "      <td>11.2</td>\n",
       "      <td>8.0</td>\n",
       "      <td>9.8</td>\n",
       "      <td>29</td>\n",
       "      <td>230</td>\n",
       "      <td>5</td>\n",
       "      <td>7</td>\n",
       "    </tr>\n",
       "  </tbody>\n",
       "</table>\n",
       "</div>"
      ],
      "text/plain": [
       "   Year   Make              Model Vehicle_Class  Engine_Size  Cylinders  \\\n",
       "0  2021  Acura                ILX       Compact          2.4          4   \n",
       "1  2021  Acura                NSX    Two-seater          3.5          6   \n",
       "2  2021  Acura         RDX SH-AWD    SUV: Small          2.0          4   \n",
       "3  2021  Acura  RDX SH-AWD A-SPEC    SUV: Small          2.0          4   \n",
       "4  2021  Acura         TLX SH-AWD       Compact          2.0          4   \n",
       "\n",
       "  Transmission Fuel_Type  Fuel_Consumption_city  Fuel_Consumption_Hwy  \\\n",
       "0          AM8         Z                    9.9                   7.0   \n",
       "1          AM9         Z                   11.1                  10.8   \n",
       "2         AS10         Z                   11.0                   8.6   \n",
       "3         AS10         Z                   11.3                   9.1   \n",
       "4         AS10         Z                   11.2                   8.0   \n",
       "\n",
       "   Fuel_Consumption_Comb  Fuel_Consumption_Comb_MPG  CO2_Emissions  \\\n",
       "0                    8.6                         33            199   \n",
       "1                   11.0                         26            256   \n",
       "2                    9.9                         29            232   \n",
       "3                   10.3                         27            242   \n",
       "4                    9.8                         29            230   \n",
       "\n",
       "   CO2_Rating  Smog_Rating  \n",
       "0           6            3  \n",
       "1           4            3  \n",
       "2           5            6  \n",
       "3           5            6  \n",
       "4           5            7  "
      ]
     },
     "execution_count": 3,
     "metadata": {},
     "output_type": "execute_result"
    }
   ],
   "source": [
    "# load Co2 emission dataset\n",
    "\n",
    "CO2Emission = pd.read_csv(r\"D:\\iiit notes\\Internship\\11-seasion 25-May-2021\\MY2021_Fuel_Consumption_Ratings.csv\", header =0)\n",
    "CO2Emission.head()"
   ]
  },
  {
   "cell_type": "code",
   "execution_count": 4,
   "id": "93e15a2c",
   "metadata": {},
   "outputs": [
    {
     "name": "stdout",
     "output_type": "stream",
     "text": [
      "<class 'pandas.core.frame.DataFrame'>\n",
      "RangeIndex: 883 entries, 0 to 882\n",
      "Data columns (total 15 columns):\n",
      " #   Column                     Non-Null Count  Dtype  \n",
      "---  ------                     --------------  -----  \n",
      " 0   Year                       883 non-null    int64  \n",
      " 1   Make                       883 non-null    object \n",
      " 2   Model                      883 non-null    object \n",
      " 3   Vehicle_Class              883 non-null    object \n",
      " 4   Engine_Size                883 non-null    float64\n",
      " 5   Cylinders                  883 non-null    int64  \n",
      " 6   Transmission               883 non-null    object \n",
      " 7   Fuel_Type                  883 non-null    object \n",
      " 8   Fuel_Consumption_city      883 non-null    float64\n",
      " 9   Fuel_Consumption_Hwy       883 non-null    float64\n",
      " 10  Fuel_Consumption_Comb      883 non-null    float64\n",
      " 11  Fuel_Consumption_Comb_MPG  883 non-null    int64  \n",
      " 12  CO2_Emissions              883 non-null    int64  \n",
      " 13  CO2_Rating                 883 non-null    int64  \n",
      " 14  Smog_Rating                883 non-null    int64  \n",
      "dtypes: float64(4), int64(6), object(5)\n",
      "memory usage: 103.6+ KB\n"
     ]
    }
   ],
   "source": [
    "CO2Emission.info()"
   ]
  },
  {
   "cell_type": "code",
   "execution_count": 5,
   "id": "a50f1285",
   "metadata": {},
   "outputs": [
    {
     "data": {
      "text/html": [
       "<div>\n",
       "<style scoped>\n",
       "    .dataframe tbody tr th:only-of-type {\n",
       "        vertical-align: middle;\n",
       "    }\n",
       "\n",
       "    .dataframe tbody tr th {\n",
       "        vertical-align: top;\n",
       "    }\n",
       "\n",
       "    .dataframe thead th {\n",
       "        text-align: right;\n",
       "    }\n",
       "</style>\n",
       "<table border=\"1\" class=\"dataframe\">\n",
       "  <thead>\n",
       "    <tr style=\"text-align: right;\">\n",
       "      <th></th>\n",
       "      <th>Engine_Size</th>\n",
       "      <th>Cylinders</th>\n",
       "      <th>Fuel_Consumption_city</th>\n",
       "      <th>Fuel_Consumption_Hwy</th>\n",
       "      <th>Fuel_Consumption_Comb</th>\n",
       "      <th>Fuel_Consumption_Comb_MPG</th>\n",
       "      <th>CO2_Emissions</th>\n",
       "    </tr>\n",
       "  </thead>\n",
       "  <tbody>\n",
       "    <tr>\n",
       "      <th>0</th>\n",
       "      <td>2.4</td>\n",
       "      <td>4</td>\n",
       "      <td>9.9</td>\n",
       "      <td>7.0</td>\n",
       "      <td>8.6</td>\n",
       "      <td>33</td>\n",
       "      <td>199</td>\n",
       "    </tr>\n",
       "    <tr>\n",
       "      <th>1</th>\n",
       "      <td>3.5</td>\n",
       "      <td>6</td>\n",
       "      <td>11.1</td>\n",
       "      <td>10.8</td>\n",
       "      <td>11.0</td>\n",
       "      <td>26</td>\n",
       "      <td>256</td>\n",
       "    </tr>\n",
       "    <tr>\n",
       "      <th>2</th>\n",
       "      <td>2.0</td>\n",
       "      <td>4</td>\n",
       "      <td>11.0</td>\n",
       "      <td>8.6</td>\n",
       "      <td>9.9</td>\n",
       "      <td>29</td>\n",
       "      <td>232</td>\n",
       "    </tr>\n",
       "    <tr>\n",
       "      <th>3</th>\n",
       "      <td>2.0</td>\n",
       "      <td>4</td>\n",
       "      <td>11.3</td>\n",
       "      <td>9.1</td>\n",
       "      <td>10.3</td>\n",
       "      <td>27</td>\n",
       "      <td>242</td>\n",
       "    </tr>\n",
       "    <tr>\n",
       "      <th>4</th>\n",
       "      <td>2.0</td>\n",
       "      <td>4</td>\n",
       "      <td>11.2</td>\n",
       "      <td>8.0</td>\n",
       "      <td>9.8</td>\n",
       "      <td>29</td>\n",
       "      <td>230</td>\n",
       "    </tr>\n",
       "  </tbody>\n",
       "</table>\n",
       "</div>"
      ],
      "text/plain": [
       "   Engine_Size  Cylinders  Fuel_Consumption_city  Fuel_Consumption_Hwy  \\\n",
       "0          2.4          4                    9.9                   7.0   \n",
       "1          3.5          6                   11.1                  10.8   \n",
       "2          2.0          4                   11.0                   8.6   \n",
       "3          2.0          4                   11.3                   9.1   \n",
       "4          2.0          4                   11.2                   8.0   \n",
       "\n",
       "   Fuel_Consumption_Comb  Fuel_Consumption_Comb_MPG  CO2_Emissions  \n",
       "0                    8.6                         33            199  \n",
       "1                   11.0                         26            256  \n",
       "2                    9.9                         29            232  \n",
       "3                   10.3                         27            242  \n",
       "4                    9.8                         29            230  "
      ]
     },
     "execution_count": 5,
     "metadata": {},
     "output_type": "execute_result"
    }
   ],
   "source": [
    "# Delecting the 8 columns\n",
    "\n",
    "# del CO2Emission['year']\n",
    "\n",
    "CO2EmissionN = CO2Emission.drop(['Year', 'Make', 'Model', 'Vehicle_Class','Transmission',\n",
    "                                'Fuel_Type', 'CO2_Rating', 'Smog_Rating'], axis = 1)\n",
    "CO2EmissionN.head()"
   ]
  },
  {
   "cell_type": "code",
   "execution_count": 6,
   "id": "58fa9fdd",
   "metadata": {},
   "outputs": [],
   "source": [
    "# Identify the Target and Independent Variables\n",
    "\n",
    "IndepVar =[]\n",
    "\n",
    "for col in CO2EmissionN.columns:\n",
    "    if col != 'CO2_Emissions':\n",
    "        IndepVar.append(col)\n",
    "        \n",
    "TargetVar = 'CO2_Emissions'\n",
    "\n",
    "x = CO2EmissionN[IndepVar]\n",
    "y = CO2EmissionN[TargetVar]"
   ]
  },
  {
   "cell_type": "code",
   "execution_count": 7,
   "id": "f743ae78",
   "metadata": {},
   "outputs": [
    {
     "data": {
      "text/html": [
       "<div>\n",
       "<style scoped>\n",
       "    .dataframe tbody tr th:only-of-type {\n",
       "        vertical-align: middle;\n",
       "    }\n",
       "\n",
       "    .dataframe tbody tr th {\n",
       "        vertical-align: top;\n",
       "    }\n",
       "\n",
       "    .dataframe thead th {\n",
       "        text-align: right;\n",
       "    }\n",
       "</style>\n",
       "<table border=\"1\" class=\"dataframe\">\n",
       "  <thead>\n",
       "    <tr style=\"text-align: right;\">\n",
       "      <th></th>\n",
       "      <th>Engine_Size</th>\n",
       "      <th>Cylinders</th>\n",
       "      <th>Fuel_Consumption_city</th>\n",
       "      <th>Fuel_Consumption_Hwy</th>\n",
       "      <th>Fuel_Consumption_Comb</th>\n",
       "      <th>Fuel_Consumption_Comb_MPG</th>\n",
       "    </tr>\n",
       "  </thead>\n",
       "  <tbody>\n",
       "    <tr>\n",
       "      <th>0</th>\n",
       "      <td>2.4</td>\n",
       "      <td>4</td>\n",
       "      <td>9.9</td>\n",
       "      <td>7.0</td>\n",
       "      <td>8.6</td>\n",
       "      <td>33</td>\n",
       "    </tr>\n",
       "    <tr>\n",
       "      <th>1</th>\n",
       "      <td>3.5</td>\n",
       "      <td>6</td>\n",
       "      <td>11.1</td>\n",
       "      <td>10.8</td>\n",
       "      <td>11.0</td>\n",
       "      <td>26</td>\n",
       "    </tr>\n",
       "    <tr>\n",
       "      <th>2</th>\n",
       "      <td>2.0</td>\n",
       "      <td>4</td>\n",
       "      <td>11.0</td>\n",
       "      <td>8.6</td>\n",
       "      <td>9.9</td>\n",
       "      <td>29</td>\n",
       "    </tr>\n",
       "    <tr>\n",
       "      <th>3</th>\n",
       "      <td>2.0</td>\n",
       "      <td>4</td>\n",
       "      <td>11.3</td>\n",
       "      <td>9.1</td>\n",
       "      <td>10.3</td>\n",
       "      <td>27</td>\n",
       "    </tr>\n",
       "    <tr>\n",
       "      <th>4</th>\n",
       "      <td>2.0</td>\n",
       "      <td>4</td>\n",
       "      <td>11.2</td>\n",
       "      <td>8.0</td>\n",
       "      <td>9.8</td>\n",
       "      <td>29</td>\n",
       "    </tr>\n",
       "  </tbody>\n",
       "</table>\n",
       "</div>"
      ],
      "text/plain": [
       "   Engine_Size  Cylinders  Fuel_Consumption_city  Fuel_Consumption_Hwy  \\\n",
       "0          2.4          4                    9.9                   7.0   \n",
       "1          3.5          6                   11.1                  10.8   \n",
       "2          2.0          4                   11.0                   8.6   \n",
       "3          2.0          4                   11.3                   9.1   \n",
       "4          2.0          4                   11.2                   8.0   \n",
       "\n",
       "   Fuel_Consumption_Comb  Fuel_Consumption_Comb_MPG  \n",
       "0                    8.6                         33  \n",
       "1                   11.0                         26  \n",
       "2                    9.9                         29  \n",
       "3                   10.3                         27  \n",
       "4                    9.8                         29  "
      ]
     },
     "execution_count": 7,
     "metadata": {},
     "output_type": "execute_result"
    }
   ],
   "source": [
    "x.head()"
   ]
  },
  {
   "cell_type": "code",
   "execution_count": 8,
   "id": "3df32872",
   "metadata": {},
   "outputs": [
    {
     "data": {
      "text/plain": [
       "0    199\n",
       "1    256\n",
       "2    232\n",
       "3    242\n",
       "4    230\n",
       "Name: CO2_Emissions, dtype: int64"
      ]
     },
     "execution_count": 8,
     "metadata": {},
     "output_type": "execute_result"
    }
   ],
   "source": [
    "y.head()"
   ]
  },
  {
   "cell_type": "code",
   "execution_count": 9,
   "id": "4bfb4baf",
   "metadata": {},
   "outputs": [],
   "source": [
    "from sklearn.model_selection import train_test_split\n",
    "\n",
    "x_train, x_test, y_train, y_test = train_test_split(x, y, test_size = 0.3, random_state = 42)"
   ]
  },
  {
   "cell_type": "code",
   "execution_count": 10,
   "id": "92d82f3d",
   "metadata": {},
   "outputs": [
    {
     "data": {
      "text/plain": [
       "LinearRegression()"
      ]
     },
     "execution_count": 10,
     "metadata": {},
     "output_type": "execute_result"
    }
   ],
   "source": [
    "from sklearn.linear_model import LinearRegression\n",
    "\n",
    "mulreg = LinearRegression()\n",
    "mulreg.fit(x_train, y_train)"
   ]
  },
  {
   "cell_type": "code",
   "execution_count": 11,
   "id": "1bd364db",
   "metadata": {},
   "outputs": [],
   "source": [
    "y_pred = mulreg.predict(x_test)"
   ]
  },
  {
   "cell_type": "code",
   "execution_count": 12,
   "id": "577e2522",
   "metadata": {},
   "outputs": [
    {
     "name": "stdout",
     "output_type": "stream",
     "text": [
      "Mean Absolute Error (MAE): 6.589\n",
      "Mean Squared Error (MSE): 255.165\n",
      "Root Mean Squared Error (RMSE): 15.974\n",
      "Mean Absolute Percentage Error (MAPE): 2.0 %\n",
      "R2_score: 0.926954\n"
     ]
    }
   ],
   "source": [
    "from sklearn import metrics\n",
    "\n",
    "print('Mean Absolute Error (MAE):', round(metrics.mean_absolute_error(y_test,y_pred),3))\n",
    "print('Mean Squared Error (MSE):', round(metrics.mean_squared_error(y_test,y_pred),3))\n",
    "print('Root Mean Squared Error (RMSE):', round(np.sqrt(metrics.mean_squared_error(y_test,y_pred)),3))\n",
    "print('Mean Absolute Percentage Error (MAPE):', round(metrics.mean_absolute_percentage_error(y_test,y_pred),2)*100, '%')\n",
    "print('R2_score:', round(metrics.r2_score(y_test,y_pred),6))"
   ]
  },
  {
   "cell_type": "markdown",
   "id": "6fccbfd7",
   "metadata": {},
   "source": [
    "# Decision Tree Regressor\n"
   ]
  },
  {
   "cell_type": "code",
   "execution_count": 13,
   "id": "3b01d6ae",
   "metadata": {},
   "outputs": [
    {
     "data": {
      "text/plain": [
       "DecisionTreeRegressor(criterion='mae', max_depth=3)"
      ]
     },
     "execution_count": 13,
     "metadata": {},
     "output_type": "execute_result"
    }
   ],
   "source": [
    "# Build the Decision Tree Regressor model\n",
    "from sklearn.tree import DecisionTreeRegressor\n",
    "dcreg = DecisionTreeRegressor(criterion = 'mae', splitter = 'best', max_depth = 3)\n",
    "dcreg.fit(x_train, y_train)"
   ]
  },
  {
   "cell_type": "code",
   "execution_count": 14,
   "id": "a78626f9",
   "metadata": {},
   "outputs": [
    {
     "name": "stdout",
     "output_type": "stream",
     "text": [
      "{'ccp_alpha': 0.0, 'criterion': 'mae', 'max_depth': 3, 'max_features': None, 'max_leaf_nodes': None, 'min_impurity_decrease': 0.0, 'min_impurity_split': None, 'min_samples_leaf': 1, 'min_samples_split': 2, 'min_weight_fraction_leaf': 0.0, 'random_state': None, 'splitter': 'best'}\n"
     ]
    }
   ],
   "source": [
    "# To display the algorithm paramaters\n",
    "params2 = dcreg.get_params()\n",
    "print(params2)"
   ]
  },
  {
   "cell_type": "code",
   "execution_count": 15,
   "id": "7b667ffe",
   "metadata": {},
   "outputs": [],
   "source": [
    "# Predict the model with test dataset\n",
    "y_pred1 = dcreg.predict(x_test)"
   ]
  },
  {
   "cell_type": "code",
   "execution_count": 16,
   "id": "07e4eb59",
   "metadata": {},
   "outputs": [
    {
     "name": "stdout",
     "output_type": "stream",
     "text": [
      "Mean Absolute Error (MAE): 10.702\n",
      "Mean Squared Error (MSE): 312.106\n",
      "Root Mean Squared Error (RMSE): 17.667\n",
      "Mean Absolute Percentage Error (MAPE): 4.0 %\n",
      "R2_score: 0.910654\n"
     ]
    }
   ],
   "source": [
    "from sklearn import metrics\n",
    "\n",
    "print('Mean Absolute Error (MAE):', round(metrics.mean_absolute_error(y_test,y_pred1),3))\n",
    "print('Mean Squared Error (MSE):', round(metrics.mean_squared_error(y_test,y_pred1),3))\n",
    "print('Root Mean Squared Error (RMSE):', round(np.sqrt(metrics.mean_squared_error(y_test,y_pred1)),3))\n",
    "print('Mean Absolute Percentage Error (MAPE):', round(metrics.mean_absolute_percentage_error(y_test,y_pred1),2)*100, '%')\n",
    "print('R2_score:', round(metrics.r2_score(y_test,y_pred1),6))"
   ]
  },
  {
   "cell_type": "code",
   "execution_count": 17,
   "id": "368cd91f",
   "metadata": {},
   "outputs": [
    {
     "name": "stdout",
     "output_type": "stream",
     "text": [
      "Adj R Square:  0.910042\n"
     ]
    }
   ],
   "source": [
    "# Calculate Adjusted R squared values\n",
    "r_squared = round(metrics.r2_score(y_test, y_pred1),6)\n",
    "adjusted_r_squared = round(1 - (1-r_squared)*(len(y)-1)/(len(y)-x.shape[1]-1),6)\n",
    "print('Adj R Square: ', adjusted_r_squared)"
   ]
  },
  {
   "cell_type": "code",
   "execution_count": 18,
   "id": "3a5aa314",
   "metadata": {},
   "outputs": [
    {
     "name": "stdout",
     "output_type": "stream",
     "text": [
      "<class 'pandas.core.frame.DataFrame'>\n",
      "RangeIndex: 883 entries, 0 to 882\n",
      "Data columns (total 7 columns):\n",
      " #   Column                     Non-Null Count  Dtype  \n",
      "---  ------                     --------------  -----  \n",
      " 0   Engine_Size                883 non-null    float64\n",
      " 1   Cylinders                  883 non-null    int64  \n",
      " 2   Fuel_Consumption_city      883 non-null    float64\n",
      " 3   Fuel_Consumption_Hwy       883 non-null    float64\n",
      " 4   Fuel_Consumption_Comb      883 non-null    float64\n",
      " 5   Fuel_Consumption_Comb_MPG  883 non-null    int64  \n",
      " 6   CO2_Emissions              883 non-null    int64  \n",
      "dtypes: float64(4), int64(3)\n",
      "memory usage: 48.4 KB\n"
     ]
    }
   ],
   "source": [
    "CO2EmissionN.info()"
   ]
  },
  {
   "cell_type": "code",
   "execution_count": 19,
   "id": "458d9fef",
   "metadata": {},
   "outputs": [
    {
     "name": "stdout",
     "output_type": "stream",
     "text": [
      "Feature: 0, Score: 0.00000\n",
      "Feature: 1, Score: 0.00000\n",
      "Feature: 2, Score: 0.50923\n",
      "Feature: 3, Score: 0.00000\n",
      "Feature: 4, Score: 0.49077\n",
      "Feature: 5, Score: 0.00000\n"
     ]
    },
    {
     "data": {
      "image/png": "[encoded data removed]",
      "text/plain": [
       "<Figure size 432x288 with 1 Axes>"
      ]
     },
     "metadata": {
      "needs_background": "light"
     },
     "output_type": "display_data"
    }
   ],
   "source": [
    "# Get feature importance\n",
    "from matplotlib import pyplot\n",
    "importance = dcreg.feature_importances_\n",
    "# Summarize feature importance\n",
    "for i,v in enumerate(importance):\n",
    " print('Feature: %0d, Score: %.5f' % (i,v))\n",
    "# Plot feature importance\n",
    "pyplot.bar([x for x in range(len(importance))], importance)\n",
    "pyplot.show()"
   ]
  },
  {
   "cell_type": "code",
   "execution_count": null,
   "id": "18859fc6",
   "metadata": {},
   "outputs": [],
   "source": []
  }
 ],
 "metadata": {
  "kernelspec": {
   "display_name": "Python 3",
   "language": "python",
   "name": "python3"
  },
  "language_info": {
   "codemirror_mode": {
    "name": "ipython",
    "version": 3
   },
   "file_extension": ".py",
   "mimetype": "text/x-python",
   "name": "python",
   "nbconvert_exporter": "python",
   "pygments_lexer": "ipython3",
   "version": "3.8.8"
  }
 },
 "nbformat": 4,
 "nbformat_minor": 5
}
