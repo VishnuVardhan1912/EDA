{
 "cells": [
  {
   "cell_type": "code",
   "execution_count": 1,
   "id": "6dcf668d",
   "metadata": {},
   "outputs": [],
   "source": [
    "# Importing the libraries \n",
    "\n",
    "import pandas as pd\n",
    "import numpy as np\n",
    "import matplotlib.pyplot as plt\n",
    "\n",
    "# Ignore harmless warnings\n",
    "\n",
    "import warnings \n",
    "warnings.filterwarnings(\"ignore\")\n",
    "\n",
    "# Set to display all columns in dataset\n",
    "\n",
    "pd.set_option(\"display.max_columns\", 50)\n",
    "\n",
    "# import psql to run queries\n",
    "\n",
    "import pandasql as psql"
   ]
  },
  {
   "cell_type": "code",
   "execution_count": 2,
   "id": "a608e1e0",
   "metadata": {},
   "outputs": [
    {
     "data": {
      "text/html": [
       "<div>\n",
       "<style scoped>\n",
       "    .dataframe tbody tr th:only-of-type {\n",
       "        vertical-align: middle;\n",
       "    }\n",
       "\n",
       "    .dataframe tbody tr th {\n",
       "        vertical-align: top;\n",
       "    }\n",
       "\n",
       "    .dataframe thead th {\n",
       "        text-align: right;\n",
       "    }\n",
       "</style>\n",
       "<table border=\"1\" class=\"dataframe\">\n",
       "  <thead>\n",
       "    <tr style=\"text-align: right;\">\n",
       "      <th></th>\n",
       "      <th>AT</th>\n",
       "      <th>V</th>\n",
       "      <th>AP</th>\n",
       "      <th>RH</th>\n",
       "      <th>PE</th>\n",
       "    </tr>\n",
       "  </thead>\n",
       "  <tbody>\n",
       "    <tr>\n",
       "      <th>0</th>\n",
       "      <td>14.96</td>\n",
       "      <td>41.76</td>\n",
       "      <td>1024.07</td>\n",
       "      <td>73.17</td>\n",
       "      <td>463.26</td>\n",
       "    </tr>\n",
       "    <tr>\n",
       "      <th>1</th>\n",
       "      <td>25.18</td>\n",
       "      <td>62.96</td>\n",
       "      <td>1020.04</td>\n",
       "      <td>59.08</td>\n",
       "      <td>444.37</td>\n",
       "    </tr>\n",
       "    <tr>\n",
       "      <th>2</th>\n",
       "      <td>5.11</td>\n",
       "      <td>39.40</td>\n",
       "      <td>1012.16</td>\n",
       "      <td>92.14</td>\n",
       "      <td>488.56</td>\n",
       "    </tr>\n",
       "    <tr>\n",
       "      <th>3</th>\n",
       "      <td>20.86</td>\n",
       "      <td>57.32</td>\n",
       "      <td>1010.24</td>\n",
       "      <td>76.64</td>\n",
       "      <td>446.48</td>\n",
       "    </tr>\n",
       "    <tr>\n",
       "      <th>4</th>\n",
       "      <td>10.82</td>\n",
       "      <td>37.50</td>\n",
       "      <td>1009.23</td>\n",
       "      <td>96.62</td>\n",
       "      <td>473.90</td>\n",
       "    </tr>\n",
       "  </tbody>\n",
       "</table>\n",
       "</div>"
      ],
      "text/plain": [
       "      AT      V       AP     RH      PE\n",
       "0  14.96  41.76  1024.07  73.17  463.26\n",
       "1  25.18  62.96  1020.04  59.08  444.37\n",
       "2   5.11  39.40  1012.16  92.14  488.56\n",
       "3  20.86  57.32  1010.24  76.64  446.48\n",
       "4  10.82  37.50  1009.23  96.62  473.90"
      ]
     },
     "execution_count": 2,
     "metadata": {},
     "output_type": "execute_result"
    }
   ],
   "source": [
    "# Load the data from all the work sheets \n",
    "    \n",
    "power_plant_T0 = pd.read_excel(r\"D:\\iiit notes\\Programming\\AI\\Internship practice\\61 season 23- Aug - 2021\\Power_Plant.xlsx\", sheet_name=0) \n",
    "power_plant_T0.head()"
   ]
  },
  {
   "cell_type": "code",
   "execution_count": 3,
   "id": "05c65fbd",
   "metadata": {},
   "outputs": [
    {
     "name": "stdout",
     "output_type": "stream",
     "text": [
      "<class 'pandas.core.frame.DataFrame'>\n",
      "RangeIndex: 9568 entries, 0 to 9567\n",
      "Data columns (total 5 columns):\n",
      " #   Column  Non-Null Count  Dtype  \n",
      "---  ------  --------------  -----  \n",
      " 0   AT      9568 non-null   float64\n",
      " 1   V       9568 non-null   float64\n",
      " 2   AP      9568 non-null   float64\n",
      " 3   RH      9568 non-null   float64\n",
      " 4   PE      9568 non-null   float64\n",
      "dtypes: float64(5)\n",
      "memory usage: 373.9 KB\n"
     ]
    }
   ],
   "source": [
    "# Display the dataset information\n",
    "\n",
    "power_plant_T0.info()"
   ]
  },
  {
   "cell_type": "code",
   "execution_count": 4,
   "id": "66a87123",
   "metadata": {},
   "outputs": [
    {
     "data": {
      "text/html": [
       "<div>\n",
       "<style scoped>\n",
       "    .dataframe tbody tr th:only-of-type {\n",
       "        vertical-align: middle;\n",
       "    }\n",
       "\n",
       "    .dataframe tbody tr th {\n",
       "        vertical-align: top;\n",
       "    }\n",
       "\n",
       "    .dataframe thead th {\n",
       "        text-align: right;\n",
       "    }\n",
       "</style>\n",
       "<table border=\"1\" class=\"dataframe\">\n",
       "  <thead>\n",
       "    <tr style=\"text-align: right;\">\n",
       "      <th></th>\n",
       "      <th>AT</th>\n",
       "      <th>V</th>\n",
       "      <th>AP</th>\n",
       "      <th>RH</th>\n",
       "      <th>PE</th>\n",
       "    </tr>\n",
       "  </thead>\n",
       "  <tbody>\n",
       "    <tr>\n",
       "      <th>AT</th>\n",
       "      <td>1.000000</td>\n",
       "      <td>0.844107</td>\n",
       "      <td>-0.507549</td>\n",
       "      <td>-0.542535</td>\n",
       "      <td>-0.948128</td>\n",
       "    </tr>\n",
       "    <tr>\n",
       "      <th>V</th>\n",
       "      <td>0.844107</td>\n",
       "      <td>1.000000</td>\n",
       "      <td>-0.413502</td>\n",
       "      <td>-0.312187</td>\n",
       "      <td>-0.869780</td>\n",
       "    </tr>\n",
       "    <tr>\n",
       "      <th>AP</th>\n",
       "      <td>-0.507549</td>\n",
       "      <td>-0.413502</td>\n",
       "      <td>1.000000</td>\n",
       "      <td>0.099574</td>\n",
       "      <td>0.518429</td>\n",
       "    </tr>\n",
       "    <tr>\n",
       "      <th>RH</th>\n",
       "      <td>-0.542535</td>\n",
       "      <td>-0.312187</td>\n",
       "      <td>0.099574</td>\n",
       "      <td>1.000000</td>\n",
       "      <td>0.389794</td>\n",
       "    </tr>\n",
       "    <tr>\n",
       "      <th>PE</th>\n",
       "      <td>-0.948128</td>\n",
       "      <td>-0.869780</td>\n",
       "      <td>0.518429</td>\n",
       "      <td>0.389794</td>\n",
       "      <td>1.000000</td>\n",
       "    </tr>\n",
       "  </tbody>\n",
       "</table>\n",
       "</div>"
      ],
      "text/plain": [
       "          AT         V        AP        RH        PE\n",
       "AT  1.000000  0.844107 -0.507549 -0.542535 -0.948128\n",
       "V   0.844107  1.000000 -0.413502 -0.312187 -0.869780\n",
       "AP -0.507549 -0.413502  1.000000  0.099574  0.518429\n",
       "RH -0.542535 -0.312187  0.099574  1.000000  0.389794\n",
       "PE -0.948128 -0.869780  0.518429  0.389794  1.000000"
      ]
     },
     "execution_count": 4,
     "metadata": {},
     "output_type": "execute_result"
    }
   ],
   "source": [
    "# Display the corr of data\n",
    "\n",
    "power_plant_T0.corr()"
   ]
  },
  {
   "cell_type": "code",
   "execution_count": 5,
   "id": "2422c46b",
   "metadata": {},
   "outputs": [],
   "source": [
    "# Identify the independent and Target (dependent) variables \n",
    "\n",
    "IndepVar = [] \n",
    "for col in power_plant_T0.columns: \n",
    "    if col != 'PE': \n",
    "        IndepVar.append(col) \n",
    "        TargetVar = 'PE' \n",
    "\n",
    "x = power_plant_T0[IndepVar] \n",
    "y = power_plant_T0[TargetVar]"
   ]
  },
  {
   "cell_type": "code",
   "execution_count": 6,
   "id": "dc1bd28e",
   "metadata": {},
   "outputs": [],
   "source": [
    "# Split the data into train and test (random sampling) \n",
    "\n",
    "from sklearn.model_selection import train_test_split \n",
    "\n",
    "x_train, x_test, y_train, y_test = train_test_split(x, y, test_size=0.3, random_state=42) \n",
    "x_test_F1 = x_test.copy()"
   ]
  },
  {
   "cell_type": "code",
   "execution_count": 7,
   "id": "efd5865b",
   "metadata": {},
   "outputs": [],
   "source": [
    "# Scaling the features by using MinMaxScaler\n",
    "\n",
    "from sklearn.preprocessing import MinMaxScaler\n",
    "\n",
    "mmscaler = MinMaxScaler(feature_range=(0,1))\n",
    "\n",
    "x_train = mmscaler.fit_transform(x_train)\n",
    "x_train = pd.DataFrame(x_train)\n",
    "\n",
    "x_test = mmscaler.fit_transform(x_test)\n",
    "x_test = pd.DataFrame(x_test)"
   ]
  },
  {
   "cell_type": "markdown",
   "id": "8f521846",
   "metadata": {},
   "source": [
    "# Multi Regression"
   ]
  },
  {
   "cell_type": "code",
   "execution_count": 8,
   "id": "d072a449",
   "metadata": {},
   "outputs": [
    {
     "data": {
      "text/plain": [
       "LinearRegression()"
      ]
     },
     "execution_count": 8,
     "metadata": {},
     "output_type": "execute_result"
    }
   ],
   "source": [
    "# Train the Multi Regression algorithm and build the model with train dataset\n",
    "\n",
    "from sklearn.linear_model import LinearRegression\n",
    "\n",
    "modelMR = LinearRegression(fit_intercept=True, normalize=False, copy_X=True, n_jobs=None, positive=False)\n",
    "\n",
    "# Fit the model with train dataset\n",
    "\n",
    "modelMR.fit(x_train, y_train)"
   ]
  },
  {
   "cell_type": "code",
   "execution_count": 9,
   "id": "3d7781ed",
   "metadata": {},
   "outputs": [
    {
     "name": "stdout",
     "output_type": "stream",
     "text": [
      "Mean Absolute Error (MAE): 3.929\n",
      "Mean Squared Error (MSE): 24.233\n",
      "Root Mean Squared Error (RMSE): 4.923\n",
      "Mean Absolute Percentage Error (MAPE): 0.87 %\n",
      "R2_Score: 0.917\n",
      "Adj R Square:  0.917\n"
     ]
    }
   ],
   "source": [
    "# Predict the model with test dataset\n",
    "\n",
    "y1_pred = modelMR.predict(x_test)\n",
    "\n",
    "# Evaluation metrics for Regression analysis\n",
    "\n",
    "from sklearn import metrics\n",
    "\n",
    "print(\"Mean Absolute Error (MAE):\", round(metrics.mean_absolute_error(y_test, y1_pred), 3))\n",
    "print(\"Mean Squared Error (MSE):\", round(metrics.mean_squared_error(y_test, y1_pred), 3))\n",
    "print(\"Root Mean Squared Error (RMSE):\", round(np.sqrt(metrics.mean_squared_error(y_test, y1_pred)), 3))\n",
    "print(\"Mean Absolute Percentage Error (MAPE):\", round(metrics.mean_absolute_percentage_error(y_test, y1_pred)*100, 3), '%')\n",
    "print(\"R2_Score:\", round(metrics.r2_score(y_test, y1_pred), 3))\n",
    "\n",
    "# Calculate Adjusted R squared value\n",
    "\n",
    "r_squared = round(metrics.r2_score(y_test, y1_pred), 3)\n",
    "adjusted_r_squared = round(1 - (1-r_squared)*(len(y)-1)/(len(y)-x.shape[1]-1),3) \n",
    "\n",
    "print('Adj R Square: ', adjusted_r_squared)"
   ]
  },
  {
   "cell_type": "code",
   "execution_count": 10,
   "id": "ed28febd",
   "metadata": {},
   "outputs": [
    {
     "data": {
      "text/html": [
       "<div>\n",
       "<style scoped>\n",
       "    .dataframe tbody tr th:only-of-type {\n",
       "        vertical-align: middle;\n",
       "    }\n",
       "\n",
       "    .dataframe tbody tr th {\n",
       "        vertical-align: top;\n",
       "    }\n",
       "\n",
       "    .dataframe thead th {\n",
       "        text-align: right;\n",
       "    }\n",
       "</style>\n",
       "<table border=\"1\" class=\"dataframe\">\n",
       "  <thead>\n",
       "    <tr style=\"text-align: right;\">\n",
       "      <th></th>\n",
       "      <th>AT</th>\n",
       "      <th>V</th>\n",
       "      <th>AP</th>\n",
       "      <th>RH</th>\n",
       "      <th>PE</th>\n",
       "      <th>PE_Pred</th>\n",
       "    </tr>\n",
       "  </thead>\n",
       "  <tbody>\n",
       "    <tr>\n",
       "      <th>1416</th>\n",
       "      <td>25.21</td>\n",
       "      <td>60.37</td>\n",
       "      <td>1006.01</td>\n",
       "      <td>73.14</td>\n",
       "      <td>436.23</td>\n",
       "      <td>443.585763</td>\n",
       "    </tr>\n",
       "    <tr>\n",
       "      <th>8514</th>\n",
       "      <td>14.92</td>\n",
       "      <td>46.18</td>\n",
       "      <td>1014.21</td>\n",
       "      <td>98.82</td>\n",
       "      <td>465.63</td>\n",
       "      <td>463.276020</td>\n",
       "    </tr>\n",
       "    <tr>\n",
       "      <th>26</th>\n",
       "      <td>14.60</td>\n",
       "      <td>39.31</td>\n",
       "      <td>1011.11</td>\n",
       "      <td>72.52</td>\n",
       "      <td>464.16</td>\n",
       "      <td>469.523466</td>\n",
       "    </tr>\n",
       "    <tr>\n",
       "      <th>2485</th>\n",
       "      <td>22.56</td>\n",
       "      <td>70.79</td>\n",
       "      <td>1005.85</td>\n",
       "      <td>93.09</td>\n",
       "      <td>435.14</td>\n",
       "      <td>443.127593</td>\n",
       "    </tr>\n",
       "    <tr>\n",
       "      <th>8930</th>\n",
       "      <td>14.80</td>\n",
       "      <td>43.99</td>\n",
       "      <td>1022.89</td>\n",
       "      <td>85.25</td>\n",
       "      <td>461.97</td>\n",
       "      <td>466.603954</td>\n",
       "    </tr>\n",
       "    <tr>\n",
       "      <th>3656</th>\n",
       "      <td>13.20</td>\n",
       "      <td>41.78</td>\n",
       "      <td>1010.49</td>\n",
       "      <td>64.96</td>\n",
       "      <td>468.58</td>\n",
       "      <td>472.834337</td>\n",
       "    </tr>\n",
       "    <tr>\n",
       "      <th>5418</th>\n",
       "      <td>14.32</td>\n",
       "      <td>71.14</td>\n",
       "      <td>1019.87</td>\n",
       "      <td>79.15</td>\n",
       "      <td>460.02</td>\n",
       "      <td>461.981357</td>\n",
       "    </tr>\n",
       "    <tr>\n",
       "      <th>4827</th>\n",
       "      <td>19.08</td>\n",
       "      <td>46.93</td>\n",
       "      <td>1010.60</td>\n",
       "      <td>75.21</td>\n",
       "      <td>454.45</td>\n",
       "      <td>458.567048</td>\n",
       "    </tr>\n",
       "    <tr>\n",
       "      <th>4718</th>\n",
       "      <td>15.67</td>\n",
       "      <td>38.62</td>\n",
       "      <td>1015.76</td>\n",
       "      <td>66.29</td>\n",
       "      <td>463.17</td>\n",
       "      <td>468.821292</td>\n",
       "    </tr>\n",
       "    <tr>\n",
       "      <th>5503</th>\n",
       "      <td>23.97</td>\n",
       "      <td>68.67</td>\n",
       "      <td>1006.63</td>\n",
       "      <td>76.83</td>\n",
       "      <td>441.53</td>\n",
       "      <td>443.496324</td>\n",
       "    </tr>\n",
       "  </tbody>\n",
       "</table>\n",
       "</div>"
      ],
      "text/plain": [
       "         AT      V       AP     RH      PE     PE_Pred\n",
       "1416  25.21  60.37  1006.01  73.14  436.23  443.585763\n",
       "8514  14.92  46.18  1014.21  98.82  465.63  463.276020\n",
       "26    14.60  39.31  1011.11  72.52  464.16  469.523466\n",
       "2485  22.56  70.79  1005.85  93.09  435.14  443.127593\n",
       "8930  14.80  43.99  1022.89  85.25  461.97  466.603954\n",
       "3656  13.20  41.78  1010.49  64.96  468.58  472.834337\n",
       "5418  14.32  71.14  1019.87  79.15  460.02  461.981357\n",
       "4827  19.08  46.93  1010.60  75.21  454.45  458.567048\n",
       "4718  15.67  38.62  1015.76  66.29  463.17  468.821292\n",
       "5503  23.97  68.67  1006.63  76.83  441.53  443.496324"
      ]
     },
     "execution_count": 10,
     "metadata": {},
     "output_type": "execute_result"
    }
   ],
   "source": [
    "Results = pd.DataFrame({'PE': y_test, 'PE_Pred':y1_pred})\n",
    "\n",
    "# Merge two DataFrames on index of both the dataframes\n",
    "\n",
    "ResultsFinal = x_test_F1.merge(Results, left_index=True, right_index=True)\n",
    "ResultsFinal.sample(10)"
   ]
  },
  {
   "cell_type": "markdown",
   "id": "fade5879",
   "metadata": {},
   "source": [
    "# XGBoost Regressor"
   ]
  },
  {
   "cell_type": "code",
   "execution_count": 11,
   "id": "0636302a",
   "metadata": {},
   "outputs": [
    {
     "name": "stdout",
     "output_type": "stream",
     "text": [
      "[20:16:56] WARNING: C:/Users/Administrator/workspace/xgboost-win64_release_1.4.0/src/objective/regression_obj.cu:171: reg:linear is now deprecated in favor of reg:squarederror.\n",
      "Mean Absolute Error (MAE): 11.664\n",
      "Mean Squared Error (MSE): 154.616\n",
      "Root Mean Squared Error (RMSE): 12.434\n",
      "Mean Absolute Percentage Error (MAPE): 2.6 %\n",
      "R2_score: 0.473\n",
      "Adj R Square:  0.473\n"
     ]
    }
   ],
   "source": [
    "# Train the XGBoost Regression algorithm and build the model with train dataset\n",
    "\n",
    "import xgboost as xgb \n",
    "\n",
    "modelXGR = xgb.XGBRegressor(objective ='reg:linear', n_estimators = 10, seed = 123) \n",
    "\n",
    "modelXGR.fit(x_train, y_train) \n",
    "\n",
    "# Predict the model with test dataset \n",
    "\n",
    "y2_pred = modelXGR.predict(x_test) \n",
    "\n",
    "# Evaluation metrics for Regression analysis \n",
    "\n",
    "from sklearn import metrics \n",
    "\n",
    "print('Mean Absolute Error (MAE):', round(metrics.mean_absolute_error(y_test, y2_pred),3)) \n",
    "print('Mean Squared Error (MSE):', round(metrics.mean_squared_error(y_test, y2_pred),3)) \n",
    "print('Root Mean Squared Error (RMSE):', round(np.sqrt(metrics.mean_squared_error(y_test, y2_pred)),3)) \n",
    "print('Mean Absolute Percentage Error (MAPE):', round(metrics.mean_absolute_percentage_error(y_test, y2_pred), 3) * 100, '%') \n",
    "print('R2_score:', round(metrics.r2_score(y_test, y2_pred),3)) \n",
    "\n",
    "# Calculate Adjusted R squared values \n",
    "\n",
    "r_squared = round(metrics.r2_score(y_test, y2_pred),3) \n",
    "adjusted_r_squared = round(1 - (1-r_squared)*(len(y)-1)/(len(y)-x.shape[1]-1),3) \n",
    "print('Adj R Square: ', adjusted_r_squared)"
   ]
  },
  {
   "cell_type": "markdown",
   "id": "421348c3",
   "metadata": {},
   "source": [
    "# Gradient Boosting Regressor"
   ]
  },
  {
   "cell_type": "code",
   "execution_count": 12,
   "id": "62862f69",
   "metadata": {},
   "outputs": [
    {
     "name": "stdout",
     "output_type": "stream",
     "text": [
      "Mean Absolute Error (MAE): 3.365\n",
      "Mean Squared Error (MSE): 18.898\n",
      "Root Mean Squared Error (RMSE): 4.347\n",
      "Mean Absolute Percentage Error (MAPE): 0.74 %\n",
      "R2_score: 0.936\n",
      "Adj R Square:  0.936\n"
     ]
    }
   ],
   "source": [
    "# Train the Gradient Boosting Regression algorithm and build the model with train dataset\n",
    "\n",
    "from sklearn.ensemble import GradientBoostingRegressor\n",
    "\n",
    "modelGBR = GradientBoostingRegressor(loss='ls', learning_rate=0.1, n_estimators=100, subsample=1.0, criterion='friedman_mse', \n",
    "                                     min_samples_split=2, min_samples_leaf=1, min_weight_fraction_leaf=0.0, max_depth=3, \n",
    "                                     min_impurity_decrease=0.0, min_impurity_split=None, init=None, random_state=None, \n",
    "                                     max_features=None, alpha=0.9, verbose=0, max_leaf_nodes=None, warm_start=False, \n",
    "                                     validation_fraction=0.1, n_iter_no_change=None, tol=0.0001, ccp_alpha=0.0)\n",
    "\n",
    "modelGBR.fit(x_train, y_train)\n",
    "\n",
    "# Predict the model with test dataset\n",
    "\n",
    "y3_pred = modelGBR.predict(x_test)\n",
    "\n",
    "# Evaluation metrics for Regression analysis \n",
    "\n",
    "from sklearn import metrics \n",
    "\n",
    "print('Mean Absolute Error (MAE):', round(metrics.mean_absolute_error(y_test, y3_pred),3)) \n",
    "print('Mean Squared Error (MSE):', round(metrics.mean_squared_error(y_test, y3_pred),3)) \n",
    "print('Root Mean Squared Error (RMSE):', round(np.sqrt(metrics.mean_squared_error(y_test, y3_pred)),3)) \n",
    "print('Mean Absolute Percentage Error (MAPE):', round(metrics.mean_absolute_percentage_error(y_test, y3_pred), 4) * 100, '%') \n",
    "print('R2_score:', round(metrics.r2_score(y_test, y3_pred),3)) \n",
    "\n",
    "# Calculate Adjusted R squared values \n",
    "\n",
    "r_squared = round(metrics.r2_score(y_test, y3_pred),3) \n",
    "adjusted_r_squared = round(1 - (1-r_squared)*(len(y)-1)/(len(y)-x.shape[1]-1),3) \n",
    "print('Adj R Square: ', adjusted_r_squared)"
   ]
  },
  {
   "cell_type": "markdown",
   "id": "3f9c00f5",
   "metadata": {},
   "source": [
    "# Random Forest Regressor"
   ]
  },
  {
   "cell_type": "code",
   "execution_count": 13,
   "id": "f64916b4",
   "metadata": {},
   "outputs": [
    {
     "name": "stdout",
     "output_type": "stream",
     "text": [
      "Mean Absolute Error (MAE): 3.3\n",
      "Mean Squared Error (MSE): 18.985\n",
      "Root Mean Squared Error (RMSE): 4.357\n",
      "Mean Absolute Percentage Error (MAPE): 0.73 %\n",
      "R2_score: 0.935\n",
      "Adj R Square:  0.935\n"
     ]
    }
   ],
   "source": [
    "# Train the Random Forest Regression algorithm and build the model with train dataset\n",
    "\n",
    "from sklearn.ensemble import RandomForestRegressor\n",
    "\n",
    "modelRFR = RandomForestRegressor(n_estimators=100,criterion='mse', max_depth=None, min_samples_split=2, min_samples_leaf=1, \n",
    "                                 min_weight_fraction_leaf=0.0, max_features='auto', max_leaf_nodes=None, \n",
    "                                 min_impurity_decrease=0.0, min_impurity_split=None, bootstrap=True, oob_score=False, \n",
    "                                 n_jobs=None, random_state=None, verbose=0, warm_start=False, ccp_alpha=0.0, max_samples=None)\n",
    "\n",
    "modelRFR.fit(x_train, y_train)\n",
    "\n",
    "# Predict the model with test dataset\n",
    "\n",
    "y4_pred = modelRFR.predict(x_test)\n",
    "\n",
    "# Evaluation metrics for Regression analysis \n",
    "\n",
    "from sklearn import metrics \n",
    "\n",
    "print('Mean Absolute Error (MAE):', round(metrics.mean_absolute_error(y_test, y4_pred),3)) \n",
    "print('Mean Squared Error (MSE):', round(metrics.mean_squared_error(y_test, y4_pred),3)) \n",
    "print('Root Mean Squared Error (RMSE):', round(np.sqrt(metrics.mean_squared_error(y_test, y4_pred)),3)) \n",
    "print('Mean Absolute Percentage Error (MAPE):', round(metrics.mean_absolute_percentage_error(y_test, y4_pred), 4) * 100, '%') \n",
    "print('R2_score:', round(metrics.r2_score(y_test, y4_pred),3)) \n",
    "\n",
    "# Calculate Adjusted R squared values \n",
    "\n",
    "r_squared = round(metrics.r2_score(y_test, y4_pred),3) \n",
    "adjusted_r_squared = round(1 - (1-r_squared)*(len(y)-1)/(len(y)-x.shape[1]-1),3) \n",
    "print('Adj R Square: ', adjusted_r_squared)"
   ]
  },
  {
   "cell_type": "markdown",
   "id": "b00560cb",
   "metadata": {},
   "source": [
    "# Decision Tree Regressor"
   ]
  },
  {
   "cell_type": "code",
   "execution_count": 14,
   "id": "47c58241",
   "metadata": {},
   "outputs": [
    {
     "name": "stdout",
     "output_type": "stream",
     "text": [
      "Mean Absolute Error (MAE): 4.354\n",
      "Mean Squared Error (MSE): 33.661\n",
      "Root Mean Squared Error (RMSE): 5.802\n",
      "Mean Absolute Percentage Error (MAPE): 0.96 %\n",
      "R2_score: 0.885\n",
      "Adj R Square:  0.885\n"
     ]
    }
   ],
   "source": [
    "# Train the Decision Tree Regression algorithm and build the model with train dataset\n",
    "\n",
    "from sklearn.tree import DecisionTreeRegressor\n",
    "\n",
    "modelDTR = DecisionTreeRegressor(criterion='mse', splitter='best', max_depth=None, min_samples_split=2, min_samples_leaf=1, \n",
    "                                 min_weight_fraction_leaf=0.0, max_features=None, random_state=None, max_leaf_nodes=None, \n",
    "                                 min_impurity_decrease=0.0, min_impurity_split=None, ccp_alpha=0.0)\n",
    "\n",
    "modelDTR.fit(x_train, y_train)\n",
    "\n",
    "# Predict the model with test dataset\n",
    "\n",
    "y5_pred = modelDTR.predict(x_test)\n",
    "\n",
    "# Evaluation metrics for Regression analysis \n",
    "\n",
    "from sklearn import metrics \n",
    "\n",
    "print('Mean Absolute Error (MAE):', round(metrics.mean_absolute_error(y_test, y5_pred),3)) \n",
    "print('Mean Squared Error (MSE):', round(metrics.mean_squared_error(y_test, y5_pred),3)) \n",
    "print('Root Mean Squared Error (RMSE):', round(np.sqrt(metrics.mean_squared_error(y_test, y5_pred)),3)) \n",
    "print('Mean Absolute Percentage Error (MAPE):', round(metrics.mean_absolute_percentage_error(y_test, y5_pred), 4) * 100, '%') \n",
    "print('R2_score:', round(metrics.r2_score(y_test, y5_pred),3)) \n",
    "\n",
    "# Calculate Adjusted R squared values \n",
    "\n",
    "r_squared = round(metrics.r2_score(y_test, y5_pred),3) \n",
    "adjusted_r_squared = round(1 - (1-r_squared)*(len(y)-1)/(len(y)-x.shape[1]-1),3) \n",
    "print('Adj R Square: ', adjusted_r_squared)"
   ]
  },
  {
   "cell_type": "markdown",
   "id": "5348ee25",
   "metadata": {},
   "source": [
    "# KNN Regressor"
   ]
  },
  {
   "cell_type": "code",
   "execution_count": 15,
   "id": "7b5c91ec",
   "metadata": {},
   "outputs": [
    {
     "name": "stdout",
     "output_type": "stream",
     "text": [
      "Mean Absolute Error (MAE): 3.125\n",
      "Mean Squared Error (MSE): 18.047\n",
      "Root Mean Squared Error (RMSE): 4.248\n",
      "Mean Absolute Percentage Error (MAPE): 0.69 %\n",
      "R2_score: 0.938\n",
      "Adj R Square:  0.938\n"
     ]
    }
   ],
   "source": [
    "# Train the KNN Regression algorithm and build the model with train dataset\n",
    "\n",
    "from sklearn.neighbors import KNeighborsRegressor\n",
    "\n",
    "modelKNN = KNeighborsRegressor(n_neighbors=5, weights='uniform', algorithm='auto', leaf_size=30, p=2, metric='minkowski', \n",
    "                               metric_params=None, n_jobs=None) \n",
    "\n",
    "modelKNN.fit(x_train, y_train) \n",
    "\n",
    "# Predict the model with test dataset \n",
    "\n",
    "y6_pred = modelKNN.predict(x_test) \n",
    "\n",
    "# Evaluation metrics for Regression analysis \n",
    "\n",
    "from sklearn import metrics \n",
    "print('Mean Absolute Error (MAE):', round(metrics.mean_absolute_error(y_test, y6_pred),3)) \n",
    "print('Mean Squared Error (MSE):', round(metrics.mean_squared_error(y_test, y6_pred),3)) \n",
    "print('Root Mean Squared Error (RMSE):', round(np.sqrt(metrics.mean_squared_error(y_test, y6_pred)),3)) \n",
    "print('Mean Absolute Percentage Error (MAPE):', round(metrics.mean_absolute_percentage_error(y_test, y6_pred), 4) * 100, '%') \n",
    "print('R2_score:', round(metrics.r2_score(y_test, y6_pred),3)) \n",
    "\n",
    "# Calculate Adjusted R squared values \n",
    "\n",
    "r_squared = round(metrics.r2_score(y_test, y6_pred),3) \n",
    "adjusted_r_squared = round(1 - (1-r_squared)*(len(y)-1)/(len(y)-x.shape[1]-1),3) \n",
    "print('Adj R Square: ', adjusted_r_squared)"
   ]
  },
  {
   "cell_type": "markdown",
   "id": "bac50d07",
   "metadata": {},
   "source": [
    "# Extra Trees Regressor"
   ]
  },
  {
   "cell_type": "code",
   "execution_count": 16,
   "id": "4a9252a8",
   "metadata": {},
   "outputs": [
    {
     "name": "stdout",
     "output_type": "stream",
     "text": [
      "Mean Absolute Error (MAE): 3.249\n",
      "Mean Squared Error (MSE): 18.425\n",
      "Root Mean Squared Error (RMSE): 4.292\n",
      "Mean Absolute Percentage Error (MAPE): 0.72 %\n",
      "R2_score: 0.937\n",
      "Adj R Square:  0.937\n"
     ]
    }
   ],
   "source": [
    "# Train the Extra Trees Regression algorithm and build the model with train dataset\n",
    "\n",
    "from sklearn.ensemble import ExtraTreesRegressor\n",
    "\n",
    "modelETR = ExtraTreesRegressor(n_estimators=100,criterion='mse', max_depth=None, min_samples_split=2, min_samples_leaf=1, \n",
    "                               min_weight_fraction_leaf=0.0, max_features='auto', max_leaf_nodes=None, \n",
    "                               min_impurity_decrease=0.0, min_impurity_split=None, bootstrap=False, oob_score=False, \n",
    "                               n_jobs=None, random_state=None, verbose=0, warm_start=False, ccp_alpha=0.0, max_samples=None)\n",
    "\n",
    "modelETR.fit(x_train, y_train)\n",
    "\n",
    "# Predict the model with test dataset\n",
    "\n",
    "y7_pred = modelETR.predict(x_test)\n",
    "\n",
    "# Evaluation metrics for Regression analysis \n",
    "\n",
    "from sklearn import metrics \n",
    "\n",
    "print('Mean Absolute Error (MAE):', round(metrics.mean_absolute_error(y_test, y7_pred),3)) \n",
    "print('Mean Squared Error (MSE):', round(metrics.mean_squared_error(y_test, y7_pred),3)) \n",
    "print('Root Mean Squared Error (RMSE):', round(np.sqrt(metrics.mean_squared_error(y_test, y7_pred)),3)) \n",
    "print('Mean Absolute Percentage Error (MAPE):', round(metrics.mean_absolute_percentage_error(y_test, y7_pred), 4) * 100, '%') \n",
    "print('R2_score:', round(metrics.r2_score(y_test, y7_pred),3)) \n",
    "\n",
    "# Calculate Adjusted R squared values \n",
    "\n",
    "r_squared = round(metrics.r2_score(y_test, y7_pred),3) \n",
    "adjusted_r_squared = round(1 - (1-r_squared)*(len(y)-1)/(len(y)-x.shape[1]-1),3) \n",
    "print('Adj R Square: ', adjusted_r_squared)"
   ]
  },
  {
   "cell_type": "markdown",
   "id": "ebc947b4",
   "metadata": {},
   "source": [
    "# Support Vector Regressor"
   ]
  },
  {
   "cell_type": "code",
   "execution_count": 17,
   "id": "20400d2f",
   "metadata": {},
   "outputs": [
    {
     "name": "stdout",
     "output_type": "stream",
     "text": [
      "Mean Absolute Error (MAE): 3.395\n",
      "Mean Squared Error (MSE): 20.141\n",
      "Root Mean Squared Error (RMSE): 4.488\n",
      "Mean Absolute Percentage Error (MAPE): 0.75 %\n",
      "R2_score: 0.931\n",
      "Adj R Square:  0.931\n"
     ]
    }
   ],
   "source": [
    "# Train the Support Vector Regression algorithm and build the model with train dataset\n",
    "\n",
    "from sklearn.svm import SVR\n",
    "\n",
    "modelSVR = SVR(kernel='rbf', degree=3, gamma='scale', coef0=0.0, tol=0.001, C=1.0, epsilon=0.1, shrinking=True, \n",
    "               cache_size=200, verbose=False, max_iter=- 1)\n",
    "\n",
    "modelSVR.fit(x_train, y_train)\n",
    "\n",
    "# Predict the model with test dataset\n",
    "\n",
    "y8_pred = modelSVR.predict(x_test)\n",
    "\n",
    "# Evaluation metrics for Regression analysis \n",
    "\n",
    "from sklearn import metrics \n",
    "\n",
    "print('Mean Absolute Error (MAE):', round(metrics.mean_absolute_error(y_test, y8_pred),3)) \n",
    "print('Mean Squared Error (MSE):', round(metrics.mean_squared_error(y_test, y8_pred),3)) \n",
    "print('Root Mean Squared Error (RMSE):', round(np.sqrt(metrics.mean_squared_error(y_test, y8_pred)),3)) \n",
    "print('Mean Absolute Percentage Error (MAPE):', round(metrics.mean_absolute_percentage_error(y_test, y8_pred), 4) * 100, '%') \n",
    "print('R2_score:', round(metrics.r2_score(y_test, y8_pred),3)) \n",
    "\n",
    "# Calculate Adjusted R squared values \n",
    "\n",
    "r_squared = round(metrics.r2_score(y_test, y8_pred),3) \n",
    "adjusted_r_squared = round(1 - (1-r_squared)*(len(y)-1)/(len(y)-x.shape[1]-1),3) \n",
    "print('Adj R Square: ', adjusted_r_squared)"
   ]
  }
 ],
 "metadata": {
  "kernelspec": {
   "display_name": "Python 3",
   "language": "python",
   "name": "python3"
  },
  "language_info": {
   "codemirror_mode": {
    "name": "ipython",
    "version": 3
   },
   "file_extension": ".py",
   "mimetype": "text/x-python",
   "name": "python",
   "nbconvert_exporter": "python",
   "pygments_lexer": "ipython3",
   "version": "3.8.8"
  }
 },
 "nbformat": 4,
 "nbformat_minor": 5
}
