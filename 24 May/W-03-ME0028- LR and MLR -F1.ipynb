{
 "cells": [
  {
   "cell_type": "code",
   "execution_count": 1,
   "id": "d637aa4b",
   "metadata": {},
   "outputs": [],
   "source": [
    "# importing the libraries\n",
    "\n",
    "import numpy as np\n",
    "import pandas as pd\n",
    "import matplotlib.pyplot as plt\n",
    "\n",
    "# Ignore harmless warnings\n",
    "import warnings\n",
    "warnings.filterwarnings(\"ignore\")"
   ]
  },
  {
   "cell_type": "code",
   "execution_count": 2,
   "id": "a8010af8",
   "metadata": {},
   "outputs": [
    {
     "data": {
      "text/html": [
       "<div>\n",
       "<style scoped>\n",
       "    .dataframe tbody tr th:only-of-type {\n",
       "        vertical-align: middle;\n",
       "    }\n",
       "\n",
       "    .dataframe tbody tr th {\n",
       "        vertical-align: top;\n",
       "    }\n",
       "\n",
       "    .dataframe thead th {\n",
       "        text-align: right;\n",
       "    }\n",
       "</style>\n",
       "<table border=\"1\" class=\"dataframe\">\n",
       "  <thead>\n",
       "    <tr style=\"text-align: right;\">\n",
       "      <th></th>\n",
       "      <th>Height M</th>\n",
       "      <th>Weight kg</th>\n",
       "      <th>%Fat</th>\n",
       "      <th>BMI</th>\n",
       "    </tr>\n",
       "  </thead>\n",
       "  <tbody>\n",
       "    <tr>\n",
       "      <th>0</th>\n",
       "      <td>1.60</td>\n",
       "      <td>49.44</td>\n",
       "      <td>23.9</td>\n",
       "      <td>19.31</td>\n",
       "    </tr>\n",
       "    <tr>\n",
       "      <th>1</th>\n",
       "      <td>1.65</td>\n",
       "      <td>62.60</td>\n",
       "      <td>28.8</td>\n",
       "      <td>22.96</td>\n",
       "    </tr>\n",
       "    <tr>\n",
       "      <th>2</th>\n",
       "      <td>1.65</td>\n",
       "      <td>75.75</td>\n",
       "      <td>32.4</td>\n",
       "      <td>27.79</td>\n",
       "    </tr>\n",
       "    <tr>\n",
       "      <th>3</th>\n",
       "      <td>1.53</td>\n",
       "      <td>48.99</td>\n",
       "      <td>25.8</td>\n",
       "      <td>20.92</td>\n",
       "    </tr>\n",
       "    <tr>\n",
       "      <th>4</th>\n",
       "      <td>1.45</td>\n",
       "      <td>43.09</td>\n",
       "      <td>22.5</td>\n",
       "      <td>20.38</td>\n",
       "    </tr>\n",
       "  </tbody>\n",
       "</table>\n",
       "</div>"
      ],
      "text/plain": [
       "   Height M  Weight kg  %Fat    BMI\n",
       "0      1.60      49.44  23.9  19.31\n",
       "1      1.65      62.60  28.8  22.96\n",
       "2      1.65      75.75  32.4  27.79\n",
       "3      1.53      48.99  25.8  20.92\n",
       "4      1.45      43.09  22.5  20.38"
      ]
     },
     "execution_count": 2,
     "metadata": {},
     "output_type": "execute_result"
    }
   ],
   "source": [
    "# load the BMI data\n",
    "\n",
    "bmidata = pd.read_csv(r\"D:\\iiit notes\\Internship\\10-Seasion 24-May-2021\\Predict_BMI_Analysis_V10.csv\", header = 0)\n",
    "bmidata.head()"
   ]
  },
  {
   "cell_type": "code",
   "execution_count": 3,
   "id": "7682a0f5",
   "metadata": {},
   "outputs": [
    {
     "data": {
      "text/html": [
       "<div>\n",
       "<style scoped>\n",
       "    .dataframe tbody tr th:only-of-type {\n",
       "        vertical-align: middle;\n",
       "    }\n",
       "\n",
       "    .dataframe tbody tr th {\n",
       "        vertical-align: top;\n",
       "    }\n",
       "\n",
       "    .dataframe thead th {\n",
       "        text-align: right;\n",
       "    }\n",
       "</style>\n",
       "<table border=\"1\" class=\"dataframe\">\n",
       "  <thead>\n",
       "    <tr style=\"text-align: right;\">\n",
       "      <th></th>\n",
       "      <th>Height M</th>\n",
       "      <th>Weight kg</th>\n",
       "      <th>%Fat</th>\n",
       "      <th>BMI</th>\n",
       "    </tr>\n",
       "  </thead>\n",
       "  <tbody>\n",
       "    <tr>\n",
       "      <th>0</th>\n",
       "      <td>1.60</td>\n",
       "      <td>49.44</td>\n",
       "      <td>23.9</td>\n",
       "      <td>19.31</td>\n",
       "    </tr>\n",
       "    <tr>\n",
       "      <th>1</th>\n",
       "      <td>1.65</td>\n",
       "      <td>62.60</td>\n",
       "      <td>28.8</td>\n",
       "      <td>22.96</td>\n",
       "    </tr>\n",
       "    <tr>\n",
       "      <th>2</th>\n",
       "      <td>1.65</td>\n",
       "      <td>75.75</td>\n",
       "      <td>32.4</td>\n",
       "      <td>27.79</td>\n",
       "    </tr>\n",
       "    <tr>\n",
       "      <th>3</th>\n",
       "      <td>1.53</td>\n",
       "      <td>48.99</td>\n",
       "      <td>25.8</td>\n",
       "      <td>20.92</td>\n",
       "    </tr>\n",
       "    <tr>\n",
       "      <th>4</th>\n",
       "      <td>1.45</td>\n",
       "      <td>43.09</td>\n",
       "      <td>22.5</td>\n",
       "      <td>20.38</td>\n",
       "    </tr>\n",
       "    <tr>\n",
       "      <th>5</th>\n",
       "      <td>1.61</td>\n",
       "      <td>52.62</td>\n",
       "      <td>22.1</td>\n",
       "      <td>20.39</td>\n",
       "    </tr>\n",
       "    <tr>\n",
       "      <th>6</th>\n",
       "      <td>1.56</td>\n",
       "      <td>47.97</td>\n",
       "      <td>19.6</td>\n",
       "      <td>19.66</td>\n",
       "    </tr>\n",
       "    <tr>\n",
       "      <th>7</th>\n",
       "      <td>1.50</td>\n",
       "      <td>45.59</td>\n",
       "      <td>25.3</td>\n",
       "      <td>20.30</td>\n",
       "    </tr>\n",
       "    <tr>\n",
       "      <th>8</th>\n",
       "      <td>1.52</td>\n",
       "      <td>47.85</td>\n",
       "      <td>22.8</td>\n",
       "      <td>20.60</td>\n",
       "    </tr>\n",
       "    <tr>\n",
       "      <th>9</th>\n",
       "      <td>1.48</td>\n",
       "      <td>44.45</td>\n",
       "      <td>26.4</td>\n",
       "      <td>20.31</td>\n",
       "    </tr>\n",
       "  </tbody>\n",
       "</table>\n",
       "</div>"
      ],
      "text/plain": [
       "   Height M  Weight kg  %Fat    BMI\n",
       "0      1.60      49.44  23.9  19.31\n",
       "1      1.65      62.60  28.8  22.96\n",
       "2      1.65      75.75  32.4  27.79\n",
       "3      1.53      48.99  25.8  20.92\n",
       "4      1.45      43.09  22.5  20.38\n",
       "5      1.61      52.62  22.1  20.39\n",
       "6      1.56      47.97  19.6  19.66\n",
       "7      1.50      45.59  25.3  20.30\n",
       "8      1.52      47.85  22.8  20.60\n",
       "9      1.48      44.45  26.4  20.31"
      ]
     },
     "execution_count": 3,
     "metadata": {},
     "output_type": "execute_result"
    }
   ],
   "source": [
    "bmidata.head(10)"
   ]
  },
  {
   "cell_type": "code",
   "execution_count": 8,
   "id": "0f593be3",
   "metadata": {},
   "outputs": [
    {
     "data": {
      "text/plain": [
       "4"
      ]
     },
     "execution_count": 8,
     "metadata": {},
     "output_type": "execute_result"
    }
   ],
   "source": [
    "# identify the no of features or columns\n",
    "\n",
    "len(bmidata.columns)"
   ]
  },
  {
   "cell_type": "code",
   "execution_count": 5,
   "id": "444490b0",
   "metadata": {},
   "outputs": [
    {
     "data": {
      "text/plain": [
       "Index(['Height M', 'Weight kg', '%Fat', 'BMI'], dtype='object')"
      ]
     },
     "execution_count": 5,
     "metadata": {},
     "output_type": "execute_result"
    }
   ],
   "source": [
    "bmidata.columns"
   ]
  },
  {
   "cell_type": "code",
   "execution_count": 6,
   "id": "441575e5",
   "metadata": {},
   "outputs": [
    {
     "data": {
      "text/plain": [
       "(92, 4)"
      ]
     },
     "execution_count": 6,
     "metadata": {},
     "output_type": "execute_result"
    }
   ],
   "source": [
    "bmidata.shape"
   ]
  },
  {
   "cell_type": "code",
   "execution_count": 7,
   "id": "cfb70067",
   "metadata": {},
   "outputs": [
    {
     "data": {
      "text/plain": [
       "Height M     float64\n",
       "Weight kg    float64\n",
       "%Fat         float64\n",
       "BMI          float64\n",
       "dtype: object"
      ]
     },
     "execution_count": 7,
     "metadata": {},
     "output_type": "execute_result"
    }
   ],
   "source": [
    "bmidata.dtypes"
   ]
  },
  {
   "cell_type": "code",
   "execution_count": 9,
   "id": "71f02a0c",
   "metadata": {},
   "outputs": [
    {
     "name": "stdout",
     "output_type": "stream",
     "text": [
      "<class 'pandas.core.frame.DataFrame'>\n",
      "RangeIndex: 92 entries, 0 to 91\n",
      "Data columns (total 4 columns):\n",
      " #   Column     Non-Null Count  Dtype  \n",
      "---  ------     --------------  -----  \n",
      " 0   Height M   92 non-null     float64\n",
      " 1   Weight kg  92 non-null     float64\n",
      " 2   %Fat       92 non-null     float64\n",
      " 3   BMI        92 non-null     float64\n",
      "dtypes: float64(4)\n",
      "memory usage: 3.0 KB\n"
     ]
    }
   ],
   "source": [
    "bmidata.info()"
   ]
  },
  {
   "cell_type": "code",
   "execution_count": 10,
   "id": "eceac6b0",
   "metadata": {},
   "outputs": [
    {
     "data": {
      "text/plain": [
       "False"
      ]
     },
     "execution_count": 10,
     "metadata": {},
     "output_type": "execute_result"
    }
   ],
   "source": [
    "bmidata.isnull().values.any()"
   ]
  },
  {
   "cell_type": "code",
   "execution_count": 11,
   "id": "e3c30a65",
   "metadata": {},
   "outputs": [
    {
     "data": {
      "text/plain": [
       "Height M     0\n",
       "Weight kg    0\n",
       "%Fat         0\n",
       "BMI          0\n",
       "dtype: int64"
      ]
     },
     "execution_count": 11,
     "metadata": {},
     "output_type": "execute_result"
    }
   ],
   "source": [
    "bmidata.isnull().sum()"
   ]
  },
  {
   "cell_type": "code",
   "execution_count": 12,
   "id": "2eb405c9",
   "metadata": {},
   "outputs": [
    {
     "data": {
      "text/html": [
       "<div>\n",
       "<style scoped>\n",
       "    .dataframe tbody tr th:only-of-type {\n",
       "        vertical-align: middle;\n",
       "    }\n",
       "\n",
       "    .dataframe tbody tr th {\n",
       "        vertical-align: top;\n",
       "    }\n",
       "\n",
       "    .dataframe thead th {\n",
       "        text-align: right;\n",
       "    }\n",
       "</style>\n",
       "<table border=\"1\" class=\"dataframe\">\n",
       "  <thead>\n",
       "    <tr style=\"text-align: right;\">\n",
       "      <th></th>\n",
       "      <th>Height M</th>\n",
       "      <th>Weight kg</th>\n",
       "      <th>%Fat</th>\n",
       "      <th>BMI</th>\n",
       "    </tr>\n",
       "  </thead>\n",
       "  <tbody>\n",
       "    <tr>\n",
       "      <th>87</th>\n",
       "      <td>1.49</td>\n",
       "      <td>39.01</td>\n",
       "      <td>23.3</td>\n",
       "      <td>17.52</td>\n",
       "    </tr>\n",
       "    <tr>\n",
       "      <th>88</th>\n",
       "      <td>1.60</td>\n",
       "      <td>41.28</td>\n",
       "      <td>20.1</td>\n",
       "      <td>16.12</td>\n",
       "    </tr>\n",
       "    <tr>\n",
       "      <th>89</th>\n",
       "      <td>1.42</td>\n",
       "      <td>38.10</td>\n",
       "      <td>30.3</td>\n",
       "      <td>18.83</td>\n",
       "    </tr>\n",
       "    <tr>\n",
       "      <th>90</th>\n",
       "      <td>1.40</td>\n",
       "      <td>30.16</td>\n",
       "      <td>20.6</td>\n",
       "      <td>15.46</td>\n",
       "    </tr>\n",
       "    <tr>\n",
       "      <th>91</th>\n",
       "      <td>1.45</td>\n",
       "      <td>38.56</td>\n",
       "      <td>26.0</td>\n",
       "      <td>18.39</td>\n",
       "    </tr>\n",
       "  </tbody>\n",
       "</table>\n",
       "</div>"
      ],
      "text/plain": [
       "    Height M  Weight kg  %Fat    BMI\n",
       "87      1.49      39.01  23.3  17.52\n",
       "88      1.60      41.28  20.1  16.12\n",
       "89      1.42      38.10  30.3  18.83\n",
       "90      1.40      30.16  20.6  15.46\n",
       "91      1.45      38.56  26.0  18.39"
      ]
     },
     "execution_count": 12,
     "metadata": {},
     "output_type": "execute_result"
    }
   ],
   "source": [
    "bmidata.tail()"
   ]
  },
  {
   "cell_type": "code",
   "execution_count": 13,
   "id": "7bf9fc0e",
   "metadata": {},
   "outputs": [
    {
     "data": {
      "text/html": [
       "<div>\n",
       "<style scoped>\n",
       "    .dataframe tbody tr th:only-of-type {\n",
       "        vertical-align: middle;\n",
       "    }\n",
       "\n",
       "    .dataframe tbody tr th {\n",
       "        vertical-align: top;\n",
       "    }\n",
       "\n",
       "    .dataframe thead th {\n",
       "        text-align: right;\n",
       "    }\n",
       "</style>\n",
       "<table border=\"1\" class=\"dataframe\">\n",
       "  <thead>\n",
       "    <tr style=\"text-align: right;\">\n",
       "      <th></th>\n",
       "      <th>Height M</th>\n",
       "      <th>Weight kg</th>\n",
       "      <th>%Fat</th>\n",
       "      <th>BMI</th>\n",
       "    </tr>\n",
       "  </thead>\n",
       "  <tbody>\n",
       "    <tr>\n",
       "      <th>13</th>\n",
       "      <td>1.54</td>\n",
       "      <td>46.04</td>\n",
       "      <td>23.4</td>\n",
       "      <td>19.50</td>\n",
       "    </tr>\n",
       "    <tr>\n",
       "      <th>0</th>\n",
       "      <td>1.60</td>\n",
       "      <td>49.44</td>\n",
       "      <td>23.9</td>\n",
       "      <td>19.31</td>\n",
       "    </tr>\n",
       "    <tr>\n",
       "      <th>52</th>\n",
       "      <td>1.58</td>\n",
       "      <td>83.91</td>\n",
       "      <td>46.0</td>\n",
       "      <td>33.57</td>\n",
       "    </tr>\n",
       "    <tr>\n",
       "      <th>54</th>\n",
       "      <td>1.64</td>\n",
       "      <td>77.34</td>\n",
       "      <td>42.2</td>\n",
       "      <td>28.59</td>\n",
       "    </tr>\n",
       "    <tr>\n",
       "      <th>7</th>\n",
       "      <td>1.50</td>\n",
       "      <td>45.59</td>\n",
       "      <td>25.3</td>\n",
       "      <td>20.30</td>\n",
       "    </tr>\n",
       "  </tbody>\n",
       "</table>\n",
       "</div>"
      ],
      "text/plain": [
       "    Height M  Weight kg  %Fat    BMI\n",
       "13      1.54      46.04  23.4  19.50\n",
       "0       1.60      49.44  23.9  19.31\n",
       "52      1.58      83.91  46.0  33.57\n",
       "54      1.64      77.34  42.2  28.59\n",
       "7       1.50      45.59  25.3  20.30"
      ]
     },
     "execution_count": 13,
     "metadata": {},
     "output_type": "execute_result"
    }
   ],
   "source": [
    "bmidata.sample(5)"
   ]
  },
  {
   "cell_type": "code",
   "execution_count": 14,
   "id": "3cdf1600",
   "metadata": {},
   "outputs": [],
   "source": [
    "bmidata1 = bmidata[['Weight kg', 'BMI']]"
   ]
  },
  {
   "cell_type": "code",
   "execution_count": 15,
   "id": "cc060229",
   "metadata": {},
   "outputs": [
    {
     "data": {
      "text/html": [
       "<div>\n",
       "<style scoped>\n",
       "    .dataframe tbody tr th:only-of-type {\n",
       "        vertical-align: middle;\n",
       "    }\n",
       "\n",
       "    .dataframe tbody tr th {\n",
       "        vertical-align: top;\n",
       "    }\n",
       "\n",
       "    .dataframe thead th {\n",
       "        text-align: right;\n",
       "    }\n",
       "</style>\n",
       "<table border=\"1\" class=\"dataframe\">\n",
       "  <thead>\n",
       "    <tr style=\"text-align: right;\">\n",
       "      <th></th>\n",
       "      <th>Weight kg</th>\n",
       "      <th>BMI</th>\n",
       "    </tr>\n",
       "  </thead>\n",
       "  <tbody>\n",
       "    <tr>\n",
       "      <th>0</th>\n",
       "      <td>49.44</td>\n",
       "      <td>19.31</td>\n",
       "    </tr>\n",
       "    <tr>\n",
       "      <th>1</th>\n",
       "      <td>62.60</td>\n",
       "      <td>22.96</td>\n",
       "    </tr>\n",
       "    <tr>\n",
       "      <th>2</th>\n",
       "      <td>75.75</td>\n",
       "      <td>27.79</td>\n",
       "    </tr>\n",
       "    <tr>\n",
       "      <th>3</th>\n",
       "      <td>48.99</td>\n",
       "      <td>20.92</td>\n",
       "    </tr>\n",
       "    <tr>\n",
       "      <th>4</th>\n",
       "      <td>43.09</td>\n",
       "      <td>20.38</td>\n",
       "    </tr>\n",
       "  </tbody>\n",
       "</table>\n",
       "</div>"
      ],
      "text/plain": [
       "   Weight kg    BMI\n",
       "0      49.44  19.31\n",
       "1      62.60  22.96\n",
       "2      75.75  27.79\n",
       "3      48.99  20.92\n",
       "4      43.09  20.38"
      ]
     },
     "execution_count": 15,
     "metadata": {},
     "output_type": "execute_result"
    }
   ],
   "source": [
    "bmidata1.head()"
   ]
  },
  {
   "cell_type": "code",
   "execution_count": 19,
   "id": "62cce382",
   "metadata": {},
   "outputs": [
    {
     "data": {
      "text/html": [
       "<div>\n",
       "<style scoped>\n",
       "    .dataframe tbody tr th:only-of-type {\n",
       "        vertical-align: middle;\n",
       "    }\n",
       "\n",
       "    .dataframe tbody tr th {\n",
       "        vertical-align: top;\n",
       "    }\n",
       "\n",
       "    .dataframe thead th {\n",
       "        text-align: right;\n",
       "    }\n",
       "</style>\n",
       "<table border=\"1\" class=\"dataframe\">\n",
       "  <thead>\n",
       "    <tr style=\"text-align: right;\">\n",
       "      <th></th>\n",
       "      <th>Weight kg</th>\n",
       "    </tr>\n",
       "  </thead>\n",
       "  <tbody>\n",
       "    <tr>\n",
       "      <th>0</th>\n",
       "      <td>49.44</td>\n",
       "    </tr>\n",
       "    <tr>\n",
       "      <th>1</th>\n",
       "      <td>62.60</td>\n",
       "    </tr>\n",
       "    <tr>\n",
       "      <th>2</th>\n",
       "      <td>75.75</td>\n",
       "    </tr>\n",
       "    <tr>\n",
       "      <th>3</th>\n",
       "      <td>48.99</td>\n",
       "    </tr>\n",
       "    <tr>\n",
       "      <th>4</th>\n",
       "      <td>43.09</td>\n",
       "    </tr>\n",
       "  </tbody>\n",
       "</table>\n",
       "</div>"
      ],
      "text/plain": [
       "   Weight kg\n",
       "0      49.44\n",
       "1      62.60\n",
       "2      75.75\n",
       "3      48.99\n",
       "4      43.09"
      ]
     },
     "execution_count": 19,
     "metadata": {},
     "output_type": "execute_result"
    }
   ],
   "source": [
    "x = pd.DataFrame(bmidata1['Weight kg'])\n",
    "x.head()"
   ]
  },
  {
   "cell_type": "code",
   "execution_count": 20,
   "id": "a95e260f",
   "metadata": {},
   "outputs": [
    {
     "data": {
      "text/html": [
       "<div>\n",
       "<style scoped>\n",
       "    .dataframe tbody tr th:only-of-type {\n",
       "        vertical-align: middle;\n",
       "    }\n",
       "\n",
       "    .dataframe tbody tr th {\n",
       "        vertical-align: top;\n",
       "    }\n",
       "\n",
       "    .dataframe thead th {\n",
       "        text-align: right;\n",
       "    }\n",
       "</style>\n",
       "<table border=\"1\" class=\"dataframe\">\n",
       "  <thead>\n",
       "    <tr style=\"text-align: right;\">\n",
       "      <th></th>\n",
       "      <th>BMI</th>\n",
       "    </tr>\n",
       "  </thead>\n",
       "  <tbody>\n",
       "    <tr>\n",
       "      <th>0</th>\n",
       "      <td>19.31</td>\n",
       "    </tr>\n",
       "    <tr>\n",
       "      <th>1</th>\n",
       "      <td>22.96</td>\n",
       "    </tr>\n",
       "    <tr>\n",
       "      <th>2</th>\n",
       "      <td>27.79</td>\n",
       "    </tr>\n",
       "    <tr>\n",
       "      <th>3</th>\n",
       "      <td>20.92</td>\n",
       "    </tr>\n",
       "    <tr>\n",
       "      <th>4</th>\n",
       "      <td>20.38</td>\n",
       "    </tr>\n",
       "  </tbody>\n",
       "</table>\n",
       "</div>"
      ],
      "text/plain": [
       "     BMI\n",
       "0  19.31\n",
       "1  22.96\n",
       "2  27.79\n",
       "3  20.92\n",
       "4  20.38"
      ]
     },
     "execution_count": 20,
     "metadata": {},
     "output_type": "execute_result"
    }
   ],
   "source": [
    "y = pd.DataFrame(bmidata['BMI'])\n",
    "y.head()"
   ]
  },
  {
   "cell_type": "code",
   "execution_count": 21,
   "id": "2d16713f",
   "metadata": {},
   "outputs": [],
   "source": [
    "from sklearn.model_selection import train_test_split\n",
    "\n",
    "x_train,x_test,y_train,y_test = train_test_split(x, y, test_size = 0.3)"
   ]
  },
  {
   "cell_type": "markdown",
   "id": "31344c9f",
   "metadata": {},
   "source": [
    "# Linear Regression"
   ]
  },
  {
   "cell_type": "code",
   "execution_count": 22,
   "id": "bac6de94",
   "metadata": {},
   "outputs": [
    {
     "data": {
      "text/plain": [
       "LinearRegression()"
      ]
     },
     "execution_count": 22,
     "metadata": {},
     "output_type": "execute_result"
    }
   ],
   "source": [
    "from sklearn.linear_model import LinearRegression\n",
    "\n",
    "slreg = LinearRegression()\n",
    "slreg.fit(x_train,y_train)"
   ]
  },
  {
   "cell_type": "code",
   "execution_count": 23,
   "id": "caa09cd7",
   "metadata": {},
   "outputs": [],
   "source": [
    "y_pred = slreg.predict(x_test)"
   ]
  },
  {
   "cell_type": "code",
   "execution_count": 52,
   "id": "070b3753",
   "metadata": {},
   "outputs": [
    {
     "name": "stdout",
     "output_type": "stream",
     "text": [
      "[[23.43337518]]\n"
     ]
    }
   ],
   "source": [
    "# prdicting for random data\n",
    "\n",
    "print(slreg.predict([[56]]))"
   ]
  },
  {
   "cell_type": "code",
   "execution_count": 24,
   "id": "65579409",
   "metadata": {},
   "outputs": [
    {
     "name": "stdout",
     "output_type": "stream",
     "text": [
      "Mean Absolute Error (MAE): 1.26\n",
      "Mean Squared Error (MSE): 2.25\n",
      "Root Mean Squared Error (RMSE): 1.5\n",
      "Mean Absolute Percentage Error (MAPE): 6.21 %\n",
      "R2_score: 0.911\n"
     ]
    }
   ],
   "source": [
    "from sklearn import metrics\n",
    "\n",
    "print('Mean Absolute Error (MAE):', round(metrics.mean_absolute_error(y_test,y_pred),2))\n",
    "print('Mean Squared Error (MSE):', round(metrics.mean_squared_error(y_test,y_pred),2))\n",
    "print('Root Mean Squared Error (RMSE):', round(np.sqrt(metrics.mean_squared_error(y_test,y_pred)),2))\n",
    "print('Mean Absolute Percentage Error (MAPE):', round(metrics.mean_absolute_percentage_error(y_test,y_pred),4)*100, '%')\n",
    "print('R2_score:', round(metrics.r2_score(y_test,y_pred),3))"
   ]
  },
  {
   "cell_type": "code",
   "execution_count": 25,
   "id": "d2b29a32",
   "metadata": {},
   "outputs": [],
   "source": [
    "def MAPE(y_pred, y_test):\n",
    "    y_test, y_pred = np.array(y_test), np.array(y_pred)\n",
    "    return np.mean(np.abs((y_test - y_pred)/y_test))*100"
   ]
  },
  {
   "cell_type": "code",
   "execution_count": 26,
   "id": "d264d917",
   "metadata": {},
   "outputs": [
    {
     "name": "stdout",
     "output_type": "stream",
     "text": [
      "Mean Absolute Percentage Error (MAPE): 6.21 %\n"
     ]
    }
   ],
   "source": [
    "result = MAPE(y_pred,y_test)\n",
    "print('Mean Absolute Percentage Error (MAPE):', round(result, 2), '%')"
   ]
  },
  {
   "cell_type": "code",
   "execution_count": 27,
   "id": "b7fefa77",
   "metadata": {},
   "outputs": [
    {
     "data": {
      "text/plain": [
       "Text(0, 0.5, 'BMI')"
      ]
     },
     "execution_count": 27,
     "metadata": {},
     "output_type": "execute_result"
    },
    {
     "data": {
      "image/png": "[encoded data removed]",
      "text/plain": [
       "<Figure size 432x288 with 1 Axes>"
      ]
     },
     "metadata": {
      "needs_background": "light"
     },
     "output_type": "display_data"
    }
   ],
   "source": [
    "plt.scatter(x, y, color = 'blue')\n",
    "\n",
    "plt.plot(x, slreg.predict(x), color = 'red')\n",
    "plt.title('Linear Regression')\n",
    "plt.xlabel('Weight kg')\n",
    "plt.ylabel('BMI')"
   ]
  },
  {
   "cell_type": "code",
   "execution_count": 28,
   "id": "fb195feb",
   "metadata": {},
   "outputs": [
    {
     "data": {
      "text/html": [
       "<div>\n",
       "<style scoped>\n",
       "    .dataframe tbody tr th:only-of-type {\n",
       "        vertical-align: middle;\n",
       "    }\n",
       "\n",
       "    .dataframe tbody tr th {\n",
       "        vertical-align: top;\n",
       "    }\n",
       "\n",
       "    .dataframe thead th {\n",
       "        text-align: right;\n",
       "    }\n",
       "</style>\n",
       "<table border=\"1\" class=\"dataframe\">\n",
       "  <thead>\n",
       "    <tr style=\"text-align: right;\">\n",
       "      <th></th>\n",
       "      <th>Height M</th>\n",
       "      <th>Weight kg</th>\n",
       "      <th>%Fat</th>\n",
       "      <th>BMI</th>\n",
       "    </tr>\n",
       "  </thead>\n",
       "  <tbody>\n",
       "    <tr>\n",
       "      <th>0</th>\n",
       "      <td>1.60</td>\n",
       "      <td>49.44</td>\n",
       "      <td>23.9</td>\n",
       "      <td>19.31</td>\n",
       "    </tr>\n",
       "    <tr>\n",
       "      <th>1</th>\n",
       "      <td>1.65</td>\n",
       "      <td>62.60</td>\n",
       "      <td>28.8</td>\n",
       "      <td>22.96</td>\n",
       "    </tr>\n",
       "    <tr>\n",
       "      <th>2</th>\n",
       "      <td>1.65</td>\n",
       "      <td>75.75</td>\n",
       "      <td>32.4</td>\n",
       "      <td>27.79</td>\n",
       "    </tr>\n",
       "    <tr>\n",
       "      <th>3</th>\n",
       "      <td>1.53</td>\n",
       "      <td>48.99</td>\n",
       "      <td>25.8</td>\n",
       "      <td>20.92</td>\n",
       "    </tr>\n",
       "    <tr>\n",
       "      <th>4</th>\n",
       "      <td>1.45</td>\n",
       "      <td>43.09</td>\n",
       "      <td>22.5</td>\n",
       "      <td>20.38</td>\n",
       "    </tr>\n",
       "  </tbody>\n",
       "</table>\n",
       "</div>"
      ],
      "text/plain": [
       "   Height M  Weight kg  %Fat    BMI\n",
       "0      1.60      49.44  23.9  19.31\n",
       "1      1.65      62.60  28.8  22.96\n",
       "2      1.65      75.75  32.4  27.79\n",
       "3      1.53      48.99  25.8  20.92\n",
       "4      1.45      43.09  22.5  20.38"
      ]
     },
     "execution_count": 28,
     "metadata": {},
     "output_type": "execute_result"
    }
   ],
   "source": [
    "bmidata.head()"
   ]
  },
  {
   "cell_type": "code",
   "execution_count": 29,
   "id": "aa8188c6",
   "metadata": {},
   "outputs": [],
   "source": [
    "x1 = bmidata.iloc[:, :-1]\n",
    "y1 = bmidata.iloc[:, -1]"
   ]
  },
  {
   "cell_type": "code",
   "execution_count": 30,
   "id": "e05c6811",
   "metadata": {},
   "outputs": [
    {
     "name": "stdout",
     "output_type": "stream",
     "text": [
      "   Height M  Weight kg  %Fat\n",
      "0      1.60      49.44  23.9\n",
      "1      1.65      62.60  28.8\n",
      "2      1.65      75.75  32.4\n",
      "3      1.53      48.99  25.8\n",
      "4      1.45      43.09  22.5\n"
     ]
    }
   ],
   "source": [
    "print(x1.head())"
   ]
  },
  {
   "cell_type": "code",
   "execution_count": 31,
   "id": "1736d877",
   "metadata": {},
   "outputs": [
    {
     "name": "stdout",
     "output_type": "stream",
     "text": [
      "0    19.31\n",
      "1    22.96\n",
      "2    27.79\n",
      "3    20.92\n",
      "4    20.38\n",
      "Name: BMI, dtype: float64\n"
     ]
    }
   ],
   "source": [
    "print(y1.head())"
   ]
  },
  {
   "cell_type": "code",
   "execution_count": 32,
   "id": "db685312",
   "metadata": {},
   "outputs": [
    {
     "data": {
      "text/html": [
       "<div>\n",
       "<style scoped>\n",
       "    .dataframe tbody tr th:only-of-type {\n",
       "        vertical-align: middle;\n",
       "    }\n",
       "\n",
       "    .dataframe tbody tr th {\n",
       "        vertical-align: top;\n",
       "    }\n",
       "\n",
       "    .dataframe thead th {\n",
       "        text-align: right;\n",
       "    }\n",
       "</style>\n",
       "<table border=\"1\" class=\"dataframe\">\n",
       "  <thead>\n",
       "    <tr style=\"text-align: right;\">\n",
       "      <th></th>\n",
       "      <th>Height M</th>\n",
       "      <th>Weight kg</th>\n",
       "      <th>%Fat</th>\n",
       "    </tr>\n",
       "  </thead>\n",
       "  <tbody>\n",
       "    <tr>\n",
       "      <th>0</th>\n",
       "      <td>1.60</td>\n",
       "      <td>49.44</td>\n",
       "      <td>23.9</td>\n",
       "    </tr>\n",
       "    <tr>\n",
       "      <th>1</th>\n",
       "      <td>1.65</td>\n",
       "      <td>62.60</td>\n",
       "      <td>28.8</td>\n",
       "    </tr>\n",
       "    <tr>\n",
       "      <th>2</th>\n",
       "      <td>1.65</td>\n",
       "      <td>75.75</td>\n",
       "      <td>32.4</td>\n",
       "    </tr>\n",
       "    <tr>\n",
       "      <th>3</th>\n",
       "      <td>1.53</td>\n",
       "      <td>48.99</td>\n",
       "      <td>25.8</td>\n",
       "    </tr>\n",
       "    <tr>\n",
       "      <th>4</th>\n",
       "      <td>1.45</td>\n",
       "      <td>43.09</td>\n",
       "      <td>22.5</td>\n",
       "    </tr>\n",
       "  </tbody>\n",
       "</table>\n",
       "</div>"
      ],
      "text/plain": [
       "   Height M  Weight kg  %Fat\n",
       "0      1.60      49.44  23.9\n",
       "1      1.65      62.60  28.8\n",
       "2      1.65      75.75  32.4\n",
       "3      1.53      48.99  25.8\n",
       "4      1.45      43.09  22.5"
      ]
     },
     "execution_count": 32,
     "metadata": {},
     "output_type": "execute_result"
    }
   ],
   "source": [
    "x1.head()"
   ]
  },
  {
   "cell_type": "code",
   "execution_count": 33,
   "id": "89bfeb9a",
   "metadata": {},
   "outputs": [
    {
     "data": {
      "text/plain": [
       "0    19.31\n",
       "1    22.96\n",
       "2    27.79\n",
       "3    20.92\n",
       "4    20.38\n",
       "Name: BMI, dtype: float64"
      ]
     },
     "execution_count": 33,
     "metadata": {},
     "output_type": "execute_result"
    }
   ],
   "source": [
    "y1.head()"
   ]
  },
  {
   "cell_type": "code",
   "execution_count": 34,
   "id": "7c624f33",
   "metadata": {},
   "outputs": [],
   "source": [
    "from sklearn.model_selection import train_test_split\n",
    "\n",
    "x_train, x_test, y_train, y_test = train_test_split(x1, y1, test_size = 0.3)"
   ]
  },
  {
   "cell_type": "markdown",
   "id": "91bf5d4b",
   "metadata": {},
   "source": [
    "# Multi-Linear Regression"
   ]
  },
  {
   "cell_type": "code",
   "execution_count": 35,
   "id": "792a8837",
   "metadata": {},
   "outputs": [
    {
     "data": {
      "text/plain": [
       "LinearRegression()"
      ]
     },
     "execution_count": 35,
     "metadata": {},
     "output_type": "execute_result"
    }
   ],
   "source": [
    "from sklearn.linear_model import LinearRegression\n",
    "\n",
    "mulreg = LinearRegression()\n",
    "mulreg.fit(x_train, y_train)"
   ]
  },
  {
   "cell_type": "code",
   "execution_count": 36,
   "id": "80efa709",
   "metadata": {},
   "outputs": [],
   "source": [
    "y_pred = mulreg.predict(x_test) "
   ]
  },
  {
   "cell_type": "code",
   "execution_count": null,
   "id": "f43446ef",
   "metadata": {},
   "outputs": [],
   "source": [
    "print(mulreg.predict([]))"
   ]
  },
  {
   "cell_type": "code",
   "execution_count": 37,
   "id": "08a46379",
   "metadata": {},
   "outputs": [
    {
     "name": "stdout",
     "output_type": "stream",
     "text": [
      "Mean Absolute Error (MAE): 0.34\n",
      "Mean Squared Error (MSE): 0.24\n",
      "Root Mean Squared Error (RMSE): 0.49\n",
      "Mean Absolute Percentage Error (MAPE): 1.4500000000000002 %\n",
      "R2_score: 0.99\n"
     ]
    }
   ],
   "source": [
    "from sklearn import metrics\n",
    "\n",
    "print('Mean Absolute Error (MAE):', round(metrics.mean_absolute_error(y_test,y_pred),2))\n",
    "print('Mean Squared Error (MSE):', round(metrics.mean_squared_error(y_test,y_pred),2))\n",
    "print('Root Mean Squared Error (RMSE):', round(np.sqrt(metrics.mean_squared_error(y_test,y_pred)),2))\n",
    "print('Mean Absolute Percentage Error (MAPE):', round(metrics.mean_absolute_percentage_error(y_test,y_pred),4)*100, '%')\n",
    "print('R2_score:', round(metrics.r2_score(y_test,y_pred),3))\n"
   ]
  },
  {
   "cell_type": "code",
   "execution_count": 38,
   "id": "ea5ceda1",
   "metadata": {},
   "outputs": [
    {
     "data": {
      "text/html": [
       "<table class=\"simpletable\">\n",
       "<caption>OLS Regression Results</caption>\n",
       "<tr>\n",
       "  <th>Dep. Variable:</th>           <td>BMI</td>       <th>  R-squared (uncentered):</th>      <td>   1.000</td> \n",
       "</tr>\n",
       "<tr>\n",
       "  <th>Model:</th>                   <td>OLS</td>       <th>  Adj. R-squared (uncentered):</th> <td>   1.000</td> \n",
       "</tr>\n",
       "<tr>\n",
       "  <th>Method:</th>             <td>Least Squares</td>  <th>  F-statistic:       </th>          <td>5.945e+04</td>\n",
       "</tr>\n",
       "<tr>\n",
       "  <th>Date:</th>             <td>Mon, 31 May 2021</td> <th>  Prob (F-statistic):</th>          <td>1.13e-46</td> \n",
       "</tr>\n",
       "<tr>\n",
       "  <th>Time:</th>                 <td>23:32:26</td>     <th>  Log-Likelihood:    </th>          <td> -18.606</td> \n",
       "</tr>\n",
       "<tr>\n",
       "  <th>No. Observations:</th>      <td>    28</td>      <th>  AIC:               </th>          <td>   39.21</td> \n",
       "</tr>\n",
       "<tr>\n",
       "  <th>Df Residuals:</th>          <td>    27</td>      <th>  BIC:               </th>          <td>   40.54</td> \n",
       "</tr>\n",
       "<tr>\n",
       "  <th>Df Model:</th>              <td>     1</td>      <th>                     </th>              <td> </td>    \n",
       "</tr>\n",
       "<tr>\n",
       "  <th>Covariance Type:</th>      <td>nonrobust</td>    <th>                     </th>              <td> </td>    \n",
       "</tr>\n",
       "</table>\n",
       "<table class=\"simpletable\">\n",
       "<tr>\n",
       "   <td></td>     <th>coef</th>     <th>std err</th>      <th>t</th>      <th>P>|t|</th>  <th>[0.025</th>    <th>0.975]</th>  \n",
       "</tr>\n",
       "<tr>\n",
       "  <th>x1</th> <td>    0.9937</td> <td>    0.004</td> <td>  243.831</td> <td> 0.000</td> <td>    0.985</td> <td>    1.002</td>\n",
       "</tr>\n",
       "</table>\n",
       "<table class=\"simpletable\">\n",
       "<tr>\n",
       "  <th>Omnibus:</th>       <td> 8.220</td> <th>  Durbin-Watson:     </th> <td>   1.625</td>\n",
       "</tr>\n",
       "<tr>\n",
       "  <th>Prob(Omnibus):</th> <td> 0.016</td> <th>  Jarque-Bera (JB):  </th> <td>   6.434</td>\n",
       "</tr>\n",
       "<tr>\n",
       "  <th>Skew:</th>          <td>-1.083</td> <th>  Prob(JB):          </th> <td>  0.0401</td>\n",
       "</tr>\n",
       "<tr>\n",
       "  <th>Kurtosis:</th>      <td> 3.907</td> <th>  Cond. No.          </th> <td>    1.00</td>\n",
       "</tr>\n",
       "</table><br/><br/>Notes:<br/>[1] R² is computed without centering (uncentered) since the model does not contain a constant.<br/>[2] Standard Errors assume that the covariance matrix of the errors is correctly specified."
      ],
      "text/plain": [
       "<class 'statsmodels.iolib.summary.Summary'>\n",
       "\"\"\"\n",
       "                                 OLS Regression Results                                \n",
       "=======================================================================================\n",
       "Dep. Variable:                    BMI   R-squared (uncentered):                   1.000\n",
       "Model:                            OLS   Adj. R-squared (uncentered):              1.000\n",
       "Method:                 Least Squares   F-statistic:                          5.945e+04\n",
       "Date:                Mon, 31 May 2021   Prob (F-statistic):                    1.13e-46\n",
       "Time:                        23:32:26   Log-Likelihood:                         -18.606\n",
       "No. Observations:                  28   AIC:                                      39.21\n",
       "Df Residuals:                      27   BIC:                                      40.54\n",
       "Df Model:                           1                                                  \n",
       "Covariance Type:            nonrobust                                                  \n",
       "==============================================================================\n",
       "                 coef    std err          t      P>|t|      [0.025      0.975]\n",
       "------------------------------------------------------------------------------\n",
       "x1             0.9937      0.004    243.831      0.000       0.985       1.002\n",
       "==============================================================================\n",
       "Omnibus:                        8.220   Durbin-Watson:                   1.625\n",
       "Prob(Omnibus):                  0.016   Jarque-Bera (JB):                6.434\n",
       "Skew:                          -1.083   Prob(JB):                       0.0401\n",
       "Kurtosis:                       3.907   Cond. No.                         1.00\n",
       "==============================================================================\n",
       "\n",
       "Notes:\n",
       "[1] R² is computed without centering (uncentered) since the model does not contain a constant.\n",
       "[2] Standard Errors assume that the covariance matrix of the errors is correctly specified.\n",
       "\"\"\""
      ]
     },
     "execution_count": 38,
     "metadata": {},
     "output_type": "execute_result"
    }
   ],
   "source": [
    "from statsmodels.api import OLS\n",
    "OLS(y_test,y_pred).fit().summary()"
   ]
  },
  {
   "cell_type": "code",
   "execution_count": 40,
   "id": "43dc101b",
   "metadata": {},
   "outputs": [],
   "source": [
    "r_squared = round(metrics.r2_score(y_test, y_pred), 3)"
   ]
  },
  {
   "cell_type": "code",
   "execution_count": 41,
   "id": "b8789ced",
   "metadata": {},
   "outputs": [],
   "source": [
    "adjusted_r_squared = round(1 - (1-r_squared)*(len(y)-1)/(len(y)-x.shape[1]-1),3)"
   ]
  },
  {
   "cell_type": "code",
   "execution_count": 42,
   "id": "3a0d143a",
   "metadata": {},
   "outputs": [
    {
     "name": "stdout",
     "output_type": "stream",
     "text": [
      "0.99 0.99\n"
     ]
    }
   ],
   "source": [
    "print(r_squared, adjusted_r_squared)"
   ]
  },
  {
   "cell_type": "code",
   "execution_count": 43,
   "id": "8831fc41",
   "metadata": {},
   "outputs": [
    {
     "name": "stdout",
     "output_type": "stream",
     "text": [
      "36.25389715641289\n"
     ]
    }
   ],
   "source": [
    "print(mulreg.intercept_)"
   ]
  },
  {
   "cell_type": "code",
   "execution_count": 44,
   "id": "db1bc3d9",
   "metadata": {},
   "outputs": [
    {
     "name": "stdout",
     "output_type": "stream",
     "text": [
      "[-2.33644054e+01  4.03146064e-01  1.85217893e-02]\n"
     ]
    }
   ],
   "source": [
    "print(mulreg.coef_)"
   ]
  },
  {
   "cell_type": "code",
   "execution_count": 45,
   "id": "1f5a7a67",
   "metadata": {},
   "outputs": [
    {
     "name": "stdout",
     "output_type": "stream",
     "text": [
      "Coefficient of determination: 0.990\n"
     ]
    }
   ],
   "source": [
    "from sklearn.metrics import r2_score\n",
    "print(\"Coefficient of determination: %.3f\" % r2_score(y_test, y_pred))"
   ]
  },
  {
   "cell_type": "code",
   "execution_count": 46,
   "id": "eeacc02a",
   "metadata": {},
   "outputs": [],
   "source": [
    "# write dataframe data to .csv file\n",
    "y_pred = pd.DataFrame(y_pred) # convert array into dataframe\n",
    "#\n",
    "x_test.to_csv('x_test.csv')\n",
    "y_test.to_csv('y_test.csv')\n",
    "y_pred.to_csv('y_pred.csv')\n"
   ]
  },
  {
   "cell_type": "code",
   "execution_count": 48,
   "id": "08489c3f",
   "metadata": {},
   "outputs": [
    {
     "name": "stdout",
     "output_type": "stream",
     "text": [
      "            0\n",
      "0   22.529313\n",
      "1   16.786868\n",
      "2   34.018125\n",
      "3   17.829566\n",
      "4   20.055319\n",
      "5   29.897208\n",
      "6   20.694355\n",
      "7   26.586197\n",
      "8   16.583913\n",
      "9   18.273627\n",
      "10  17.310922\n",
      "11  23.472999\n",
      "12  18.997517\n",
      "13  27.919744\n",
      "14  20.260082\n",
      "15  24.400345\n",
      "16  18.821152\n",
      "17  15.507703\n",
      "18  17.467006\n",
      "19  17.880488\n",
      "20  28.841049\n",
      "21  31.421506\n",
      "22  15.122558\n",
      "23  20.083395\n",
      "24  21.189718\n",
      "25  24.607044\n",
      "26  16.605740\n",
      "27  22.480103\n"
     ]
    }
   ],
   "source": [
    "print(y_pred)"
   ]
  },
  {
   "cell_type": "code",
   "execution_count": 49,
   "id": "fb5692e9",
   "metadata": {},
   "outputs": [
    {
     "name": "stderr",
     "output_type": "stream",
     "text": [
      "<ipython-input-49-33ace38ef666>:1: SettingWithCopyWarning: \n",
      "A value is trying to be set on a copy of a slice from a DataFrame.\n",
      "Try using .loc[row_indexer,col_indexer] = value instead\n",
      "\n",
      "See the caveats in the documentation: https://pandas.pydata.org/pandas-docs/stable/user_guide/indexing.html#returning-a-view-versus-a-copy\n",
      "  x_test[\"Pred_value\"]=mulreg.predict(x_test)\n"
     ]
    }
   ],
   "source": [
    "x_test[\"Pred_value\"]=mulreg.predict(x_test)\n",
    "# y_pred = mulreg.predict(x_test)"
   ]
  },
  {
   "cell_type": "code",
   "execution_count": 50,
   "id": "ebc12dca",
   "metadata": {},
   "outputs": [
    {
     "data": {
      "text/html": [
       "<div>\n",
       "<style scoped>\n",
       "    .dataframe tbody tr th:only-of-type {\n",
       "        vertical-align: middle;\n",
       "    }\n",
       "\n",
       "    .dataframe tbody tr th {\n",
       "        vertical-align: top;\n",
       "    }\n",
       "\n",
       "    .dataframe thead th {\n",
       "        text-align: right;\n",
       "    }\n",
       "</style>\n",
       "<table border=\"1\" class=\"dataframe\">\n",
       "  <thead>\n",
       "    <tr style=\"text-align: right;\">\n",
       "      <th></th>\n",
       "      <th>Height M</th>\n",
       "      <th>Weight kg</th>\n",
       "      <th>%Fat</th>\n",
       "      <th>Pred_value</th>\n",
       "    </tr>\n",
       "  </thead>\n",
       "  <tbody>\n",
       "    <tr>\n",
       "      <th>64</th>\n",
       "      <td>1.53</td>\n",
       "      <td>52.96</td>\n",
       "      <td>36.3</td>\n",
       "      <td>22.529313</td>\n",
       "    </tr>\n",
       "    <tr>\n",
       "      <th>38</th>\n",
       "      <td>1.45</td>\n",
       "      <td>34.81</td>\n",
       "      <td>20.4</td>\n",
       "      <td>16.786868</td>\n",
       "    </tr>\n",
       "    <tr>\n",
       "      <th>52</th>\n",
       "      <td>1.58</td>\n",
       "      <td>83.91</td>\n",
       "      <td>46.0</td>\n",
       "      <td>34.018125</td>\n",
       "    </tr>\n",
       "    <tr>\n",
       "      <th>30</th>\n",
       "      <td>1.46</td>\n",
       "      <td>38.10</td>\n",
       "      <td>17.7</td>\n",
       "      <td>17.829566</td>\n",
       "    </tr>\n",
       "    <tr>\n",
       "      <th>7</th>\n",
       "      <td>1.50</td>\n",
       "      <td>45.59</td>\n",
       "      <td>25.3</td>\n",
       "      <td>20.055319</td>\n",
       "    </tr>\n",
       "  </tbody>\n",
       "</table>\n",
       "</div>"
      ],
      "text/plain": [
       "    Height M  Weight kg  %Fat  Pred_value\n",
       "64      1.53      52.96  36.3   22.529313\n",
       "38      1.45      34.81  20.4   16.786868\n",
       "52      1.58      83.91  46.0   34.018125\n",
       "30      1.46      38.10  17.7   17.829566\n",
       "7       1.50      45.59  25.3   20.055319"
      ]
     },
     "execution_count": 50,
     "metadata": {},
     "output_type": "execute_result"
    }
   ],
   "source": [
    "x_test.head()\n"
   ]
  },
  {
   "cell_type": "code",
   "execution_count": 51,
   "id": "2644ce20",
   "metadata": {},
   "outputs": [
    {
     "data": {
      "text/html": [
       "<div>\n",
       "<style scoped>\n",
       "    .dataframe tbody tr th:only-of-type {\n",
       "        vertical-align: middle;\n",
       "    }\n",
       "\n",
       "    .dataframe tbody tr th {\n",
       "        vertical-align: top;\n",
       "    }\n",
       "\n",
       "    .dataframe thead th {\n",
       "        text-align: right;\n",
       "    }\n",
       "</style>\n",
       "<table border=\"1\" class=\"dataframe\">\n",
       "  <thead>\n",
       "    <tr style=\"text-align: right;\">\n",
       "      <th></th>\n",
       "      <th>Height M</th>\n",
       "      <th>Weight kg</th>\n",
       "      <th>%Fat</th>\n",
       "      <th>BMI</th>\n",
       "    </tr>\n",
       "  </thead>\n",
       "  <tbody>\n",
       "    <tr>\n",
       "      <th>0</th>\n",
       "      <td>1.60</td>\n",
       "      <td>49.44</td>\n",
       "      <td>23.9</td>\n",
       "      <td>19.31</td>\n",
       "    </tr>\n",
       "    <tr>\n",
       "      <th>1</th>\n",
       "      <td>1.65</td>\n",
       "      <td>62.60</td>\n",
       "      <td>28.8</td>\n",
       "      <td>22.96</td>\n",
       "    </tr>\n",
       "    <tr>\n",
       "      <th>2</th>\n",
       "      <td>1.65</td>\n",
       "      <td>75.75</td>\n",
       "      <td>32.4</td>\n",
       "      <td>27.79</td>\n",
       "    </tr>\n",
       "    <tr>\n",
       "      <th>3</th>\n",
       "      <td>1.53</td>\n",
       "      <td>48.99</td>\n",
       "      <td>25.8</td>\n",
       "      <td>20.92</td>\n",
       "    </tr>\n",
       "    <tr>\n",
       "      <th>4</th>\n",
       "      <td>1.45</td>\n",
       "      <td>43.09</td>\n",
       "      <td>22.5</td>\n",
       "      <td>20.38</td>\n",
       "    </tr>\n",
       "  </tbody>\n",
       "</table>\n",
       "</div>"
      ],
      "text/plain": [
       "   Height M  Weight kg  %Fat    BMI\n",
       "0      1.60      49.44  23.9  19.31\n",
       "1      1.65      62.60  28.8  22.96\n",
       "2      1.65      75.75  32.4  27.79\n",
       "3      1.53      48.99  25.8  20.92\n",
       "4      1.45      43.09  22.5  20.38"
      ]
     },
     "execution_count": 51,
     "metadata": {},
     "output_type": "execute_result"
    }
   ],
   "source": [
    "bmidata.head()"
   ]
  },
  {
   "cell_type": "code",
   "execution_count": null,
   "id": "4e5e99f8",
   "metadata": {},
   "outputs": [],
   "source": []
  }
 ],
 "metadata": {
  "kernelspec": {
   "display_name": "Python 3",
   "language": "python",
   "name": "python3"
  },
  "language_info": {
   "codemirror_mode": {
    "name": "ipython",
    "version": 3
   },
   "file_extension": ".py",
   "mimetype": "text/x-python",
   "name": "python",
   "nbconvert_exporter": "python",
   "pygments_lexer": "ipython3",
   "version": "3.8.8"
  }
 },
 "nbformat": 4,
 "nbformat_minor": 5
}
