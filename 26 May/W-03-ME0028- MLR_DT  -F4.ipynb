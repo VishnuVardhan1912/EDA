{
 "cells": [
  {
   "cell_type": "markdown",
   "id": "fde59449",
   "metadata": {},
   "source": [
    "#  Multi-Regession"
   ]
  },
  {
   "cell_type": "code",
   "execution_count": 1,
   "id": "9cb92993",
   "metadata": {},
   "outputs": [],
   "source": [
    "# importing the libraries\n",
    "\n",
    "import numpy as np\n",
    "import pandas as pd\n",
    "import matplotlib.pyplot as plt"
   ]
  },
  {
   "cell_type": "code",
   "execution_count": 2,
   "id": "71806f5a",
   "metadata": {
    "scrolled": true
   },
   "outputs": [
    {
     "data": {
      "text/html": [
       "<div>\n",
       "<style scoped>\n",
       "    .dataframe tbody tr th:only-of-type {\n",
       "        vertical-align: middle;\n",
       "    }\n",
       "\n",
       "    .dataframe tbody tr th {\n",
       "        vertical-align: top;\n",
       "    }\n",
       "\n",
       "    .dataframe thead th {\n",
       "        text-align: right;\n",
       "    }\n",
       "</style>\n",
       "<table border=\"1\" class=\"dataframe\">\n",
       "  <thead>\n",
       "    <tr style=\"text-align: right;\">\n",
       "      <th></th>\n",
       "      <th>Cement</th>\n",
       "      <th>Slag</th>\n",
       "      <th>Flyash</th>\n",
       "      <th>Water</th>\n",
       "      <th>SuperPlasticizer</th>\n",
       "      <th>CoarseAggregate</th>\n",
       "      <th>FineAggregate</th>\n",
       "      <th>Age</th>\n",
       "      <th>CSinMPa</th>\n",
       "    </tr>\n",
       "  </thead>\n",
       "  <tbody>\n",
       "    <tr>\n",
       "      <th>0</th>\n",
       "      <td>540.0</td>\n",
       "      <td>0.0</td>\n",
       "      <td>0.0</td>\n",
       "      <td>162.0</td>\n",
       "      <td>2.5</td>\n",
       "      <td>1040.0</td>\n",
       "      <td>676.0</td>\n",
       "      <td>28</td>\n",
       "      <td>79.99</td>\n",
       "    </tr>\n",
       "    <tr>\n",
       "      <th>1</th>\n",
       "      <td>540.0</td>\n",
       "      <td>0.0</td>\n",
       "      <td>0.0</td>\n",
       "      <td>162.0</td>\n",
       "      <td>2.5</td>\n",
       "      <td>1055.0</td>\n",
       "      <td>676.0</td>\n",
       "      <td>28</td>\n",
       "      <td>61.89</td>\n",
       "    </tr>\n",
       "    <tr>\n",
       "      <th>2</th>\n",
       "      <td>332.5</td>\n",
       "      <td>142.5</td>\n",
       "      <td>0.0</td>\n",
       "      <td>228.0</td>\n",
       "      <td>0.0</td>\n",
       "      <td>932.0</td>\n",
       "      <td>594.0</td>\n",
       "      <td>270</td>\n",
       "      <td>40.27</td>\n",
       "    </tr>\n",
       "    <tr>\n",
       "      <th>3</th>\n",
       "      <td>332.5</td>\n",
       "      <td>142.5</td>\n",
       "      <td>0.0</td>\n",
       "      <td>228.0</td>\n",
       "      <td>0.0</td>\n",
       "      <td>932.0</td>\n",
       "      <td>594.0</td>\n",
       "      <td>365</td>\n",
       "      <td>41.05</td>\n",
       "    </tr>\n",
       "    <tr>\n",
       "      <th>4</th>\n",
       "      <td>198.6</td>\n",
       "      <td>132.4</td>\n",
       "      <td>0.0</td>\n",
       "      <td>192.0</td>\n",
       "      <td>0.0</td>\n",
       "      <td>978.4</td>\n",
       "      <td>825.5</td>\n",
       "      <td>360</td>\n",
       "      <td>44.30</td>\n",
       "    </tr>\n",
       "  </tbody>\n",
       "</table>\n",
       "</div>"
      ],
      "text/plain": [
       "   Cement   Slag  Flyash  Water  SuperPlasticizer  CoarseAggregate  \\\n",
       "0   540.0    0.0     0.0  162.0               2.5           1040.0   \n",
       "1   540.0    0.0     0.0  162.0               2.5           1055.0   \n",
       "2   332.5  142.5     0.0  228.0               0.0            932.0   \n",
       "3   332.5  142.5     0.0  228.0               0.0            932.0   \n",
       "4   198.6  132.4     0.0  192.0               0.0            978.4   \n",
       "\n",
       "   FineAggregate  Age  CSinMPa  \n",
       "0          676.0   28    79.99  \n",
       "1          676.0   28    61.89  \n",
       "2          594.0  270    40.27  \n",
       "3          594.0  365    41.05  \n",
       "4          825.5  360    44.30  "
      ]
     },
     "execution_count": 2,
     "metadata": {},
     "output_type": "execute_result"
    }
   ],
   "source": [
    "concrete = pd.read_csv(r\"D:\\iiit notes\\Internship\\12-seasion 26-May-2021\\Concrete_Data_V1.0.csv\", header = 0)\n",
    "concrete.head()"
   ]
  },
  {
   "cell_type": "code",
   "execution_count": 3,
   "id": "c9bfcaa0",
   "metadata": {},
   "outputs": [
    {
     "name": "stdout",
     "output_type": "stream",
     "text": [
      "<class 'pandas.core.frame.DataFrame'>\n",
      "RangeIndex: 1030 entries, 0 to 1029\n",
      "Data columns (total 9 columns):\n",
      " #   Column            Non-Null Count  Dtype  \n",
      "---  ------            --------------  -----  \n",
      " 0   Cement            1030 non-null   float64\n",
      " 1   Slag              1030 non-null   float64\n",
      " 2   Flyash            1030 non-null   float64\n",
      " 3   Water             1030 non-null   float64\n",
      " 4   SuperPlasticizer  1030 non-null   float64\n",
      " 5   CoarseAggregate   1030 non-null   float64\n",
      " 6   FineAggregate     1030 non-null   float64\n",
      " 7   Age               1030 non-null   int64  \n",
      " 8   CSinMPa           1030 non-null   float64\n",
      "dtypes: float64(8), int64(1)\n",
      "memory usage: 72.5 KB\n"
     ]
    }
   ],
   "source": [
    "concrete.info()"
   ]
  },
  {
   "cell_type": "code",
   "execution_count": 4,
   "id": "0e24f15d",
   "metadata": {},
   "outputs": [
    {
     "data": {
      "text/html": [
       "<div>\n",
       "<style scoped>\n",
       "    .dataframe tbody tr th:only-of-type {\n",
       "        vertical-align: middle;\n",
       "    }\n",
       "\n",
       "    .dataframe tbody tr th {\n",
       "        vertical-align: top;\n",
       "    }\n",
       "\n",
       "    .dataframe thead th {\n",
       "        text-align: right;\n",
       "    }\n",
       "</style>\n",
       "<table border=\"1\" class=\"dataframe\">\n",
       "  <thead>\n",
       "    <tr style=\"text-align: right;\">\n",
       "      <th></th>\n",
       "      <th>Cement</th>\n",
       "      <th>Slag</th>\n",
       "      <th>Flyash</th>\n",
       "      <th>Water</th>\n",
       "      <th>SuperPlasticizer</th>\n",
       "      <th>CoarseAggregate</th>\n",
       "      <th>FineAggregate</th>\n",
       "      <th>Age</th>\n",
       "      <th>CSinMPa</th>\n",
       "    </tr>\n",
       "  </thead>\n",
       "  <tbody>\n",
       "    <tr>\n",
       "      <th>Cement</th>\n",
       "      <td>1.000000</td>\n",
       "      <td>-0.275216</td>\n",
       "      <td>-0.397467</td>\n",
       "      <td>-0.081587</td>\n",
       "      <td>0.092386</td>\n",
       "      <td>-0.109349</td>\n",
       "      <td>-0.222718</td>\n",
       "      <td>0.081946</td>\n",
       "      <td>0.497832</td>\n",
       "    </tr>\n",
       "    <tr>\n",
       "      <th>Slag</th>\n",
       "      <td>-0.275216</td>\n",
       "      <td>1.000000</td>\n",
       "      <td>-0.323580</td>\n",
       "      <td>0.107252</td>\n",
       "      <td>0.043270</td>\n",
       "      <td>-0.283999</td>\n",
       "      <td>-0.281603</td>\n",
       "      <td>-0.044246</td>\n",
       "      <td>0.134829</td>\n",
       "    </tr>\n",
       "    <tr>\n",
       "      <th>Flyash</th>\n",
       "      <td>-0.397467</td>\n",
       "      <td>-0.323580</td>\n",
       "      <td>1.000000</td>\n",
       "      <td>-0.256984</td>\n",
       "      <td>0.377503</td>\n",
       "      <td>-0.009961</td>\n",
       "      <td>0.079108</td>\n",
       "      <td>-0.154371</td>\n",
       "      <td>-0.105755</td>\n",
       "    </tr>\n",
       "    <tr>\n",
       "      <th>Water</th>\n",
       "      <td>-0.081587</td>\n",
       "      <td>0.107252</td>\n",
       "      <td>-0.256984</td>\n",
       "      <td>1.000000</td>\n",
       "      <td>-0.657533</td>\n",
       "      <td>-0.182294</td>\n",
       "      <td>-0.450661</td>\n",
       "      <td>0.277618</td>\n",
       "      <td>-0.289633</td>\n",
       "    </tr>\n",
       "    <tr>\n",
       "      <th>SuperPlasticizer</th>\n",
       "      <td>0.092386</td>\n",
       "      <td>0.043270</td>\n",
       "      <td>0.377503</td>\n",
       "      <td>-0.657533</td>\n",
       "      <td>1.000000</td>\n",
       "      <td>-0.265999</td>\n",
       "      <td>0.222691</td>\n",
       "      <td>-0.192700</td>\n",
       "      <td>0.366079</td>\n",
       "    </tr>\n",
       "    <tr>\n",
       "      <th>CoarseAggregate</th>\n",
       "      <td>-0.109349</td>\n",
       "      <td>-0.283999</td>\n",
       "      <td>-0.009961</td>\n",
       "      <td>-0.182294</td>\n",
       "      <td>-0.265999</td>\n",
       "      <td>1.000000</td>\n",
       "      <td>-0.178481</td>\n",
       "      <td>-0.003016</td>\n",
       "      <td>-0.164935</td>\n",
       "    </tr>\n",
       "    <tr>\n",
       "      <th>FineAggregate</th>\n",
       "      <td>-0.222718</td>\n",
       "      <td>-0.281603</td>\n",
       "      <td>0.079108</td>\n",
       "      <td>-0.450661</td>\n",
       "      <td>0.222691</td>\n",
       "      <td>-0.178481</td>\n",
       "      <td>1.000000</td>\n",
       "      <td>-0.156095</td>\n",
       "      <td>-0.167241</td>\n",
       "    </tr>\n",
       "    <tr>\n",
       "      <th>Age</th>\n",
       "      <td>0.081946</td>\n",
       "      <td>-0.044246</td>\n",
       "      <td>-0.154371</td>\n",
       "      <td>0.277618</td>\n",
       "      <td>-0.192700</td>\n",
       "      <td>-0.003016</td>\n",
       "      <td>-0.156095</td>\n",
       "      <td>1.000000</td>\n",
       "      <td>0.328873</td>\n",
       "    </tr>\n",
       "    <tr>\n",
       "      <th>CSinMPa</th>\n",
       "      <td>0.497832</td>\n",
       "      <td>0.134829</td>\n",
       "      <td>-0.105755</td>\n",
       "      <td>-0.289633</td>\n",
       "      <td>0.366079</td>\n",
       "      <td>-0.164935</td>\n",
       "      <td>-0.167241</td>\n",
       "      <td>0.328873</td>\n",
       "      <td>1.000000</td>\n",
       "    </tr>\n",
       "  </tbody>\n",
       "</table>\n",
       "</div>"
      ],
      "text/plain": [
       "                    Cement      Slag    Flyash     Water  SuperPlasticizer  \\\n",
       "Cement            1.000000 -0.275216 -0.397467 -0.081587          0.092386   \n",
       "Slag             -0.275216  1.000000 -0.323580  0.107252          0.043270   \n",
       "Flyash           -0.397467 -0.323580  1.000000 -0.256984          0.377503   \n",
       "Water            -0.081587  0.107252 -0.256984  1.000000         -0.657533   \n",
       "SuperPlasticizer  0.092386  0.043270  0.377503 -0.657533          1.000000   \n",
       "CoarseAggregate  -0.109349 -0.283999 -0.009961 -0.182294         -0.265999   \n",
       "FineAggregate    -0.222718 -0.281603  0.079108 -0.450661          0.222691   \n",
       "Age               0.081946 -0.044246 -0.154371  0.277618         -0.192700   \n",
       "CSinMPa           0.497832  0.134829 -0.105755 -0.289633          0.366079   \n",
       "\n",
       "                  CoarseAggregate  FineAggregate       Age   CSinMPa  \n",
       "Cement                  -0.109349      -0.222718  0.081946  0.497832  \n",
       "Slag                    -0.283999      -0.281603 -0.044246  0.134829  \n",
       "Flyash                  -0.009961       0.079108 -0.154371 -0.105755  \n",
       "Water                   -0.182294      -0.450661  0.277618 -0.289633  \n",
       "SuperPlasticizer        -0.265999       0.222691 -0.192700  0.366079  \n",
       "CoarseAggregate          1.000000      -0.178481 -0.003016 -0.164935  \n",
       "FineAggregate           -0.178481       1.000000 -0.156095 -0.167241  \n",
       "Age                     -0.003016      -0.156095  1.000000  0.328873  \n",
       "CSinMPa                 -0.164935      -0.167241  0.328873  1.000000  "
      ]
     },
     "execution_count": 4,
     "metadata": {},
     "output_type": "execute_result"
    }
   ],
   "source": [
    "concrete.corr()"
   ]
  },
  {
   "cell_type": "code",
   "execution_count": 5,
   "id": "25b144c9",
   "metadata": {},
   "outputs": [],
   "source": [
    "IndepVar =[]\n",
    "\n",
    "for col in concrete.columns:\n",
    "    if col != 'CSinMPa':\n",
    "        IndepVar.append(col)\n",
    "        \n",
    "TargetVar = 'CSinMPa'\n",
    "\n",
    "x = concrete[IndepVar]\n",
    "y = concrete[TargetVar]"
   ]
  },
  {
   "cell_type": "code",
   "execution_count": 6,
   "id": "7a7247c4",
   "metadata": {},
   "outputs": [],
   "source": [
    "from sklearn.model_selection import train_test_split\n",
    "\n",
    "x_train, x_test, y_train, y_test = train_test_split(x, y, test_size = 0.3, random_state = 42)"
   ]
  },
  {
   "cell_type": "code",
   "execution_count": 7,
   "id": "7eb50998",
   "metadata": {},
   "outputs": [
    {
     "data": {
      "text/plain": [
       "LinearRegression()"
      ]
     },
     "execution_count": 7,
     "metadata": {},
     "output_type": "execute_result"
    }
   ],
   "source": [
    "from sklearn.linear_model import LinearRegression\n",
    "\n",
    "mulreg = LinearRegression()\n",
    "mulreg.fit(x_train, y_train)"
   ]
  },
  {
   "cell_type": "code",
   "execution_count": 8,
   "id": "dc454b0b",
   "metadata": {},
   "outputs": [],
   "source": [
    "y_pred = mulreg.predict(x_test)"
   ]
  },
  {
   "cell_type": "code",
   "execution_count": 9,
   "id": "3d880774",
   "metadata": {},
   "outputs": [
    {
     "name": "stdout",
     "output_type": "stream",
     "text": [
      "Mean Absolute Error (MAE): 8.299\n",
      "Mean Squared Error (MSE): 109.751\n",
      "Root Mean Squared Error (RMSE): 10.476\n",
      "Mean Absolute Percentage Error (MAPE): 32.0 %\n",
      "R2_score: 0.594378\n"
     ]
    }
   ],
   "source": [
    "from sklearn import metrics\n",
    "\n",
    "print('Mean Absolute Error (MAE):', round(metrics.mean_absolute_error(y_test,y_pred),3))\n",
    "print('Mean Squared Error (MSE):', round(metrics.mean_squared_error(y_test,y_pred),3))\n",
    "print('Root Mean Squared Error (RMSE):', round(np.sqrt(metrics.mean_squared_error(y_test,y_pred)),3))\n",
    "print('Mean Absolute Percentage Error (MAPE):', round(metrics.mean_absolute_percentage_error(y_test,y_pred),2)*100, '%')\n",
    "print('R2_score:', round(metrics.r2_score(y_test,y_pred),6))"
   ]
  },
  {
   "cell_type": "code",
   "execution_count": 10,
   "id": "bdcc9bd6",
   "metadata": {},
   "outputs": [],
   "source": [
    "def MAPE(y_test, y_pred):\n",
    "    y_test, y_pred = np.array(y_test), np.array(y_pred)\n",
    "    return np.mean(np.abs((y_test - y_pred)/y_test))* 100"
   ]
  },
  {
   "cell_type": "code",
   "execution_count": 11,
   "id": "ce25dce8",
   "metadata": {},
   "outputs": [
    {
     "name": "stdout",
     "output_type": "stream",
     "text": [
      "Mean Asolute Percentage error: 32.187 %\n"
     ]
    }
   ],
   "source": [
    "result = MAPE(y_test, y_pred)\n",
    "print('Mean Asolute Percentage error:', round(result,3), '%')"
   ]
  },
  {
   "cell_type": "code",
   "execution_count": 12,
   "id": "2b9f27ed",
   "metadata": {},
   "outputs": [
    {
     "name": "stdout",
     "output_type": "stream",
     "text": [
      "Adj R Square:  0.5912\n"
     ]
    }
   ],
   "source": [
    "# Calculate Adjusted R squared value\n",
    "\n",
    "r_squared = round(metrics.r2_score(y_test, y_pred), 6)\n",
    "adjusted_r_squared = round(1 - (1-r_squared)*(len(y)-1)/(len(y)-x.shape[1]-1),6)\n",
    "print('Adj R Square: ', adjusted_r_squared)"
   ]
  },
  {
   "cell_type": "markdown",
   "id": "d240e8ac",
   "metadata": {},
   "source": [
    "# Decision Tree"
   ]
  },
  {
   "cell_type": "code",
   "execution_count": 13,
   "id": "3f506b53",
   "metadata": {},
   "outputs": [
    {
     "data": {
      "text/plain": [
       "DecisionTreeRegressor(criterion='mae', max_depth=3)"
      ]
     },
     "execution_count": 13,
     "metadata": {},
     "output_type": "execute_result"
    }
   ],
   "source": [
    "\n",
    "\n",
    "# Build decision tree regression model\n",
    "\n",
    "from sklearn.tree import DecisionTreeRegressor\n",
    "\n",
    "dcreg = DecisionTreeRegressor(criterion = 'mae', splitter = 'best', max_depth = 3)\n",
    "dcreg.fit(x_train, y_train)"
   ]
  },
  {
   "cell_type": "code",
   "execution_count": 14,
   "id": "4794659f",
   "metadata": {},
   "outputs": [
    {
     "name": "stdout",
     "output_type": "stream",
     "text": [
      "{'ccp_alpha': 0.0, 'criterion': 'mae', 'max_depth': 3, 'max_features': None, 'max_leaf_nodes': None, 'min_impurity_decrease': 0.0, 'min_impurity_split': None, 'min_samples_leaf': 1, 'min_samples_split': 2, 'min_weight_fraction_leaf': 0.0, 'random_state': None, 'splitter': 'best'}\n"
     ]
    }
   ],
   "source": [
    "print(dcreg.get_params())"
   ]
  },
  {
   "cell_type": "code",
   "execution_count": 15,
   "id": "a40afd8e",
   "metadata": {},
   "outputs": [],
   "source": [
    "y_pred1 = dcreg.predict(x_test)"
   ]
  },
  {
   "cell_type": "code",
   "execution_count": 16,
   "id": "037afcf5",
   "metadata": {},
   "outputs": [
    {
     "name": "stdout",
     "output_type": "stream",
     "text": [
      "Mean Absolute Error (MAE): 8.824\n",
      "Mean Squared Error (MSE): 128.312\n",
      "Root Mean Squared Error (RMSE): 11.327\n",
      "Mean Absolute Percentage Error (MAPE): 33.0 %\n",
      "R2_score: 0.52578\n"
     ]
    }
   ],
   "source": [
    "from sklearn import metrics\n",
    "\n",
    "print('Mean Absolute Error (MAE):', round(metrics.mean_absolute_error(y_test,y_pred1),3))\n",
    "print('Mean Squared Error (MSE):', round(metrics.mean_squared_error(y_test,y_pred1),3))\n",
    "print('Root Mean Squared Error (RMSE):', round(np.sqrt(metrics.mean_squared_error(y_test,y_pred1)),3))\n",
    "print('Mean Absolute Percentage Error (MAPE):', round(metrics.mean_absolute_percentage_error(y_test,y_pred1),2)*100, '%')\n",
    "print('R2_score:', round(metrics.r2_score(y_test,y_pred1),6))"
   ]
  },
  {
   "cell_type": "code",
   "execution_count": 17,
   "id": "8b32f89c",
   "metadata": {},
   "outputs": [],
   "source": [
    "def MAPE(y_test, y_pred1):\n",
    "    y_test, y_pred1 = np.array(y_test), np.array(y_pred1)\n",
    "    return np.mean(np.abs((y_test - y_pred1)/y_test))* 100"
   ]
  },
  {
   "cell_type": "code",
   "execution_count": 18,
   "id": "b0ca2c0f",
   "metadata": {},
   "outputs": [
    {
     "name": "stdout",
     "output_type": "stream",
     "text": [
      "Mean Absolute Percentage Error (MAPE): 32.772 %\n"
     ]
    }
   ],
   "source": [
    "result = MAPE(y_test, y_pred1)\n",
    "print('Mean Absolute Percentage Error (MAPE):', round(result, 3), '%')"
   ]
  },
  {
   "cell_type": "code",
   "execution_count": 19,
   "id": "5cf52d86",
   "metadata": {},
   "outputs": [
    {
     "name": "stdout",
     "output_type": "stream",
     "text": [
      "Adj R Square:  0.522064\n"
     ]
    }
   ],
   "source": [
    "r_squared = round(metrics.r2_score(y_test, y_pred1),6)\n",
    "adjusted_r_squared = round(1 - (1-r_squared)*(len(y)-1)/(len(y)-x.shape[1]-1),6)\n",
    "print('Adj R Square: ', adjusted_r_squared)"
   ]
  },
  {
   "cell_type": "code",
   "execution_count": 20,
   "id": "d3c58124",
   "metadata": {},
   "outputs": [
    {
     "name": "stdout",
     "output_type": "stream",
     "text": [
      "Feature: 0, Score: 0.46942\n",
      "Feature: 1, Score: 0.00000\n",
      "Feature: 2, Score: 0.00000\n",
      "Feature: 3, Score: 0.10486\n",
      "Feature: 4, Score: 0.05565\n",
      "Feature: 5, Score: 0.00000\n",
      "Feature: 6, Score: 0.00000\n",
      "Feature: 7, Score: 0.37007\n"
     ]
    },
    {
     "data": {
      "image/png": "[encoded data removed]",
      "text/plain": [
       "<Figure size 432x288 with 1 Axes>"
      ]
     },
     "metadata": {
      "needs_background": "light"
     },
     "output_type": "display_data"
    }
   ],
   "source": [
    "# Get feature importance\n",
    "\n",
    "from matplotlib import pyplot\n",
    "\n",
    "importance = dcreg.feature_importances_\n",
    "\n",
    "# summarize feature importance\n",
    "\n",
    "for i,v in enumerate(importance):\n",
    "    print('Feature: %0d, Score: %.5f' % (i,v))\n",
    "\n",
    "# plot feature importance\n",
    "\n",
    "pyplot.bar([x for x in range(len(importance))], importance)\n",
    "pyplot.show()"
   ]
  },
  {
   "cell_type": "code",
   "execution_count": 21,
   "id": "ca2b53ee",
   "metadata": {},
   "outputs": [
    {
     "name": "stdout",
     "output_type": "stream",
     "text": [
      "<class 'pandas.core.frame.DataFrame'>\n",
      "RangeIndex: 1030 entries, 0 to 1029\n",
      "Data columns (total 9 columns):\n",
      " #   Column            Non-Null Count  Dtype  \n",
      "---  ------            --------------  -----  \n",
      " 0   Cement            1030 non-null   float64\n",
      " 1   Slag              1030 non-null   float64\n",
      " 2   Flyash            1030 non-null   float64\n",
      " 3   Water             1030 non-null   float64\n",
      " 4   SuperPlasticizer  1030 non-null   float64\n",
      " 5   CoarseAggregate   1030 non-null   float64\n",
      " 6   FineAggregate     1030 non-null   float64\n",
      " 7   Age               1030 non-null   int64  \n",
      " 8   CSinMPa           1030 non-null   float64\n",
      "dtypes: float64(8), int64(1)\n",
      "memory usage: 72.5 KB\n"
     ]
    }
   ],
   "source": [
    "concrete.info()"
   ]
  },
  {
   "cell_type": "code",
   "execution_count": null,
   "id": "fff96087",
   "metadata": {},
   "outputs": [],
   "source": []
  }
 ],
 "metadata": {
  "kernelspec": {
   "display_name": "Python 3",
   "language": "python",
   "name": "python3"
  },
  "language_info": {
   "codemirror_mode": {
    "name": "ipython",
    "version": 3
   },
   "file_extension": ".py",
   "mimetype": "text/x-python",
   "name": "python",
   "nbconvert_exporter": "python",
   "pygments_lexer": "ipython3",
   "version": "3.8.8"
  }
 },
 "nbformat": 4,
 "nbformat_minor": 5
}
