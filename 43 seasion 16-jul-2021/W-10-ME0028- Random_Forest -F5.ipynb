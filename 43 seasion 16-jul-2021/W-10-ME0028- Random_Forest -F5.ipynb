{
 "cells": [
  {
   "cell_type": "markdown",
   "id": "4adee822",
   "metadata": {},
   "source": [
    "# Boston"
   ]
  },
  {
   "cell_type": "code",
   "execution_count": 1,
   "id": "0d112763",
   "metadata": {},
   "outputs": [],
   "source": [
    "# Importing the libraries\n",
    "\n",
    "import numpy as np\n",
    "import pandas as pd\n",
    "\n",
    "import matplotlib.pyplot as plt\n",
    "\n",
    "# Ignoring the warnings\n",
    "\n",
    "import warnings\n",
    "warnings.filterwarnings(\"ignore\")\n",
    "\n",
    "import pandasql as psql"
   ]
  },
  {
   "cell_type": "code",
   "execution_count": 2,
   "id": "d8feac24",
   "metadata": {},
   "outputs": [
    {
     "data": {
      "text/html": [
       "<div>\n",
       "<style scoped>\n",
       "    .dataframe tbody tr th:only-of-type {\n",
       "        vertical-align: middle;\n",
       "    }\n",
       "\n",
       "    .dataframe tbody tr th {\n",
       "        vertical-align: top;\n",
       "    }\n",
       "\n",
       "    .dataframe thead th {\n",
       "        text-align: right;\n",
       "    }\n",
       "</style>\n",
       "<table border=\"1\" class=\"dataframe\">\n",
       "  <thead>\n",
       "    <tr style=\"text-align: right;\">\n",
       "      <th></th>\n",
       "      <th>Rec_ID</th>\n",
       "      <th>crim</th>\n",
       "      <th>zn</th>\n",
       "      <th>indus</th>\n",
       "      <th>chas</th>\n",
       "      <th>nox</th>\n",
       "      <th>rm</th>\n",
       "      <th>age</th>\n",
       "      <th>dis</th>\n",
       "      <th>rad</th>\n",
       "      <th>tax</th>\n",
       "      <th>ptratio</th>\n",
       "      <th>black</th>\n",
       "      <th>lstat</th>\n",
       "      <th>medv</th>\n",
       "    </tr>\n",
       "  </thead>\n",
       "  <tbody>\n",
       "    <tr>\n",
       "      <th>0</th>\n",
       "      <td>1</td>\n",
       "      <td>0.00632</td>\n",
       "      <td>18.0</td>\n",
       "      <td>2.31</td>\n",
       "      <td>0</td>\n",
       "      <td>0.538</td>\n",
       "      <td>6.575</td>\n",
       "      <td>65.2</td>\n",
       "      <td>4.0900</td>\n",
       "      <td>1</td>\n",
       "      <td>296</td>\n",
       "      <td>15.3</td>\n",
       "      <td>396.90</td>\n",
       "      <td>4.98</td>\n",
       "      <td>24.0</td>\n",
       "    </tr>\n",
       "    <tr>\n",
       "      <th>1</th>\n",
       "      <td>2</td>\n",
       "      <td>0.02731</td>\n",
       "      <td>0.0</td>\n",
       "      <td>7.07</td>\n",
       "      <td>0</td>\n",
       "      <td>0.469</td>\n",
       "      <td>6.421</td>\n",
       "      <td>78.9</td>\n",
       "      <td>4.9671</td>\n",
       "      <td>2</td>\n",
       "      <td>242</td>\n",
       "      <td>17.8</td>\n",
       "      <td>396.90</td>\n",
       "      <td>9.14</td>\n",
       "      <td>21.6</td>\n",
       "    </tr>\n",
       "    <tr>\n",
       "      <th>2</th>\n",
       "      <td>3</td>\n",
       "      <td>0.02729</td>\n",
       "      <td>0.0</td>\n",
       "      <td>7.07</td>\n",
       "      <td>0</td>\n",
       "      <td>0.469</td>\n",
       "      <td>7.185</td>\n",
       "      <td>61.1</td>\n",
       "      <td>4.9671</td>\n",
       "      <td>2</td>\n",
       "      <td>242</td>\n",
       "      <td>17.8</td>\n",
       "      <td>392.83</td>\n",
       "      <td>4.03</td>\n",
       "      <td>34.7</td>\n",
       "    </tr>\n",
       "    <tr>\n",
       "      <th>3</th>\n",
       "      <td>4</td>\n",
       "      <td>0.03237</td>\n",
       "      <td>0.0</td>\n",
       "      <td>2.18</td>\n",
       "      <td>0</td>\n",
       "      <td>0.458</td>\n",
       "      <td>6.998</td>\n",
       "      <td>45.8</td>\n",
       "      <td>6.0622</td>\n",
       "      <td>3</td>\n",
       "      <td>222</td>\n",
       "      <td>18.7</td>\n",
       "      <td>394.63</td>\n",
       "      <td>2.94</td>\n",
       "      <td>33.4</td>\n",
       "    </tr>\n",
       "    <tr>\n",
       "      <th>4</th>\n",
       "      <td>5</td>\n",
       "      <td>0.06905</td>\n",
       "      <td>0.0</td>\n",
       "      <td>2.18</td>\n",
       "      <td>0</td>\n",
       "      <td>0.458</td>\n",
       "      <td>7.147</td>\n",
       "      <td>54.2</td>\n",
       "      <td>6.0622</td>\n",
       "      <td>3</td>\n",
       "      <td>222</td>\n",
       "      <td>18.7</td>\n",
       "      <td>396.90</td>\n",
       "      <td>5.33</td>\n",
       "      <td>36.2</td>\n",
       "    </tr>\n",
       "  </tbody>\n",
       "</table>\n",
       "</div>"
      ],
      "text/plain": [
       "   Rec_ID     crim    zn  indus  chas    nox     rm   age     dis  rad  tax  \\\n",
       "0       1  0.00632  18.0   2.31     0  0.538  6.575  65.2  4.0900    1  296   \n",
       "1       2  0.02731   0.0   7.07     0  0.469  6.421  78.9  4.9671    2  242   \n",
       "2       3  0.02729   0.0   7.07     0  0.469  7.185  61.1  4.9671    2  242   \n",
       "3       4  0.03237   0.0   2.18     0  0.458  6.998  45.8  6.0622    3  222   \n",
       "4       5  0.06905   0.0   2.18     0  0.458  7.147  54.2  6.0622    3  222   \n",
       "\n",
       "   ptratio   black  lstat  medv  \n",
       "0     15.3  396.90   4.98  24.0  \n",
       "1     17.8  396.90   9.14  21.6  \n",
       "2     17.8  392.83   4.03  34.7  \n",
       "3     18.7  394.63   2.94  33.4  \n",
       "4     18.7  396.90   5.33  36.2  "
      ]
     },
     "execution_count": 2,
     "metadata": {},
     "output_type": "execute_result"
    }
   ],
   "source": [
    "# Load the Boston housing data\n",
    "\n",
    "boston = pd.read_csv(r\"D:\\iiit notes\\Programming\\AI\\Internship practice\\43 seasion 16-jul-2021\\Boston.csv\", header=0)\n",
    "boston.head()"
   ]
  },
  {
   "cell_type": "code",
   "execution_count": 3,
   "id": "d6046cd0",
   "metadata": {},
   "outputs": [
    {
     "name": "stdout",
     "output_type": "stream",
     "text": [
      "<class 'pandas.core.frame.DataFrame'>\n",
      "RangeIndex: 506 entries, 0 to 505\n",
      "Data columns (total 15 columns):\n",
      " #   Column   Non-Null Count  Dtype  \n",
      "---  ------   --------------  -----  \n",
      " 0   Rec_ID   506 non-null    int64  \n",
      " 1   crim     506 non-null    float64\n",
      " 2   zn       506 non-null    float64\n",
      " 3   indus    506 non-null    float64\n",
      " 4   chas     506 non-null    int64  \n",
      " 5   nox      506 non-null    float64\n",
      " 6   rm       506 non-null    float64\n",
      " 7   age      506 non-null    float64\n",
      " 8   dis      506 non-null    float64\n",
      " 9   rad      506 non-null    int64  \n",
      " 10  tax      506 non-null    int64  \n",
      " 11  ptratio  506 non-null    float64\n",
      " 12  black    506 non-null    float64\n",
      " 13  lstat    506 non-null    float64\n",
      " 14  medv     506 non-null    float64\n",
      "dtypes: float64(11), int64(4)\n",
      "memory usage: 59.4 KB\n"
     ]
    }
   ],
   "source": [
    "# Displaying boston dataset information\n",
    "\n",
    "boston.info()"
   ]
  },
  {
   "cell_type": "code",
   "execution_count": 4,
   "id": "466a849b",
   "metadata": {},
   "outputs": [],
   "source": [
    "# Identify the independent and Target variables\n",
    "\n",
    "IndepVar = []\n",
    "for col in boston.columns:\n",
    "    if col != 'medv':\n",
    "        IndepVar.append(col)\n",
    "        \n",
    "TargetVar = 'medv'\n",
    "\n",
    "x = boston[IndepVar]\n",
    "y = boston[TargetVar]"
   ]
  },
  {
   "cell_type": "code",
   "execution_count": 5,
   "id": "de7fa97b",
   "metadata": {},
   "outputs": [],
   "source": [
    "# Split the data into train and test (random sampling)\n",
    "\n",
    "from sklearn.model_selection import train_test_split\n",
    "\n",
    "x_train, x_test, y_train, y_test = train_test_split(x, y, test_size=0.3, random_state = 42)\n",
    "x_test_F1 = x_test.copy()"
   ]
  },
  {
   "cell_type": "code",
   "execution_count": 6,
   "id": "9629c4aa",
   "metadata": {},
   "outputs": [],
   "source": [
    "# Delete the 'Rec_ID' varaiable which is not influence on Target variable\n",
    "\n",
    "del x_train['Rec_ID']\n",
    "del x_test['Rec_ID']"
   ]
  },
  {
   "cell_type": "code",
   "execution_count": 7,
   "id": "860f97d2",
   "metadata": {},
   "outputs": [
    {
     "name": "stdout",
     "output_type": "stream",
     "text": [
      "<class 'pandas.core.frame.DataFrame'>\n",
      "Int64Index: 354 entries, 5 to 102\n",
      "Data columns (total 13 columns):\n",
      " #   Column   Non-Null Count  Dtype  \n",
      "---  ------   --------------  -----  \n",
      " 0   crim     354 non-null    float64\n",
      " 1   zn       354 non-null    float64\n",
      " 2   indus    354 non-null    float64\n",
      " 3   chas     354 non-null    int64  \n",
      " 4   nox      354 non-null    float64\n",
      " 5   rm       354 non-null    float64\n",
      " 6   age      354 non-null    float64\n",
      " 7   dis      354 non-null    float64\n",
      " 8   rad      354 non-null    int64  \n",
      " 9   tax      354 non-null    int64  \n",
      " 10  ptratio  354 non-null    float64\n",
      " 11  black    354 non-null    float64\n",
      " 12  lstat    354 non-null    float64\n",
      "dtypes: float64(10), int64(3)\n",
      "memory usage: 38.7 KB\n"
     ]
    }
   ],
   "source": [
    "x_train.info()"
   ]
  },
  {
   "cell_type": "code",
   "execution_count": 8,
   "id": "0aea21d1",
   "metadata": {},
   "outputs": [
    {
     "name": "stdout",
     "output_type": "stream",
     "text": [
      "<class 'pandas.core.frame.DataFrame'>\n",
      "Int64Index: 152 entries, 173 to 447\n",
      "Data columns (total 13 columns):\n",
      " #   Column   Non-Null Count  Dtype  \n",
      "---  ------   --------------  -----  \n",
      " 0   crim     152 non-null    float64\n",
      " 1   zn       152 non-null    float64\n",
      " 2   indus    152 non-null    float64\n",
      " 3   chas     152 non-null    int64  \n",
      " 4   nox      152 non-null    float64\n",
      " 5   rm       152 non-null    float64\n",
      " 6   age      152 non-null    float64\n",
      " 7   dis      152 non-null    float64\n",
      " 8   rad      152 non-null    int64  \n",
      " 9   tax      152 non-null    int64  \n",
      " 10  ptratio  152 non-null    float64\n",
      " 11  black    152 non-null    float64\n",
      " 12  lstat    152 non-null    float64\n",
      "dtypes: float64(10), int64(3)\n",
      "memory usage: 16.6 KB\n"
     ]
    }
   ],
   "source": [
    "x_test.info()"
   ]
  },
  {
   "cell_type": "code",
   "execution_count": 9,
   "id": "3b6f70f2",
   "metadata": {},
   "outputs": [],
   "source": [
    "# Scale the feature by using MinMaxScaler\n",
    "\n",
    "from sklearn.preprocessing import MinMaxScaler\n",
    "\n",
    "mmscaler = MinMaxScaler(feature_range=(0,1))\n",
    "\n",
    "x_train = mmscaler.fit_transform(x_train)\n",
    "x_train = pd.DataFrame(x_train)\n",
    "\n",
    "x_test = mmscaler.fit_transform(x_test)\n",
    "x_test = pd.DataFrame(x_test)"
   ]
  },
  {
   "cell_type": "markdown",
   "id": "1edf801a",
   "metadata": {},
   "source": [
    "# Multi-Regression Algorithm"
   ]
  },
  {
   "cell_type": "code",
   "execution_count": 10,
   "id": "0fc7b177",
   "metadata": {},
   "outputs": [
    {
     "data": {
      "text/plain": [
       "LinearRegression()"
      ]
     },
     "execution_count": 10,
     "metadata": {},
     "output_type": "execute_result"
    }
   ],
   "source": [
    "# Train the algorithm and build the model with train dataset\n",
    "\n",
    "from sklearn.linear_model import LinearRegression\n",
    "\n",
    "bostonLinR = LinearRegression(fit_intercept=True, normalize=False, copy_X=True, n_jobs=None, positive=False)\n",
    "bostonLinR.fit(x_train, y_train)"
   ]
  },
  {
   "cell_type": "code",
   "execution_count": 11,
   "id": "321f108c",
   "metadata": {},
   "outputs": [
    {
     "name": "stdout",
     "output_type": "stream",
     "text": [
      "Mean Absolute Error (MAE):  3.412\n",
      "Mean Squared Error (MSE):  22.537\n",
      "Root Mean Squared Error (MAE):  4.747\n",
      "Mean Absolute Percentage Error (MAPE): 18.099999999999998 %\n",
      "R2_score: 0.697546\n",
      "Adj R Square:  0.688922\n"
     ]
    }
   ],
   "source": [
    "# Predict the model with test dataset\n",
    "\n",
    "y_pred = bostonLinR.predict(x_test)\n",
    "\n",
    "# Evalution metrics for Regression analysis\n",
    "\n",
    "from sklearn import metrics\n",
    "\n",
    "print('Mean Absolute Error (MAE): ', round(metrics.mean_absolute_error(y_test, y_pred), 3))\n",
    "print('Mean Squared Error (MSE): ', round(metrics.mean_squared_error(y_test, y_pred), 3))\n",
    "print('Root Mean Squared Error (MAE): ', round(np.sqrt(metrics.mean_squared_error(y_test, y_pred)), 3))\n",
    "print('Mean Absolute Percentage Error (MAPE):', round(metrics.mean_absolute_percentage_error(y_test, y_pred), 3) * 100, '%')\n",
    "print('R2_score:', round(metrics.r2_score(y_test, y_pred),6))\n",
    "\n",
    "# Calculate Adjusted R squared values\n",
    "\n",
    "r_squared = round(metrics.r2_score(y_test, y_pred), 6)\n",
    "adjusted_r_squared = round(1 - (1-r_squared)*(len(y)-1)/(len(y)-x.shape[1]-1),6)\n",
    "print('Adj R Square: ', adjusted_r_squared)"
   ]
  },
  {
   "cell_type": "markdown",
   "id": "dc65c8fa",
   "metadata": {},
   "source": [
    "# Decision Tree Regressor"
   ]
  },
  {
   "cell_type": "code",
   "execution_count": 12,
   "id": "0ee29bb1",
   "metadata": {},
   "outputs": [
    {
     "data": {
      "text/plain": [
       "DecisionTreeRegressor()"
      ]
     },
     "execution_count": 12,
     "metadata": {},
     "output_type": "execute_result"
    }
   ],
   "source": [
    "# Train the dataset with 'Decision Tree Regressor' and built the model\n",
    "\n",
    "from sklearn.tree import DecisionTreeRegressor\n",
    "\n",
    "bostonDR = DecisionTreeRegressor(criterion='mse', splitter='best', max_depth=None, min_samples_split=2, \n",
    "                                 min_samples_leaf=1, min_weight_fraction_leaf=0.0, max_features=None, random_state=None, \n",
    "                                 max_leaf_nodes=None, min_impurity_decrease=0.0, min_impurity_split=None, ccp_alpha=0.0)\n",
    "bostonDR.fit(x_train, y_train)"
   ]
  },
  {
   "cell_type": "code",
   "execution_count": 13,
   "id": "00279665",
   "metadata": {},
   "outputs": [
    {
     "name": "stdout",
     "output_type": "stream",
     "text": [
      "Mean Absolute Error (MAE):  3.098\n",
      "Mean Squared Error (MSE):  22.994\n",
      "Root Mean Squared Error (MAE):  4.795\n",
      "Mean Absolute Percentage Error (MAPE): 16.8 %\n",
      "R2_score: 0.691412\n",
      "Adj R Square:  0.682613\n"
     ]
    }
   ],
   "source": [
    "# Predict the model with test dataset\n",
    "\n",
    "y1_pred = bostonDR.predict(x_test)\n",
    "\n",
    "# Evalution metrics for Regression analysis\n",
    "\n",
    "from sklearn import metrics\n",
    "\n",
    "print('Mean Absolute Error (MAE): ', round(metrics.mean_absolute_error(y_test, y1_pred), 3))\n",
    "print('Mean Squared Error (MSE): ', round(metrics.mean_squared_error(y_test, y1_pred), 3))\n",
    "print('Root Mean Squared Error (MAE): ', round(np.sqrt(metrics.mean_squared_error(y_test, y1_pred)), 3))\n",
    "print('Mean Absolute Percentage Error (MAPE):', round(metrics.mean_absolute_percentage_error(y_test, y1_pred), 3) * 100, '%')\n",
    "print('R2_score:', round(metrics.r2_score(y_test, y1_pred),6))\n",
    "1\n",
    "# Calculate Adjusted R squared values\n",
    "\n",
    "r_squared = round(metrics.r2_score(y_test, y1_pred), 6)\n",
    "adjusted_r_squared = round(1 - (1-r_squared)*(len(y)-1)/(len(y)-x.shape[1]-1),6)\n",
    "print('Adj R Square: ', adjusted_r_squared)"
   ]
  },
  {
   "cell_type": "code",
   "execution_count": 14,
   "id": "df40c392",
   "metadata": {},
   "outputs": [
    {
     "data": {
      "text/html": [
       "<div>\n",
       "<style scoped>\n",
       "    .dataframe tbody tr th:only-of-type {\n",
       "        vertical-align: middle;\n",
       "    }\n",
       "\n",
       "    .dataframe tbody tr th {\n",
       "        vertical-align: top;\n",
       "    }\n",
       "\n",
       "    .dataframe thead th {\n",
       "        text-align: right;\n",
       "    }\n",
       "</style>\n",
       "<table border=\"1\" class=\"dataframe\">\n",
       "  <thead>\n",
       "    <tr style=\"text-align: right;\">\n",
       "      <th></th>\n",
       "      <th>Rec_ID</th>\n",
       "      <th>crim</th>\n",
       "      <th>zn</th>\n",
       "      <th>indus</th>\n",
       "      <th>chas</th>\n",
       "      <th>nox</th>\n",
       "      <th>rm</th>\n",
       "      <th>age</th>\n",
       "      <th>dis</th>\n",
       "      <th>rad</th>\n",
       "      <th>tax</th>\n",
       "      <th>ptratio</th>\n",
       "      <th>black</th>\n",
       "      <th>lstat</th>\n",
       "      <th>medv</th>\n",
       "      <th>medv_Pred</th>\n",
       "    </tr>\n",
       "  </thead>\n",
       "  <tbody>\n",
       "    <tr>\n",
       "      <th>173</th>\n",
       "      <td>174</td>\n",
       "      <td>0.09178</td>\n",
       "      <td>0.0</td>\n",
       "      <td>4.05</td>\n",
       "      <td>0</td>\n",
       "      <td>0.510</td>\n",
       "      <td>6.416</td>\n",
       "      <td>84.1</td>\n",
       "      <td>2.6463</td>\n",
       "      <td>5</td>\n",
       "      <td>296</td>\n",
       "      <td>16.6</td>\n",
       "      <td>395.50</td>\n",
       "      <td>9.04</td>\n",
       "      <td>23.6</td>\n",
       "      <td>27.5</td>\n",
       "    </tr>\n",
       "    <tr>\n",
       "      <th>274</th>\n",
       "      <td>275</td>\n",
       "      <td>0.05644</td>\n",
       "      <td>40.0</td>\n",
       "      <td>6.41</td>\n",
       "      <td>1</td>\n",
       "      <td>0.447</td>\n",
       "      <td>6.758</td>\n",
       "      <td>32.9</td>\n",
       "      <td>4.0776</td>\n",
       "      <td>4</td>\n",
       "      <td>254</td>\n",
       "      <td>17.6</td>\n",
       "      <td>396.90</td>\n",
       "      <td>3.53</td>\n",
       "      <td>32.4</td>\n",
       "      <td>33.1</td>\n",
       "    </tr>\n",
       "    <tr>\n",
       "      <th>491</th>\n",
       "      <td>492</td>\n",
       "      <td>0.10574</td>\n",
       "      <td>0.0</td>\n",
       "      <td>27.74</td>\n",
       "      <td>0</td>\n",
       "      <td>0.609</td>\n",
       "      <td>5.983</td>\n",
       "      <td>98.8</td>\n",
       "      <td>1.8681</td>\n",
       "      <td>4</td>\n",
       "      <td>711</td>\n",
       "      <td>20.1</td>\n",
       "      <td>390.11</td>\n",
       "      <td>18.07</td>\n",
       "      <td>13.6</td>\n",
       "      <td>13.3</td>\n",
       "    </tr>\n",
       "    <tr>\n",
       "      <th>72</th>\n",
       "      <td>73</td>\n",
       "      <td>0.09164</td>\n",
       "      <td>0.0</td>\n",
       "      <td>10.81</td>\n",
       "      <td>0</td>\n",
       "      <td>0.413</td>\n",
       "      <td>6.065</td>\n",
       "      <td>7.8</td>\n",
       "      <td>5.2873</td>\n",
       "      <td>4</td>\n",
       "      <td>305</td>\n",
       "      <td>19.2</td>\n",
       "      <td>390.91</td>\n",
       "      <td>5.52</td>\n",
       "      <td>22.8</td>\n",
       "      <td>24.1</td>\n",
       "    </tr>\n",
       "    <tr>\n",
       "      <th>452</th>\n",
       "      <td>453</td>\n",
       "      <td>5.09017</td>\n",
       "      <td>0.0</td>\n",
       "      <td>18.10</td>\n",
       "      <td>0</td>\n",
       "      <td>0.713</td>\n",
       "      <td>6.297</td>\n",
       "      <td>91.8</td>\n",
       "      <td>2.3682</td>\n",
       "      <td>24</td>\n",
       "      <td>666</td>\n",
       "      <td>20.2</td>\n",
       "      <td>385.09</td>\n",
       "      <td>17.27</td>\n",
       "      <td>16.1</td>\n",
       "      <td>19.4</td>\n",
       "    </tr>\n",
       "  </tbody>\n",
       "</table>\n",
       "</div>"
      ],
      "text/plain": [
       "     Rec_ID     crim    zn  indus  chas    nox     rm   age     dis  rad  tax  \\\n",
       "173     174  0.09178   0.0   4.05     0  0.510  6.416  84.1  2.6463    5  296   \n",
       "274     275  0.05644  40.0   6.41     1  0.447  6.758  32.9  4.0776    4  254   \n",
       "491     492  0.10574   0.0  27.74     0  0.609  5.983  98.8  1.8681    4  711   \n",
       "72       73  0.09164   0.0  10.81     0  0.413  6.065   7.8  5.2873    4  305   \n",
       "452     453  5.09017   0.0  18.10     0  0.713  6.297  91.8  2.3682   24  666   \n",
       "\n",
       "     ptratio   black  lstat  medv  medv_Pred  \n",
       "173     16.6  395.50   9.04  23.6       27.5  \n",
       "274     17.6  396.90   3.53  32.4       33.1  \n",
       "491     20.1  390.11  18.07  13.6       13.3  \n",
       "72      19.2  390.91   5.52  22.8       24.1  \n",
       "452     20.2  385.09  17.27  16.1       19.4  "
      ]
     },
     "execution_count": 14,
     "metadata": {},
     "output_type": "execute_result"
    }
   ],
   "source": [
    "# Create dataframe with actual vs predicted\n",
    "\n",
    "pred_Output2 = pd.DataFrame({'medv':y_test, 'medv_Pred': y1_pred})\n",
    "\n",
    "# Merage two Dataframes on index of both the dataframes\n",
    "\n",
    "ResultsFinal2 = x_test_F1.merge(pred_Output2, left_index=True, right_index=True)\n",
    "ResultsFinal2.head()"
   ]
  },
  {
   "cell_type": "markdown",
   "id": "789de299",
   "metadata": {},
   "source": [
    "# Random Forest Regressor"
   ]
  },
  {
   "cell_type": "code",
   "execution_count": 15,
   "id": "2239fa47",
   "metadata": {},
   "outputs": [
    {
     "data": {
      "text/plain": [
       "RandomForestRegressor()"
      ]
     },
     "execution_count": 15,
     "metadata": {},
     "output_type": "execute_result"
    }
   ],
   "source": [
    "# Train the dataset with 'Random Forest Regressor' Algorithm to build the model\n",
    "\n",
    "from sklearn.ensemble import RandomForestRegressor\n",
    "\n",
    "bostonRFR = RandomForestRegressor(n_estimators=100,criterion='mse', max_depth=None, min_samples_split=2, \n",
    "                                  min_samples_leaf=1, min_weight_fraction_leaf=0.0, max_features='auto', \n",
    "                                  max_leaf_nodes=None, min_impurity_decrease=0.0, min_impurity_split=None, \n",
    "                                  bootstrap=True, oob_score=False, n_jobs=None, random_state=None, verbose=0, \n",
    "                                  warm_start=False, ccp_alpha=0.0, max_samples=None)\n",
    "\n",
    "bostonRFR.fit(x_train, y_train)"
   ]
  },
  {
   "cell_type": "code",
   "execution_count": 16,
   "id": "dc57853a",
   "metadata": {},
   "outputs": [
    {
     "name": "stdout",
     "output_type": "stream",
     "text": [
      "Mean Absolute Error (MAE):  2.376\n",
      "Mean Squared Error (MSE):  10.195\n",
      "Root Mean Squared Error (MAE):  3.193\n",
      "Mean Absolute Percentage Error (MAPE): 12.7 %\n",
      "R2_score: 0.863177\n",
      "Adj R Square:  0.859276\n"
     ]
    }
   ],
   "source": [
    "# Predict the model with test dataset\n",
    "\n",
    "y2_pred = bostonRFR.predict(x_test)\n",
    "\n",
    "# Evalution metrics for Regression analysis\n",
    "\n",
    "from sklearn import metrics\n",
    "\n",
    "print('Mean Absolute Error (MAE): ', round(metrics.mean_absolute_error(y_test, y2_pred), 3))\n",
    "print('Mean Squared Error (MSE): ', round(metrics.mean_squared_error(y_test, y2_pred), 3))\n",
    "print('Root Mean Squared Error (MAE): ', round(np.sqrt(metrics.mean_squared_error(y_test, y2_pred)), 3))\n",
    "print('Mean Absolute Percentage Error (MAPE):', round(metrics.mean_absolute_percentage_error(y_test, y2_pred), 3) * 100, '%')\n",
    "print('R2_score:', round(metrics.r2_score(y_test, y2_pred),6))\n",
    "\n",
    "# Calculate Adjusted R squared values\n",
    "\n",
    "r_squared = round(metrics.r2_score(y_test, y2_pred), 6)\n",
    "adjusted_r_squared = round(1 - (1-r_squared)*(len(y)-1)/(len(y)-x.shape[1]-1),6)\n",
    "print('Adj R Square: ', adjusted_r_squared)"
   ]
  },
  {
   "cell_type": "code",
   "execution_count": 17,
   "id": "c3cc90f9",
   "metadata": {},
   "outputs": [
    {
     "data": {
      "text/html": [
       "<div>\n",
       "<style scoped>\n",
       "    .dataframe tbody tr th:only-of-type {\n",
       "        vertical-align: middle;\n",
       "    }\n",
       "\n",
       "    .dataframe tbody tr th {\n",
       "        vertical-align: top;\n",
       "    }\n",
       "\n",
       "    .dataframe thead th {\n",
       "        text-align: right;\n",
       "    }\n",
       "</style>\n",
       "<table border=\"1\" class=\"dataframe\">\n",
       "  <thead>\n",
       "    <tr style=\"text-align: right;\">\n",
       "      <th></th>\n",
       "      <th>Rec_ID</th>\n",
       "      <th>crim</th>\n",
       "      <th>zn</th>\n",
       "      <th>indus</th>\n",
       "      <th>chas</th>\n",
       "      <th>nox</th>\n",
       "      <th>rm</th>\n",
       "      <th>age</th>\n",
       "      <th>dis</th>\n",
       "      <th>rad</th>\n",
       "      <th>tax</th>\n",
       "      <th>ptratio</th>\n",
       "      <th>black</th>\n",
       "      <th>lstat</th>\n",
       "      <th>medv</th>\n",
       "      <th>medv_Pred</th>\n",
       "    </tr>\n",
       "  </thead>\n",
       "  <tbody>\n",
       "    <tr>\n",
       "      <th>173</th>\n",
       "      <td>174</td>\n",
       "      <td>0.09178</td>\n",
       "      <td>0.0</td>\n",
       "      <td>4.05</td>\n",
       "      <td>0</td>\n",
       "      <td>0.510</td>\n",
       "      <td>6.416</td>\n",
       "      <td>84.1</td>\n",
       "      <td>2.6463</td>\n",
       "      <td>5</td>\n",
       "      <td>296</td>\n",
       "      <td>16.6</td>\n",
       "      <td>395.50</td>\n",
       "      <td>9.04</td>\n",
       "      <td>23.6</td>\n",
       "      <td>25.572</td>\n",
       "    </tr>\n",
       "    <tr>\n",
       "      <th>274</th>\n",
       "      <td>275</td>\n",
       "      <td>0.05644</td>\n",
       "      <td>40.0</td>\n",
       "      <td>6.41</td>\n",
       "      <td>1</td>\n",
       "      <td>0.447</td>\n",
       "      <td>6.758</td>\n",
       "      <td>32.9</td>\n",
       "      <td>4.0776</td>\n",
       "      <td>4</td>\n",
       "      <td>254</td>\n",
       "      <td>17.6</td>\n",
       "      <td>396.90</td>\n",
       "      <td>3.53</td>\n",
       "      <td>32.4</td>\n",
       "      <td>32.290</td>\n",
       "    </tr>\n",
       "    <tr>\n",
       "      <th>491</th>\n",
       "      <td>492</td>\n",
       "      <td>0.10574</td>\n",
       "      <td>0.0</td>\n",
       "      <td>27.74</td>\n",
       "      <td>0</td>\n",
       "      <td>0.609</td>\n",
       "      <td>5.983</td>\n",
       "      <td>98.8</td>\n",
       "      <td>1.8681</td>\n",
       "      <td>4</td>\n",
       "      <td>711</td>\n",
       "      <td>20.1</td>\n",
       "      <td>390.11</td>\n",
       "      <td>18.07</td>\n",
       "      <td>13.6</td>\n",
       "      <td>17.096</td>\n",
       "    </tr>\n",
       "    <tr>\n",
       "      <th>72</th>\n",
       "      <td>73</td>\n",
       "      <td>0.09164</td>\n",
       "      <td>0.0</td>\n",
       "      <td>10.81</td>\n",
       "      <td>0</td>\n",
       "      <td>0.413</td>\n",
       "      <td>6.065</td>\n",
       "      <td>7.8</td>\n",
       "      <td>5.2873</td>\n",
       "      <td>4</td>\n",
       "      <td>305</td>\n",
       "      <td>19.2</td>\n",
       "      <td>390.91</td>\n",
       "      <td>5.52</td>\n",
       "      <td>22.8</td>\n",
       "      <td>25.022</td>\n",
       "    </tr>\n",
       "    <tr>\n",
       "      <th>452</th>\n",
       "      <td>453</td>\n",
       "      <td>5.09017</td>\n",
       "      <td>0.0</td>\n",
       "      <td>18.10</td>\n",
       "      <td>0</td>\n",
       "      <td>0.713</td>\n",
       "      <td>6.297</td>\n",
       "      <td>91.8</td>\n",
       "      <td>2.3682</td>\n",
       "      <td>24</td>\n",
       "      <td>666</td>\n",
       "      <td>20.2</td>\n",
       "      <td>385.09</td>\n",
       "      <td>17.27</td>\n",
       "      <td>16.1</td>\n",
       "      <td>17.102</td>\n",
       "    </tr>\n",
       "  </tbody>\n",
       "</table>\n",
       "</div>"
      ],
      "text/plain": [
       "     Rec_ID     crim    zn  indus  chas    nox     rm   age     dis  rad  tax  \\\n",
       "173     174  0.09178   0.0   4.05     0  0.510  6.416  84.1  2.6463    5  296   \n",
       "274     275  0.05644  40.0   6.41     1  0.447  6.758  32.9  4.0776    4  254   \n",
       "491     492  0.10574   0.0  27.74     0  0.609  5.983  98.8  1.8681    4  711   \n",
       "72       73  0.09164   0.0  10.81     0  0.413  6.065   7.8  5.2873    4  305   \n",
       "452     453  5.09017   0.0  18.10     0  0.713  6.297  91.8  2.3682   24  666   \n",
       "\n",
       "     ptratio   black  lstat  medv  medv_Pred  \n",
       "173     16.6  395.50   9.04  23.6     25.572  \n",
       "274     17.6  396.90   3.53  32.4     32.290  \n",
       "491     20.1  390.11  18.07  13.6     17.096  \n",
       "72      19.2  390.91   5.52  22.8     25.022  \n",
       "452     20.2  385.09  17.27  16.1     17.102  "
      ]
     },
     "execution_count": 17,
     "metadata": {},
     "output_type": "execute_result"
    }
   ],
   "source": [
    "# Create dataframe with actual vs predicted\n",
    "\n",
    "pred_Output3 = pd.DataFrame({'medv':y_test, 'medv_Pred': y2_pred})\n",
    "\n",
    "# Merage two Dataframes on index of both the dataframes\n",
    "\n",
    "ResultsFinal2 = x_test_F1.merge(pred_Output3, left_index=True, right_index=True)\n",
    "ResultsFinal2.head()"
   ]
  },
  {
   "cell_type": "markdown",
   "id": "d86c88f7",
   "metadata": {},
   "source": [
    "# SVR - Support Vector Regression"
   ]
  },
  {
   "cell_type": "code",
   "execution_count": 18,
   "id": "b4544c85",
   "metadata": {},
   "outputs": [
    {
     "data": {
      "text/plain": [
       "SVR()"
      ]
     },
     "execution_count": 18,
     "metadata": {},
     "output_type": "execute_result"
    }
   ],
   "source": [
    "# Train the dataset with 'Support Vector Regression' Algorithm to build the model\n",
    "\n",
    "from sklearn.svm import SVR\n",
    "\n",
    "bostonSVRGaussian = SVR(kernel='rbf', degree=3, gamma='scale', coef0=0.0, tol=0.001, C=1.0, epsilon=0.1, shrinking=True, \n",
    "                        cache_size=200, verbose=False, max_iter=- 1)\n",
    "\n",
    "bostonSVRGaussian.fit(x_train, y_train)"
   ]
  },
  {
   "cell_type": "code",
   "execution_count": 19,
   "id": "71dc9c43",
   "metadata": {},
   "outputs": [
    {
     "name": "stdout",
     "output_type": "stream",
     "text": [
      "Mean Absolute Error (MAE):  3.235\n",
      "Mean Squared Error (MSE):  27.347\n",
      "Root Mean Squared Error (MAE):  5.229\n",
      "Mean Absolute Percentage Error (MAPE): 15.6 %\n",
      "R2_score: 0.632984\n",
      "Adj R Square:  0.622519\n"
     ]
    }
   ],
   "source": [
    "# Predict the model with test dataset\n",
    "\n",
    "y3_pred = bostonSVRGaussian.predict(x_test)\n",
    "\n",
    "# Evalution metrics for Regression analysis\n",
    "\n",
    "from sklearn import metrics\n",
    "\n",
    "print('Mean Absolute Error (MAE): ', round(metrics.mean_absolute_error(y_test, y3_pred), 3))\n",
    "print('Mean Squared Error (MSE): ', round(metrics.mean_squared_error(y_test, y3_pred), 3))\n",
    "print('Root Mean Squared Error (MAE): ', round(np.sqrt(metrics.mean_squared_error(y_test, y3_pred)), 3))\n",
    "print('Mean Absolute Percentage Error (MAPE):', round(metrics.mean_absolute_percentage_error(y_test, y3_pred), 3) * 100, '%')\n",
    "print('R2_score:', round(metrics.r2_score(y_test, y3_pred),6))\n",
    "\n",
    "# Calculate Adjusted R squared values\n",
    "\n",
    "r_squared = round(metrics.r2_score(y_test, y3_pred), 6)\n",
    "adjusted_r_squared = round(1 - (1-r_squared)*(len(y)-1)/(len(y)-x.shape[1]-1),6)\n",
    "print('Adj R Square: ', adjusted_r_squared)"
   ]
  },
  {
   "cell_type": "markdown",
   "id": "4786049e",
   "metadata": {},
   "source": [
    "# KNN - Regression"
   ]
  },
  {
   "cell_type": "code",
   "execution_count": 20,
   "id": "7a3beee9",
   "metadata": {},
   "outputs": [
    {
     "data": {
      "text/plain": [
       "KNeighborsRegressor()"
      ]
     },
     "execution_count": 20,
     "metadata": {},
     "output_type": "execute_result"
    }
   ],
   "source": [
    "# Train the dataset with 'KNN - Regression' Algorithm to build the model\n",
    "\n",
    "from sklearn.neighbors import KNeighborsRegressor\n",
    "\n",
    "bostonKNNR = KNeighborsRegressor(n_neighbors=5,weights='uniform', algorithm='auto', leaf_size=30, p=2, metric='minkowski', \n",
    "                                 metric_params=None, n_jobs=None)\n",
    "\n",
    "bostonKNNR.fit(x_train, y_train)"
   ]
  },
  {
   "cell_type": "code",
   "execution_count": 21,
   "id": "77f129e5",
   "metadata": {},
   "outputs": [
    {
     "name": "stdout",
     "output_type": "stream",
     "text": [
      "Mean Absolute Error (MAE):  2.919\n",
      "Mean Squared Error (MSE):  21.029\n",
      "Root Mean Squared Error (MAE):  4.586\n",
      "Mean Absolute Percentage Error (MAPE): 14.000000000000002 %\n",
      "R2_score: 0.717785\n",
      "Adj R Square:  0.709738\n"
     ]
    }
   ],
   "source": [
    "# Predict the model with test dataset\n",
    "\n",
    "y4_pred = bostonKNNR.predict(x_test)\n",
    "\n",
    "# Evalution metrics for Regression analysis\n",
    "\n",
    "from sklearn import metrics\n",
    "\n",
    "print('Mean Absolute Error (MAE): ', round(metrics.mean_absolute_error(y_test, y4_pred), 3))\n",
    "print('Mean Squared Error (MSE): ', round(metrics.mean_squared_error(y_test, y4_pred), 3))\n",
    "print('Root Mean Squared Error (MAE): ', round(np.sqrt(metrics.mean_squared_error(y_test, y4_pred)), 3))\n",
    "print('Mean Absolute Percentage Error (MAPE):', round(metrics.mean_absolute_percentage_error(y_test, y4_pred), 3) * 100, '%')\n",
    "print('R2_score:', round(metrics.r2_score(y_test, y4_pred),6))\n",
    "\n",
    "# Calculate Adjusted R squared values\n",
    "\n",
    "r_squared = round(metrics.r2_score(y_test, y4_pred), 6)\n",
    "adjusted_r_squared = round(1 - (1-r_squared)*(len(y)-1)/(len(y)-x.shape[1]-1),6)\n",
    "print('Adj R Square: ', adjusted_r_squared)"
   ]
  },
  {
   "cell_type": "markdown",
   "id": "db7b9c97",
   "metadata": {},
   "source": [
    "# Hyperparameter Tuning for RF Regressor"
   ]
  },
  {
   "cell_type": "code",
   "execution_count": 22,
   "id": "f08a28a9",
   "metadata": {},
   "outputs": [
    {
     "name": "stdout",
     "output_type": "stream",
     "text": [
      "Mean Absolute Error (MAE):  2.379\n",
      "Mean Squared Error (MSE):  10.366\n",
      "Root Mean Squared Error (MAE):  3.22\n",
      "Mean Absolute Percentage Error (MAPE): 12.6 %\n",
      "R2_score: 0.860886\n",
      "Adj R Square:  0.856919\n"
     ]
    }
   ],
   "source": [
    "# Train the dataset with 'Random Forest Regressor' Algorithm to build the model\n",
    "\n",
    "from sklearn.ensemble import RandomForestRegressor\n",
    "\n",
    "bostonRFR = RandomForestRegressor(n_estimators=100,criterion='mse', max_depth=None, min_samples_split=2, \n",
    "                                  min_samples_leaf=1, min_weight_fraction_leaf=0.0, max_features='auto', \n",
    "                                  max_leaf_nodes=None, min_impurity_decrease=0.0, min_impurity_split=None, \n",
    "                                  bootstrap=True, oob_score=False, n_jobs=None, random_state=None, verbose=0, \n",
    "                                  warm_start=False, ccp_alpha=0.0, max_samples=None)\n",
    "\n",
    "bostonRFR.fit(x_train, y_train)\n",
    "\n",
    "# Predict the model with test dataset\n",
    "\n",
    "y2_pred = bostonRFR.predict(x_test)\n",
    "\n",
    "# Evalution metrics for Regression analysis\n",
    "\n",
    "from sklearn import metrics\n",
    "\n",
    "print('Mean Absolute Error (MAE): ', round(metrics.mean_absolute_error(y_test, y2_pred), 3))\n",
    "print('Mean Squared Error (MSE): ', round(metrics.mean_squared_error(y_test, y2_pred), 3))\n",
    "print('Root Mean Squared Error (MAE): ', round(np.sqrt(metrics.mean_squared_error(y_test, y2_pred)), 3))\n",
    "print('Mean Absolute Percentage Error (MAPE):', round(metrics.mean_absolute_percentage_error(y_test, y2_pred), 3) * 100, '%')\n",
    "print('R2_score:', round(metrics.r2_score(y_test, y2_pred),6))\n",
    "\n",
    "# Calculate Adjusted R squared values\n",
    "\n",
    "r_squared = round(metrics.r2_score(y_test, y2_pred), 6)\n",
    "adjusted_r_squared = round(1 - (1-r_squared)*(len(y)-1)/(len(y)-x.shape[1]-1),6)\n",
    "print('Adj R Square: ', adjusted_r_squared)"
   ]
  },
  {
   "cell_type": "code",
   "execution_count": 27,
   "id": "cc28c1fb",
   "metadata": {},
   "outputs": [],
   "source": [
    "# Implementation of random forest regression model using GridSearchCV\n",
    "\n",
    "from sklearn.model_selection import GridSearchCV\n",
    "\n",
    "param_grid_RFR = {'bootstrap': [True], 'max_depth': [5, 10, None], 'max_features': ['auto', 'log2'], \n",
    "                  'n_estimators':[100, 200, 300, 400, 500, 600, 700, 800, 900, 1000], 'criterion':['mae','mse']}\n",
    "\n",
    "# Build a random forest regression model in this case and initialize the GridSearchCV\n",
    "\n",
    "from sklearn.ensemble import RandomForestRegressor\n",
    "\n",
    "bostonRFR = RandomForestRegressor(random_state = 1)\n",
    "\n",
    "g_search = GridSearchCV(estimator=bostonRFR, param_grid = param_grid_RFR, cv = 3,\n",
    "                       n_jobs = 1, verbose = 0, return_train_score=True)"
   ]
  },
  {
   "cell_type": "code",
   "execution_count": 28,
   "id": "50874bd0",
   "metadata": {},
   "outputs": [
    {
     "name": "stdout",
     "output_type": "stream",
     "text": [
      "{'bootstrap': True, 'criterion': 'mae', 'max_depth': None, 'max_features': 'log2', 'n_estimators': 300}\n"
     ]
    }
   ],
   "source": [
    "g_search.fit(x_train, y_train);\n",
    "\n",
    "print(g_search.best_params_)"
   ]
  },
  {
   "cell_type": "code",
   "execution_count": 29,
   "id": "7b17365f",
   "metadata": {},
   "outputs": [
    {
     "name": "stdout",
     "output_type": "stream",
     "text": [
      "Mean Absolute Error (MAE):  2.368\n",
      "Mean Squared Error (MSE):  10.854\n",
      "Root Mean Squared Error (MAE):  3.295\n",
      "Mean Absolute Percentage Error (MAPE): 12.4 %\n",
      "R2_score: 0.854338\n",
      "Adj R Square:  0.850185\n"
     ]
    }
   ],
   "source": [
    "# build a random forest regression model with optimal hyper parameters\n",
    "# {'bootstrap': True, 'criterion': 'mae', 'max_depth': None, 'max_features': 'log2', 'n_estimators': 300}\n",
    "\n",
    "\n",
    "\n",
    "# Train the dataset with 'Random Forest Regressor' Algorithm to build the model\n",
    "\n",
    "from sklearn.ensemble import RandomForestRegressor\n",
    "\n",
    "bostonRFR = RandomForestRegressor(n_estimators=300,criterion='mae', max_depth=None, min_samples_split=2, \n",
    "                                  min_samples_leaf=1, min_weight_fraction_leaf=0.0, max_features='log2', \n",
    "                                  max_leaf_nodes=None, min_impurity_decrease=0.0, min_impurity_split=None, \n",
    "                                  bootstrap=True, oob_score=False, n_jobs=None, random_state=None, verbose=0, \n",
    "                                  warm_start=False, ccp_alpha=0.0, max_samples=None)\n",
    "\n",
    "bostonRFR.fit(x_train, y_train)\n",
    "\n",
    "# Predict the model with test dataset\n",
    "\n",
    "y2_pred = bostonRFR.predict(x_test)\n",
    "\n",
    "# Evalution metrics for Regression analysis\n",
    "\n",
    "from sklearn import metrics\n",
    "\n",
    "print('Mean Absolute Error (MAE): ', round(metrics.mean_absolute_error(y_test, y2_pred), 3))\n",
    "print('Mean Squared Error (MSE): ', round(metrics.mean_squared_error(y_test, y2_pred), 3))\n",
    "print('Root Mean Squared Error (MAE): ', round(np.sqrt(metrics.mean_squared_error(y_test, y2_pred)), 3))\n",
    "print('Mean Absolute Percentage Error (MAPE):', round(metrics.mean_absolute_percentage_error(y_test, y2_pred), 3) * 100, '%')\n",
    "print('R2_score:', round(metrics.r2_score(y_test, y2_pred),6))\n",
    "\n",
    "# Calculate Adjusted R squared values\n",
    "\n",
    "r_squared = round(metrics.r2_score(y_test, y2_pred), 6)\n",
    "adjusted_r_squared = round(1 - (1-r_squared)*(len(y)-1)/(len(y)-x.shape[1]-1),6)\n",
    "print('Adj R Square: ', adjusted_r_squared)"
   ]
  },
  {
   "cell_type": "code",
   "execution_count": 31,
   "id": "bb3010b5",
   "metadata": {},
   "outputs": [
    {
     "name": "stdout",
     "output_type": "stream",
     "text": [
      "{'n_estimators': [100, 200, 300, 400, 500, 600, 700, 800, 900, 1000], 'max_features': ['auto', 'log2'], 'max_depth': [None], 'bootstrap': [True, False]}\n"
     ]
    }
   ],
   "source": [
    "# Implementation of model using RandomizedSearchCV\n",
    "\n",
    "import numpy as np\n",
    "\n",
    "from sklearn.model_selection import RandomizedSearchCV\n",
    "\n",
    "n_estimators = [int(x) for x in np.linspace(start = 100, stop = 1000, num=10)] # returns 10 numbers\n",
    "\n",
    "max_features = ['auto', 'log2']\n",
    "\n",
    "max_depth = [int(x) for x in np.linspace(3, 10, num = 0)]\n",
    "\n",
    "max_depth.append(None)\n",
    "\n",
    "bootstrap = [True, False]\n",
    "\n",
    "r_grid = {'n_estimators': n_estimators, 'max_features': max_features,\n",
    "         'max_depth': max_depth, 'bootstrap': bootstrap}\n",
    "\n",
    "print(r_grid)"
   ]
  },
  {
   "cell_type": "code",
   "execution_count": 32,
   "id": "9a514430",
   "metadata": {
    "scrolled": true
   },
   "outputs": [
    {
     "name": "stdout",
     "output_type": "stream",
     "text": [
      "Fitting 3 folds for each of 20 candidates, totalling 60 fits\n",
      "[CV] END bootstrap=True, max_depth=None, max_features=log2, n_estimators=1000; total time=   1.2s\n",
      "[CV] END bootstrap=True, max_depth=None, max_features=log2, n_estimators=1000; total time=   1.2s\n",
      "[CV] END bootstrap=True, max_depth=None, max_features=log2, n_estimators=1000; total time=   1.2s\n",
      "[CV] END bootstrap=True, max_depth=None, max_features=log2, n_estimators=700; total time=   0.8s\n",
      "[CV] END bootstrap=True, max_depth=None, max_features=log2, n_estimators=700; total time=   0.8s\n",
      "[CV] END bootstrap=True, max_depth=None, max_features=log2, n_estimators=700; total time=   0.8s\n",
      "[CV] END bootstrap=True, max_depth=None, max_features=log2, n_estimators=600; total time=   0.7s\n",
      "[CV] END bootstrap=True, max_depth=None, max_features=log2, n_estimators=600; total time=   0.7s\n",
      "[CV] END bootstrap=True, max_depth=None, max_features=log2, n_estimators=600; total time=   0.7s\n",
      "[CV] END bootstrap=False, max_depth=None, max_features=auto, n_estimators=700; total time=   1.4s\n",
      "[CV] END bootstrap=False, max_depth=None, max_features=auto, n_estimators=700; total time=   1.4s\n",
      "[CV] END bootstrap=False, max_depth=None, max_features=auto, n_estimators=700; total time=   1.3s\n",
      "[CV] END bootstrap=True, max_depth=None, max_features=auto, n_estimators=500; total time=   0.8s\n",
      "[CV] END bootstrap=True, max_depth=None, max_features=auto, n_estimators=500; total time=   0.8s\n",
      "[CV] END bootstrap=True, max_depth=None, max_features=auto, n_estimators=500; total time=   0.8s\n",
      "[CV] END bootstrap=True, max_depth=None, max_features=log2, n_estimators=300; total time=   0.3s\n",
      "[CV] END bootstrap=True, max_depth=None, max_features=log2, n_estimators=300; total time=   0.3s\n",
      "[CV] END bootstrap=True, max_depth=None, max_features=log2, n_estimators=300; total time=   0.3s\n",
      "[CV] END bootstrap=False, max_depth=None, max_features=log2, n_estimators=800; total time=   0.8s\n",
      "[CV] END bootstrap=False, max_depth=None, max_features=log2, n_estimators=800; total time=   0.9s\n",
      "[CV] END bootstrap=False, max_depth=None, max_features=log2, n_estimators=800; total time=   0.8s\n",
      "[CV] END bootstrap=False, max_depth=None, max_features=auto, n_estimators=800; total time=   1.8s\n",
      "[CV] END bootstrap=False, max_depth=None, max_features=auto, n_estimators=800; total time=   1.6s\n",
      "[CV] END bootstrap=False, max_depth=None, max_features=auto, n_estimators=800; total time=   1.5s\n",
      "[CV] END bootstrap=False, max_depth=None, max_features=log2, n_estimators=1000; total time=   1.1s\n",
      "[CV] END bootstrap=False, max_depth=None, max_features=log2, n_estimators=1000; total time=   1.1s\n",
      "[CV] END bootstrap=False, max_depth=None, max_features=log2, n_estimators=1000; total time=   1.1s\n",
      "[CV] END bootstrap=True, max_depth=None, max_features=auto, n_estimators=700; total time=   1.2s\n",
      "[CV] END bootstrap=True, max_depth=None, max_features=auto, n_estimators=700; total time=   1.2s\n",
      "[CV] END bootstrap=True, max_depth=None, max_features=auto, n_estimators=700; total time=   1.1s\n",
      "[CV] END bootstrap=False, max_depth=None, max_features=auto, n_estimators=600; total time=   1.2s\n",
      "[CV] END bootstrap=False, max_depth=None, max_features=auto, n_estimators=600; total time=   1.2s\n",
      "[CV] END bootstrap=False, max_depth=None, max_features=auto, n_estimators=600; total time=   1.1s\n",
      "[CV] END bootstrap=True, max_depth=None, max_features=auto, n_estimators=1000; total time=   1.7s\n",
      "[CV] END bootstrap=True, max_depth=None, max_features=auto, n_estimators=1000; total time=   1.7s\n",
      "[CV] END bootstrap=True, max_depth=None, max_features=auto, n_estimators=1000; total time=   1.7s\n",
      "[CV] END bootstrap=True, max_depth=None, max_features=log2, n_estimators=400; total time=   0.4s\n",
      "[CV] END bootstrap=True, max_depth=None, max_features=log2, n_estimators=400; total time=   0.4s\n",
      "[CV] END bootstrap=True, max_depth=None, max_features=log2, n_estimators=400; total time=   0.4s\n",
      "[CV] END bootstrap=False, max_depth=None, max_features=log2, n_estimators=200; total time=   0.1s\n",
      "[CV] END bootstrap=False, max_depth=None, max_features=log2, n_estimators=200; total time=   0.1s\n",
      "[CV] END bootstrap=False, max_depth=None, max_features=log2, n_estimators=200; total time=   0.1s\n",
      "[CV] END bootstrap=False, max_depth=None, max_features=log2, n_estimators=500; total time=   0.5s\n",
      "[CV] END bootstrap=False, max_depth=None, max_features=log2, n_estimators=500; total time=   0.5s\n",
      "[CV] END bootstrap=False, max_depth=None, max_features=log2, n_estimators=500; total time=   0.5s\n",
      "[CV] END bootstrap=True, max_depth=None, max_features=auto, n_estimators=900; total time=   1.6s\n",
      "[CV] END bootstrap=True, max_depth=None, max_features=auto, n_estimators=900; total time=   1.5s\n",
      "[CV] END bootstrap=True, max_depth=None, max_features=auto, n_estimators=900; total time=   1.5s\n",
      "[CV] END bootstrap=True, max_depth=None, max_features=log2, n_estimators=800; total time=   1.0s\n",
      "[CV] END bootstrap=True, max_depth=None, max_features=log2, n_estimators=800; total time=   1.0s\n",
      "[CV] END bootstrap=True, max_depth=None, max_features=log2, n_estimators=800; total time=   0.9s\n",
      "[CV] END bootstrap=False, max_depth=None, max_features=auto, n_estimators=500; total time=   1.0s\n",
      "[CV] END bootstrap=False, max_depth=None, max_features=auto, n_estimators=500; total time=   1.0s\n",
      "[CV] END bootstrap=False, max_depth=None, max_features=auto, n_estimators=500; total time=   0.9s\n",
      "[CV] END bootstrap=True, max_depth=None, max_features=auto, n_estimators=100; total time=   0.1s\n",
      "[CV] END bootstrap=True, max_depth=None, max_features=auto, n_estimators=100; total time=   0.1s\n",
      "[CV] END bootstrap=True, max_depth=None, max_features=auto, n_estimators=100; total time=   0.1s\n",
      "[CV] END bootstrap=False, max_depth=None, max_features=log2, n_estimators=400; total time=   0.4s\n",
      "[CV] END bootstrap=False, max_depth=None, max_features=log2, n_estimators=400; total time=   0.4s\n",
      "[CV] END bootstrap=False, max_depth=None, max_features=log2, n_estimators=400; total time=   0.4s\n",
      "{'n_estimators': 200, 'max_features': 'log2', 'max_depth': None, 'bootstrap': False}\n"
     ]
    }
   ],
   "source": [
    "# Hyperparameter Tuning for Random Forest modl by using RandomizedSearchCV\n",
    "\n",
    "from sklearn.ensemble import RandomForestRegressor\n",
    "\n",
    "bostonRFR = RandomForestRegressor(random_state = 1)\n",
    "\n",
    "bostonRFR_R = RandomizedSearchCV(estimator =bostonRFR , param_distributions = r_grid,n_iter=20, scoring='neg_mean_absolute_error', n_jobs=1,cv=3, \n",
    "                                 verbose=2,random_state=42, return_train_score=True)\n",
    "\n",
    "bostonRFR_R.fit(x_train, y_train)\n",
    "\n",
    "print(bostonRFR_R.best_params_)"
   ]
  },
  {
   "cell_type": "code",
   "execution_count": 33,
   "id": "49400e4b",
   "metadata": {},
   "outputs": [
    {
     "name": "stdout",
     "output_type": "stream",
     "text": [
      "Mean Absolute Error (MAE):  2.317\n",
      "Mean Squared Error (MSE):  10.011\n",
      "Root Mean Squared Error (MAE):  3.164\n",
      "Mean Absolute Percentage Error (MAPE): 11.899999999999999 %\n",
      "R2_score: 0.865647\n",
      "Adj R Square:  0.861816\n"
     ]
    }
   ],
   "source": [
    "# build a random forest regression model with optimal hyper parameters\n",
    "# {'n_estimators': 200, 'max_features': 'log2', 'max_depth': None, 'bootstrap': False}\n",
    "\n",
    "\n",
    "\n",
    "# Train the dataset with 'Random Forest Regressor' Algorithm to build the model\n",
    "\n",
    "from sklearn.ensemble import RandomForestRegressor\n",
    "\n",
    "bostonRFR = RandomForestRegressor(n_estimators=200,criterion='mae', max_depth=None, min_samples_split=2, \n",
    "                                  min_samples_leaf=1, min_weight_fraction_leaf=0.0, max_features='log2', \n",
    "                                  max_leaf_nodes=None, min_impurity_decrease=0.0, min_impurity_split=None, \n",
    "                                  bootstrap=False, oob_score=False, n_jobs=None, random_state=None, verbose=0, \n",
    "                                  warm_start=False, ccp_alpha=0.0, max_samples=None)\n",
    "\n",
    "bostonRFR.fit(x_train, y_train)\n",
    "\n",
    "# Predict the model with test dataset\n",
    "\n",
    "y2_pred = bostonRFR.predict(x_test)\n",
    "\n",
    "# Evalution metrics for Regression analysis\n",
    "\n",
    "from sklearn import metrics\n",
    "\n",
    "print('Mean Absolute Error (MAE): ', round(metrics.mean_absolute_error(y_test, y2_pred), 3))\n",
    "print('Mean Squared Error (MSE): ', round(metrics.mean_squared_error(y_test, y2_pred), 3))\n",
    "print('Root Mean Squared Error (MAE): ', round(np.sqrt(metrics.mean_squared_error(y_test, y2_pred)), 3))\n",
    "print('Mean Absolute Percentage Error (MAPE):', round(metrics.mean_absolute_percentage_error(y_test, y2_pred), 3) * 100, '%')\n",
    "print('R2_score:', round(metrics.r2_score(y_test, y2_pred),6))\n",
    "\n",
    "# Calculate Adjusted R squared values\n",
    "\n",
    "r_squared = round(metrics.r2_score(y_test, y2_pred), 6)\n",
    "adjusted_r_squared = round(1 - (1-r_squared)*(len(y)-1)/(len(y)-x.shape[1]-1),6)\n",
    "print('Adj R Square: ', adjusted_r_squared)"
   ]
  },
  {
   "cell_type": "code",
   "execution_count": null,
   "id": "28bc2f30",
   "metadata": {},
   "outputs": [],
   "source": []
  }
 ],
 "metadata": {
  "kernelspec": {
   "display_name": "Python 3",
   "language": "python",
   "name": "python3"
  },
  "language_info": {
   "codemirror_mode": {
    "name": "ipython",
    "version": 3
   },
   "file_extension": ".py",
   "mimetype": "text/x-python",
   "name": "python",
   "nbconvert_exporter": "python",
   "pygments_lexer": "ipython3",
   "version": "3.8.8"
  }
 },
 "nbformat": 4,
 "nbformat_minor": 5
}
