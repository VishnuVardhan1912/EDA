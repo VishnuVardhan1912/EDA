{
 "cells": [
  {
   "cell_type": "code",
   "execution_count": 1,
   "id": "192aa7eb",
   "metadata": {},
   "outputs": [],
   "source": [
    "# Importing the libraries\n",
    "\n",
    "import pandas as pd\n",
    "import numpy as np\n",
    "import matplotlib.pyplot as plt\n",
    "\n",
    "# Ignore warnings\n",
    "\n",
    "import warnings\n",
    "warnings.filterwarnings(\"ignore\")\n",
    "\n",
    "# Set to display all the columns in dataset\n",
    "\n",
    "pd.set_option('display.max_columns', None)\n",
    "\n",
    "# Import psql to run queries\n",
    "\n",
    "import pandasql as psql"
   ]
  },
  {
   "cell_type": "code",
   "execution_count": 2,
   "id": "75f22f13",
   "metadata": {},
   "outputs": [
    {
     "data": {
      "text/html": [
       "<div>\n",
       "<style scoped>\n",
       "    .dataframe tbody tr th:only-of-type {\n",
       "        vertical-align: middle;\n",
       "    }\n",
       "\n",
       "    .dataframe tbody tr th {\n",
       "        vertical-align: top;\n",
       "    }\n",
       "\n",
       "    .dataframe thead th {\n",
       "        text-align: right;\n",
       "    }\n",
       "</style>\n",
       "<table border=\"1\" class=\"dataframe\">\n",
       "  <thead>\n",
       "    <tr style=\"text-align: right;\">\n",
       "      <th></th>\n",
       "      <th>User ID</th>\n",
       "      <th>Gender</th>\n",
       "      <th>Age</th>\n",
       "      <th>EstimatedSalary</th>\n",
       "      <th>Purchased</th>\n",
       "    </tr>\n",
       "  </thead>\n",
       "  <tbody>\n",
       "    <tr>\n",
       "      <th>0</th>\n",
       "      <td>15624510</td>\n",
       "      <td>Male</td>\n",
       "      <td>19</td>\n",
       "      <td>19000</td>\n",
       "      <td>0</td>\n",
       "    </tr>\n",
       "    <tr>\n",
       "      <th>1</th>\n",
       "      <td>15810944</td>\n",
       "      <td>Male</td>\n",
       "      <td>35</td>\n",
       "      <td>20000</td>\n",
       "      <td>0</td>\n",
       "    </tr>\n",
       "    <tr>\n",
       "      <th>2</th>\n",
       "      <td>15668575</td>\n",
       "      <td>Female</td>\n",
       "      <td>26</td>\n",
       "      <td>43000</td>\n",
       "      <td>0</td>\n",
       "    </tr>\n",
       "    <tr>\n",
       "      <th>3</th>\n",
       "      <td>15603246</td>\n",
       "      <td>Female</td>\n",
       "      <td>27</td>\n",
       "      <td>57000</td>\n",
       "      <td>0</td>\n",
       "    </tr>\n",
       "    <tr>\n",
       "      <th>4</th>\n",
       "      <td>15804002</td>\n",
       "      <td>Male</td>\n",
       "      <td>19</td>\n",
       "      <td>76000</td>\n",
       "      <td>0</td>\n",
       "    </tr>\n",
       "  </tbody>\n",
       "</table>\n",
       "</div>"
      ],
      "text/plain": [
       "    User ID  Gender  Age  EstimatedSalary  Purchased\n",
       "0  15624510    Male   19            19000          0\n",
       "1  15810944    Male   35            20000          0\n",
       "2  15668575  Female   26            43000          0\n",
       "3  15603246  Female   27            57000          0\n",
       "4  15804002    Male   19            76000          0"
      ]
     },
     "execution_count": 2,
     "metadata": {},
     "output_type": "execute_result"
    }
   ],
   "source": [
    "# Load the Social_Network_Ads dataset\n",
    "\n",
    "SNAdata = pd.read_csv(r\"D:\\iiit notes\\Programming\\AI\\Internship practice\\65 Session 02 - Sep - 2021\\Social_Network_Ads.csv\", header = 0)\n",
    "SNAdata.head()"
   ]
  },
  {
   "cell_type": "code",
   "execution_count": 3,
   "id": "34f57914",
   "metadata": {},
   "outputs": [
    {
     "name": "stdout",
     "output_type": "stream",
     "text": [
      "<class 'pandas.core.frame.DataFrame'>\n",
      "RangeIndex: 400 entries, 0 to 399\n",
      "Data columns (total 5 columns):\n",
      " #   Column           Non-Null Count  Dtype \n",
      "---  ------           --------------  ----- \n",
      " 0   User ID          400 non-null    int64 \n",
      " 1   Gender           400 non-null    object\n",
      " 2   Age              400 non-null    int64 \n",
      " 3   EstimatedSalary  400 non-null    int64 \n",
      " 4   Purchased        400 non-null    int64 \n",
      "dtypes: int64(4), object(1)\n",
      "memory usage: 15.8+ KB\n"
     ]
    }
   ],
   "source": [
    "# Display information of the dataset\n",
    "\n",
    "SNAdata.info()"
   ]
  },
  {
   "cell_type": "code",
   "execution_count": 4,
   "id": "ec2b9dbe",
   "metadata": {},
   "outputs": [
    {
     "data": {
      "text/html": [
       "<div>\n",
       "<style scoped>\n",
       "    .dataframe tbody tr th:only-of-type {\n",
       "        vertical-align: middle;\n",
       "    }\n",
       "\n",
       "    .dataframe tbody tr th {\n",
       "        vertical-align: top;\n",
       "    }\n",
       "\n",
       "    .dataframe thead th {\n",
       "        text-align: right;\n",
       "    }\n",
       "</style>\n",
       "<table border=\"1\" class=\"dataframe\">\n",
       "  <thead>\n",
       "    <tr style=\"text-align: right;\">\n",
       "      <th></th>\n",
       "      <th>User ID</th>\n",
       "      <th>Gender</th>\n",
       "      <th>Age</th>\n",
       "      <th>EstimatedSalary</th>\n",
       "      <th>Purchased</th>\n",
       "    </tr>\n",
       "  </thead>\n",
       "  <tbody>\n",
       "    <tr>\n",
       "      <th>0</th>\n",
       "      <td>15624510</td>\n",
       "      <td>1</td>\n",
       "      <td>19</td>\n",
       "      <td>19000</td>\n",
       "      <td>0</td>\n",
       "    </tr>\n",
       "    <tr>\n",
       "      <th>1</th>\n",
       "      <td>15810944</td>\n",
       "      <td>1</td>\n",
       "      <td>35</td>\n",
       "      <td>20000</td>\n",
       "      <td>0</td>\n",
       "    </tr>\n",
       "    <tr>\n",
       "      <th>2</th>\n",
       "      <td>15668575</td>\n",
       "      <td>0</td>\n",
       "      <td>26</td>\n",
       "      <td>43000</td>\n",
       "      <td>0</td>\n",
       "    </tr>\n",
       "    <tr>\n",
       "      <th>3</th>\n",
       "      <td>15603246</td>\n",
       "      <td>0</td>\n",
       "      <td>27</td>\n",
       "      <td>57000</td>\n",
       "      <td>0</td>\n",
       "    </tr>\n",
       "    <tr>\n",
       "      <th>4</th>\n",
       "      <td>15804002</td>\n",
       "      <td>1</td>\n",
       "      <td>19</td>\n",
       "      <td>76000</td>\n",
       "      <td>0</td>\n",
       "    </tr>\n",
       "  </tbody>\n",
       "</table>\n",
       "</div>"
      ],
      "text/plain": [
       "    User ID  Gender  Age  EstimatedSalary  Purchased\n",
       "0  15624510       1   19            19000          0\n",
       "1  15810944       1   35            20000          0\n",
       "2  15668575       0   26            43000          0\n",
       "3  15603246       0   27            57000          0\n",
       "4  15804002       1   19            76000          0"
      ]
     },
     "execution_count": 4,
     "metadata": {},
     "output_type": "execute_result"
    }
   ],
   "source": [
    "# Character variables to encode by using LabelEncoder\n",
    "\n",
    "from sklearn.preprocessing import LabelEncoder\n",
    "\n",
    "le = LabelEncoder()\n",
    "SNAdata['Gender'] = le.fit_transform(SNAdata['Gender'])\n",
    "SNAdata.head()"
   ]
  },
  {
   "cell_type": "code",
   "execution_count": 5,
   "id": "f2ed0ba8",
   "metadata": {},
   "outputs": [
    {
     "data": {
      "text/html": [
       "<div>\n",
       "<style scoped>\n",
       "    .dataframe tbody tr th:only-of-type {\n",
       "        vertical-align: middle;\n",
       "    }\n",
       "\n",
       "    .dataframe tbody tr th {\n",
       "        vertical-align: top;\n",
       "    }\n",
       "\n",
       "    .dataframe thead th {\n",
       "        text-align: right;\n",
       "    }\n",
       "</style>\n",
       "<table border=\"1\" class=\"dataframe\">\n",
       "  <thead>\n",
       "    <tr style=\"text-align: right;\">\n",
       "      <th></th>\n",
       "      <th>Gender</th>\n",
       "      <th>Age</th>\n",
       "      <th>EstimatedSalary</th>\n",
       "      <th>Purchased</th>\n",
       "    </tr>\n",
       "  </thead>\n",
       "  <tbody>\n",
       "    <tr>\n",
       "      <th>0</th>\n",
       "      <td>1</td>\n",
       "      <td>19</td>\n",
       "      <td>19000</td>\n",
       "      <td>0</td>\n",
       "    </tr>\n",
       "    <tr>\n",
       "      <th>1</th>\n",
       "      <td>1</td>\n",
       "      <td>35</td>\n",
       "      <td>20000</td>\n",
       "      <td>0</td>\n",
       "    </tr>\n",
       "    <tr>\n",
       "      <th>2</th>\n",
       "      <td>0</td>\n",
       "      <td>26</td>\n",
       "      <td>43000</td>\n",
       "      <td>0</td>\n",
       "    </tr>\n",
       "    <tr>\n",
       "      <th>3</th>\n",
       "      <td>0</td>\n",
       "      <td>27</td>\n",
       "      <td>57000</td>\n",
       "      <td>0</td>\n",
       "    </tr>\n",
       "    <tr>\n",
       "      <th>4</th>\n",
       "      <td>1</td>\n",
       "      <td>19</td>\n",
       "      <td>76000</td>\n",
       "      <td>0</td>\n",
       "    </tr>\n",
       "  </tbody>\n",
       "</table>\n",
       "</div>"
      ],
      "text/plain": [
       "   Gender  Age  EstimatedSalary  Purchased\n",
       "0       1   19            19000          0\n",
       "1       1   35            20000          0\n",
       "2       0   26            43000          0\n",
       "3       0   27            57000          0\n",
       "4       1   19            76000          0"
      ]
     },
     "execution_count": 5,
     "metadata": {},
     "output_type": "execute_result"
    }
   ],
   "source": [
    "# Delete the 'User ID'\n",
    "\n",
    "SNAdata_F1 = SNAdata.copy()\n",
    "\n",
    "del SNAdata['User ID']\n",
    "\n",
    "SNAdata.head()"
   ]
  },
  {
   "cell_type": "code",
   "execution_count": 6,
   "id": "1b735d13",
   "metadata": {},
   "outputs": [],
   "source": [
    "# Identify the Independent and Target(dependent) variable\n",
    "\n",
    "IndepVar = []\n",
    "for col in SNAdata.columns:\n",
    "    if col != 'Purchased':\n",
    "        IndepVar.append(col)\n",
    "\n",
    "TargetVar = 'Purchased'        \n",
    "x = SNAdata[IndepVar]\n",
    "y = SNAdata[TargetVar]"
   ]
  },
  {
   "cell_type": "code",
   "execution_count": 7,
   "id": "f8e1abbb",
   "metadata": {},
   "outputs": [
    {
     "data": {
      "text/plain": [
       "((320, 3), (80, 3), (320,), (80,))"
      ]
     },
     "execution_count": 7,
     "metadata": {},
     "output_type": "execute_result"
    }
   ],
   "source": [
    "# Split the data into train and test (random sampling)\n",
    "\n",
    "from sklearn.model_selection import train_test_split\n",
    "\n",
    "x_train, x_test, y_train, y_test = train_test_split(x, y, test_size=0.2,stratify = y, random_state=42)\n",
    "x_test_F1 = x_test.copy()\n",
    "x_train.shape, x_test.shape, y_train.shape, y_test.shape"
   ]
  },
  {
   "cell_type": "code",
   "execution_count": 8,
   "id": "b94db5f4",
   "metadata": {},
   "outputs": [],
   "source": [
    "# Scaling the features by using MinMaxScaler\n",
    "\n",
    "from sklearn.preprocessing import MinMaxScaler\n",
    "\n",
    "mmsclaer = MinMaxScaler(feature_range=(0,1))\n",
    "\n",
    "x_train = mmsclaer.fit_transform(x_train)\n",
    "x_train = pd.DataFrame(x_train)\n",
    "\n",
    "x_test = mmsclaer.fit_transform(x_test)\n",
    "x_test = pd.DataFrame(x_test)"
   ]
  },
  {
   "cell_type": "code",
   "execution_count": 9,
   "id": "919eb8ab",
   "metadata": {},
   "outputs": [
    {
     "data": {
      "text/plain": [
       "GaussianNB()"
      ]
     },
     "execution_count": 9,
     "metadata": {},
     "output_type": "execute_result"
    }
   ],
   "source": [
    "# Training the Naive Bayes model (GaussianNB) on the Training set\n",
    "\n",
    "from sklearn.naive_bayes import GaussianNB\n",
    "\n",
    "modelGNB = GaussianNB(priors=None, var_smoothing=1e-09)\n",
    "\n",
    "# fit the model\n",
    "\n",
    "modelGNB.fit(x_train, y_train)"
   ]
  },
  {
   "cell_type": "code",
   "execution_count": 10,
   "id": "9b71fcf2",
   "metadata": {},
   "outputs": [
    {
     "name": "stdout",
     "output_type": "stream",
     "text": [
      "Confusion matrix : \n",
      " [[22  7]\n",
      " [ 4 47]]\n",
      "Outcome values : \n",
      " 22 7 4 47\n",
      "Classification report : \n",
      "               precision    recall  f1-score   support\n",
      "\n",
      "           1       0.85      0.76      0.80        29\n",
      "           0       0.87      0.92      0.90        51\n",
      "\n",
      "    accuracy                           0.86        80\n",
      "   macro avg       0.86      0.84      0.85        80\n",
      "weighted avg       0.86      0.86      0.86        80\n",
      "\n",
      "Accuracy : 86.2 %\n",
      "Precision : 84.6 %\n",
      "Recall : 75.9 %\n",
      "F1 Score : 0.8\n",
      "Balanced Accuracy : 84.0 %\n",
      "MCC : 0.698\n",
      "roc_auc_score: 0.84\n"
     ]
    }
   ],
   "source": [
    "# Predict the model with test data \n",
    "    \n",
    "y_pred = modelGNB.predict(x_test)\n",
    "    \n",
    "# confusion matrix in sklearn \n",
    "\n",
    "from sklearn.metrics import confusion_matrix \n",
    "from sklearn.metrics import classification_report \n",
    "\n",
    "# actual values\n",
    "\n",
    "actual = y_test\n",
    "\n",
    "# predicted values \n",
    "\n",
    "predicted = y_pred \n",
    "\n",
    "# confusion matrix \n",
    "\n",
    "matrix = confusion_matrix(actual,predicted, labels=[1,0],sample_weight=None, normalize=None) \n",
    "print('Confusion matrix : \\n', matrix) \n",
    "\n",
    "# outcome values order in sklearn \n",
    "\n",
    "tp, fn, fp, tn = confusion_matrix(actual,predicted,labels=[1,0]).reshape(-1) \n",
    "\n",
    "print('Outcome values : \\n', tp, fn, fp, tn) \n",
    "\n",
    "# classification report for precision, recall f1-score and accuracy \n",
    "\n",
    "matrix = classification_report(actual,predicted,labels=[1,0]) \n",
    "print('Classification report : \\n',matrix) \n",
    "\n",
    "# calculating the metrics \n",
    "\n",
    "sensitivity = round(tp/(tp+fn), 3) \n",
    "specificity = round(tn/(tn+fp), 3); \n",
    "accuracy = round((tp+tn)/(tp+fp+tn+fn), 3); \n",
    "balanced_accuracy = round((sensitivity+specificity)/2, 3); \n",
    "precision = round(tp/(tp+fp), 3); \n",
    "f1Score = round((2*tp/(2*tp + fp + fn)), 3);\n",
    "\n",
    "# Matthews Correlation Coefficient (MCC). Range of values of MCC lie between -1 to +1. \n",
    "# A model with a score of +1 is a perfect model and -1 is a poor model \n",
    "\n",
    "from math import sqrt \n",
    "\n",
    "mx = (tp+fp) * (tp+fn) * (tn+fp) * (tn+fn) \n",
    "MCC = round(((tp * tn) - (fp * fn)) / sqrt(mx), 3) \n",
    "\n",
    "print('Accuracy :', round(accuracy*100, 2),'%') \n",
    "print('Precision :', round(precision*100, 2),'%') \n",
    "print('Recall :', round(sensitivity*100,2), '%') \n",
    "print('F1 Score :', f1Score) \n",
    "print('Balanced Accuracy :', round(balanced_accuracy*100, 2),'%') \n",
    "print('MCC :', MCC) \n",
    "\n",
    "# Area under ROC curve \n",
    "\n",
    "from sklearn.metrics import roc_curve, roc_auc_score \n",
    "\n",
    "print('roc_auc_score:', round(roc_auc_score(actual, predicted), 3))"
   ]
  },
  {
   "cell_type": "code",
   "execution_count": 11,
   "id": "ad50a7d1",
   "metadata": {},
   "outputs": [
    {
     "name": "stdout",
     "output_type": "stream",
     "text": [
      "roc_auc_score: 0.949\n"
     ]
    }
   ],
   "source": [
    "# Area under ROC curve \n",
    "    \n",
    "from sklearn.metrics import roc_curve, roc_auc_score \n",
    "    \n",
    "y_score1 = modelGNB.predict_proba(x_test)[:,1] \n",
    "    \n",
    "false_positive_rate1, true_positive_rate1, threshold1 = roc_curve(y_test, y_score1) \n",
    "    \n",
    "print('roc_auc_score:', round(roc_auc_score(y_test, y_score1), 3))"
   ]
  },
  {
   "cell_type": "code",
   "execution_count": 12,
   "id": "9ab32f42",
   "metadata": {},
   "outputs": [
    {
     "data": {
      "image/png": "[encoded data removed]",
      "text/plain": [
       "<Figure size 720x720 with 1 Axes>"
      ]
     },
     "metadata": {
      "needs_background": "light"
     },
     "output_type": "display_data"
    }
   ],
   "source": [
    "# Plot the Receiver Operating Characteristic(RoC) curve \n",
    "\n",
    "from matplotlib import pyplot \n",
    "\n",
    "pyplot.subplots(1, figsize=(10,10)) \n",
    "pyplot.title('Receiver Operating Characteristic - GaussianNB') \n",
    "pyplot.plot(false_positive_rate1, true_positive_rate1) \n",
    "pyplot.plot([0, 1], ls=\"--\") \n",
    "pyplot.plot([0, 0], [1, 0] , c=\".7\"), pyplot.plot([1, 1] , c=\".7\") \n",
    "pyplot.ylabel('True Positive Rate') \n",
    "pyplot.xlabel('False Positive Rate') \n",
    "pyplot.show() \n",
    "\n",
    "# The AUC value lies between 0.5 to 1 where 0.5 denotes a bad classifer and 1 denotes an excellent classifier"
   ]
  },
  {
   "cell_type": "code",
   "execution_count": 13,
   "id": "f34116fb",
   "metadata": {},
   "outputs": [
    {
     "data": {
      "text/plain": [
       "BernoulliNB(binarize=0.25)"
      ]
     },
     "execution_count": 13,
     "metadata": {},
     "output_type": "execute_result"
    }
   ],
   "source": [
    "# Training the Naive Bayes model (BernoulliNB) on the Training set \n",
    "\n",
    "from sklearn.naive_bayes import BernoulliNB \n",
    "\n",
    "modelBNB = BernoulliNB(alpha=1.0, binarize=0.25, fit_prior=True, class_prior=None) \n",
    "\n",
    "# Fit the model \n",
    "\n",
    "modelBNB.fit(x_train, y_train)"
   ]
  },
  {
   "cell_type": "code",
   "execution_count": 14,
   "id": "74ae9910",
   "metadata": {},
   "outputs": [
    {
     "name": "stdout",
     "output_type": "stream",
     "text": [
      "Confusion matrix : \n",
      " [[ 0 29]\n",
      " [ 0 51]]\n",
      "Outcome values : \n",
      " 0 29 0 51\n",
      "Classification report : \n",
      "               precision    recall  f1-score   support\n",
      "\n",
      "           1       0.00      0.00      0.00        29\n",
      "           0       0.64      1.00      0.78        51\n",
      "\n",
      "    accuracy                           0.64        80\n",
      "   macro avg       0.32      0.50      0.39        80\n",
      "weighted avg       0.41      0.64      0.50        80\n",
      "\n",
      "Accuracy : 63.8 %\n",
      "Precision : nan %\n",
      "Recall : 0.0 %\n",
      "F1 Score : 0.0\n",
      "Balanced Accuracy : 50.0 %\n",
      "MCC : nan\n",
      "roc_auc_score: 0.5\n"
     ]
    }
   ],
   "source": [
    "# Predict the model with test data \n",
    "    \n",
    "y1_pred = modelBNB.predict(x_test)\n",
    "    \n",
    "# confusion matrix in sklearn \n",
    "\n",
    "from sklearn.metrics import confusion_matrix \n",
    "from sklearn.metrics import classification_report \n",
    "\n",
    "# actual values\n",
    "\n",
    "actual = y_test\n",
    "\n",
    "# predicted values \n",
    "\n",
    "predicted = y1_pred \n",
    "\n",
    "# confusion matrix \n",
    "\n",
    "matrix = confusion_matrix(actual,predicted, labels=[1,0],sample_weight=None, normalize=None) \n",
    "print('Confusion matrix : \\n', matrix) \n",
    "\n",
    "# outcome values order in sklearn \n",
    "\n",
    "tp, fn, fp, tn = confusion_matrix(actual,predicted,labels=[1,0]).reshape(-1) \n",
    "\n",
    "print('Outcome values : \\n', tp, fn, fp, tn) \n",
    "\n",
    "# classification report for precision, recall f1-score and accuracy \n",
    "\n",
    "matrix = classification_report(actual,predicted,labels=[1,0]) \n",
    "print('Classification report : \\n',matrix) \n",
    "\n",
    "# calculating the metrics \n",
    "\n",
    "sensitivity = round(tp/(tp+fn), 3) \n",
    "specificity = round(tn/(tn+fp), 3); \n",
    "accuracy = round((tp+tn)/(tp+fp+tn+fn), 3); \n",
    "balanced_accuracy = round((sensitivity+specificity)/2, 3); \n",
    "precision = round(tp/(tp+fp), 3); \n",
    "f1Score = round((2*tp/(2*tp + fp + fn)), 3);\n",
    "\n",
    "# Matthews Correlation Coefficient (MCC). Range of values of MCC lie between -1 to +1. \n",
    "# A model with a score of +1 is a perfect model and -1 is a poor model \n",
    "\n",
    "from math import sqrt \n",
    "\n",
    "mx = (tp+fp) * (tp+fn) * (tn+fp) * (tn+fn) \n",
    "MCC = round(((tp * tn) - (fp * fn)) / sqrt(mx), 3) \n",
    "\n",
    "print('Accuracy :', round(accuracy*100, 2),'%') \n",
    "print('Precision :', round(precision*100, 2),'%') \n",
    "print('Recall :', round(sensitivity*100,2), '%') \n",
    "print('F1 Score :', f1Score) \n",
    "print('Balanced Accuracy :', round(balanced_accuracy*100, 2),'%') \n",
    "print('MCC :', MCC) \n",
    "\n",
    "# Area under ROC curve \n",
    "\n",
    "from sklearn.metrics import roc_curve, roc_auc_score \n",
    "\n",
    "print('roc_auc_score:', round(roc_auc_score(actual, predicted), 3))"
   ]
  },
  {
   "cell_type": "code",
   "execution_count": 15,
   "id": "a01a8419",
   "metadata": {},
   "outputs": [
    {
     "name": "stdout",
     "output_type": "stream",
     "text": [
      "roc_auc_score: 0.57\n"
     ]
    }
   ],
   "source": [
    "# Area under ROC curve \n",
    "    \n",
    "from sklearn.metrics import roc_curve, roc_auc_score \n",
    "    \n",
    "y_score2 = modelBNB.predict_proba(x_test)[:,1] \n",
    "    \n",
    "false_positive_rate2, true_positive_rate2, threshold2 = roc_curve(y_test, y_score2) \n",
    "    \n",
    "print('roc_auc_score:', round(roc_auc_score(y_test, y_score2), 3))"
   ]
  },
  {
   "cell_type": "code",
   "execution_count": 16,
   "id": "06a68c5d",
   "metadata": {},
   "outputs": [
    {
     "data": {
      "image/png": "[encoded data removed]",
      "text/plain": [
       "<Figure size 720x720 with 1 Axes>"
      ]
     },
     "metadata": {
      "needs_background": "light"
     },
     "output_type": "display_data"
    }
   ],
   "source": [
    "# Plot the Receiver Operating Characteristic(RoC) curve \n",
    "\n",
    "from matplotlib import pyplot \n",
    "\n",
    "pyplot.subplots(1, figsize=(10,10)) \n",
    "pyplot.title('Receiver Operating Characteristic - BernoulliNB') \n",
    "pyplot.plot(false_positive_rate2, true_positive_rate2) \n",
    "pyplot.plot([0, 1], ls=\"--\") \n",
    "pyplot.plot([0, 0], [1, 0] , c=\".7\"), pyplot.plot([1, 1] , c=\".7\") \n",
    "pyplot.ylabel('True Positive Rate') \n",
    "pyplot.xlabel('False Positive Rate') \n",
    "pyplot.show() \n",
    "\n",
    "# The AUC value lies between 0.5 to 1 where 0.5 denotes a bad classifer and 1 denotes an excellent classifier"
   ]
  },
  {
   "cell_type": "code",
   "execution_count": 17,
   "id": "ef07a147",
   "metadata": {},
   "outputs": [
    {
     "data": {
      "text/plain": [
       "MultinomialNB()"
      ]
     },
     "execution_count": 17,
     "metadata": {},
     "output_type": "execute_result"
    }
   ],
   "source": [
    "# Training the Naive Bayes model (MultinomialNB) on the Training set \n",
    "\n",
    "from sklearn.naive_bayes import MultinomialNB \n",
    "modelMNB = MultinomialNB(alpha=1.0, fit_prior=True, class_prior=None) \n",
    "\n",
    "# Fit the model \n",
    "\n",
    "modelMNB.fit(x_train, y_train)"
   ]
  },
  {
   "cell_type": "code",
   "execution_count": 18,
   "id": "ff6ab9a0",
   "metadata": {},
   "outputs": [
    {
     "name": "stdout",
     "output_type": "stream",
     "text": [
      "Confusion matrix : \n",
      " [[ 0 29]\n",
      " [ 0 51]]\n",
      "Outcome values : \n",
      " 0 29 0 51\n",
      "Classification report : \n",
      "               precision    recall  f1-score   support\n",
      "\n",
      "           1       0.00      0.00      0.00        29\n",
      "           0       0.64      1.00      0.78        51\n",
      "\n",
      "    accuracy                           0.64        80\n",
      "   macro avg       0.32      0.50      0.39        80\n",
      "weighted avg       0.41      0.64      0.50        80\n",
      "\n",
      "Accuracy : 63.8 %\n",
      "Precision : nan %\n",
      "Recall : 0.0 %\n",
      "F1 Score : 0.0\n",
      "Balanced Accuracy : 50.0 %\n",
      "MCC : nan\n",
      "roc_auc_score: 0.5\n"
     ]
    }
   ],
   "source": [
    "# Predict the model with test data \n",
    "    \n",
    "y2_pred = modelMNB.predict(x_test)\n",
    "    \n",
    "# confusion matrix in sklearn \n",
    "\n",
    "from sklearn.metrics import confusion_matrix \n",
    "from sklearn.metrics import classification_report \n",
    "\n",
    "# actual values\n",
    "\n",
    "actual = y_test\n",
    "\n",
    "# predicted values \n",
    "\n",
    "predicted = y2_pred \n",
    "\n",
    "# confusion matrix \n",
    "\n",
    "matrix = confusion_matrix(actual,predicted, labels=[1,0],sample_weight=None, normalize=None) \n",
    "print('Confusion matrix : \\n', matrix) \n",
    "\n",
    "# outcome values order in sklearn \n",
    "\n",
    "tp, fn, fp, tn = confusion_matrix(actual,predicted,labels=[1,0]).reshape(-1) \n",
    "\n",
    "print('Outcome values : \\n', tp, fn, fp, tn) \n",
    "\n",
    "# classification report for precision, recall f1-score and accuracy \n",
    "\n",
    "matrix = classification_report(actual,predicted,labels=[1,0]) \n",
    "print('Classification report : \\n',matrix) \n",
    "\n",
    "# calculating the metrics \n",
    "\n",
    "sensitivity = round(tp/(tp+fn), 3) \n",
    "specificity = round(tn/(tn+fp), 3); \n",
    "accuracy = round((tp+tn)/(tp+fp+tn+fn), 3); \n",
    "balanced_accuracy = round((sensitivity+specificity)/2, 3); \n",
    "precision = round(tp/(tp+fp), 3); \n",
    "f1Score = round((2*tp/(2*tp + fp + fn)), 3);\n",
    "\n",
    "# Matthews Correlation Coefficient (MCC). Range of values of MCC lie between -1 to +1. \n",
    "# A model with a score of +1 is a perfect model and -1 is a poor model \n",
    "\n",
    "from math import sqrt \n",
    "\n",
    "mx = (tp+fp) * (tp+fn) * (tn+fp) * (tn+fn) \n",
    "MCC = round(((tp * tn) - (fp * fn)) / sqrt(mx), 3) \n",
    "\n",
    "print('Accuracy :', round(accuracy*100, 2),'%') \n",
    "print('Precision :', round(precision*100, 2),'%') \n",
    "print('Recall :', round(sensitivity*100,2), '%') \n",
    "print('F1 Score :', f1Score) \n",
    "print('Balanced Accuracy :', round(balanced_accuracy*100, 2),'%') \n",
    "print('MCC :', MCC) \n",
    "\n",
    "# Area under ROC curve \n",
    "\n",
    "from sklearn.metrics import roc_curve, roc_auc_score \n",
    "\n",
    "print('roc_auc_score:', round(roc_auc_score(actual, predicted), 3))"
   ]
  },
  {
   "cell_type": "code",
   "execution_count": 19,
   "id": "54b221e4",
   "metadata": {},
   "outputs": [
    {
     "name": "stdout",
     "output_type": "stream",
     "text": [
      "roc_auc_score: 0.765\n"
     ]
    }
   ],
   "source": [
    "# Area under ROC curve \n",
    "    \n",
    "from sklearn.metrics import roc_curve, roc_auc_score \n",
    "    \n",
    "y_score3 = modelMNB.predict_proba(x_test)[:,1] \n",
    "    \n",
    "false_positive_rate3, true_positive_rate3, threshold3 = roc_curve(y_test, y_score3) \n",
    "    \n",
    "print('roc_auc_score:', round(roc_auc_score(y_test, y_score3), 3))"
   ]
  },
  {
   "cell_type": "code",
   "execution_count": 20,
   "id": "1282e7e0",
   "metadata": {},
   "outputs": [
    {
     "data": {
      "image/png": "[encoded data removed]",
      "text/plain": [
       "<Figure size 720x720 with 1 Axes>"
      ]
     },
     "metadata": {
      "needs_background": "light"
     },
     "output_type": "display_data"
    }
   ],
   "source": [
    "# Plot the Receiver Operating Characteristic(RoC) curve \n",
    "\n",
    "from matplotlib import pyplot \n",
    "\n",
    "pyplot.subplots(1, figsize=(10,10)) \n",
    "pyplot.title('Receiver Operating Characteristic - BernoulliNB') \n",
    "pyplot.plot(false_positive_rate3, true_positive_rate3) \n",
    "pyplot.plot([0, 1], ls=\"--\") \n",
    "pyplot.plot([0, 0], [1, 0] , c=\".7\"), pyplot.plot([1, 1] , c=\".7\") \n",
    "pyplot.ylabel('True Positive Rate') \n",
    "pyplot.xlabel('False Positive Rate') \n",
    "pyplot.show() \n",
    "\n",
    "# The AUC value lies between 0.5 to 1 where 0.5 denotes a bad classifer and 1 denotes an excellent classifier"
   ]
  },
  {
   "cell_type": "code",
   "execution_count": null,
   "id": "6c482109",
   "metadata": {},
   "outputs": [],
   "source": []
  }
 ],
 "metadata": {
  "kernelspec": {
   "display_name": "Python 3",
   "language": "python",
   "name": "python3"
  },
  "language_info": {
   "codemirror_mode": {
    "name": "ipython",
    "version": 3
   },
   "file_extension": ".py",
   "mimetype": "text/x-python",
   "name": "python",
   "nbconvert_exporter": "python",
   "pygments_lexer": "ipython3",
   "version": "3.8.8"
  }
 },
 "nbformat": 4,
 "nbformat_minor": 5
}
